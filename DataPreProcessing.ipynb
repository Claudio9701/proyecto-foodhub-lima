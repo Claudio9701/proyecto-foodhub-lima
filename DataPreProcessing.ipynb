{
 "cells": [
  {
   "cell_type": "markdown",
   "id": "860e821e-7c21-49fc-b339-588b7507e014",
   "metadata": {},
   "source": [
    "# Limpieza de datos\n",
    "\n",
    "**Principal inconveniente:** Los codigos del proyecto anterior actualmente no se pueden utilizar para esta encuesta. Se deben realizar un codigo adaptado el formato de la nueva encuesta.\n",
    "\n",
    "## Tareas de limpieza:\n",
    "\n",
    "### Para cada tabla por separado\n",
    "\n",
    "1. Revisar tipo de pregunta (opcion unica o multiple) \n",
    "1. Revisar si la pregunta tiene opcion de \"otro\" / detalle\n",
    "1. Si es opcion multiple considerar las columnas adicionales \n",
    "1. Revisar si la pregunta tiene un criterio de relevancia\n",
    "1. Si tiene criterio de relevancia colocar \"No valido\" donde corresponda (Reducir valores perdidos).\n",
    "1. Revisar categorias una por una y limpiar las respuestas posibles por ejemplo: \"papa\", \"Papa\", --> \"Papa\" \n",
    "\n",
    "### Especificamente para tablas secundarias \n",
    "\n",
    "- Agrupar las preguntas de las tablas secundarias en columnas para la tabla principial (segun lo coordinado con Renata).\n",
    "- Agregar \"filas\" secundaria como nuevas columnas (pregunta_A_1, pregunta_A_2, ...) para cada observacion de la tabla principal \n",
    "\n",
    "### Extra\n",
    "\n",
    "- Ahora si con los datos limpios se pueden realizar los reportes preliminares para compartir con el equipo de investigacion. \n",
    "\n",
    "### Tiempo estimado: \n",
    "\n",
    "- 14 (1/13) tablas a 2 o 3 tablas/dia = 7 o 5 dias"
   ]
  },
  {
   "cell_type": "code",
   "execution_count": 2,
   "id": "f2af4cb6-db58-4d7f-9a70-1d585ec4028d",
   "metadata": {},
   "outputs": [],
   "source": [
    "import warnings\n",
    "warnings.filterwarnings(\"ignore\")"
   ]
  },
  {
   "cell_type": "code",
   "execution_count": 3,
   "id": "886c893d-2bd9-4170-8255-01ebee5edba0",
   "metadata": {},
   "outputs": [],
   "source": [
    "import pandas as pd\n",
    "import numpy as np\n",
    "import matplotlib.pyplot as plt\n",
    "import seaborn as sns\n",
    "import os\n",
    "from tqdm.notebook import tqdm\n",
    "from pandas_profiling import ProfileReport"
   ]
  },
  {
   "cell_type": "code",
   "execution_count": 4,
   "id": "85f67fb8-e8c3-4ddc-a1c7-92a40cb0b11c",
   "metadata": {},
   "outputs": [],
   "source": [
    "%matplotlib inline"
   ]
  },
  {
   "cell_type": "code",
   "execution_count": 5,
   "id": "3f649af0-9d32-4506-96bd-d42132fc149f",
   "metadata": {},
   "outputs": [],
   "source": [
    "tqdm.pandas()"
   ]
  },
  {
   "cell_type": "markdown",
   "id": "d33eb4ce-27b4-465d-abcc-1d11857c3132",
   "metadata": {},
   "source": [
    "## Read Data"
   ]
  },
  {
   "cell_type": "code",
   "execution_count": 6,
   "id": "fed1b596-aa5b-4a7f-ad36-363112a92b1e",
   "metadata": {},
   "outputs": [],
   "source": [
    "DATA_FP = \"inputs/encuesta_principal/Vecindarios_Alimentarios_Encuesta_Integrada_2022_11_23.xlsx\""
   ]
  },
  {
   "cell_type": "code",
   "execution_count": 7,
   "id": "af0058d2-b225-4f46-be5f-516e6cf70ea8",
   "metadata": {},
   "outputs": [],
   "source": [
    "df_main = pd.read_excel(DATA_FP, sheet_name=0) # Main sheet\n",
    "df_comp_hogar = pd.read_excel(DATA_FP, sheet_name=\"composicion_hogar\")\n",
    "df_med_control_plagas = pd.read_excel(DATA_FP, sheet_name=\"_5_18_medidas_control_plagas\")\n",
    "df_prod_control_plagas = pd.read_excel(DATA_FP, sheet_name=\"_5_19_productos_control_plagas\")\n",
    "df_control_maleza = pd.read_excel(DATA_FP, sheet_name=\"_5_20_control_malezas\")\n",
    "df_oferta_alim_prod = pd.read_excel(DATA_FP, sheet_name=\"_7_1_Oferta_Alimentos_Produccio\")\n",
    "df_productor_dejo_prod_vend = pd.read_excel(DATA_FP, sheet_name=\"_7_2_produc_dejo_producir_vend\")\n",
    "df_productos_vende_canal = pd.read_excel(DATA_FP, sheet_name=\"Productos_Vende_Canal\")\n",
    "df_productos_compra_canal = pd.read_excel(DATA_FP, sheet_name=\"Productos_Compra_Canal\")\n",
    "df_canales_venta_productores = pd.read_excel(DATA_FP, sheet_name=\"canales_venta_productores\")\n",
    "df_aplic_bioprep = pd.read_excel(DATA_FP, sheet_name=\"aplicacion_biopreparados\")\n",
    "df_per_trab_puesto_venta = pd.read_excel(DATA_FP, sheet_name=\"personas_trabajan_puesto_venta\")\n",
    "df_canales_compra_comerciantes = pd.read_excel(DATA_FP, sheet_name=\"canales_compra_comerciantes\")\n",
    "df_huerto_rel = pd.read_excel(DATA_FP, sheet_name=\"HUERTO_RELACIONES\")"
   ]
  },
  {
   "cell_type": "code",
   "execution_count": 8,
   "id": "32eb755f-9c70-4c6f-8c63-1754a98569ae",
   "metadata": {},
   "outputs": [],
   "source": [
    "DATA_APOYO_FP = \"inputs/encuesta_principal/Datos_Apoyos_Cat_Vec_Alim_2022_12_04.xlsx\""
   ]
  },
  {
   "cell_type": "code",
   "execution_count": 9,
   "id": "d535983c-ca5d-4a78-9f4b-2e1282e39aeb",
   "metadata": {},
   "outputs": [],
   "source": [
    "df_apoyo_recibido = pd.read_excel(DATA_APOYO_FP, sheet_name=\"APOYO RECIBIDO\")\n",
    "df_apoyo_brindado = pd.read_excel(DATA_APOYO_FP, sheet_name=\"APOYO BRINDADO\")"
   ]
  },
  {
   "cell_type": "code",
   "execution_count": 14,
   "id": "40f14150-c2fa-44b6-be12-29a59a807615",
   "metadata": {},
   "outputs": [],
   "source": [
    "dfs = {\n",
    "    \"Principal\": df_main,\n",
    "    \"composicion_hogar\": df_comp_hogar,\n",
    "    \"_5_18_medidas_control_plagas\": df_med_control_plagas,\n",
    "    \"_5_19_productos_control_plagas\": df_prod_control_plagas,\n",
    "    \"_5_20_control_malezas\": df_control_maleza,\n",
    "    \"_7_1_Oferta_Alimentos_Produccio\": df_oferta_alim_prod,\n",
    "    \"_7_2_produc_dejo_producir_vend\": df_productor_dejo_prod_vend,\n",
    "    \"Productos_Vende_Canal\": df_productos_vende_canal,\n",
    "    \"canales_venta_productores\": df_canales_venta_productores,\n",
    "    \"aplicacion_biopreparados\": df_aplic_bioprep,\n",
    "    \"personas_trabajan_puesto_venta\": df_per_trab_puesto_venta,\n",
    "    \"canales_compra_comerciantes\": df_canales_compra_comerciantes,\n",
    "    \"Productos_Compra_Canal\": df_productos_compra_canal,\n",
    "    \"APOYO RECIBIDO\": df_apoyo_recibido,\n",
    "    \"APOYO BRINDADO\": df_apoyo_brindado,\n",
    "    \"HUERTO_RELACIONES\": df_huerto_rel\n",
    "}"
   ]
  },
  {
   "cell_type": "markdown",
   "id": "4cbc55f8-bcf4-4774-af07-57bcc568ea31",
   "metadata": {},
   "source": [
    "## Generacion de reportes de la tabla principal\n",
    "\n",
    "Los reportes seran divididos por Ciudad / Vecindario / Perfil y Perfil"
   ]
  },
  {
   "cell_type": "code",
   "execution_count": 12,
   "id": "3a0013b6-5da3-40a1-a796-e0d28c74b1f9",
   "metadata": {},
   "outputs": [
    {
     "name": "stdout",
     "output_type": "stream",
     "text": [
      "Valores unicos de _1_4_1_ciudad\n",
      "lima     492\n",
      "quito    400\n",
      "Name: _1_4_1_ciudad, dtype: int64\n",
      "------------------------------\n",
      "Valores unicos de _1_4_2_vecindario\n",
      "carabayllo      273\n",
      "solanda         217\n",
      "pachacamac      213\n",
      "la_magdalena    159\n",
      "fuera            32\n",
      "Name: _1_4_2_vecindario, dtype: int64\n",
      "------------------------------\n",
      "Valores unicos de _1_5_perfil_entrevistado\n",
      "consumidor     656\n",
      "productor      149\n",
      "comerciante     90\n",
      "Name: _1_5_perfil_entrevistado, dtype: int64\n",
      "------------------------------\n"
     ]
    }
   ],
   "source": [
    "for col in [\"_1_4_1_ciudad\", \"_1_4_2_vecindario\", \"_1_5_perfil_entrevistado\"]:\n",
    "    print(f\"Valores unicos de {col}\")\n",
    "    print(df_main[col].value_counts())\n",
    "    print(\"-\"*30)"
   ]
  },
  {
   "cell_type": "code",
   "execution_count": 13,
   "id": "f3eaa3bb-6c8c-4ac7-a572-31da422b40fe",
   "metadata": {
    "collapsed": true,
    "jupyter": {
     "outputs_hidden": true
    },
    "tags": []
   },
   "outputs": [
    {
     "data": {
      "application/vnd.jupyter.widget-view+json": {
       "model_id": "b97101bfbd7a48f0b6f50ca2da2142b9",
       "version_major": 2,
       "version_minor": 0
      },
      "text/plain": [
       "  0%|          | 0/2 [00:00<?, ?it/s]"
      ]
     },
     "metadata": {},
     "output_type": "display_data"
    },
    {
     "data": {
      "application/vnd.jupyter.widget-view+json": {
       "model_id": "7b3eb84cd3204ac284492729005ca848",
       "version_major": 2,
       "version_minor": 0
      },
      "text/plain": [
       "  0%|          | 0/3 [00:00<?, ?it/s]"
      ]
     },
     "metadata": {},
     "output_type": "display_data"
    },
    {
     "data": {
      "application/vnd.jupyter.widget-view+json": {
       "model_id": "e3b533b2f89640e28afe263718afebeb",
       "version_major": 2,
       "version_minor": 0
      },
      "text/plain": [
       "  0%|          | 0/3 [00:00<?, ?it/s]"
      ]
     },
     "metadata": {},
     "output_type": "display_data"
    },
    {
     "data": {
      "application/vnd.jupyter.widget-view+json": {
       "model_id": "328bd4a1936e474a87c125161fda764d",
       "version_major": 2,
       "version_minor": 0
      },
      "text/plain": [
       "  0%|          | 0/3 [00:00<?, ?it/s]"
      ]
     },
     "metadata": {},
     "output_type": "display_data"
    },
    {
     "data": {
      "application/vnd.jupyter.widget-view+json": {
       "model_id": "9f1f477dbe374149b162747db9e1ece7",
       "version_major": 2,
       "version_minor": 0
      },
      "text/plain": [
       "  0%|          | 0/3 [00:00<?, ?it/s]"
      ]
     },
     "metadata": {},
     "output_type": "display_data"
    },
    {
     "data": {
      "application/vnd.jupyter.widget-view+json": {
       "model_id": "bd207b2821054ac9aa2e2ee5528322f3",
       "version_major": 2,
       "version_minor": 0
      },
      "text/plain": [
       "  0%|          | 0/3 [00:00<?, ?it/s]"
      ]
     },
     "metadata": {},
     "output_type": "display_data"
    },
    {
     "data": {
      "application/vnd.jupyter.widget-view+json": {
       "model_id": "f46df91780b344feb78433b7427336bd",
       "version_major": 2,
       "version_minor": 0
      },
      "text/plain": [
       "  0%|          | 0/3 [00:00<?, ?it/s]"
      ]
     },
     "metadata": {},
     "output_type": "display_data"
    },
    {
     "data": {
      "application/vnd.jupyter.widget-view+json": {
       "model_id": "80c552a830e54e66a94d5e99f6d2b921",
       "version_major": 2,
       "version_minor": 0
      },
      "text/plain": [
       "  0%|          | 0/3 [00:00<?, ?it/s]"
      ]
     },
     "metadata": {},
     "output_type": "display_data"
    },
    {
     "data": {
      "application/vnd.jupyter.widget-view+json": {
       "model_id": "7e6ea754fbf24e60a08276489a10a439",
       "version_major": 2,
       "version_minor": 0
      },
      "text/plain": [
       "Summarize dataset:   0%|          | 0/5 [00:00<?, ?it/s]"
      ]
     },
     "metadata": {},
     "output_type": "display_data"
    },
    {
     "data": {
      "application/vnd.jupyter.widget-view+json": {
       "model_id": "429cef51f05d4564aa51a00b25c56fe4",
       "version_major": 2,
       "version_minor": 0
      },
      "text/plain": [
       "Generate report structure:   0%|          | 0/1 [00:00<?, ?it/s]"
      ]
     },
     "metadata": {},
     "output_type": "display_data"
    },
    {
     "data": {
      "application/vnd.jupyter.widget-view+json": {
       "model_id": "68367624c6c04e209875c077f7a4ad04",
       "version_major": 2,
       "version_minor": 0
      },
      "text/plain": [
       "Render HTML:   0%|          | 0/1 [00:00<?, ?it/s]"
      ]
     },
     "metadata": {},
     "output_type": "display_data"
    },
    {
     "data": {
      "application/vnd.jupyter.widget-view+json": {
       "model_id": "3ea63ac5a2c841dda945d02470f068e0",
       "version_major": 2,
       "version_minor": 0
      },
      "text/plain": [
       "Export report to file:   0%|          | 0/1 [00:00<?, ?it/s]"
      ]
     },
     "metadata": {},
     "output_type": "display_data"
    },
    {
     "data": {
      "application/vnd.jupyter.widget-view+json": {
       "model_id": "1ad50c0c486d42b0ac0972590ec7d3e4",
       "version_major": 2,
       "version_minor": 0
      },
      "text/plain": [
       "  0%|          | 0/3 [00:00<?, ?it/s]"
      ]
     },
     "metadata": {},
     "output_type": "display_data"
    },
    {
     "data": {
      "application/vnd.jupyter.widget-view+json": {
       "model_id": "5afa03a5ddf0498caca87cc1be4a559e",
       "version_major": 2,
       "version_minor": 0
      },
      "text/plain": [
       "Summarize dataset:   0%|          | 0/5 [00:00<?, ?it/s]"
      ]
     },
     "metadata": {},
     "output_type": "display_data"
    },
    {
     "data": {
      "application/vnd.jupyter.widget-view+json": {
       "model_id": "b466d484013a4bb79c3e86f706120734",
       "version_major": 2,
       "version_minor": 0
      },
      "text/plain": [
       "Generate report structure:   0%|          | 0/1 [00:00<?, ?it/s]"
      ]
     },
     "metadata": {},
     "output_type": "display_data"
    },
    {
     "data": {
      "application/vnd.jupyter.widget-view+json": {
       "model_id": "8517159c116649d1924ffe35f1022926",
       "version_major": 2,
       "version_minor": 0
      },
      "text/plain": [
       "Render HTML:   0%|          | 0/1 [00:00<?, ?it/s]"
      ]
     },
     "metadata": {},
     "output_type": "display_data"
    },
    {
     "data": {
      "application/vnd.jupyter.widget-view+json": {
       "model_id": "a4ae3c0c6b6b49c6a0904f055e18b7b0",
       "version_major": 2,
       "version_minor": 0
      },
      "text/plain": [
       "Export report to file:   0%|          | 0/1 [00:00<?, ?it/s]"
      ]
     },
     "metadata": {},
     "output_type": "display_data"
    },
    {
     "data": {
      "application/vnd.jupyter.widget-view+json": {
       "model_id": "4716724c76c846189685e3eb277c68b3",
       "version_major": 2,
       "version_minor": 0
      },
      "text/plain": [
       "Summarize dataset:   0%|          | 0/5 [00:00<?, ?it/s]"
      ]
     },
     "metadata": {},
     "output_type": "display_data"
    },
    {
     "data": {
      "application/vnd.jupyter.widget-view+json": {
       "model_id": "56f8fc3f1bef4dcf8678f600faf62611",
       "version_major": 2,
       "version_minor": 0
      },
      "text/plain": [
       "Generate report structure:   0%|          | 0/1 [00:00<?, ?it/s]"
      ]
     },
     "metadata": {},
     "output_type": "display_data"
    },
    {
     "data": {
      "application/vnd.jupyter.widget-view+json": {
       "model_id": "6a9e721a920f4d61825be5afad984635",
       "version_major": 2,
       "version_minor": 0
      },
      "text/plain": [
       "Render HTML:   0%|          | 0/1 [00:00<?, ?it/s]"
      ]
     },
     "metadata": {},
     "output_type": "display_data"
    },
    {
     "data": {
      "application/vnd.jupyter.widget-view+json": {
       "model_id": "00b8a43a7098476795e32c1842bfdd88",
       "version_major": 2,
       "version_minor": 0
      },
      "text/plain": [
       "Export report to file:   0%|          | 0/1 [00:00<?, ?it/s]"
      ]
     },
     "metadata": {},
     "output_type": "display_data"
    },
    {
     "data": {
      "application/vnd.jupyter.widget-view+json": {
       "model_id": "1aa1cd4e291140b290e70606b12501bd",
       "version_major": 2,
       "version_minor": 0
      },
      "text/plain": [
       "Summarize dataset:   0%|          | 0/5 [00:00<?, ?it/s]"
      ]
     },
     "metadata": {},
     "output_type": "display_data"
    },
    {
     "data": {
      "application/vnd.jupyter.widget-view+json": {
       "model_id": "e8562c14c39742b081b95d10fbe22923",
       "version_major": 2,
       "version_minor": 0
      },
      "text/plain": [
       "Generate report structure:   0%|          | 0/1 [00:00<?, ?it/s]"
      ]
     },
     "metadata": {},
     "output_type": "display_data"
    },
    {
     "data": {
      "application/vnd.jupyter.widget-view+json": {
       "model_id": "8f53c02a6c9d4a15aa535043c464d10b",
       "version_major": 2,
       "version_minor": 0
      },
      "text/plain": [
       "Render HTML:   0%|          | 0/1 [00:00<?, ?it/s]"
      ]
     },
     "metadata": {},
     "output_type": "display_data"
    },
    {
     "data": {
      "application/vnd.jupyter.widget-view+json": {
       "model_id": "82ad6fa423d44a488fb90dfaf52b353c",
       "version_major": 2,
       "version_minor": 0
      },
      "text/plain": [
       "Export report to file:   0%|          | 0/1 [00:00<?, ?it/s]"
      ]
     },
     "metadata": {},
     "output_type": "display_data"
    }
   ],
   "source": [
    "for ciudad in tqdm(df_main[\"_1_4_1_ciudad\"].dropna().unique()):\n",
    "    dff_ciudad = df_main[df_main[\"_1_4_1_ciudad\"] == ciudad]\n",
    "    profile = ProfileReport(dff_ciudad, title=f\"Principal-{ciudad}\", minimal=True)\n",
    "    \n",
    "    output_fp = f\"outputs/data_cleaning/reports/Principal-{ciudad}.html\"\n",
    "    if not os.path.exists(output_fp): profile.to_file(output_fp)\n",
    "\n",
    "    for vecindario in tqdm(dff_ciudad[\"_1_4_2_vecindario\"].unique()):\n",
    "        if vecindario != \"fuera\":\n",
    "            dff_vecindario = dff_ciudad[dff_ciudad[\"_1_4_2_vecindario\"] == vecindario]\n",
    "            profile = ProfileReport(dff_vecindario, title=f\"Principal-{vecindario}\", minimal=True)\n",
    "            \n",
    "            output_fp = f\"outputs/data_cleaning/reports/Principal-{vecindario}.html\"\n",
    "            if not os.path.exists(output_fp): profile.to_file(output_fp)\n",
    "            \n",
    "            for perfil in tqdm(dff_vecindario[\"_1_5_perfil_entrevistado\"].unique()):\n",
    "                dff_perfil = dff_vecindario[dff_vecindario[\"_1_5_perfil_entrevistado\"] == perfil]\n",
    "                profile = ProfileReport(dff_perfil, title=f\"Principal-{vecindario}-{perfil}\", minimal=True)\n",
    "        \n",
    "                output_fp = f\"outputs/data_cleaning/reports/Principal-{vecindario}-{perfil}.html\"\n",
    "                if not os.path.exists(output_fp): profile.to_file(output_fp)\n",
    "    \n",
    "    for perfil in tqdm(dff_ciudad[\"_1_5_perfil_entrevistado\"].unique()):\n",
    "        dff_perfil = dff_ciudad[dff_ciudad[\"_1_5_perfil_entrevistado\"] == perfil]\n",
    "        profile = ProfileReport(dff_perfil, title=f\"Principal-{ciudad}-{perfil}\", minimal=True)\n",
    "        \n",
    "        output_fp = f\"outputs/data_cleaning/reports/Principal-{ciudad}-{perfil}.html\"\n",
    "        if not os.path.exists(output_fp): profile.to_file(output_fp)"
   ]
  },
  {
   "cell_type": "code",
   "execution_count": 15,
   "id": "a7cdc9a9-e44b-4386-becf-6f7d250bac0e",
   "metadata": {
    "collapsed": true,
    "jupyter": {
     "outputs_hidden": true
    },
    "tags": []
   },
   "outputs": [
    {
     "data": {
      "application/vnd.jupyter.widget-view+json": {
       "model_id": "33e3a1d9176c4b268e0f0428d2e661f6",
       "version_major": 2,
       "version_minor": 0
      },
      "text/plain": [
       "  0%|          | 0/16 [00:00<?, ?it/s]"
      ]
     },
     "metadata": {},
     "output_type": "display_data"
    },
    {
     "data": {
      "application/vnd.jupyter.widget-view+json": {
       "model_id": "f8acb5a474a8406f9fbd61577a2ea028",
       "version_major": 2,
       "version_minor": 0
      },
      "text/plain": [
       "Summarize dataset:   0%|          | 0/5 [00:00<?, ?it/s]"
      ]
     },
     "metadata": {},
     "output_type": "display_data"
    },
    {
     "data": {
      "application/vnd.jupyter.widget-view+json": {
       "model_id": "b65da0466c03453a9083aa9fe506f9f1",
       "version_major": 2,
       "version_minor": 0
      },
      "text/plain": [
       "Generate report structure:   0%|          | 0/1 [00:00<?, ?it/s]"
      ]
     },
     "metadata": {},
     "output_type": "display_data"
    },
    {
     "data": {
      "application/vnd.jupyter.widget-view+json": {
       "model_id": "cdfa579d9e134ea4b317dfd81932e607",
       "version_major": 2,
       "version_minor": 0
      },
      "text/plain": [
       "Render HTML:   0%|          | 0/1 [00:00<?, ?it/s]"
      ]
     },
     "metadata": {},
     "output_type": "display_data"
    },
    {
     "data": {
      "application/vnd.jupyter.widget-view+json": {
       "model_id": "ac904cd4fd7c4d06b1049092bb13a7bb",
       "version_major": 2,
       "version_minor": 0
      },
      "text/plain": [
       "Export report to file:   0%|          | 0/1 [00:00<?, ?it/s]"
      ]
     },
     "metadata": {},
     "output_type": "display_data"
    },
    {
     "data": {
      "application/vnd.jupyter.widget-view+json": {
       "model_id": "f162ccdf3b994b5d90732b3c7225b034",
       "version_major": 2,
       "version_minor": 0
      },
      "text/plain": [
       "Summarize dataset:   0%|          | 0/5 [00:00<?, ?it/s]"
      ]
     },
     "metadata": {},
     "output_type": "display_data"
    },
    {
     "data": {
      "application/vnd.jupyter.widget-view+json": {
       "model_id": "c7fb546f0a6f4f6da8a626918282821a",
       "version_major": 2,
       "version_minor": 0
      },
      "text/plain": [
       "Generate report structure:   0%|          | 0/1 [00:00<?, ?it/s]"
      ]
     },
     "metadata": {},
     "output_type": "display_data"
    },
    {
     "data": {
      "application/vnd.jupyter.widget-view+json": {
       "model_id": "cc0f9e81be164799a0c5ddb61dcbebdd",
       "version_major": 2,
       "version_minor": 0
      },
      "text/plain": [
       "Render HTML:   0%|          | 0/1 [00:00<?, ?it/s]"
      ]
     },
     "metadata": {},
     "output_type": "display_data"
    },
    {
     "data": {
      "application/vnd.jupyter.widget-view+json": {
       "model_id": "619fa81eff754446a956795fc5d80d09",
       "version_major": 2,
       "version_minor": 0
      },
      "text/plain": [
       "Export report to file:   0%|          | 0/1 [00:00<?, ?it/s]"
      ]
     },
     "metadata": {},
     "output_type": "display_data"
    },
    {
     "data": {
      "application/vnd.jupyter.widget-view+json": {
       "model_id": "ecb07e1444224061bf7aac3886c274ab",
       "version_major": 2,
       "version_minor": 0
      },
      "text/plain": [
       "Summarize dataset:   0%|          | 0/5 [00:00<?, ?it/s]"
      ]
     },
     "metadata": {},
     "output_type": "display_data"
    },
    {
     "data": {
      "application/vnd.jupyter.widget-view+json": {
       "model_id": "5f50ea3aea7c4caca71da7bd6ef91349",
       "version_major": 2,
       "version_minor": 0
      },
      "text/plain": [
       "Generate report structure:   0%|          | 0/1 [00:00<?, ?it/s]"
      ]
     },
     "metadata": {},
     "output_type": "display_data"
    },
    {
     "data": {
      "application/vnd.jupyter.widget-view+json": {
       "model_id": "d95a32ee53a142b29a76680db7bc2270",
       "version_major": 2,
       "version_minor": 0
      },
      "text/plain": [
       "Render HTML:   0%|          | 0/1 [00:00<?, ?it/s]"
      ]
     },
     "metadata": {},
     "output_type": "display_data"
    },
    {
     "data": {
      "application/vnd.jupyter.widget-view+json": {
       "model_id": "73727406591c41f88db28f36fefd0cd0",
       "version_major": 2,
       "version_minor": 0
      },
      "text/plain": [
       "Export report to file:   0%|          | 0/1 [00:00<?, ?it/s]"
      ]
     },
     "metadata": {},
     "output_type": "display_data"
    },
    {
     "data": {
      "application/vnd.jupyter.widget-view+json": {
       "model_id": "d1f05a5071c24479a7102aac86e16f4e",
       "version_major": 2,
       "version_minor": 0
      },
      "text/plain": [
       "Summarize dataset:   0%|          | 0/5 [00:00<?, ?it/s]"
      ]
     },
     "metadata": {},
     "output_type": "display_data"
    },
    {
     "data": {
      "application/vnd.jupyter.widget-view+json": {
       "model_id": "d9f6560397504bac9dee2b2f70e039ad",
       "version_major": 2,
       "version_minor": 0
      },
      "text/plain": [
       "Generate report structure:   0%|          | 0/1 [00:00<?, ?it/s]"
      ]
     },
     "metadata": {},
     "output_type": "display_data"
    },
    {
     "data": {
      "application/vnd.jupyter.widget-view+json": {
       "model_id": "8950ceceb4454dd991f8d83b160c56d3",
       "version_major": 2,
       "version_minor": 0
      },
      "text/plain": [
       "Render HTML:   0%|          | 0/1 [00:00<?, ?it/s]"
      ]
     },
     "metadata": {},
     "output_type": "display_data"
    },
    {
     "data": {
      "application/vnd.jupyter.widget-view+json": {
       "model_id": "52e0d098129c49a3b95ee5fc23bbd6f1",
       "version_major": 2,
       "version_minor": 0
      },
      "text/plain": [
       "Export report to file:   0%|          | 0/1 [00:00<?, ?it/s]"
      ]
     },
     "metadata": {},
     "output_type": "display_data"
    },
    {
     "data": {
      "application/vnd.jupyter.widget-view+json": {
       "model_id": "2c3f23532daf40c7b16459c816a0d845",
       "version_major": 2,
       "version_minor": 0
      },
      "text/plain": [
       "Summarize dataset:   0%|          | 0/5 [00:00<?, ?it/s]"
      ]
     },
     "metadata": {},
     "output_type": "display_data"
    },
    {
     "data": {
      "application/vnd.jupyter.widget-view+json": {
       "model_id": "efb6a81e074d401592ffa37049343a10",
       "version_major": 2,
       "version_minor": 0
      },
      "text/plain": [
       "Generate report structure:   0%|          | 0/1 [00:00<?, ?it/s]"
      ]
     },
     "metadata": {},
     "output_type": "display_data"
    },
    {
     "data": {
      "application/vnd.jupyter.widget-view+json": {
       "model_id": "8acf8c7abc0f4b1f8c950795e8d0a687",
       "version_major": 2,
       "version_minor": 0
      },
      "text/plain": [
       "Render HTML:   0%|          | 0/1 [00:00<?, ?it/s]"
      ]
     },
     "metadata": {},
     "output_type": "display_data"
    },
    {
     "data": {
      "application/vnd.jupyter.widget-view+json": {
       "model_id": "f6f6601845194bba9e26aac290cea8a2",
       "version_major": 2,
       "version_minor": 0
      },
      "text/plain": [
       "Export report to file:   0%|          | 0/1 [00:00<?, ?it/s]"
      ]
     },
     "metadata": {},
     "output_type": "display_data"
    },
    {
     "data": {
      "application/vnd.jupyter.widget-view+json": {
       "model_id": "5fa78ea7d1ef40f9a31d38d71ea02d26",
       "version_major": 2,
       "version_minor": 0
      },
      "text/plain": [
       "Summarize dataset:   0%|          | 0/5 [00:00<?, ?it/s]"
      ]
     },
     "metadata": {},
     "output_type": "display_data"
    },
    {
     "data": {
      "application/vnd.jupyter.widget-view+json": {
       "model_id": "dd675018f50f4ff9b942e03b795ec114",
       "version_major": 2,
       "version_minor": 0
      },
      "text/plain": [
       "Generate report structure:   0%|          | 0/1 [00:00<?, ?it/s]"
      ]
     },
     "metadata": {},
     "output_type": "display_data"
    },
    {
     "data": {
      "application/vnd.jupyter.widget-view+json": {
       "model_id": "0b86788938a349639b43eadc3b414eca",
       "version_major": 2,
       "version_minor": 0
      },
      "text/plain": [
       "Render HTML:   0%|          | 0/1 [00:00<?, ?it/s]"
      ]
     },
     "metadata": {},
     "output_type": "display_data"
    },
    {
     "data": {
      "application/vnd.jupyter.widget-view+json": {
       "model_id": "3ef427f140ea4c21bdc2988afd6b06ad",
       "version_major": 2,
       "version_minor": 0
      },
      "text/plain": [
       "Export report to file:   0%|          | 0/1 [00:00<?, ?it/s]"
      ]
     },
     "metadata": {},
     "output_type": "display_data"
    },
    {
     "data": {
      "application/vnd.jupyter.widget-view+json": {
       "model_id": "812bd43b20e0429da714c1a0a8f407ba",
       "version_major": 2,
       "version_minor": 0
      },
      "text/plain": [
       "Summarize dataset:   0%|          | 0/5 [00:00<?, ?it/s]"
      ]
     },
     "metadata": {},
     "output_type": "display_data"
    },
    {
     "data": {
      "application/vnd.jupyter.widget-view+json": {
       "model_id": "b9c94bbd75364e589ca477b4e60531fc",
       "version_major": 2,
       "version_minor": 0
      },
      "text/plain": [
       "Generate report structure:   0%|          | 0/1 [00:00<?, ?it/s]"
      ]
     },
     "metadata": {},
     "output_type": "display_data"
    },
    {
     "data": {
      "application/vnd.jupyter.widget-view+json": {
       "model_id": "53cdc50ff14a4b66b5d0753d959c5698",
       "version_major": 2,
       "version_minor": 0
      },
      "text/plain": [
       "Render HTML:   0%|          | 0/1 [00:00<?, ?it/s]"
      ]
     },
     "metadata": {},
     "output_type": "display_data"
    },
    {
     "data": {
      "application/vnd.jupyter.widget-view+json": {
       "model_id": "1ae7f3f45c98447997db089959d852f4",
       "version_major": 2,
       "version_minor": 0
      },
      "text/plain": [
       "Export report to file:   0%|          | 0/1 [00:00<?, ?it/s]"
      ]
     },
     "metadata": {},
     "output_type": "display_data"
    },
    {
     "data": {
      "application/vnd.jupyter.widget-view+json": {
       "model_id": "d800507f079e468da0c3fee9d383b144",
       "version_major": 2,
       "version_minor": 0
      },
      "text/plain": [
       "Summarize dataset:   0%|          | 0/5 [00:00<?, ?it/s]"
      ]
     },
     "metadata": {},
     "output_type": "display_data"
    },
    {
     "data": {
      "application/vnd.jupyter.widget-view+json": {
       "model_id": "be7c325381e84005b70987b42fd9609b",
       "version_major": 2,
       "version_minor": 0
      },
      "text/plain": [
       "Generate report structure:   0%|          | 0/1 [00:00<?, ?it/s]"
      ]
     },
     "metadata": {},
     "output_type": "display_data"
    },
    {
     "data": {
      "application/vnd.jupyter.widget-view+json": {
       "model_id": "c0776a9623d34a21acf30ddea7c4d15b",
       "version_major": 2,
       "version_minor": 0
      },
      "text/plain": [
       "Render HTML:   0%|          | 0/1 [00:00<?, ?it/s]"
      ]
     },
     "metadata": {},
     "output_type": "display_data"
    },
    {
     "data": {
      "application/vnd.jupyter.widget-view+json": {
       "model_id": "762bebcc959b47efb8f5d75f2c9f7809",
       "version_major": 2,
       "version_minor": 0
      },
      "text/plain": [
       "Export report to file:   0%|          | 0/1 [00:00<?, ?it/s]"
      ]
     },
     "metadata": {},
     "output_type": "display_data"
    },
    {
     "data": {
      "application/vnd.jupyter.widget-view+json": {
       "model_id": "fc1bcb7b21694c008388777a2e6b8086",
       "version_major": 2,
       "version_minor": 0
      },
      "text/plain": [
       "Summarize dataset:   0%|          | 0/5 [00:00<?, ?it/s]"
      ]
     },
     "metadata": {},
     "output_type": "display_data"
    },
    {
     "data": {
      "application/vnd.jupyter.widget-view+json": {
       "model_id": "109acfe2c0924ca28eddcf003a22bdce",
       "version_major": 2,
       "version_minor": 0
      },
      "text/plain": [
       "Generate report structure:   0%|          | 0/1 [00:00<?, ?it/s]"
      ]
     },
     "metadata": {},
     "output_type": "display_data"
    },
    {
     "data": {
      "application/vnd.jupyter.widget-view+json": {
       "model_id": "ec896fb3d39a44129b71b2715d5a77d2",
       "version_major": 2,
       "version_minor": 0
      },
      "text/plain": [
       "Render HTML:   0%|          | 0/1 [00:00<?, ?it/s]"
      ]
     },
     "metadata": {},
     "output_type": "display_data"
    },
    {
     "data": {
      "application/vnd.jupyter.widget-view+json": {
       "model_id": "7d3b19adf76b41a9af80214620184d91",
       "version_major": 2,
       "version_minor": 0
      },
      "text/plain": [
       "Export report to file:   0%|          | 0/1 [00:00<?, ?it/s]"
      ]
     },
     "metadata": {},
     "output_type": "display_data"
    },
    {
     "data": {
      "application/vnd.jupyter.widget-view+json": {
       "model_id": "f9b05e6a79d64f00a28e7b12118563f8",
       "version_major": 2,
       "version_minor": 0
      },
      "text/plain": [
       "Summarize dataset:   0%|          | 0/5 [00:00<?, ?it/s]"
      ]
     },
     "metadata": {},
     "output_type": "display_data"
    },
    {
     "data": {
      "application/vnd.jupyter.widget-view+json": {
       "model_id": "5db1f22560324b889c7c7957d2f6f604",
       "version_major": 2,
       "version_minor": 0
      },
      "text/plain": [
       "Generate report structure:   0%|          | 0/1 [00:00<?, ?it/s]"
      ]
     },
     "metadata": {},
     "output_type": "display_data"
    },
    {
     "data": {
      "application/vnd.jupyter.widget-view+json": {
       "model_id": "47716c28d9c14f2fa0626f2baf6b86bc",
       "version_major": 2,
       "version_minor": 0
      },
      "text/plain": [
       "Render HTML:   0%|          | 0/1 [00:00<?, ?it/s]"
      ]
     },
     "metadata": {},
     "output_type": "display_data"
    },
    {
     "data": {
      "application/vnd.jupyter.widget-view+json": {
       "model_id": "491edf83d30844ecab6ffdbcb8420bd3",
       "version_major": 2,
       "version_minor": 0
      },
      "text/plain": [
       "Export report to file:   0%|          | 0/1 [00:00<?, ?it/s]"
      ]
     },
     "metadata": {},
     "output_type": "display_data"
    },
    {
     "data": {
      "application/vnd.jupyter.widget-view+json": {
       "model_id": "fdbd93a4664e4c05ba74d38398ca63db",
       "version_major": 2,
       "version_minor": 0
      },
      "text/plain": [
       "Summarize dataset:   0%|          | 0/5 [00:00<?, ?it/s]"
      ]
     },
     "metadata": {},
     "output_type": "display_data"
    },
    {
     "data": {
      "application/vnd.jupyter.widget-view+json": {
       "model_id": "6374173a9b204c5bb96a92325459bb83",
       "version_major": 2,
       "version_minor": 0
      },
      "text/plain": [
       "Generate report structure:   0%|          | 0/1 [00:00<?, ?it/s]"
      ]
     },
     "metadata": {},
     "output_type": "display_data"
    },
    {
     "data": {
      "application/vnd.jupyter.widget-view+json": {
       "model_id": "f7196be4a857484985680e17f870e81a",
       "version_major": 2,
       "version_minor": 0
      },
      "text/plain": [
       "Render HTML:   0%|          | 0/1 [00:00<?, ?it/s]"
      ]
     },
     "metadata": {},
     "output_type": "display_data"
    },
    {
     "data": {
      "application/vnd.jupyter.widget-view+json": {
       "model_id": "f5ddd3a076f0437b8d95bf882f6d1d03",
       "version_major": 2,
       "version_minor": 0
      },
      "text/plain": [
       "Export report to file:   0%|          | 0/1 [00:00<?, ?it/s]"
      ]
     },
     "metadata": {},
     "output_type": "display_data"
    },
    {
     "data": {
      "application/vnd.jupyter.widget-view+json": {
       "model_id": "0924d1e8a6bf490cabafb3a27bf2073a",
       "version_major": 2,
       "version_minor": 0
      },
      "text/plain": [
       "Summarize dataset:   0%|          | 0/5 [00:00<?, ?it/s]"
      ]
     },
     "metadata": {},
     "output_type": "display_data"
    },
    {
     "data": {
      "application/vnd.jupyter.widget-view+json": {
       "model_id": "98e12d9128784220b92da05a40b500ef",
       "version_major": 2,
       "version_minor": 0
      },
      "text/plain": [
       "Generate report structure:   0%|          | 0/1 [00:00<?, ?it/s]"
      ]
     },
     "metadata": {},
     "output_type": "display_data"
    },
    {
     "data": {
      "application/vnd.jupyter.widget-view+json": {
       "model_id": "967cc5cc00af4e198d7b46c14070a352",
       "version_major": 2,
       "version_minor": 0
      },
      "text/plain": [
       "Render HTML:   0%|          | 0/1 [00:00<?, ?it/s]"
      ]
     },
     "metadata": {},
     "output_type": "display_data"
    },
    {
     "data": {
      "application/vnd.jupyter.widget-view+json": {
       "model_id": "8b87135a5d5c44dd96f91717a71395fa",
       "version_major": 2,
       "version_minor": 0
      },
      "text/plain": [
       "Export report to file:   0%|          | 0/1 [00:00<?, ?it/s]"
      ]
     },
     "metadata": {},
     "output_type": "display_data"
    },
    {
     "data": {
      "application/vnd.jupyter.widget-view+json": {
       "model_id": "dd3600df91974aa59cd677080cb364be",
       "version_major": 2,
       "version_minor": 0
      },
      "text/plain": [
       "Summarize dataset:   0%|          | 0/5 [00:00<?, ?it/s]"
      ]
     },
     "metadata": {},
     "output_type": "display_data"
    },
    {
     "data": {
      "application/vnd.jupyter.widget-view+json": {
       "model_id": "acb79e5bc4c7484fab622c67815ebfc5",
       "version_major": 2,
       "version_minor": 0
      },
      "text/plain": [
       "Generate report structure:   0%|          | 0/1 [00:00<?, ?it/s]"
      ]
     },
     "metadata": {},
     "output_type": "display_data"
    },
    {
     "data": {
      "application/vnd.jupyter.widget-view+json": {
       "model_id": "4f64fd62fda64e5d92859c7003051dd5",
       "version_major": 2,
       "version_minor": 0
      },
      "text/plain": [
       "Render HTML:   0%|          | 0/1 [00:00<?, ?it/s]"
      ]
     },
     "metadata": {},
     "output_type": "display_data"
    },
    {
     "data": {
      "application/vnd.jupyter.widget-view+json": {
       "model_id": "bf24ee21f5ca4762917d12f4d2dcb6b4",
       "version_major": 2,
       "version_minor": 0
      },
      "text/plain": [
       "Export report to file:   0%|          | 0/1 [00:00<?, ?it/s]"
      ]
     },
     "metadata": {},
     "output_type": "display_data"
    },
    {
     "data": {
      "application/vnd.jupyter.widget-view+json": {
       "model_id": "f2b1d5955adf4ab4b033ee06d6d18935",
       "version_major": 2,
       "version_minor": 0
      },
      "text/plain": [
       "Summarize dataset:   0%|          | 0/5 [00:00<?, ?it/s]"
      ]
     },
     "metadata": {},
     "output_type": "display_data"
    },
    {
     "data": {
      "application/vnd.jupyter.widget-view+json": {
       "model_id": "2dbb842f2bcb4d1bb34df5f9098bdccf",
       "version_major": 2,
       "version_minor": 0
      },
      "text/plain": [
       "Generate report structure:   0%|          | 0/1 [00:00<?, ?it/s]"
      ]
     },
     "metadata": {},
     "output_type": "display_data"
    },
    {
     "data": {
      "application/vnd.jupyter.widget-view+json": {
       "model_id": "5b7cb565ff644faeb1cebc308098c540",
       "version_major": 2,
       "version_minor": 0
      },
      "text/plain": [
       "Render HTML:   0%|          | 0/1 [00:00<?, ?it/s]"
      ]
     },
     "metadata": {},
     "output_type": "display_data"
    },
    {
     "data": {
      "application/vnd.jupyter.widget-view+json": {
       "model_id": "a6d73614160c49a8aec9531299f3b395",
       "version_major": 2,
       "version_minor": 0
      },
      "text/plain": [
       "Export report to file:   0%|          | 0/1 [00:00<?, ?it/s]"
      ]
     },
     "metadata": {},
     "output_type": "display_data"
    },
    {
     "data": {
      "application/vnd.jupyter.widget-view+json": {
       "model_id": "6ec6ba6995d04eec92fbb06db6a8e45e",
       "version_major": 2,
       "version_minor": 0
      },
      "text/plain": [
       "Summarize dataset:   0%|          | 0/5 [00:00<?, ?it/s]"
      ]
     },
     "metadata": {},
     "output_type": "display_data"
    },
    {
     "data": {
      "application/vnd.jupyter.widget-view+json": {
       "model_id": "7e6d9cdbb8b0453995cddc08af44c967",
       "version_major": 2,
       "version_minor": 0
      },
      "text/plain": [
       "Generate report structure:   0%|          | 0/1 [00:00<?, ?it/s]"
      ]
     },
     "metadata": {},
     "output_type": "display_data"
    },
    {
     "data": {
      "application/vnd.jupyter.widget-view+json": {
       "model_id": "cafd2f9e69584052ab527885680b224a",
       "version_major": 2,
       "version_minor": 0
      },
      "text/plain": [
       "Render HTML:   0%|          | 0/1 [00:00<?, ?it/s]"
      ]
     },
     "metadata": {},
     "output_type": "display_data"
    },
    {
     "data": {
      "application/vnd.jupyter.widget-view+json": {
       "model_id": "041ad6fab7f1400f9b9a17c34876febb",
       "version_major": 2,
       "version_minor": 0
      },
      "text/plain": [
       "Export report to file:   0%|          | 0/1 [00:00<?, ?it/s]"
      ]
     },
     "metadata": {},
     "output_type": "display_data"
    },
    {
     "data": {
      "application/vnd.jupyter.widget-view+json": {
       "model_id": "0777501d09224756997a2553f29342d6",
       "version_major": 2,
       "version_minor": 0
      },
      "text/plain": [
       "Summarize dataset:   0%|          | 0/5 [00:00<?, ?it/s]"
      ]
     },
     "metadata": {},
     "output_type": "display_data"
    },
    {
     "data": {
      "application/vnd.jupyter.widget-view+json": {
       "model_id": "76921becc1154e0f855b9ef7a809b930",
       "version_major": 2,
       "version_minor": 0
      },
      "text/plain": [
       "Generate report structure:   0%|          | 0/1 [00:00<?, ?it/s]"
      ]
     },
     "metadata": {},
     "output_type": "display_data"
    },
    {
     "data": {
      "application/vnd.jupyter.widget-view+json": {
       "model_id": "7ff93407b65145788e0cf111fc0d4005",
       "version_major": 2,
       "version_minor": 0
      },
      "text/plain": [
       "Render HTML:   0%|          | 0/1 [00:00<?, ?it/s]"
      ]
     },
     "metadata": {},
     "output_type": "display_data"
    },
    {
     "data": {
      "application/vnd.jupyter.widget-view+json": {
       "model_id": "ffa99e91bfc846daa0377e75d2a6bc44",
       "version_major": 2,
       "version_minor": 0
      },
      "text/plain": [
       "Export report to file:   0%|          | 0/1 [00:00<?, ?it/s]"
      ]
     },
     "metadata": {},
     "output_type": "display_data"
    }
   ],
   "source": [
    "for name, df in tqdm(dfs.items()):\n",
    "    output_fp = f\"outputs/data_cleaning/reports/{name}.html\"\n",
    "    if not os.path.exists(output_fp):\n",
    "        try:\n",
    "            profile = ProfileReport(df, \n",
    "                                    title=name, \n",
    "                                    minimal=True)\n",
    "            profile.to_file(output_fp)\n",
    "        except:\n",
    "            pass"
   ]
  },
  {
   "cell_type": "markdown",
   "id": "d8df3c51-5cae-4fc4-94af-ed7e0e23c2fa",
   "metadata": {},
   "source": [
    "## Datos Generales del Cuestionario"
   ]
  },
  {
   "cell_type": "code",
   "execution_count": null,
   "id": "e90f0e18-6dc7-4158-8402-e93bb97a8702",
   "metadata": {},
   "outputs": [],
   "source": [
    "col_name = \"_1_5_perfil_entrevistado\"\n",
    "\n",
    "def frec_table(df, col_name):\n",
    "    col_value_counts = pd.concat([\n",
    "        df_main[col_name].value_counts(),\n",
    "        df_main[col_name].value_counts(normalize=True).round(2) * 100,\n",
    "    ], axis=1)\n",
    "    col_value_counts.index = col_value_counts.index.str.capitalize()\n",
    "    col_value_counts.columns = [\"Frec.\", \"Frec. Rel. (%)\"]\n",
    "\n",
    "    col_value_counts = pd.concat([\n",
    "        col_value_counts, \n",
    "        col_value_counts.sum().to_frame(name=\"Total\").T\n",
    "    ])\n",
    "\n",
    "    return col_value_counts"
   ]
  },
  {
   "cell_type": "code",
   "execution_count": null,
   "id": "82926284-5c25-47cb-bb8b-1eac6781986e",
   "metadata": {},
   "outputs": [],
   "source": [
    "pd.crosstab(df_main[\"_1_5_perfil_entrevistado\"],\n",
    "            df_main[\"_1_4_1_ciudad\"],\n",
    "            margins=True, margins_name=\"Total\")"
   ]
  },
  {
   "cell_type": "code",
   "execution_count": null,
   "id": "3efa2ba5-cd13-4c8f-8fbb-c866c97d6431",
   "metadata": {},
   "outputs": [],
   "source": [
    "# Frecs. de encuestas por vecindario y ciudad \n",
    "vec_x_ciudad = (df_main\n",
    "    .groupby([\"_1_4_1_ciudad\", \"_1_4_2_vecindario\"])\n",
    "    .size()\n",
    "    .to_frame()\n",
    ")\n",
    "\n",
    "totals = df_main[\"_1_4_1_ciudad\"].value_counts()\n",
    "normalized = pd.concat([\n",
    "    vec_x_ciudad.loc[\"lima\"] / totals[\"lima\"],\n",
    "    vec_x_ciudad.loc[\"quito\"] / totals[\"quito\"]\n",
    "]).round(2) * 100\n",
    "vec_x_ciudad[1] = normalized[0].values\n",
    "\n",
    "vec_x_ciudad.columns = [\"Frec.\", 'Frec. Rel. (%)']\n",
    "vec_x_ciudad"
   ]
  },
  {
   "cell_type": "code",
   "execution_count": null,
   "id": "e842e552-626e-4370-b1d2-d19847b9c033",
   "metadata": {},
   "outputs": [],
   "source": [
    "perfil_x_vec = (df_main\n",
    "    .groupby([\"_1_4_1_ciudad\", \"_1_4_2_vecindario\", \"_1_5_perfil_entrevistado\"])\n",
    "    .size()\n",
    "    .to_frame()\n",
    ")\n",
    "perfil_x_vec[1] = (perfil_x_vec[0] / df_main.groupby([\"_1_4_1_ciudad\", \"_1_4_2_vecindario\"]).size()).round(2) * 100\n",
    "perfil_x_vec.columns = [\"Frec.\", 'Frec. Rel. (%)']\n",
    "perfil_x_vec"
   ]
  },
  {
   "cell_type": "code",
   "execution_count": null,
   "id": "70dce802-2416-4b52-8e93-26915d10db18",
   "metadata": {},
   "outputs": [],
   "source": [
    "# Num de encuestas diarias\n",
    "(df_main\n",
    "    .groupby(\"_1_2_fecha_encuesta\").size()\n",
    "    .resample(\"D\").sum()\n",
    "    .plot(style=\"-\", figsize=(10, 5))\n",
    ")"
   ]
  },
  {
   "cell_type": "code",
   "execution_count": null,
   "id": "cd9a9e37-67f9-4741-acb2-fabc003db87e",
   "metadata": {},
   "outputs": [],
   "source": [
    "fig, axs = plt.subplots(figsize=(12, 4))\n",
    "(df_main\n",
    "    .groupby(df_main[\"_1_2_fecha_encuesta\"]\n",
    "    .dt.day_name('es_ES.utf8'))\n",
    "    .size()\n",
    "    .plot(kind='bar', rot=0, ax=axs))\n",
    "plt.xlabel(\"Dia de la semana\");\n",
    "plt.ylabel(\"Encuestas\");"
   ]
  },
  {
   "cell_type": "code",
   "execution_count": null,
   "id": "bf1f9ced-59fe-4c52-b59c-d191002a8ccc",
   "metadata": {},
   "outputs": [],
   "source": [
    "df_main.columns[5:]"
   ]
  },
  {
   "cell_type": "code",
   "execution_count": null,
   "id": "0216bc6c-6ebd-4fe2-a12b-9a2806c6f51c",
   "metadata": {},
   "outputs": [],
   "source": [
    "df_main[['zona_carabayllo',\n",
    "       'otra_zona_carabayllo', 'zona_pachacamac', 'otra_zona_pachacamac',\n",
    "       'mercado_carabayllo',]].isna().sum()"
   ]
  },
  {
   "cell_type": "code",
   "execution_count": null,
   "id": "5d0a4e73-ef59-4958-b981-fc004a0f055b",
   "metadata": {},
   "outputs": [],
   "source": [
    "df_main.columns[:40]"
   ]
  },
  {
   "cell_type": "code",
   "execution_count": null,
   "id": "3132c407-3baa-4136-a211-b50ad13d961b",
   "metadata": {},
   "outputs": [],
   "source": [
    "df_main[['zona_carabayllo', 'otra_zona_carabayllo']].dropna(how='all').isna().sum()"
   ]
  },
  {
   "cell_type": "code",
   "execution_count": null,
   "id": "a2ff3d5f-b3d3-4053-86e6-152b355409ec",
   "metadata": {},
   "outputs": [],
   "source": [
    "df_main['_1_4_2_vecindario'].value_counts()['carabayllo']"
   ]
  },
  {
   "cell_type": "code",
   "execution_count": null,
   "id": "492db8ed-623a-42df-bf1d-d54d4683e18a",
   "metadata": {},
   "outputs": [],
   "source": [
    "df_main['zona_carabayllo'].value_counts()"
   ]
  },
  {
   "cell_type": "code",
   "execution_count": null,
   "id": "33c806cf-77e7-478b-a22f-0d23f979e489",
   "metadata": {},
   "outputs": [],
   "source": [
    "df_main['otra_zona_carabayllo'].value_counts()"
   ]
  },
  {
   "cell_type": "code",
   "execution_count": null,
   "id": "8a0c3f05-7484-43cc-9e5a-bf6ac3ebc7fa",
   "metadata": {},
   "outputs": [],
   "source": [
    "df_main['otra_zona_carabayllo'].value_counts().sum()"
   ]
  },
  {
   "cell_type": "code",
   "execution_count": null,
   "id": "c3a3a411-b549-47ed-8d3a-c440cc9f758c",
   "metadata": {},
   "outputs": [],
   "source": [
    "df_main[['mercado_carabayllo', 'otro_mercado_carabayllo']].dropna(how='all')"
   ]
  },
  {
   "cell_type": "code",
   "execution_count": null,
   "id": "4964e0e1-ffdb-4f31-b079-9df31a8b27c9",
   "metadata": {},
   "outputs": [],
   "source": []
  },
  {
   "cell_type": "code",
   "execution_count": null,
   "id": "dc5706fc-57ad-45eb-9977-cb5a974cbb54",
   "metadata": {},
   "outputs": [],
   "source": [
    "'_1_1_codigo_cuestionario',\n",
    "\n",
    "'_1_2_fecha_encuesta', \n",
    "\n",
    "'_1_3_nombre_encuestador', \n",
    "\n",
    "\n",
    "'_1_4_1_ciudad', '_1_4_2_vecindario', 'sector_barrio_huerto', \n",
    "'_1_5_perfil_entrevistado',\n",
    "       \n",
    "    \n",
    "    \n",
    "    \n",
    "'zona_carabayllo', 'otra_zona_carabayllo', \n",
    "'mercado_carabayllo', 'otro_mercado_carabayllo',\n",
    "\n",
    "'zona_pachacamac', 'otra_zona_pachacamac', \n",
    "'mercado_pachacamac', 'otro_mercado_pachacamac',\n",
    "       \n",
    "    \n",
    "'_1_6_ambito_territorial', '_1_7_1_provincia_huerto'\n",
    "'_1_7_2_canton_huerto', '_1_7_3_parroquia_huerto',\n",
    "       \n",
    "    \n",
    "'_2_1_consentimiento_informado', \n",
    "'_3_1_Nombre', 'sexo', 'edad',\n",
    "'aporta_economicamente_hogar', '_3_2_Informo_telefono', \n",
    "'numero_telefono', 'contacto_dirigente', 'contacto_administrador',\n",
    "'_3_3_1_Distrito_Canton', '_3_3_2_Provincia', '_3_3_3_Pais',\n",
    "'otro_pais', '_3_4_tiempo_vive_hogar', '_3_4_Vive_vecindario',\n",
    "'_3_6_nivel_estudio', 'nivel_completo', 'anos_nivel_incompleto'"
   ]
  },
  {
   "cell_type": "code",
   "execution_count": null,
   "id": "d32f73f3-6e52-4477-a0d9-7f611060670d",
   "metadata": {},
   "outputs": [],
   "source": [
    "sexo\tedad\taporta_economicamente_hogar\n",
    "num_hombres_hogar\tnum_menores_hogar\tnum_miembros_aportan_hogar\n"
   ]
  },
  {
   "cell_type": "code",
   "execution_count": null,
   "id": "a8794962-9eb7-41d4-a203-7049398d5c19",
   "metadata": {},
   "outputs": [],
   "source": [
    "df_main"
   ]
  },
  {
   "cell_type": "markdown",
   "id": "ec79ed6d-7fdb-4371-845a-4053af6a43fd",
   "metadata": {},
   "source": [
    "## Caracterizacion del encuestado"
   ]
  },
  {
   "cell_type": "code",
   "execution_count": 17,
   "id": "efd068af-1080-4f1b-9816-866e3101763b",
   "metadata": {},
   "outputs": [
    {
     "data": {
      "text/plain": [
       "si    522\n",
       "no    352\n",
       "Name: _3_2_Informo_telefono, dtype: int64"
      ]
     },
     "execution_count": 17,
     "metadata": {},
     "output_type": "execute_result"
    }
   ],
   "source": [
    "df_main[\"_3_2_Informo_telefono\"].value_counts()"
   ]
  },
  {
   "cell_type": "markdown",
   "id": "f4ca3b2f-d283-4d02-80a0-98f666732f16",
   "metadata": {},
   "source": [
    "### 3.3 Lugar de nacimiento"
   ]
  },
  {
   "cell_type": "code",
   "execution_count": 21,
   "id": "aab8d53e-633a-415e-ac89-b567085f990b",
   "metadata": {},
   "outputs": [
    {
     "data": {
      "text/plain": [
       "peru       481\n",
       "ecuador    391\n",
       "otro        15\n",
       "Name: _3_3_3_Pais, dtype: int64"
      ]
     },
     "execution_count": 21,
     "metadata": {},
     "output_type": "execute_result"
    }
   ],
   "source": [
    "df_main[\"_3_3_3_Pais\"].value_counts()"
   ]
  },
  {
   "cell_type": "code",
   "execution_count": 22,
   "id": "46cdc028-1efc-4196-a2b3-e521b2297d65",
   "metadata": {},
   "outputs": [
    {
     "data": {
      "text/plain": [
       "Pichincha                   216\n",
       "Lima                        176\n",
       "LIMA                         81\n",
       "Quito                        27\n",
       "Cotopaxi                     18\n",
       "                           ... \n",
       "Orellana                      1\n",
       "Guayaqui                      1\n",
       "Huanta                        1\n",
       "Tocache                       1\n",
       "Santo Domingo de Olleros      1\n",
       "Name: _3_3_2_Provincia, Length: 178, dtype: int64"
      ]
     },
     "execution_count": 22,
     "metadata": {},
     "output_type": "execute_result"
    }
   ],
   "source": [
    "df_main[\"_3_3_2_Provincia\"].value_counts()"
   ]
  },
  {
   "cell_type": "code",
   "execution_count": 32,
   "id": "e477c21d-d14f-47a8-ab55-0f57bf3ea985",
   "metadata": {},
   "outputs": [
    {
     "data": {
      "text/plain": [
       "892"
      ]
     },
     "execution_count": 32,
     "metadata": {},
     "output_type": "execute_result"
    }
   ],
   "source": [
    "df_main[\"_1_4_1_ciudad\"].value_counts().sum()"
   ]
  },
  {
   "cell_type": "code",
   "execution_count": 34,
   "id": "07f9785e-7326-482a-91fe-e747d632c591",
   "metadata": {},
   "outputs": [
    {
     "data": {
      "text/html": [
       "<div>\n",
       "<style scoped>\n",
       "    .dataframe tbody tr th:only-of-type {\n",
       "        vertical-align: middle;\n",
       "    }\n",
       "\n",
       "    .dataframe tbody tr th {\n",
       "        vertical-align: top;\n",
       "    }\n",
       "\n",
       "    .dataframe thead th {\n",
       "        text-align: right;\n",
       "    }\n",
       "</style>\n",
       "<table border=\"1\" class=\"dataframe\">\n",
       "  <thead>\n",
       "    <tr style=\"text-align: right;\">\n",
       "      <th></th>\n",
       "      <th>_index</th>\n",
       "      <th>start</th>\n",
       "      <th>end</th>\n",
       "      <th>_1_1_codigo_cuestionario</th>\n",
       "      <th>_1_2_fecha_encuesta</th>\n",
       "      <th>_1_3_nombre_encuestador</th>\n",
       "      <th>_1_4_1_ciudad</th>\n",
       "      <th>_1_4_2_vecindario</th>\n",
       "      <th>sector_barrio_huerto</th>\n",
       "      <th>_1_5_perfil_entrevistado</th>\n",
       "      <th>...</th>\n",
       "      <th>_MAPEO_DE_LA_ZONA_DEL_A_para_llenar_luego_altitude</th>\n",
       "      <th>_MAPEO_DE_LA_ZONA_DEL_A_para_llenar_luego_precision</th>\n",
       "      <th>_id</th>\n",
       "      <th>_uuid</th>\n",
       "      <th>_submission_time</th>\n",
       "      <th>_validation_status</th>\n",
       "      <th>_notes</th>\n",
       "      <th>_status</th>\n",
       "      <th>_submitted_by</th>\n",
       "      <th>_tags</th>\n",
       "    </tr>\n",
       "  </thead>\n",
       "  <tbody>\n",
       "    <tr>\n",
       "      <th>186</th>\n",
       "      <td>187</td>\n",
       "      <td>2022-08-22 10:02:09.332</td>\n",
       "      <td>2022-08-22 10:19:02.548</td>\n",
       "      <td>NaN</td>\n",
       "      <td>2022-08-16</td>\n",
       "      <td>Julian Ordoñez</td>\n",
       "      <td>NaN</td>\n",
       "      <td>solanda</td>\n",
       "      <td>NaN</td>\n",
       "      <td>consumidor</td>\n",
       "      <td>...</td>\n",
       "      <td>NaN</td>\n",
       "      <td>NaN</td>\n",
       "      <td>177686949</td>\n",
       "      <td>c3e2305c-e339-44bb-8c67-470f8c72684c</td>\n",
       "      <td>2022-08-22 15:18:04</td>\n",
       "      <td>NaN</td>\n",
       "      <td>NaN</td>\n",
       "      <td>submitted_via_web</td>\n",
       "      <td>funsad</td>\n",
       "      <td>NaN</td>\n",
       "    </tr>\n",
       "    <tr>\n",
       "      <th>414</th>\n",
       "      <td>415</td>\n",
       "      <td>2022-08-30 23:42:59.163</td>\n",
       "      <td>2022-08-30 23:43:25.236</td>\n",
       "      <td>NaN</td>\n",
       "      <td>NaT</td>\n",
       "      <td>NaN</td>\n",
       "      <td>NaN</td>\n",
       "      <td>NaN</td>\n",
       "      <td>NaN</td>\n",
       "      <td>consumidor</td>\n",
       "      <td>...</td>\n",
       "      <td>NaN</td>\n",
       "      <td>NaN</td>\n",
       "      <td>180041604</td>\n",
       "      <td>94e0b9d7-3cbe-4fa9-8226-25f9e007a9b3</td>\n",
       "      <td>2022-08-31 04:43:37</td>\n",
       "      <td>NaN</td>\n",
       "      <td>NaN</td>\n",
       "      <td>submitted_via_web</td>\n",
       "      <td>funsad</td>\n",
       "      <td>NaN</td>\n",
       "    </tr>\n",
       "    <tr>\n",
       "      <th>884</th>\n",
       "      <td>885</td>\n",
       "      <td>2022-10-19 17:48:15.178</td>\n",
       "      <td>2022-10-29 14:34:46.026</td>\n",
       "      <td>NaN</td>\n",
       "      <td>2022-10-03</td>\n",
       "      <td>Anny Gomez de la Cruz</td>\n",
       "      <td>NaN</td>\n",
       "      <td>pachacamac</td>\n",
       "      <td>NaN</td>\n",
       "      <td>productor</td>\n",
       "      <td>...</td>\n",
       "      <td>NaN</td>\n",
       "      <td>NaN</td>\n",
       "      <td>193631251</td>\n",
       "      <td>0618a2ab-7301-4251-b2e3-0b8c8ffbbce0</td>\n",
       "      <td>2022-10-19 23:33:08</td>\n",
       "      <td>NaN</td>\n",
       "      <td>NaN</td>\n",
       "      <td>submitted_via_web</td>\n",
       "      <td>jorgereyna</td>\n",
       "      <td>NaN</td>\n",
       "    </tr>\n",
       "  </tbody>\n",
       "</table>\n",
       "<p>3 rows × 825 columns</p>\n",
       "</div>"
      ],
      "text/plain": [
       "     _index                   start                     end  \\\n",
       "186     187 2022-08-22 10:02:09.332 2022-08-22 10:19:02.548   \n",
       "414     415 2022-08-30 23:42:59.163 2022-08-30 23:43:25.236   \n",
       "884     885 2022-10-19 17:48:15.178 2022-10-29 14:34:46.026   \n",
       "\n",
       "    _1_1_codigo_cuestionario _1_2_fecha_encuesta _1_3_nombre_encuestador  \\\n",
       "186                      NaN          2022-08-16          Julian Ordoñez   \n",
       "414                      NaN                 NaT                     NaN   \n",
       "884                      NaN          2022-10-03   Anny Gomez de la Cruz   \n",
       "\n",
       "    _1_4_1_ciudad _1_4_2_vecindario sector_barrio_huerto  \\\n",
       "186           NaN           solanda                  NaN   \n",
       "414           NaN               NaN                  NaN   \n",
       "884           NaN        pachacamac                  NaN   \n",
       "\n",
       "    _1_5_perfil_entrevistado  ...  \\\n",
       "186               consumidor  ...   \n",
       "414               consumidor  ...   \n",
       "884                productor  ...   \n",
       "\n",
       "    _MAPEO_DE_LA_ZONA_DEL_A_para_llenar_luego_altitude  \\\n",
       "186                                                NaN   \n",
       "414                                                NaN   \n",
       "884                                                NaN   \n",
       "\n",
       "    _MAPEO_DE_LA_ZONA_DEL_A_para_llenar_luego_precision        _id  \\\n",
       "186                                                NaN   177686949   \n",
       "414                                                NaN   180041604   \n",
       "884                                                NaN   193631251   \n",
       "\n",
       "                                    _uuid    _submission_time  \\\n",
       "186  c3e2305c-e339-44bb-8c67-470f8c72684c 2022-08-22 15:18:04   \n",
       "414  94e0b9d7-3cbe-4fa9-8226-25f9e007a9b3 2022-08-31 04:43:37   \n",
       "884  0618a2ab-7301-4251-b2e3-0b8c8ffbbce0 2022-10-19 23:33:08   \n",
       "\n",
       "    _validation_status _notes            _status _submitted_by _tags  \n",
       "186                NaN    NaN  submitted_via_web        funsad   NaN  \n",
       "414                NaN    NaN  submitted_via_web        funsad   NaN  \n",
       "884                NaN    NaN  submitted_via_web    jorgereyna   NaN  \n",
       "\n",
       "[3 rows x 825 columns]"
      ]
     },
     "execution_count": 34,
     "metadata": {},
     "output_type": "execute_result"
    }
   ],
   "source": [
    "df_main[df_main[\"_1_4_1_ciudad\"].isna()]"
   ]
  },
  {
   "cell_type": "code",
   "execution_count": 37,
   "id": "d87ed744-58b8-4dd3-a863-a54820ca6057",
   "metadata": {},
   "outputs": [
    {
     "data": {
      "text/plain": [
       "_1_4_1_ciudad            NaN\n",
       "_1_4_2_vecindario    solanda\n",
       "Name: 186, dtype: object"
      ]
     },
     "execution_count": 37,
     "metadata": {},
     "output_type": "execute_result"
    }
   ],
   "source": [
    "df_main.loc[186, [\"_1_4_1_ciudad\", \"_1_4_2_vecindario\"]]"
   ]
  },
  {
   "cell_type": "code",
   "execution_count": 38,
   "id": "bad3ef83-c7e6-45bd-a307-7d2a240bdce7",
   "metadata": {},
   "outputs": [],
   "source": [
    "df_main.loc[186, \"_1_4_1_ciudad\"] = \"quito\""
   ]
  },
  {
   "cell_type": "code",
   "execution_count": 80,
   "id": "c5cb257f-15a0-4d0a-a6b2-c5fc365455be",
   "metadata": {},
   "outputs": [
    {
     "data": {
      "text/plain": [
       "'quito'"
      ]
     },
     "execution_count": 80,
     "metadata": {},
     "output_type": "execute_result"
    }
   ],
   "source": [
    "df_main.loc[186, \"_1_4_1_ciudad\"]"
   ]
  },
  {
   "cell_type": "code",
   "execution_count": 82,
   "id": "839e63e2-c9f2-4ec4-9482-35f49d916919",
   "metadata": {},
   "outputs": [
    {
     "data": {
      "text/plain": [
       "1"
      ]
     },
     "execution_count": 82,
     "metadata": {},
     "output_type": "execute_result"
    }
   ],
   "source": [
    "df_main[\"_1_4_1_ciudad\"].isna().sum()"
   ]
  },
  {
   "cell_type": "code",
   "execution_count": 49,
   "id": "ad2e09b7-e8c8-488b-815f-6c260f024481",
   "metadata": {},
   "outputs": [
    {
     "data": {
      "text/plain": [
       "(895, 825)"
      ]
     },
     "execution_count": 49,
     "metadata": {},
     "output_type": "execute_result"
    }
   ],
   "source": [
    "df_main.shape"
   ]
  },
  {
   "cell_type": "markdown",
   "id": "b75f27b2-2330-485a-a186-2647b2844ab6",
   "metadata": {},
   "source": [
    "# Variables Productores\n",
    "    a_2019_area_produccion\n",
    "    _1_6_ambito_territorial\n",
    "    _4_1_principal_actividad_econo\n",
    "    ingreso_hogar\n",
    "    _5_Caracteriza_Actividad_Econo\n",
    "    especificas_productores\n",
    "    INVERSION_INGRESOS_PRODUCCION\n",
    "    Porcentaje_Autoconsumo\n",
    "    _6_6_Dificultades_Comerciales\n",
    "    _7_RELACIONES_VENTA_ALIMENTOS\n",
    "    _7_1_Oferta_Alimentos_Produccio\n",
    "    _7_2_produc_dejo_producir_vend\n",
    "    _7_5_canal_venta_productores\n",
    "    _9_2_relaciones_huertos\n",
    "    aplica_biopreparados\n",
    "    _10_3_sufrio_lesiones_golpes\n",
    "    _10_4_sintomas_intoxicacion\n",
    "    _10_7_productor_problemas_paro\n",
    "    problemas_paro\n",
    "    resolucion_problema_paro\n"
   ]
  },
  {
   "cell_type": "markdown",
   "id": "8caa0656-66e5-493a-b4f8-607a067b8489",
   "metadata": {},
   "source": [
    "# Variables Comerciantes\n",
    "    mercado_carabayllo\n",
    "    mercado_pachacamac\n",
    "    contacto_administrador\n",
    "    _3_4_Vive_vecindario\n",
    "    _4_1_principal_actividad_econo\n",
    "    informacion_puesto_comerciante\n",
    "    _5_Caracteriza_Actividad_Econo\n",
    "    especificas_comercianes\n",
    "    INVERSION_INGRESOS_PRODUCCION\n",
    "    CAMBIO_INGRESOS\n",
    "    _6_4_FINANCIA_COSTOS_PUESTO\n",
    "    _6_5_deudas_del_negocio\n",
    "    _6_6_Dificultades_Comerciales\n",
    "    _5_20_participa_organizacion\n",
    "    _7_RELACIONES_VENTA_ALIMENTOS\n",
    "    _7_1_Oferta_Alimentos_Produccio\n",
    "    porcentaje_perdida_semana\n",
    "    _7_2_produc_dejo_producir_vend\n",
    "    VENTA_NUEVOS_ALIMENTOS\n",
    "    _7_4_Actualmente_Usted_utiliza\n",
    "    _7_6_canal_compra_comerciantes\n",
    "    _9_2_brindo_apoyo\n",
    "    _10_2_comerciante_problemas_pa\n",
    "    problemas_paro\n",
    "    resolucion_problema_paro\n"
   ]
  },
  {
   "cell_type": "markdown",
   "id": "897dc22c-cdcb-420e-8039-c60fd1b16824",
   "metadata": {},
   "source": [
    "# Variables consumidor\n",
    "    zona_carabayllo\n",
    "    zona_pachacamac\n",
    "    contacto_dirigente\n",
    "    _3_4_tiempo_vive_hogar\n",
    "    perdio_empleo\n",
    "    ingreso_hogar\n",
    "    participa_organiz_consumidores\n",
    "    _7_RELACIONES_VENTA_ALIMENTOS\n",
    "    _7_patrones_compra_consumidores\n",
    "    _9_2_brindo_apoyo\n",
    "    Patron_Consumo\n",
    "    _10_2_consumidor_problemas_par\n",
    "    problemas_paro\n",
    "    resolucion_problema_paro\n",
    "    direccion_hogar\n"
   ]
  },
  {
   "cell_type": "code",
   "execution_count": 57,
   "id": "7ac4ce98-c477-4065-9f25-dd44bef7e71e",
   "metadata": {},
   "outputs": [
    {
     "data": {
      "text/plain": [
       "0      NaN\n",
       "1       si\n",
       "2      NaN\n",
       "3      NaN\n",
       "4       no\n",
       "      ... \n",
       "890    NaN\n",
       "891    NaN\n",
       "892     no\n",
       "893    NaN\n",
       "894    NaN\n",
       "Name: _2019_perdio_empleo, Length: 895, dtype: object"
      ]
     },
     "execution_count": 57,
     "metadata": {},
     "output_type": "execute_result"
    }
   ],
   "source": [
    "df_main[\"_2019_perdio_empleo\"]"
   ]
  },
  {
   "cell_type": "code",
   "execution_count": 60,
   "id": "e8fbd979-9c79-4750-9c52-05781778aebf",
   "metadata": {},
   "outputs": [
    {
     "data": {
      "text/plain": [
       "814"
      ]
     },
     "execution_count": 60,
     "metadata": {},
     "output_type": "execute_result"
    }
   ],
   "source": [
    "df_main.loc[414].isna().sum()"
   ]
  },
  {
   "cell_type": "code",
   "execution_count": 62,
   "id": "e7d96709-626a-4993-b63a-d3da0b43a819",
   "metadata": {},
   "outputs": [
    {
     "data": {
      "text/plain": [
       "_index                                                       415\n",
       "start                                 2022-08-30 23:42:59.163000\n",
       "end                                   2022-08-30 23:43:25.236000\n",
       "_1_5_perfil_entrevistado                              consumidor\n",
       "__version__                               vwvoSDV79daQYxPddQWKi5\n",
       "_version_                                 vAyg2NNtmiZULqujb5hCGE\n",
       "_id                                                    180041604\n",
       "_uuid                       94e0b9d7-3cbe-4fa9-8226-25f9e007a9b3\n",
       "_submission_time                             2022-08-31 04:43:37\n",
       "_status                                        submitted_via_web\n",
       "_submitted_by                                             funsad\n",
       "Name: 414, dtype: object"
      ]
     },
     "execution_count": 62,
     "metadata": {},
     "output_type": "execute_result"
    }
   ],
   "source": [
    "df_main.loc[414][df_main.loc[414].notna()]"
   ]
  },
  {
   "cell_type": "code",
   "execution_count": 64,
   "id": "b91072e3-2d4c-4d78-89f6-a913b33cb15f",
   "metadata": {},
   "outputs": [],
   "source": [
    "df_main = df_main.drop(414)"
   ]
  },
  {
   "cell_type": "code",
   "execution_count": 90,
   "id": "4b636ab4-0ef9-4616-b8a2-1ce2c53669ae",
   "metadata": {},
   "outputs": [
    {
     "data": {
      "text/html": [
       "<div>\n",
       "<style scoped>\n",
       "    .dataframe tbody tr th:only-of-type {\n",
       "        vertical-align: middle;\n",
       "    }\n",
       "\n",
       "    .dataframe tbody tr th {\n",
       "        vertical-align: top;\n",
       "    }\n",
       "\n",
       "    .dataframe thead th {\n",
       "        text-align: right;\n",
       "    }\n",
       "</style>\n",
       "<table border=\"1\" class=\"dataframe\">\n",
       "  <thead>\n",
       "    <tr style=\"text-align: right;\">\n",
       "      <th></th>\n",
       "      <th>_index</th>\n",
       "      <th>start</th>\n",
       "      <th>end</th>\n",
       "      <th>_1_1_codigo_cuestionario</th>\n",
       "      <th>_1_2_fecha_encuesta</th>\n",
       "      <th>_1_3_nombre_encuestador</th>\n",
       "      <th>_1_4_1_ciudad</th>\n",
       "      <th>_1_4_2_vecindario</th>\n",
       "      <th>sector_barrio_huerto</th>\n",
       "      <th>_1_5_perfil_entrevistado</th>\n",
       "      <th>...</th>\n",
       "      <th>_MAPEO_DE_LA_ZONA_DEL_A_para_llenar_luego_altitude</th>\n",
       "      <th>_MAPEO_DE_LA_ZONA_DEL_A_para_llenar_luego_precision</th>\n",
       "      <th>_id</th>\n",
       "      <th>_uuid</th>\n",
       "      <th>_submission_time</th>\n",
       "      <th>_validation_status</th>\n",
       "      <th>_notes</th>\n",
       "      <th>_status</th>\n",
       "      <th>_submitted_by</th>\n",
       "      <th>_tags</th>\n",
       "    </tr>\n",
       "  </thead>\n",
       "  <tbody>\n",
       "  </tbody>\n",
       "</table>\n",
       "<p>0 rows × 825 columns</p>\n",
       "</div>"
      ],
      "text/plain": [
       "Empty DataFrame\n",
       "Columns: [_index, start, end, _1_1_codigo_cuestionario, _1_2_fecha_encuesta, _1_3_nombre_encuestador, _1_4_1_ciudad, _1_4_2_vecindario, sector_barrio_huerto, _1_5_perfil_entrevistado, zona_carabayllo, otra_zona_carabayllo, zona_pachacamac, otra_zona_pachacamac, mercado_carabayllo, otro_mercado_carabayllo, mercado_pachacamac, otro_mercado_pachacamac, _1_6_ambito_territorial, _1_7_1_provincia_huerto, _1_7_2_canton_huerto, _1_7_3_parroquia_huerto, _2_1_consentimiento_informado, _3_1_Nombre, sexo, edad, aporta_economicamente_hogar, _3_2_Informo_telefono, numero_telefono, contacto_dirigente, contacto_administrador, _3_3_1_Distrito_Canton, _3_3_2_Provincia, _3_3_3_Pais, otro_pais, _3_4_tiempo_vive_hogar, _3_4_Vive_vecindario, _3_6_nivel_estudio, nivel_completo, anos_nivel_incompleto, total_anos_estudio, total_miembros_hogar, num_mujeres_hogar, num_hombres_hogar, num_menores_hogar, num_miembros_aportan_hogar, _4_1_principal_actividad_econo, _4_1_1_indicar_actividad_econo, _2019_perdio_empleo, _2020_perdio_empleo, _2020_tiempo_desempleado, _2020_mes_inicio_desempleado, _2020_mes_fin_desempleado, _2021_perdio_empleo, _2021_tiempo_desempleado, _4_3_ingreso_promedio_hogar, _4_3_1_mercado_cerro_pandemia, tiempo_mercado_cerrado, _4_3_2_puesto_cerrado_pandemia, tiempo_puesto_cerrado, _4_4_1_trabaja_dias_porsemana, _4_4_2_trabaja_horas_pordia, _4_4_3_abastece_horas_porseman, _4_5_unica_persona_puesto, _4_4_participa_organizacion, nombre_organizacion, _4_4_1_tipo_organizacion, _4_4_1_tipo_organizacion/vecinal, _4_4_1_tipo_organizacion/cultural, _4_4_1_tipo_organizacion/religiosa, _4_4_1_tipo_organizacion/deportiva, _4_4_1_tipo_organizacion/ambiental, _4_4_1_tipo_organizacion/de_mujeres, _4_4_1_tipo_organizacion/de_jovenes, _4_4_1_tipo_organizacion/adultos_mayores, _4_4_1_tipo_organizacion/outro_tipo, Indicar_otro_tipo_organizacion, _5_1_propiedad_terreno, Indique_otro_tipo, _5_2_tiempo_dedicacion, Indicar_otro, motivacion_1, motivacion_2, motivacion_3, motivacion_4, motivacion_5, motivacion_6, motivacion_7, motivacion_8, Indicar_otra_motivacion, _5_2_tipo_huerto_predio, Indicar_otro_tipo_gestion, _5_3_uso_anterior, Indicar_otro_uso_anterior, _2019_conoce_area_produccion, _2019_area_producion, _2019_unidad_area, _2020_conoce_area_produccion, _2020_area_produccion_001, _2020_unidad_area, ...]\n",
       "Index: []\n",
       "\n",
       "[0 rows x 825 columns]"
      ]
     },
     "execution_count": 90,
     "metadata": {},
     "output_type": "execute_result"
    }
   ],
   "source": [
    "df_main[df_main[\"_1_4_1_ciudad\"].isna()]"
   ]
  },
  {
   "cell_type": "code",
   "execution_count": 70,
   "id": "67328f36-41bd-47e8-8b31-fa38a68582a5",
   "metadata": {},
   "outputs": [
    {
     "data": {
      "text/plain": [
       "_1_4_1_ciudad               NaN\n",
       "_1_4_2_vecindario    pachacamac\n",
       "Name: 884, dtype: object"
      ]
     },
     "execution_count": 70,
     "metadata": {},
     "output_type": "execute_result"
    }
   ],
   "source": [
    "df_main.loc[884, [\"_1_4_1_ciudad\", \"_1_4_2_vecindario\"]]"
   ]
  },
  {
   "cell_type": "code",
   "execution_count": 89,
   "id": "d2d88c46-0384-47f0-98d8-85d1eb49d9be",
   "metadata": {},
   "outputs": [],
   "source": [
    "df_main.loc[884, \"_1_4_1_ciudad\"] = \"lima\""
   ]
  },
  {
   "cell_type": "code",
   "execution_count": 91,
   "id": "40a1c6f5-e67e-4be7-a774-7993675abe4f",
   "metadata": {},
   "outputs": [
    {
     "data": {
      "text/plain": [
       "array(['quito', 'lima'], dtype=object)"
      ]
     },
     "execution_count": 91,
     "metadata": {},
     "output_type": "execute_result"
    }
   ],
   "source": []
  },
  {
   "cell_type": "code",
   "execution_count": 105,
   "id": "ba48bc6e-5cb1-4bb5-ab3a-79558350d067",
   "metadata": {},
   "outputs": [
    {
     "name": "stdout",
     "output_type": "stream",
     "text": [
      "quito\n",
      "['azuay' 'bolivar' 'canar' 'caracas' 'carchi' 'chimborazo' 'chota'\n",
      " 'comandancia de barinas' 'cotopaxi' 'cuenca' 'ecuador' 'el oro'\n",
      " 'esmeraldas' 'guayaqui' 'guayaquil' 'guayas' 'ibarra' 'imbabura' 'loja'\n",
      " 'los rios' 'manabi' 'manabia' 'manavi' 'morona santiago' 'napo' 'narino'\n",
      " 'orellana' 'pastaza' 'pichicha' 'pichinca' 'pichincha' 'pillaro'\n",
      " 'pueblo viejo' 'quito' 'riobamba' 'ruminahui' 'santa elena'\n",
      " 'santo domingo' 'sto domingo' 'tulcan' 'tumgurahua' 'tunguragua'\n",
      " 'tungurahua']\n",
      "lima\n",
      "['' 'abancay' 'amazonas' 'ancahs' 'ancash' 'andahuaylas' 'angaraes'\n",
      " 'apurimac' 'arequipa' 'asuncion' 'asunsion' 'asunsionchacas' 'ayacucho'\n",
      " 'barranca' 'bolivar' 'cajamarca' 'cajatambo' 'cajatambo  lima' 'callao'\n",
      " 'canchis' 'canete' 'canta' 'carabaya' 'caracas' 'carhuaz' 'celendin'\n",
      " 'cercado de lima' 'cerro de pasco' 'chachapoyas' 'chachapoyas amazonas'\n",
      " 'chancay' 'chanchamayo junin' 'chepen' 'chiclayo' 'chota' 'chulcampa'\n",
      " 'chulucanas' 'chupaca' 'coronel portillo' 'cusco' 'cuzco'\n",
      " 'departamento ancash' 'departamento de ayacucho' 'essen' 'huancavelica'\n",
      " 'huancayo' 'huancayo departamento junin' 'huanta' 'huanuco' 'huaral'\n",
      " 'huaraz' 'huari  ancash' 'huaro' 'huarochiri' 'ica' 'iquitos' 'junin'\n",
      " 'la libertad' 'la mar ayacucho' 'lamas  region san martin' 'lambayeque'\n",
      " 'lampa' 'lima' 'loreto' 'lucana' 'lucanas' 'madre de dios'\n",
      " 'mariscal caceres' 'maynas' 'melgar' 'morropon' 'pachacamac' 'pallasca'\n",
      " 'panao huanuco' 'paruro' 'pasco' 'pataz' 'piura' 'portuguesa'\n",
      " 'provincia ascope  region la libertad' 'puerto cabello' 'puno' 'recuay'\n",
      " 'san marcos' 'san martin' 'sandia' 'santa' 'santa rosa de quives'\n",
      " 'santo domingo' 'santo domingo de olleros' 'tacna' 'tarma'\n",
      " 'tarma departamento junin' 'tocache' 'trujillo' 'yaracuy' 'yungay']\n"
     ]
    }
   ],
   "source": [
    "for ciudad in df_main[\"_1_4_1_ciudad\"].unique():\n",
    "    print(ciudad)\n",
    "    dff = df_main[df_main[\"_1_4_1_ciudad\"] == ciudad]\n",
    "    unique_values = (dff[\"_3_3_2_Provincia\"]\n",
    "        .dropna()\n",
    "        .str.lower()\n",
    "        .str.strip()\n",
    "        .str.normalize('NFKD')\n",
    "        .str.encode('ascii', errors='ignore')\n",
    "        .str.decode('utf-8')\n",
    "        .str.replace('[^a-zA-Z ]', '')\n",
    "        .unique()\n",
    "    )\n",
    "    unique_values.sort()\n",
    "    print(unique_values)"
   ]
  },
  {
   "cell_type": "code",
   "execution_count": null,
   "id": "7f9ee35c-f753-48bb-82c7-af5b080bf4de",
   "metadata": {},
   "outputs": [],
   "source": [
    "# Replace after cleaning _3_3_2_Provincia\n",
    "\n",
    "\n",
    "{ # Ecuador\n",
    " 'guayaqui': 'guayaquil',\n",
    " 'pichicha': 'pichincha',\n",
    " 'pichinca': 'pichincha',\n",
    " 'sto domingo': 'santo domingo',\n",
    " 'tumgurahua': 'tungurahua',\n",
    " 'tunguragua':'tungurahua',\n",
    "  # Peru\n",
    " 'ancash': 'ancahs',\n",
    "    \n",
    "    'asuncion' 'asunsion' 'asunsionchacas'\n",
    "    'cajatambo' 'cajatambo  lima' 'callao'\n",
    " 'canchis' 'canete' 'canta' 'carabaya' 'caracas' 'carhuaz' 'celendin'\n",
    " 'cercado de lima' 'cerro de pasco' \n",
    "    \n",
    "    'ayacucho' 'departamento de ayacucho' \n",
    "    \n",
    "    'chachapoyas' 'chachapoyas amazonas'\n",
    "    'cusco' 'cuzco'\n",
    " 'departamento ancash'  \n",
    "    \n",
    " 'huancayo' 'huancayo departamento junin' \n",
    "    \n",
    "     'huari  ancash'\n",
    "     'junin'\n",
    " 'tarma departamento junin' \n",
    "    \n",
    "     'la mar ayacucho' \n",
    "    'lamas  region san martin' \n",
    "    \n",
    "     'lucana' 'lucanas' \n",
    "    \n",
    " 'provincia ascope  region la libertad' \n",
    "}"
   ]
  },
  {
   "cell_type": "code",
   "execution_count": 28,
   "id": "87beda39-5f00-48d6-aed6-e00e5892509b",
   "metadata": {},
   "outputs": [
    {
     "name": "stdout",
     "output_type": "stream",
     "text": [
      "('lima', 261)\n",
      "('pichincha', 227)\n",
      "('quito', 27)\n",
      "('tungurahua', 18)\n",
      "('cotopaxi', 18)\n",
      "('chimborazo', 15)\n",
      "('piura', 15)\n",
      "('loja', 14)\n",
      "('cajamarca', 10)\n",
      "('ica', 10)\n",
      "('canta', 9)\n",
      "('arequipa', 7)\n",
      "('ancash', 7)\n",
      "('imbabura', 7)\n",
      "('cañete', 7)\n",
      "('bolivar', 7)\n",
      "('huarochiri', 6)\n",
      "('huancayo', 6)\n",
      "('huanuco', 6)\n",
      "('andahuaylas', 5)\n",
      "('callao', 4)\n",
      "('bolívar', 4)\n",
      "('trujillo', 4)\n",
      "('ayacucho', 4)\n",
      "('guayas', 4)\n",
      "('abancay', 4)\n",
      "('puno', 4)\n",
      "('san martin', 3)\n",
      "('pichincha.', 3)\n",
      "('junin', 3)\n",
      "('manabí', 3)\n",
      "('santo domingo', 3)\n",
      "('huancavelica', 3)\n",
      "('cuzco', 3)\n",
      "('pachacamac', 3)\n",
      "('caracas', 3)\n",
      "('carchi', 3)\n",
      "('el oro', 3)\n",
      "('manabí.', 2)\n",
      "('azuay', 2)\n",
      "('carhuaz', 2)\n",
      "('huánuco', 2)\n",
      "('lambayeque', 2)\n",
      "('cerro de pasco', 2)\n",
      "('chota', 2)\n",
      "('junín', 2)\n",
      "('cañar', 2)\n",
      "('santa rosa de quives', 2)\n",
      "('pichinca', 2)\n",
      "('huaraz', 2)\n",
      "('huanta', 2)\n",
      "('lamas - región san martín', 2)\n",
      "('manabi', 2)\n",
      "('amazonas', 2)\n",
      "('los rios', 2)\n",
      "('huari - ancash', 2)\n",
      "('iquitos', 2)\n",
      "('asunsion', 2)\n",
      "('lucanas', 2)\n",
      "('pataz', 1)\n",
      "('puerto cabello', 1)\n",
      "('apurimac', 1)\n",
      "('tulcán', 1)\n",
      "('mariscal caceres', 1)\n",
      "('rumiñahui', 1)\n",
      "('pasco', 1)\n",
      "('morropon', 1)\n",
      "('asuncion', 1)\n",
      "('san marcos', 1)\n",
      "('portuguesa', 1)\n",
      "('madre de dios', 1)\n",
      "('riobamba', 1)\n",
      "('barranca', 1)\n",
      "('chulucanas', 1)\n",
      "('chachapoyas', 1)\n",
      "('nariño', 1)\n",
      "('-', 1)\n",
      "('loreto', 1)\n",
      "('chepen', 1)\n",
      "('lucana', 1)\n",
      "('tunguragua', 1)\n",
      "('celendín', 1)\n",
      "('asunsion-chacas', 1)\n",
      "('tarma', 1)\n",
      "('cusco', 1)\n",
      "('chupaca', 1)\n",
      "('chachapoyas -amazonas', 1)\n",
      "('la mar- ayacucho', 1)\n",
      "('la libertad', 1)\n",
      "('angaraes', 1)\n",
      "('yaracuy', 1)\n",
      "('pillaro', 1)\n",
      "('chulcampa', 1)\n",
      "('cercado de lima', 1)\n",
      "('canchis', 1)\n",
      "('recuay', 1)\n",
      "('maynas', 1)\n",
      "('melgar', 1)\n",
      "('orellana', 1)\n",
      "('chancay', 1)\n",
      "('los ríos', 1)\n",
      "('sandia', 1)\n",
      "('guayaquil', 1)\n",
      "('ibarra', 1)\n",
      "('pueblo viejo', 1)\n",
      "('tarma, departamento junín', 1)\n",
      "('cajatambo - lima', 1)\n",
      "('cuenca', 1)\n",
      "('provincia ascope - región la libertad', 1)\n",
      "('los ríos.', 1)\n",
      "('napo', 1)\n",
      "('coronel portillo', 1)\n",
      "('sto domingo.', 1)\n",
      "('paruro', 1)\n",
      "('huaral', 1)\n",
      "('pallasca', 1)\n",
      "('chiclayo', 1)\n",
      "('comandancia de barinas', 1)\n",
      "('santa elena', 1)\n",
      "('ancahs', 1)\n",
      "('pichicha.', 1)\n",
      "('departamento ancash', 1)\n",
      "('esmeraldas.', 1)\n",
      "('santa', 1)\n",
      "('pastaza', 1)\n",
      "('tacna', 1)\n",
      "('essen', 1)\n",
      "('yungay', 1)\n",
      "('carabaya', 1)\n",
      "('lampa', 1)\n",
      "('panao- huánuco', 1)\n",
      "('huaro', 1)\n",
      "('huancayo, departamento junín', 1)\n",
      "('chanchamayo (junin)', 1)\n",
      "('manavi', 1)\n",
      "('imbabura.', 1)\n",
      "('manabía', 1)\n",
      "('pichicha', 1)\n",
      "('ecuador', 1)\n",
      "('tumgurahua', 1)\n",
      "('morona santiago', 1)\n",
      "('departamento de ayacucho', 1)\n",
      "('cajatambo', 1)\n",
      "('guayaqui', 1)\n",
      "('tocache', 1)\n",
      "('santo domingo de olleros', 1)\n"
     ]
    }
   ],
   "source": [
    "for row in df_main[\"_3_3_2_Provincia\"].str.lower().str.strip().value_counts().items():\n",
    "    print(row)"
   ]
  },
  {
   "cell_type": "code",
   "execution_count": null,
   "id": "2200f1eb-d19a-4795-b2fc-27ab42dc07cd",
   "metadata": {},
   "outputs": [],
   "source": []
  },
  {
   "cell_type": "code",
   "execution_count": null,
   "id": "fee69525-dc64-4cc6-b1b7-c5199c3a7987",
   "metadata": {},
   "outputs": [],
   "source": []
  },
  {
   "cell_type": "code",
   "execution_count": null,
   "id": "51a7fe1d-8437-4be5-bd04-8a05a82df2fa",
   "metadata": {},
   "outputs": [],
   "source": [
    "('lima', 261)\n",
    "('pichincha', 227)\n",
    "('quito', 27)\n",
    "('tungurahua', 18)\n",
    "('cotopaxi', 18)\n",
    "('chimborazo', 15)\n",
    "('piura', 15)\n",
    "('loja', 14)\n",
    "('cajamarca', 10)\n",
    "('ica', 10)\n",
    "('canta', 9)\n",
    "('arequipa', 7)\n",
    "('ancash', 7)\n",
    "('imbabura', 7)\n",
    "('cañete', 7)\n",
    "('bolivar', 7)\n",
    "('huarochiri', 6)\n",
    "('huancayo', 6)\n",
    "('huanuco', 6)\n",
    "('andahuaylas', 5)\n",
    "('callao', 4)\n",
    "('bolívar', 4)\n",
    "('trujillo', 4)\n",
    "('ayacucho', 4)\n",
    "('guayas', 4)\n",
    "('abancay', 4)\n",
    "('puno', 4)\n",
    "('san martin', 3)\n",
    "('pichincha.', 3)\n",
    "('junin', 3)\n",
    "('manabí', 3)\n",
    "('santo domingo', 3)\n",
    "('huancavelica', 3)\n",
    "('cuzco', 3)\n",
    "('pachacamac', 3)\n",
    "('caracas', 3)\n",
    "('carchi', 3)\n",
    "('el oro', 3)\n",
    "('manabí.', 2)\n",
    "('azuay', 2)\n",
    "('carhuaz', 2)\n",
    "('huánuco', 2)\n",
    "('lambayeque', 2)\n",
    "('cerro de pasco', 2)\n",
    "('chota', 2)\n",
    "('junín', 2)\n",
    "('cañar', 2)\n",
    "('santa rosa de quives', 2)\n",
    "('pichinca', 2)\n",
    "('huaraz', 2)\n",
    "('huanta', 2)\n",
    "('lamas - región san martín', 2)\n",
    "('manabi', 2)\n",
    "('amazonas', 2)\n",
    "('los rios', 2)\n",
    "('huari - ancash', 2)\n",
    "('iquitos', 2)\n",
    "('asunsion', 2)\n",
    "('lucanas', 2)\n",
    "('pataz', 1)\n",
    "('puerto cabello', 1)\n",
    "('apurimac', 1)\n",
    "('tulcán', 1)\n",
    "('mariscal caceres', 1)\n",
    "('rumiñahui', 1)\n",
    "('pasco', 1)\n",
    "('morropon', 1)\n",
    "('asuncion', 1)\n",
    "('san marcos', 1)\n",
    "('portuguesa', 1)\n",
    "('madre de dios', 1)\n",
    "('riobamba', 1)\n",
    "('barranca', 1)\n",
    "('chulucanas', 1)\n",
    "('chachapoyas', 1)\n",
    "('nariño', 1)\n",
    "('-', 1)\n",
    "('loreto', 1)\n",
    "('chepen', 1)\n",
    "('lucana', 1)\n",
    "('tunguragua', 1)\n",
    "('celendín', 1)\n",
    "('asunsion-chacas', 1)\n",
    "('tarma', 1)\n",
    "('cusco', 1)\n",
    "('chupaca', 1)\n",
    "('chachapoyas -amazonas', 1)\n",
    "('la mar- ayacucho', 1)\n",
    "('la libertad', 1)\n",
    "('angaraes', 1)\n",
    "('yaracuy', 1)\n",
    "('pillaro', 1)\n",
    "('chulcampa', 1)\n",
    "('cercado de lima', 1)\n",
    "('canchis', 1)\n",
    "('recuay', 1)\n",
    "('maynas', 1)\n",
    "('melgar', 1)\n",
    "('orellana', 1)\n",
    "('chancay', 1)\n",
    "('los ríos', 1)\n",
    "('sandia', 1)\n",
    "('guayaquil', 1)\n",
    "('ibarra', 1)\n",
    "('pueblo viejo', 1)\n",
    "('tarma, departamento junín', 1)\n",
    "('cajatambo - lima', 1)\n",
    "('cuenca', 1)\n",
    "('provincia ascope - región la libertad', 1)\n",
    "('los ríos.', 1)\n",
    "('napo', 1)\n",
    "('coronel portillo', 1)\n",
    "('sto domingo.', 1)\n",
    "('paruro', 1)\n",
    "('huaral', 1)\n",
    "('pallasca', 1)\n",
    "('chiclayo', 1)\n",
    "('comandancia de barinas', 1)\n",
    "('santa elena', 1)\n",
    "('ancahs', 1)\n",
    "('pichicha.', 1)\n",
    "('departamento ancash', 1)\n",
    "('esmeraldas.', 1)\n",
    "('santa', 1)\n",
    "('pastaza', 1)\n",
    "('tacna', 1)\n",
    "('essen', 1)\n",
    "('yungay', 1)\n",
    "('carabaya', 1)\n",
    "('lampa', 1)\n",
    "('panao- huánuco', 1)\n",
    "('huaro', 1)\n",
    "('huancayo, departamento junín', 1)\n",
    "('chanchamayo (junin)', 1)\n",
    "('manavi', 1)\n",
    "('imbabura.', 1)\n",
    "('manabía', 1)\n",
    "('pichicha', 1)\n",
    "('ecuador', 1)\n",
    "('tumgurahua', 1)\n",
    "('morona santiago', 1)\n",
    "('departamento de ayacucho', 1)\n",
    "('cajatambo', 1)\n",
    "('guayaqui', 1)\n",
    "('tocache', 1)\n",
    "('santo domingo de olleros', 1)"
   ]
  },
  {
   "cell_type": "code",
   "execution_count": 23,
   "id": "9a08d7b0-5702-40d8-99b6-5a0a65c183ff",
   "metadata": {},
   "outputs": [
    {
     "data": {
      "text/plain": [
       "Quito                       212\n",
       "Pachacamac                   48\n",
       "Carabayllo                   39\n",
       "Pichincha                    27\n",
       "LIMA                         21\n",
       "                           ... \n",
       "PACHAMAC                      1\n",
       "Quitó                         1\n",
       "Huancane                      1\n",
       "San Simón                     1\n",
       "Nuevo Progreso - Tocache      1\n",
       "Name: _3_3_1_Distrito_Canton, Length: 299, dtype: int64"
      ]
     },
     "execution_count": 23,
     "metadata": {},
     "output_type": "execute_result"
    }
   ],
   "source": [
    "df_main[\"_3_3_1_Distrito_Canton\"].value_counts()"
   ]
  },
  {
   "cell_type": "code",
   "execution_count": 19,
   "id": "20d13cb8-93a0-433f-b3fd-9a977f8011aa",
   "metadata": {},
   "outputs": [
    {
     "data": {
      "text/plain": [
       "0                         Quito\n",
       "1                         Quito\n",
       "2                         Quito\n",
       "3                         Quito\n",
       "4                         Quito\n",
       "                 ...           \n",
       "890               Perdo Moncayo\n",
       "891                     Píllaro\n",
       "892    Nuevo Progreso - Tocache\n",
       "893                 Jesús Maria\n",
       "894                     Olleros\n",
       "Name: _3_3_1_Distrito_Canton, Length: 895, dtype: object"
      ]
     },
     "execution_count": 19,
     "metadata": {},
     "output_type": "execute_result"
    }
   ],
   "source": []
  },
  {
   "cell_type": "code",
   "execution_count": null,
   "id": "db80d142-3253-4eb9-981c-257f6d1a21e2",
   "metadata": {},
   "outputs": [],
   "source": []
  }
 ],
 "metadata": {
  "kernelspec": {
   "display_name": "Python 3 (ipykernel)",
   "language": "python",
   "name": "python3"
  },
  "language_info": {
   "codemirror_mode": {
    "name": "ipython",
    "version": 3
   },
   "file_extension": ".py",
   "mimetype": "text/x-python",
   "name": "python",
   "nbconvert_exporter": "python",
   "pygments_lexer": "ipython3",
   "version": "3.10.9"
  }
 },
 "nbformat": 4,
 "nbformat_minor": 5
}
