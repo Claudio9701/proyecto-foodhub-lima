{
 "cells": [
  {
   "attachments": {},
   "cell_type": "markdown",
   "id": "860e821e-7c21-49fc-b339-588b7507e014",
   "metadata": {},
   "source": [
    "# Limpieza de datos\n",
    "\n",
    "**Principal inconveniente:** Los codigos del proyecto anterior actualmente no se pueden utilizar para esta encuesta. Se deben realizar un codigo adaptado el formato de la nueva encuesta.\n",
    "\n",
    "## Tareas de limpieza:\n",
    "\n",
    "### Para cada tabla por separado\n",
    "\n",
    "1. Revisar tipo de pregunta (opcion unica o multiple) \n",
    "1. Revisar si la pregunta tiene opcion de \"otro\" / detalle\n",
    "1. Si es opcion multiple considerar las columnas adicionales \n",
    "1. Revisar si la pregunta tiene un criterio de relevancia\n",
    "1. Si tiene criterio de relevancia colocar \"No valido\" donde corresponda (Reducir valores perdidos).\n",
    "1. Revisar categorias una por una y limpiar las respuestas posibles por ejemplo: \"papa\", \"Papa\", --> \"Papa\" \n",
    "\n",
    "### Especificamente para tablas secundarias \n",
    "\n",
    "- Agrupar las preguntas de las tablas secundarias en columnas para la tabla principial (segun lo coordinado con Renata).\n",
    "- Agregar \"filas\" secundaria como nuevas columnas (pregunta_A_1, pregunta_A_2, ...) para cada observacion de la tabla principal \n",
    "\n",
    "### Extra\n",
    "\n",
    "- Ahora si con los datos limpios se pueden realizar los reportes preliminares para compartir con el equipo de investigacion. \n",
    "\n",
    "### Tiempo estimado: \n",
    "\n",
    "- 14 (1/13) tablas a 2 o 3 tablas/dia = 7 o 5 dias"
   ]
  },
  {
   "cell_type": "code",
   "execution_count": null,
   "id": "f2af4cb6-db58-4d7f-9a70-1d585ec4028d",
   "metadata": {},
   "outputs": [],
   "source": [
    "import warnings\n",
    "\n",
    "warnings.filterwarnings(\"ignore\")"
   ]
  },
  {
   "cell_type": "code",
   "execution_count": null,
   "id": "886c893d-2bd9-4170-8255-01ebee5edba0",
   "metadata": {},
   "outputs": [],
   "source": [
    "import pandas as pd\n",
    "import numpy as np\n",
    "import matplotlib.pyplot as plt\n",
    "import seaborn as sns\n",
    "import os\n",
    "from tqdm.notebook import tqdm\n",
    "from pandas_profiling import ProfileReport"
   ]
  },
  {
   "cell_type": "code",
   "execution_count": null,
   "id": "85f67fb8-e8c3-4ddc-a1c7-92a40cb0b11c",
   "metadata": {},
   "outputs": [],
   "source": [
    "%matplotlib inline"
   ]
  },
  {
   "cell_type": "code",
   "execution_count": null,
   "id": "3f649af0-9d32-4506-96bd-d42132fc149f",
   "metadata": {},
   "outputs": [],
   "source": [
    "tqdm.pandas()"
   ]
  },
  {
   "attachments": {},
   "cell_type": "markdown",
   "id": "d33eb4ce-27b4-465d-abcc-1d11857c3132",
   "metadata": {},
   "source": [
    "## Read Data"
   ]
  },
  {
   "cell_type": "code",
   "execution_count": null,
   "id": "fed1b596-aa5b-4a7f-ad36-363112a92b1e",
   "metadata": {},
   "outputs": [],
   "source": [
    "DATA_FP = \"inputs/encuesta_principal/Vecindarios_Alimentarios_Encuesta_Integrada_2022_11_23.xlsx\""
   ]
  },
  {
   "cell_type": "code",
   "execution_count": null,
   "id": "af0058d2-b225-4f46-be5f-516e6cf70ea8",
   "metadata": {},
   "outputs": [],
   "source": [
    "df_main = pd.read_excel(DATA_FP, sheet_name=0)  # Main sheet\n",
    "df_comp_hogar = pd.read_excel(DATA_FP, sheet_name=\"composicion_hogar\")\n",
    "df_med_control_plagas = pd.read_excel(\n",
    "    DATA_FP, sheet_name=\"_5_18_medidas_control_plagas\"\n",
    ")\n",
    "df_prod_control_plagas = pd.read_excel(\n",
    "    DATA_FP, sheet_name=\"_5_19_productos_control_plagas\"\n",
    ")\n",
    "df_control_maleza = pd.read_excel(DATA_FP, sheet_name=\"_5_20_control_malezas\")\n",
    "df_oferta_alim_prod = pd.read_excel(\n",
    "    DATA_FP, sheet_name=\"_7_1_Oferta_Alimentos_Produccio\"\n",
    ")\n",
    "df_productor_dejo_prod_vend = pd.read_excel(\n",
    "    DATA_FP, sheet_name=\"_7_2_produc_dejo_producir_vend\"\n",
    ")\n",
    "df_productos_vende_canal = pd.read_excel(DATA_FP, sheet_name=\"Productos_Vende_Canal\")\n",
    "df_productos_compra_canal = pd.read_excel(DATA_FP, sheet_name=\"Productos_Compra_Canal\")\n",
    "df_canales_venta_productores = pd.read_excel(\n",
    "    DATA_FP, sheet_name=\"canales_venta_productores\"\n",
    ")\n",
    "df_aplic_bioprep = pd.read_excel(DATA_FP, sheet_name=\"aplicacion_biopreparados\")\n",
    "df_per_trab_puesto_venta = pd.read_excel(\n",
    "    DATA_FP, sheet_name=\"personas_trabajan_puesto_venta\"\n",
    ")\n",
    "df_canales_compra_comerciantes = pd.read_excel(\n",
    "    DATA_FP, sheet_name=\"canales_compra_comerciantes\"\n",
    ")\n",
    "df_huerto_rel = pd.read_excel(DATA_FP, sheet_name=\"HUERTO_RELACIONES\")"
   ]
  },
  {
   "cell_type": "code",
   "execution_count": null,
   "id": "32eb755f-9c70-4c6f-8c63-1754a98569ae",
   "metadata": {},
   "outputs": [],
   "source": [
    "DATA_APOYO_FP = \"inputs/encuesta_principal/Datos_Apoyos_Cat_Vec_Alim_2022_12_04.xlsx\""
   ]
  },
  {
   "cell_type": "code",
   "execution_count": null,
   "id": "d535983c-ca5d-4a78-9f4b-2e1282e39aeb",
   "metadata": {},
   "outputs": [],
   "source": [
    "df_apoyo_recibido = pd.read_excel(DATA_APOYO_FP, sheet_name=\"APOYO RECIBIDO\")\n",
    "df_apoyo_brindado = pd.read_excel(DATA_APOYO_FP, sheet_name=\"APOYO BRINDADO\")"
   ]
  },
  {
   "cell_type": "code",
   "execution_count": null,
   "id": "40f14150-c2fa-44b6-be12-29a59a807615",
   "metadata": {},
   "outputs": [],
   "source": [
    "dfs = {\n",
    "    \"Principal\": df_main,\n",
    "    \"composicion_hogar\": df_comp_hogar,\n",
    "    \"_5_18_medidas_control_plagas\": df_med_control_plagas,\n",
    "    \"_5_19_productos_control_plagas\": df_prod_control_plagas,\n",
    "    \"_5_20_control_malezas\": df_control_maleza,\n",
    "    \"_7_1_Oferta_Alimentos_Produccio\": df_oferta_alim_prod,\n",
    "    \"_7_2_produc_dejo_producir_vend\": df_productor_dejo_prod_vend,\n",
    "    \"Productos_Vende_Canal\": df_productos_vende_canal,\n",
    "    \"canales_venta_productores\": df_canales_venta_productores,\n",
    "    \"aplicacion_biopreparados\": df_aplic_bioprep,\n",
    "    \"personas_trabajan_puesto_venta\": df_per_trab_puesto_venta,\n",
    "    \"canales_compra_comerciantes\": df_canales_compra_comerciantes,\n",
    "    \"Productos_Compra_Canal\": df_productos_compra_canal,\n",
    "    \"APOYO RECIBIDO\": df_apoyo_recibido,\n",
    "    \"APOYO BRINDADO\": df_apoyo_brindado,\n",
    "    \"HUERTO_RELACIONES\": df_huerto_rel,\n",
    "}"
   ]
  },
  {
   "attachments": {},
   "cell_type": "markdown",
   "id": "4cbc55f8-bcf4-4774-af07-57bcc568ea31",
   "metadata": {},
   "source": [
    "## Generacion de reportes de la tabla principal\n",
    "\n",
    "Los reportes seran divididos por Ciudad / Vecindario / Perfil y Perfil"
   ]
  },
  {
   "cell_type": "code",
   "execution_count": null,
   "id": "3a0013b6-5da3-40a1-a796-e0d28c74b1f9",
   "metadata": {},
   "outputs": [],
   "source": [
    "for col in [\"_1_4_1_ciudad\", \"_1_4_2_vecindario\", \"_1_5_perfil_entrevistado\"]:\n",
    "    print(f\"Valores unicos de {col}\")\n",
    "    print(df_main[col].value_counts())\n",
    "    print(\"-\" * 30)"
   ]
  },
  {
   "attachments": {},
   "cell_type": "markdown",
   "id": "d8df3c51-5cae-4fc4-94af-ed7e0e23c2fa",
   "metadata": {},
   "source": [
    "## Datos Generales del Cuestionario"
   ]
  },
  {
   "cell_type": "code",
   "execution_count": null,
   "id": "bf1f9ced-59fe-4c52-b59c-d191002a8ccc",
   "metadata": {},
   "outputs": [],
   "source": [
    "df_main.columns[5:]"
   ]
  },
  {
   "cell_type": "code",
   "execution_count": null,
   "id": "0216bc6c-6ebd-4fe2-a12b-9a2806c6f51c",
   "metadata": {},
   "outputs": [],
   "source": [
    "df_main[\n",
    "    [\n",
    "        \"zona_carabayllo\",\n",
    "        \"otra_zona_carabayllo\",\n",
    "        \"zona_pachacamac\",\n",
    "        \"otra_zona_pachacamac\",\n",
    "        \"mercado_carabayllo\",\n",
    "    ]\n",
    "].isna().sum()"
   ]
  },
  {
   "cell_type": "code",
   "execution_count": null,
   "id": "5d0a4e73-ef59-4958-b981-fc004a0f055b",
   "metadata": {},
   "outputs": [],
   "source": [
    "df_main.columns[:40]"
   ]
  },
  {
   "cell_type": "code",
   "execution_count": null,
   "id": "3132c407-3baa-4136-a211-b50ad13d961b",
   "metadata": {},
   "outputs": [],
   "source": [
    "df_main[[\"zona_carabayllo\", \"otra_zona_carabayllo\"]].dropna(how=\"all\").isna().sum()"
   ]
  },
  {
   "cell_type": "code",
   "execution_count": null,
   "id": "a2ff3d5f-b3d3-4053-86e6-152b355409ec",
   "metadata": {},
   "outputs": [],
   "source": [
    "df_main[\"_1_4_2_vecindario\"].value_counts()[\"carabayllo\"]"
   ]
  },
  {
   "cell_type": "code",
   "execution_count": null,
   "id": "492db8ed-623a-42df-bf1d-d54d4683e18a",
   "metadata": {},
   "outputs": [],
   "source": [
    "df_main[\"zona_carabayllo\"].value_counts()"
   ]
  },
  {
   "cell_type": "code",
   "execution_count": null,
   "id": "33c806cf-77e7-478b-a22f-0d23f979e489",
   "metadata": {},
   "outputs": [],
   "source": [
    "df_main[\"otra_zona_carabayllo\"].value_counts()"
   ]
  },
  {
   "cell_type": "code",
   "execution_count": null,
   "id": "8a0c3f05-7484-43cc-9e5a-bf6ac3ebc7fa",
   "metadata": {},
   "outputs": [],
   "source": [
    "df_main[\"otra_zona_carabayllo\"].value_counts().sum()"
   ]
  },
  {
   "cell_type": "code",
   "execution_count": null,
   "id": "c3a3a411-b549-47ed-8d3a-c440cc9f758c",
   "metadata": {},
   "outputs": [],
   "source": [
    "df_main[[\"mercado_carabayllo\", \"otro_mercado_carabayllo\"]].dropna(\n",
    "    how=\"all\"\n",
    ").isna().sum()"
   ]
  },
  {
   "cell_type": "code",
   "execution_count": null,
   "id": "279a4fbf-81e4-4969-85be-5d614638e2c3",
   "metadata": {},
   "outputs": [],
   "source": [
    "df_main[\"mercado_carabayllo\"].value_counts()"
   ]
  },
  {
   "cell_type": "code",
   "execution_count": null,
   "id": "dc5706fc-57ad-45eb-9977-cb5a974cbb54",
   "metadata": {},
   "outputs": [],
   "source": [
    "\"_1_1_codigo_cuestionario\",\n",
    "\n",
    "\"_1_2_fecha_encuesta\",\n",
    "\n",
    "\"_1_3_nombre_encuestador\",\n",
    "\n",
    "\n",
    "\"_1_4_1_ciudad\", \"_1_4_2_vecindario\", \"sector_barrio_huerto\",\n",
    "\"_1_5_perfil_entrevistado\",\n",
    "\n",
    "\n",
    "\"zona_carabayllo\", \"otra_zona_carabayllo\",\n",
    "\"mercado_carabayllo\", \"otro_mercado_carabayllo\",\n",
    "\n",
    "\"zona_pachacamac\", \"otra_zona_pachacamac\",\n",
    "\"mercado_pachacamac\", \"otro_mercado_pachacamac\",\n",
    "\n",
    "\n",
    "\"_1_6_ambito_territorial\", \"_1_7_1_provincia_huerto\"\n",
    "\"_1_7_2_canton_huerto\", \"_1_7_3_parroquia_huerto\",\n",
    "\n",
    "\n",
    "\"_2_1_consentimiento_informado\",\n",
    "\"_3_1_Nombre\", \"sexo\", \"edad\",\n",
    "\"aporta_economicamente_hogar\", \"_3_2_Informo_telefono\",\n",
    "\"numero_telefono\", \"contacto_dirigente\", \"contacto_administrador\",\n",
    "\"_3_3_1_Distrito_Canton\", \"_3_3_2_Provincia\", \"_3_3_3_Pais\",\n",
    "\"otro_pais\", \"_3_4_tiempo_vive_hogar\", \"_3_4_Vive_vecindario\",\n",
    "\"_3_6_nivel_estudio\", \"nivel_completo\", \"anos_nivel_incompleto\""
   ]
  },
  {
   "attachments": {},
   "cell_type": "markdown",
   "id": "894ea32a-2285-42c5-bd87-ab52261227b5",
   "metadata": {},
   "source": [
    "sexo\tedad\taporta_economicamente_hogar\n",
    "num_hombres_hogar\tnum_menores_hogar\tnum_miembros_aportan_hogar\n"
   ]
  },
  {
   "cell_type": "code",
   "execution_count": null,
   "id": "a8794962-9eb7-41d4-a203-7049398d5c19",
   "metadata": {},
   "outputs": [],
   "source": [
    "df_main.head()"
   ]
  },
  {
   "attachments": {},
   "cell_type": "markdown",
   "id": "ec79ed6d-7fdb-4371-845a-4053af6a43fd",
   "metadata": {},
   "source": [
    "## Caracterizacion del encuestado"
   ]
  },
  {
   "cell_type": "code",
   "execution_count": null,
   "id": "efd068af-1080-4f1b-9816-866e3101763b",
   "metadata": {},
   "outputs": [],
   "source": [
    "df_main[\"_3_2_Informo_telefono\"].value_counts()"
   ]
  },
  {
   "attachments": {},
   "cell_type": "markdown",
   "id": "f4ca3b2f-d283-4d02-80a0-98f666732f16",
   "metadata": {},
   "source": [
    "### 3.3 Lugar de nacimiento"
   ]
  },
  {
   "cell_type": "code",
   "execution_count": null,
   "id": "aab8d53e-633a-415e-ac89-b567085f990b",
   "metadata": {},
   "outputs": [],
   "source": [
    "df_main[\"_3_3_3_Pais\"].value_counts()"
   ]
  },
  {
   "cell_type": "code",
   "execution_count": null,
   "id": "46cdc028-1efc-4196-a2b3-e521b2297d65",
   "metadata": {},
   "outputs": [],
   "source": [
    "df_main[\"_3_3_2_Provincia\"].value_counts()"
   ]
  },
  {
   "cell_type": "code",
   "execution_count": null,
   "id": "e477c21d-d14f-47a8-ab55-0f57bf3ea985",
   "metadata": {},
   "outputs": [],
   "source": [
    "df_main[\"_1_4_1_ciudad\"].value_counts().sum()"
   ]
  },
  {
   "cell_type": "code",
   "execution_count": null,
   "id": "07f9785e-7326-482a-91fe-e747d632c591",
   "metadata": {},
   "outputs": [],
   "source": [
    "df_main[df_main[\"_1_4_1_ciudad\"].isna()]"
   ]
  },
  {
   "cell_type": "code",
   "execution_count": null,
   "id": "d87ed744-58b8-4dd3-a863-a54820ca6057",
   "metadata": {},
   "outputs": [],
   "source": [
    "df_main.loc[186, [\"_1_4_1_ciudad\", \"_1_4_2_vecindario\"]]"
   ]
  },
  {
   "cell_type": "code",
   "execution_count": null,
   "id": "bad3ef83-c7e6-45bd-a307-7d2a240bdce7",
   "metadata": {},
   "outputs": [],
   "source": [
    "df_main.loc[186, \"_1_4_1_ciudad\"] = \"quito\""
   ]
  },
  {
   "cell_type": "code",
   "execution_count": null,
   "id": "c5cb257f-15a0-4d0a-a6b2-c5fc365455be",
   "metadata": {},
   "outputs": [],
   "source": [
    "df_main.loc[186, \"_1_4_1_ciudad\"]"
   ]
  },
  {
   "cell_type": "code",
   "execution_count": null,
   "id": "839e63e2-c9f2-4ec4-9482-35f49d916919",
   "metadata": {},
   "outputs": [],
   "source": [
    "df_main[\"_1_4_1_ciudad\"].isna().sum()"
   ]
  },
  {
   "cell_type": "code",
   "execution_count": null,
   "id": "ad2e09b7-e8c8-488b-815f-6c260f024481",
   "metadata": {},
   "outputs": [],
   "source": [
    "df_main.shape"
   ]
  },
  {
   "attachments": {},
   "cell_type": "markdown",
   "id": "b75f27b2-2330-485a-a186-2647b2844ab6",
   "metadata": {},
   "source": [
    "# Variables Productores\n",
    "    a_2019_area_produccion\n",
    "    _1_6_ambito_territorial\n",
    "    _4_1_principal_actividad_econo\n",
    "    ingreso_hogar\n",
    "    _5_Caracteriza_Actividad_Econo\n",
    "    especificas_productores\n",
    "    INVERSION_INGRESOS_PRODUCCION\n",
    "    Porcentaje_Autoconsumo\n",
    "    _6_6_Dificultades_Comerciales\n",
    "    _7_RELACIONES_VENTA_ALIMENTOS\n",
    "    _7_1_Oferta_Alimentos_Produccio\n",
    "    _7_2_produc_dejo_producir_vend\n",
    "    _7_5_canal_venta_productores\n",
    "    _9_2_relaciones_huertos\n",
    "    aplica_biopreparados\n",
    "    _10_3_sufrio_lesiones_golpes\n",
    "    _10_4_sintomas_intoxicacion\n",
    "    _10_7_productor_problemas_paro\n",
    "    problemas_paro\n",
    "    resolucion_problema_paro\n"
   ]
  },
  {
   "attachments": {},
   "cell_type": "markdown",
   "id": "8caa0656-66e5-493a-b4f8-607a067b8489",
   "metadata": {},
   "source": [
    "# Variables Comerciantes\n",
    "    mercado_carabayllo\n",
    "    mercado_pachacamac\n",
    "    contacto_administrador\n",
    "    _3_4_Vive_vecindario\n",
    "    _4_1_principal_actividad_econo\n",
    "    informacion_puesto_comerciante\n",
    "    _5_Caracteriza_Actividad_Econo\n",
    "    especificas_comercianes\n",
    "    INVERSION_INGRESOS_PRODUCCION\n",
    "    CAMBIO_INGRESOS\n",
    "    _6_4_FINANCIA_COSTOS_PUESTO\n",
    "    _6_5_deudas_del_negocio\n",
    "    _6_6_Dificultades_Comerciales\n",
    "    _5_20_participa_organizacion\n",
    "    _7_RELACIONES_VENTA_ALIMENTOS\n",
    "    _7_1_Oferta_Alimentos_Produccio\n",
    "    porcentaje_perdida_semana\n",
    "    _7_2_produc_dejo_producir_vend\n",
    "    VENTA_NUEVOS_ALIMENTOS\n",
    "    _7_4_Actualmente_Usted_utiliza\n",
    "    _7_6_canal_compra_comerciantes\n",
    "    _9_2_brindo_apoyo\n",
    "    _10_2_comerciante_problemas_pa\n",
    "    problemas_paro\n",
    "    resolucion_problema_paro\n"
   ]
  },
  {
   "attachments": {},
   "cell_type": "markdown",
   "id": "897dc22c-cdcb-420e-8039-c60fd1b16824",
   "metadata": {},
   "source": [
    "# Variables consumidor\n",
    "    zona_carabayllo\n",
    "    zona_pachacamac\n",
    "    contacto_dirigente\n",
    "    _3_4_tiempo_vive_hogar\n",
    "    perdio_empleo\n",
    "    ingreso_hogar\n",
    "    participa_organiz_consumidores\n",
    "    _7_RELACIONES_VENTA_ALIMENTOS\n",
    "    _7_patrones_compra_consumidores\n",
    "    _9_2_brindo_apoyo\n",
    "    Patron_Consumo\n",
    "    _10_2_consumidor_problemas_par\n",
    "    problemas_paro\n",
    "    resolucion_problema_paro\n",
    "    direccion_hogar\n",
    "\n"
   ]
  },
  {
   "cell_type": "code",
   "execution_count": null,
   "id": "e8fbd979-9c79-4750-9c52-05781778aebf",
   "metadata": {},
   "outputs": [],
   "source": [
    "df_main.loc[414].isna().sum()"
   ]
  },
  {
   "cell_type": "code",
   "execution_count": null,
   "id": "e7d96709-626a-4993-b63a-d3da0b43a819",
   "metadata": {},
   "outputs": [],
   "source": [
    "df_main.loc[414][df_main.loc[414].notna()]"
   ]
  },
  {
   "cell_type": "code",
   "execution_count": null,
   "id": "b91072e3-2d4c-4d78-89f6-a913b33cb15f",
   "metadata": {},
   "outputs": [],
   "source": [
    "df_main = df_main.drop(414)"
   ]
  },
  {
   "cell_type": "code",
   "execution_count": null,
   "id": "4b636ab4-0ef9-4616-b8a2-1ce2c53669ae",
   "metadata": {},
   "outputs": [],
   "source": [
    "df_main[df_main[\"_1_4_1_ciudad\"].isna()]"
   ]
  },
  {
   "cell_type": "code",
   "execution_count": null,
   "id": "67328f36-41bd-47e8-8b31-fa38a68582a5",
   "metadata": {},
   "outputs": [],
   "source": [
    "df_main.loc[884, [\"_1_4_1_ciudad\", \"_1_4_2_vecindario\"]]"
   ]
  },
  {
   "cell_type": "code",
   "execution_count": null,
   "id": "d2d88c46-0384-47f0-98d8-85d1eb49d9be",
   "metadata": {},
   "outputs": [],
   "source": [
    "df_main.loc[884, \"_1_4_1_ciudad\"] = \"lima\""
   ]
  },
  {
   "cell_type": "code",
   "execution_count": null,
   "id": "ba48bc6e-5cb1-4bb5-ab3a-79558350d067",
   "metadata": {},
   "outputs": [],
   "source": [
    "for ciudad in df_main[\"_1_4_1_ciudad\"].unique():\n",
    "    print(ciudad)\n",
    "    dff = df_main[df_main[\"_1_4_1_ciudad\"] == ciudad]\n",
    "    unique_values = (\n",
    "        dff[\"_3_3_2_Provincia\"]\n",
    "        .dropna()\n",
    "        .str.lower()\n",
    "        .str.strip()\n",
    "        .str.normalize(\"NFKD\")\n",
    "        .str.encode(\"ascii\", errors=\"ignore\")\n",
    "        .str.decode(\"utf-8\")\n",
    "        .str.replace(\"[^a-zA-Z ]\", \"\")\n",
    "        .unique()\n",
    "    )\n",
    "    unique_values.sort()\n",
    "    print(unique_values)"
   ]
  },
  {
   "cell_type": "code",
   "execution_count": null,
   "id": "7f9ee35c-f753-48bb-82c7-af5b080bf4de",
   "metadata": {},
   "outputs": [],
   "source": [
    "# Replace after cleaning _3_3_2_Provincia\n",
    "\n",
    "\n",
    "{  # Ecuador\n",
    "    \"guayaqui\": \"guayaquil\",\n",
    "    \"pichicha\": \"pichincha\",\n",
    "    \"pichinca\": \"pichincha\",\n",
    "    \"sto domingo\": \"santo domingo\",\n",
    "    \"tumgurahua\": \"tungurahua\",\n",
    "    \"tunguragua\": \"tungurahua\",\n",
    "    # Peru\n",
    "    \"ancash\": \"ancahs\",\n",
    "    #     'asuncion' 'asunsion' 'asunsionchacas'\n",
    "    #     'cajatambo' 'cajatambo  lima' 'callao'\n",
    "    #  'canchis' 'canete' 'canta' 'carabaya' 'caracas' 'carhuaz' 'celendin'\n",
    "    #  'cercado de lima' 'cerro de pasco'\n",
    "    #     'ayacucho' 'departamento de ayacucho'\n",
    "    #     'chachapoyas' 'chachapoyas amazonas'\n",
    "    #     'cusco' 'cuzco'\n",
    "    #  'departamento ancash'\n",
    "    #  'huancayo' 'huancayo departamento junin'\n",
    "    #      'huari  ancash'\n",
    "    #      'junin'\n",
    "    #  'tarma departamento junin'\n",
    "    #      'la mar ayacucho'\n",
    "    #     'lamas  region san martin'\n",
    "    #      'lucana' 'lucanas'\n",
    "    #  'provincia ascope  region la libertad'\n",
    "}"
   ]
  },
  {
   "cell_type": "code",
   "execution_count": null,
   "id": "87beda39-5f00-48d6-aed6-e00e5892509b",
   "metadata": {},
   "outputs": [],
   "source": [
    "for row in df_main[\"_3_3_2_Provincia\"].str.lower().str.strip().value_counts().items():\n",
    "    print(row)"
   ]
  },
  {
   "cell_type": "code",
   "execution_count": null,
   "id": "2200f1eb-d19a-4795-b2fc-27ab42dc07cd",
   "metadata": {},
   "outputs": [],
   "source": [
    "all_profiles_cols = [\n",
    "    \"_1_1_codigo_cuestionario\",\n",
    "    \"_1_2_fecha_encuesta\",\n",
    "    \"_1_3_nombre_encuestador\",\n",
    "    \"_1_4_1_ciudad\",\n",
    "    \"_1_4_2_vecindario\",\n",
    "    \"sector_barrio_huerto\",\n",
    "    \"_1_5_perfil_entrevistado\",\n",
    "    \"_2_1_consentimiento_informado\",\n",
    "    \"_3_1_Nombre\",\n",
    "    \"_3_2_Informo_telefono\",\n",
    "    \"numero_telefono\",\n",
    "    \"_3_3_1_Distrito_Canton _3_3_2_Provincia _3_3_3_Pais otro_pais\",\n",
    "    \"_3_6_nivel_estudio\",\n",
    "    \"nivel_completo\",\n",
    "    \"anos_nivel_incompleto\",\n",
    "    \"total_anos_estudio\",\n",
    "    \"total_miembros_hogar\",\n",
    "    \"miembro_parentesco\",\n",
    "    \"otro_pariente\",\n",
    "    \"otro_NO_pariente\",\n",
    "    \"sexo\",\n",
    "    \"edad_miembro\",\n",
    "    \"miembros_aporta_economicamente\",\n",
    "    \"perdio_empleo\",\n",
    "    \"_2019_perdio_empleo\",\n",
    "    \"_2020_perdio_empleo\",\n",
    "    \"_2020_tiempo_desempleado\",\n",
    "    \"_2020_mes_inicio_desempleado\",\n",
    "    \"_2020_mes_fin_desempleado\",\n",
    "    \"_2021_perdio_empleo\",\n",
    "    \"_2021_tiempo_desempleado\",\n",
    "    \"VARIEDAD\",\n",
    "    \"_2019_poca_variedad no si ns_n\",\n",
    "    \"_2019_porque_poca_variedad sin_alimentos sin_recursos\",\n",
    "    \"_2020_poca_variedad no si ns_nc\",\n",
    "    \"_2020_porque_poca_variedad sin_alimentos sin_recursos\",\n",
    "    \"_2021_poca_variedad no si ns_nc\",\n",
    "    \"_2021_porque_poca_variedad sin_alimentos sin_recursos\",\n",
    "    \"CANTIDAD\",\n",
    "    \"_2019_poca_cantidad no si ns_nc\",\n",
    "    \"_2019_porque_poca_cantidad sin_alimentos sin_recursos\",\n",
    "    \"_2020_poca_cantidad no si ns_nc\",\n",
    "    \"_2020_porque_poca_cantidad sin_alimentos sin_recursos\",\n",
    "    \"_2021_poca_cantidad no si ns_nc\",\n",
    "    \"_2021_porque_poca_cantidad sin_alimentos sin_recursos\",\n",
    "    \"SALTO_COMIDA\",\n",
    "    \"_2019_salto_comida no si ns_nc\",\n",
    "    \"_2019_porque_salto_comida sin_alimentos sin_recursos\",\n",
    "    \"_2020_salto_comida no si ns_nc\",\n",
    "    \"_2020_porque_salto_comida sin_alimentos sin_recursos\",\n",
    "    \"_2021_salto_comida no si ns_nc\",\n",
    "    \"_2021_porque_salto_comida sin_alimentos sin_recursos\",\n",
    "    \"NO_COMIO_1_DIA\",\n",
    "    \"_2019_no_comio_1_dia no si ns_nc\",\n",
    "    \"_2019_porque_no_comio_1_dia sin_alimentos sin_recursos\",\n",
    "    \"_2020_no_comio_1_dia no si ns_nc\",\n",
    "    \"_2020_porque_no_comio_1_dia sin_alimentos sin_recursos\",\n",
    "    \"_2021_no_comio_1_dia no si ns_nc\",\n",
    "    \"_2021_porque_no_comio_1_dia sin_alimentos sin_recursos\",\n",
    "    \"_8_5_medidas_acceso_alimentos\",\n",
    "    \"_1er_opcion / _2da_opcion / _3er_opcion / _4ta_opcion / _5ta_opcion / _6ta_opcion / _7ma_opcion / _8va_opcion / _9na_opcion / _10ma_opcion pudo_comprar_alimentos uso_ahorros busco_trabajo saco_negocio contacto_organizacion contacto_productores_comercian redes_delivery intercambio_alimentos recibio_alimentos otro\",\n",
    "    \"otra_medida_para_tener_aliment\",\n",
    "    \"_9_1_recibio_apoyo no si\",\n",
    "    \"_a_de_quien_recibio_apoyo personas grupos organizaciones\",\n",
    "    \"personas_recibio_apoyo familia amigo vecino trabajo otra_persona\",\n",
    "    \"otras_personas_recibio_apoyo\",\n",
    "    \"parentesco_recibio_apoyo esposos hijos_hijastros yerno_nuera nietos padres suegros hermanos otro_pariente\",\n",
    "    \"otros_parientes_recibio_apoyo\",\n",
    "    \"grupo_recibio_apoyo\",\n",
    "    \"organizacion_recibio_apoyo vecinal ong iglesia empresa cooperacion centros_educacion gobierno otra_organizacion\",\n",
    "    \"_b_Sexo_recibio_apoyo hombre mujer\",\n",
    "    \"Nombre_grupo_organiz_recibio\",\n",
    "    \"_c_vecindario_recibio_apoyo si no\",\n",
    "    \"_d_tipo_apoyo_recibido dinero alimentos informaciones otro_apoyo\",\n",
    "    \"otro_tipo_apoyo_recibido\",\n",
    "    \"_e_frecuencia_recibio_apoyo una_vez algunas_veces frecuentemente\",\n",
    "    \"_f_Actualmente_recibe_apoyo si no\",\n",
    "    \"_10_1_padece_problemas_salud presion_alta diabetes sobrepeso bajo_peso otros_problemas no\",\n",
    "    \"otros_problemas_salud\",\n",
    "    \"problemas_paro\",\n",
    "    \"resolucion_problema_paro\",\n",
    "    \"datos_geo_referenciados\",\n",
    "    \"_datos_geo_referenciados_latitude\",\n",
    "    \"_datos_geo_referenciados_longitude\",\n",
    "    \"_datos_geo_referenciados_altitude\",\n",
    "    \"_datos_geo_referenciados_precision\",\n",
    "    \"Incluir_datos_georre_ciados_LATITUD_UTM\",\n",
    "    \"Incluir_datos_georre_iados_LONGITUD_UTM\",\n",
    "]"
   ]
  },
  {
   "cell_type": "code",
   "execution_count": null,
   "id": "fee69525-dc64-4cc6-b1b7-c5199c3a7987",
   "metadata": {},
   "outputs": [],
   "source": [
    "len(all_profiles_cols)"
   ]
  },
  {
   "cell_type": "code",
   "execution_count": null,
   "id": "f0b951be-17a3-4ab0-b5e4-5eeeead48389",
   "metadata": {},
   "outputs": [],
   "source": [
    "\"_1_1_codigo_cuestionario\",\n",
    "\"_1_2_fecha_encuesta\",\n",
    "\"_1_3_nombre_encuestador\",\n",
    "\"_1_4_1_ciudad\",\n",
    "\"_1_4_2_vecindario\",\n",
    "\"sector_barrio_huerto\",\n",
    "\"_1_5_perfil_entrevistado\","
   ]
  },
  {
   "cell_type": "code",
   "execution_count": null,
   "id": "56f81d58-d838-4891-a2d7-485e2fa7fa88",
   "metadata": {},
   "outputs": [],
   "source": [
    "df_main[\"sector_barrio_huerto\"]"
   ]
  },
  {
   "cell_type": "code",
   "execution_count": null,
   "id": "f69f10d8-1f9f-42db-b0ea-246fdf60271d",
   "metadata": {},
   "outputs": [],
   "source": [
    "df_main[\"_1_4_2_vecindario\"].isna().sum()"
   ]
  },
  {
   "cell_type": "code",
   "execution_count": null,
   "id": "1efca5e7-7d45-4a18-9f86-eaea93734ad4",
   "metadata": {},
   "outputs": [],
   "source": [
    "df_main[\"_1_4_2_vecindario\"].unique()"
   ]
  },
  {
   "cell_type": "code",
   "execution_count": null,
   "id": "01b4f8d9-56b3-4cf2-97f2-455df50a2e81",
   "metadata": {},
   "outputs": [],
   "source": [
    "df_main[\"_1_4_2_vecindario\"].value_counts()"
   ]
  },
  {
   "cell_type": "code",
   "execution_count": null,
   "id": "629872a4-8055-4839-9a08-a52b375bdcab",
   "metadata": {},
   "outputs": [],
   "source": [
    "df_main[\"sector_barrio_huerto\"].sort_values().unique()"
   ]
  },
  {
   "cell_type": "code",
   "execution_count": null,
   "id": "6e32c585-4df9-4e94-be30-9dc7f62e0c52",
   "metadata": {},
   "outputs": [],
   "source": [
    "df_main[\"sector_barrio_huerto\"].notna().sum()"
   ]
  },
  {
   "cell_type": "code",
   "execution_count": null,
   "id": "385aea8b-02f5-4a4e-86a1-837689289e83",
   "metadata": {},
   "outputs": [],
   "source": [
    "df_main[\"sector_barrio_huerto\"].value_counts()"
   ]
  },
  {
   "cell_type": "code",
   "execution_count": null,
   "id": "faab2d03-4c5d-444d-9282-bbdf68442229",
   "metadata": {},
   "outputs": [],
   "source": [
    "def expand_dict(dictionary):\n",
    "    \"\"\"\n",
    "    Expand {k: [v0, v1, v2, ...], ...} in dict to\n",
    "    {v0: k, v1: k, v2: k, ...}\n",
    "    \"\"\"\n",
    "    return {el: k for k, v in dictionary.items() for el in v}"
   ]
  },
  {
   "cell_type": "code",
   "execution_count": null,
   "id": "ccc3617a-3d9c-43ab-ba0e-27d069507fc5",
   "metadata": {},
   "outputs": [],
   "source": [
    "expand_dict(\n",
    "    {\n",
    "        \"Cusubamba\": [\n",
    "            \"Aso. 24 de mayo - Cusubamba\",\n",
    "            \"Asociación 24 de mayo\",\n",
    "            \"San Pedro de Cusbamba\",\n",
    "            \"San Pedro de Cusubamba\",\n",
    "        ],\n",
    "        \"Huapante\": [\n",
    "            \"Huapante - Pillaro\",\n",
    "            \"Huapante - San Andrés\",\n",
    "            \"Huapante Chico - Píllaro\",\n",
    "            \"Huapante chico\",\n",
    "        ],\n",
    "        \"Tolontag\": [\"Tolontag Centro\", \"Tolontag-Pintag\"],\n",
    "        \"Cieneguilla\": [\"cieneguilla\"],\n",
    "        \"Yatchil\": [\"Campo Alegre - Yachil\", \"Yatchil\"],\n",
    "        \"Penileo\": [\"Penileo - Píllaro\"],\n",
    "        \"no puso\": [np.nan],\n",
    "    }\n",
    ")"
   ]
  },
  {
   "cell_type": "code",
   "execution_count": null,
   "id": "30bf0711-45dc-49c3-bfbb-851886a568ff",
   "metadata": {},
   "outputs": [],
   "source": [
    "df_main[\"sector_barrio_huerto\"].replace(\n",
    "    expand_dict(\n",
    "        {\n",
    "            \"Cusubamba\": [\n",
    "                \"Aso. 24 de mayo - Cusubamba\",\n",
    "                \"Asociación 24 de mayo\",\n",
    "                \"San Pedro de Cusbamba\",\n",
    "                \"San Pedro de Cusubamba\",\n",
    "            ],\n",
    "            \"Huapante\": [\n",
    "                \"Huapante - Pillaro\",\n",
    "                \"Huapante - San Andrés\",\n",
    "                \"Huapante Chico - Píllaro\",\n",
    "                \"Huapante chico\",\n",
    "            ],\n",
    "            \"Tolontag\": [\"Tolontag Centro\", \"Tolontag-Pintag\"],\n",
    "            \"Cieneguilla\": [\"cieneguilla\"],\n",
    "            \"Yatchil\": [\"Campo Alegre - Yachil\", \"Yatchil\"],\n",
    "            \"Penileo\": [\"Penileo - Píllaro\"],\n",
    "            np.nan: [\"no puso\"],\n",
    "        }\n",
    "    ),\n",
    "    inplace=True,\n",
    ")"
   ]
  },
  {
   "cell_type": "code",
   "execution_count": null,
   "id": "8ab2cbbc-8e72-47cd-b4b6-cab4bd550cd9",
   "metadata": {},
   "outputs": [],
   "source": [
    "df_main.loc[\n",
    "    df_main[\"_1_4_2_vecindario\"] != \"fuera\", \"sector_barrio_huerto\"\n",
    "] = \"No aplica\""
   ]
  },
  {
   "cell_type": "code",
   "execution_count": null,
   "id": "ba5b2ef8-d205-4195-8e3b-3725456017c9",
   "metadata": {},
   "outputs": [],
   "source": [
    "df_main[\"sector_barrio_huerto\"].value_counts()"
   ]
  },
  {
   "cell_type": "code",
   "execution_count": null,
   "id": "e609667b-e50e-4c94-ae6a-85f6500069c4",
   "metadata": {},
   "outputs": [],
   "source": [
    "[\n",
    "    \"_3_1_Nombre\",\n",
    "    \"_3_2_Informo_telefono\",\n",
    "    \"numero_telefono\",\n",
    "    \"_3_3_1_Distrito_Canton\",\n",
    "    \"_3_3_2_Provincia _3_3_3_Pais otro_pais\",\n",
    "    \"_3_6_nivel_estudio\",\n",
    "    \"nivel_completo\",\n",
    "    \"anos_nivel_incompleto\",\n",
    "    \"total_anos_estudio\",\n",
    "    \"total_miembros_hogar\",\n",
    "    \"miembro_parentesco\",\n",
    "    \"otro_pariente\",\n",
    "    \"otro_NO_pariente\",\n",
    "    \"sexo\",\n",
    "    \"edad_miembro\",\n",
    "    \"miembros_aporta_economicamente\",\n",
    "]"
   ]
  },
  {
   "cell_type": "code",
   "execution_count": null,
   "id": "62330c3a-ba69-4d27-a8e1-bb13a1f5eb88",
   "metadata": {},
   "outputs": [],
   "source": [
    "df_main[\"_3_1_Nombre\"] = df_main[\"_3_1_Nombre\"].str.title()"
   ]
  },
  {
   "cell_type": "code",
   "execution_count": null,
   "id": "21a598f0-32d1-4cc8-9811-d7cbad75e155",
   "metadata": {},
   "outputs": [],
   "source": [
    "df_main[\"_3_2_Informo_telefono\"].unique()"
   ]
  },
  {
   "cell_type": "code",
   "execution_count": null,
   "id": "7f309885-7b2d-4508-a439-49635b59b9d9",
   "metadata": {},
   "outputs": [],
   "source": [
    "df_main[\"_3_2_Informo_telefono\"].isna().sum()"
   ]
  },
  {
   "cell_type": "code",
   "execution_count": null,
   "id": "216d4b31-a90b-4de4-baf4-6ad34668cc2b",
   "metadata": {},
   "outputs": [],
   "source": [
    "df_main[df_main[\"_3_2_Informo_telefono\"].isna()][\"numero_telefono\"]"
   ]
  },
  {
   "cell_type": "code",
   "execution_count": null,
   "id": "c2a197bd-6aa5-4f59-8ca4-4eeb74092f3c",
   "metadata": {},
   "outputs": [],
   "source": [
    "df_main.loc[df_main[\"_3_2_Informo_telefono\"].isna(), \"_3_2_Informo_telefono\"] = \"no\""
   ]
  },
  {
   "cell_type": "code",
   "execution_count": null,
   "id": "82894284-3412-4bde-89e7-d1edb94fbbfb",
   "metadata": {},
   "outputs": [],
   "source": [
    "df_main[\"_3_2_Informo_telefono\"].unique()"
   ]
  },
  {
   "cell_type": "code",
   "execution_count": null,
   "id": "091400ad-9bcb-4c1d-92dc-290795f08309",
   "metadata": {},
   "outputs": [],
   "source": [
    "df_main[\"_3_2_Informo_telefono\"].value_counts()"
   ]
  },
  {
   "cell_type": "code",
   "execution_count": null,
   "id": "2eeee5dd-944e-48a6-ac55-8ad46fe9849b",
   "metadata": {},
   "outputs": [],
   "source": [
    "df_main[\"numero_telefono\"].isna().sum()"
   ]
  },
  {
   "cell_type": "code",
   "execution_count": null,
   "id": "181dbfa7-d795-4ace-ad53-c598904f2b02",
   "metadata": {},
   "outputs": [],
   "source": [
    "df_main[\"numero_telefono_clean\"] = (\n",
    "    df_main[\"numero_telefono\"]\n",
    "    .convert_dtypes(convert_integer=True)\n",
    "    .astype(str)\n",
    "    .replace(\"<NA>\", np.nan)\n",
    ")"
   ]
  },
  {
   "cell_type": "code",
   "execution_count": null,
   "id": "a2ddd74f-9672-48cb-bb97-6652dcdc882a",
   "metadata": {},
   "outputs": [],
   "source": [
    "df_main[\"numero_telefono_clean\"].isna().sum()"
   ]
  },
  {
   "cell_type": "code",
   "execution_count": null,
   "id": "4f47f128-8a8b-490b-80e3-7150bd71e6c3",
   "metadata": {},
   "outputs": [],
   "source": [
    "df_main[df_main[\"_3_2_Informo_telefono\"] == \"si\"][\"numero_telefono\"].isna().sum()"
   ]
  },
  {
   "cell_type": "code",
   "execution_count": null,
   "id": "cc8c1556-849d-4a2d-b41c-d8ec2b90b867",
   "metadata": {},
   "outputs": [],
   "source": [
    "df_main.loc[\n",
    "    (df_main[\"_3_2_Informo_telefono\"] == \"si\") & (df_main[\"numero_telefono\"].isna()),\n",
    "    \"_3_2_Informo_telefono\",\n",
    "] = \"no\""
   ]
  },
  {
   "cell_type": "code",
   "execution_count": null,
   "id": "dafed251-173a-454d-a854-d07e857fbf86",
   "metadata": {},
   "outputs": [],
   "source": [
    "df_main[\"_3_2_Informo_telefono\"].value_counts()"
   ]
  },
  {
   "cell_type": "code",
   "execution_count": null,
   "id": "b23b7f1a-8355-45e3-9f78-c85222601dd5",
   "metadata": {},
   "outputs": [],
   "source": [
    "df_main[df_main[\"_3_2_Informo_telefono\"] == \"no\"][\"numero_telefono\"].isna().sum()"
   ]
  },
  {
   "cell_type": "code",
   "execution_count": null,
   "id": "08ccdafd-c819-4da7-9120-c05ac94ef099",
   "metadata": {},
   "outputs": [],
   "source": [
    "df_main.loc[df_main[\"_3_2_Informo_telefono\"] == \"no\", \"numero_telefono\"] = \"No informó\""
   ]
  },
  {
   "cell_type": "code",
   "execution_count": null,
   "id": "7ff7f640-aad5-495a-8ba3-cb3667e81fba",
   "metadata": {},
   "outputs": [],
   "source": [
    "for val in df_main[\"_3_2_Informo_telefono\"].unique():\n",
    "    print(val)\n",
    "    print(\n",
    "        df_main[df_main[\"_3_2_Informo_telefono\"] == val][\n",
    "            \"numero_telefono\"\n",
    "        ].value_counts()\n",
    "    )\n",
    "    print()"
   ]
  },
  {
   "cell_type": "code",
   "execution_count": null,
   "id": "77e959dd-7d1f-433c-9e6b-6bd662371d18",
   "metadata": {},
   "outputs": [],
   "source": [
    "'_3_3_1_Distrito_Canton',\n",
    " '_3_3_2_Provincia',\n",
    "    "
   ]
  },
  {
   "cell_type": "code",
   "execution_count": null,
   "id": "2cf7013e-610e-4fd4-b626-1c4bedd100a0",
   "metadata": {},
   "outputs": [],
   "source": [
    "df_main[\"_3_3_3_Pais\"].unique()"
   ]
  },
  {
   "cell_type": "code",
   "execution_count": null,
   "id": "3273d445-7668-4e75-9fc0-940f563857b4",
   "metadata": {},
   "outputs": [],
   "source": [
    "df_main[\"_3_3_3_Pais\"].isna().sum()"
   ]
  },
  {
   "cell_type": "code",
   "execution_count": null,
   "id": "8fd9b720-c2c2-4ada-8b28-e71ca9d5e8a4",
   "metadata": {},
   "outputs": [],
   "source": [
    "df_main[\"_3_3_3_Pais\"].value_counts()"
   ]
  },
  {
   "cell_type": "code",
   "execution_count": null,
   "id": "43b81441-2912-46a6-bdb5-54f6c02371a1",
   "metadata": {},
   "outputs": [],
   "source": [
    "df_main[df_main[\"_3_3_3_Pais\"].isna()][\"otro_pais\"]"
   ]
  },
  {
   "cell_type": "code",
   "execution_count": null,
   "id": "a7422fad-780a-4594-8a32-5ab8aa0822b1",
   "metadata": {},
   "outputs": [],
   "source": [
    "df_main[\"_3_3_3_Pais\"] = df_main[\"_3_3_3_Pais\"].fillna(\"No informó\")"
   ]
  },
  {
   "cell_type": "code",
   "execution_count": null,
   "id": "a448981f-39f5-4a5b-9ff8-83e97fb29624",
   "metadata": {},
   "outputs": [],
   "source": [
    "df_main[\"_3_3_3_Pais\"].value_counts()"
   ]
  },
  {
   "cell_type": "code",
   "execution_count": null,
   "id": "87e9acd1-5440-466f-b3b9-c811671ca713",
   "metadata": {},
   "outputs": [],
   "source": [
    "df_main[\"_3_3_3_Pais\"].unique()"
   ]
  },
  {
   "cell_type": "code",
   "execution_count": null,
   "id": "a5da4e59-e0bc-4e8f-9e96-ba8b838fc39f",
   "metadata": {},
   "outputs": [],
   "source": [
    "df_main[\"otro_pais\"].unique()"
   ]
  },
  {
   "cell_type": "code",
   "execution_count": null,
   "id": "89c66275-c27a-4d2d-8c76-90d4935c9b40",
   "metadata": {},
   "outputs": [],
   "source": [
    "df_main[\"otro_pais\"].value_counts()"
   ]
  },
  {
   "cell_type": "code",
   "execution_count": null,
   "id": "ece39009-9106-4897-b7f4-b30568347a51",
   "metadata": {},
   "outputs": [],
   "source": [
    "df_main[\"otro_pais\"].notna().sum()"
   ]
  },
  {
   "cell_type": "code",
   "execution_count": null,
   "id": "eb318d26-798e-41fa-bcde-ad243878a42f",
   "metadata": {},
   "outputs": [],
   "source": []
  },
  {
   "cell_type": "code",
   "execution_count": null,
   "id": "6c1bf6e2-b90e-41cf-9b22-17c916454f9e",
   "metadata": {},
   "outputs": [],
   "source": [
    "df_main[\"pais_clean\"] = df_main[\"_3_3_3_Pais\"] == \"otro\""
   ]
  },
  {
   "cell_type": "code",
   "execution_count": null,
   "id": "54d7add1-0ea8-4590-aeab-a06c44e0227a",
   "metadata": {},
   "outputs": [],
   "source": [
    "df_main[\"_3_4_3_Pa_s\"].unique()"
   ]
  },
  {
   "cell_type": "code",
   "execution_count": null,
   "id": "51a7fe1d-8437-4be5-bd04-8a05a82df2fa",
   "metadata": {},
   "outputs": [],
   "source": [
    "(\"lima\", 261)\n",
    "(\"pichincha\", 227)\n",
    "(\"quito\", 27)\n",
    "(\"tungurahua\", 18)\n",
    "(\"cotopaxi\", 18)\n",
    "(\"chimborazo\", 15)\n",
    "(\"piura\", 15)\n",
    "(\"loja\", 14)\n",
    "(\"cajamarca\", 10)\n",
    "(\"ica\", 10)\n",
    "(\"canta\", 9)\n",
    "(\"arequipa\", 7)\n",
    "(\"ancash\", 7)\n",
    "(\"imbabura\", 7)\n",
    "(\"cañete\", 7)\n",
    "(\"bolivar\", 7)\n",
    "(\"huarochiri\", 6)\n",
    "(\"huancayo\", 6)\n",
    "(\"huanuco\", 6)\n",
    "(\"andahuaylas\", 5)\n",
    "(\"callao\", 4)\n",
    "(\"bolívar\", 4)\n",
    "(\"trujillo\", 4)\n",
    "(\"ayacucho\", 4)\n",
    "(\"guayas\", 4)\n",
    "(\"abancay\", 4)\n",
    "(\"puno\", 4)\n",
    "(\"san martin\", 3)\n",
    "(\"pichincha.\", 3)\n",
    "(\"junin\", 3)\n",
    "(\"manabí\", 3)\n",
    "(\"santo domingo\", 3)\n",
    "(\"huancavelica\", 3)\n",
    "(\"cuzco\", 3)\n",
    "(\"pachacamac\", 3)\n",
    "(\"caracas\", 3)\n",
    "(\"carchi\", 3)\n",
    "(\"el oro\", 3)\n",
    "(\"manabí.\", 2)\n",
    "(\"azuay\", 2)\n",
    "(\"carhuaz\", 2)\n",
    "(\"huánuco\", 2)\n",
    "(\"lambayeque\", 2)\n",
    "(\"cerro de pasco\", 2)\n",
    "(\"chota\", 2)\n",
    "(\"junín\", 2)\n",
    "(\"cañar\", 2)\n",
    "(\"santa rosa de quives\", 2)\n",
    "(\"pichinca\", 2)\n",
    "(\"huaraz\", 2)\n",
    "(\"huanta\", 2)\n",
    "(\"lamas - región san martín\", 2)\n",
    "(\"manabi\", 2)\n",
    "(\"amazonas\", 2)\n",
    "(\"los rios\", 2)\n",
    "(\"huari - ancash\", 2)\n",
    "(\"iquitos\", 2)\n",
    "(\"asunsion\", 2)\n",
    "(\"lucanas\", 2)\n",
    "(\"pataz\", 1)\n",
    "(\"puerto cabello\", 1)\n",
    "(\"apurimac\", 1)\n",
    "(\"tulcán\", 1)\n",
    "(\"mariscal caceres\", 1)\n",
    "(\"rumiñahui\", 1)\n",
    "(\"pasco\", 1)\n",
    "(\"morropon\", 1)\n",
    "(\"asuncion\", 1)\n",
    "(\"san marcos\", 1)\n",
    "(\"portuguesa\", 1)\n",
    "(\"madre de dios\", 1)\n",
    "(\"riobamba\", 1)\n",
    "(\"barranca\", 1)\n",
    "(\"chulucanas\", 1)\n",
    "(\"chachapoyas\", 1)\n",
    "(\"nariño\", 1)\n",
    "(\"-\", 1)\n",
    "(\"loreto\", 1)\n",
    "(\"chepen\", 1)\n",
    "(\"lucana\", 1)\n",
    "(\"tunguragua\", 1)\n",
    "(\"celendín\", 1)\n",
    "(\"asunsion-chacas\", 1)\n",
    "(\"tarma\", 1)\n",
    "(\"cusco\", 1)\n",
    "(\"chupaca\", 1)\n",
    "(\"chachapoyas -amazonas\", 1)\n",
    "(\"la mar- ayacucho\", 1)\n",
    "(\"la libertad\", 1)\n",
    "(\"angaraes\", 1)\n",
    "(\"yaracuy\", 1)\n",
    "(\"pillaro\", 1)\n",
    "(\"chulcampa\", 1)\n",
    "(\"cercado de lima\", 1)\n",
    "(\"canchis\", 1)\n",
    "(\"recuay\", 1)\n",
    "(\"maynas\", 1)\n",
    "(\"melgar\", 1)\n",
    "(\"orellana\", 1)\n",
    "(\"chancay\", 1)\n",
    "(\"los ríos\", 1)\n",
    "(\"sandia\", 1)\n",
    "(\"guayaquil\", 1)\n",
    "(\"ibarra\", 1)\n",
    "(\"pueblo viejo\", 1)\n",
    "(\"tarma, departamento junín\", 1)\n",
    "(\"cajatambo - lima\", 1)\n",
    "(\"cuenca\", 1)\n",
    "(\"provincia ascope - región la libertad\", 1)\n",
    "(\"los ríos.\", 1)\n",
    "(\"napo\", 1)\n",
    "(\"coronel portillo\", 1)\n",
    "(\"sto domingo.\", 1)\n",
    "(\"paruro\", 1)\n",
    "(\"huaral\", 1)\n",
    "(\"pallasca\", 1)\n",
    "(\"chiclayo\", 1)\n",
    "(\"comandancia de barinas\", 1)\n",
    "(\"santa elena\", 1)\n",
    "(\"ancahs\", 1)\n",
    "(\"pichicha.\", 1)\n",
    "(\"departamento ancash\", 1)\n",
    "(\"esmeraldas.\", 1)\n",
    "(\"santa\", 1)\n",
    "(\"pastaza\", 1)\n",
    "(\"tacna\", 1)\n",
    "(\"essen\", 1)\n",
    "(\"yungay\", 1)\n",
    "(\"carabaya\", 1)\n",
    "(\"lampa\", 1)\n",
    "(\"panao- huánuco\", 1)\n",
    "(\"huaro\", 1)\n",
    "(\"huancayo, departamento junín\", 1)\n",
    "(\"chanchamayo (junin)\", 1)\n",
    "(\"manavi\", 1)\n",
    "(\"imbabura.\", 1)\n",
    "(\"manabía\", 1)\n",
    "(\"pichicha\", 1)\n",
    "(\"ecuador\", 1)\n",
    "(\"tumgurahua\", 1)\n",
    "(\"morona santiago\", 1)\n",
    "(\"departamento de ayacucho\", 1)\n",
    "(\"cajatambo\", 1)\n",
    "(\"guayaqui\", 1)\n",
    "(\"tocache\", 1)\n",
    "(\"santo domingo de olleros\", 1)"
   ]
  },
  {
   "cell_type": "code",
   "execution_count": null,
   "id": "9a08d7b0-5702-40d8-99b6-5a0a65c183ff",
   "metadata": {},
   "outputs": [],
   "source": [
    "df_main[\"_3_3_1_Distrito_Canton\"].value_counts()"
   ]
  },
  {
   "cell_type": "code",
   "execution_count": null,
   "id": "20d13cb8-93a0-433f-b3fd-9a977f8011aa",
   "metadata": {},
   "outputs": [],
   "source": []
  },
  {
   "cell_type": "code",
   "execution_count": null,
   "id": "db80d142-3253-4eb9-981c-257f6d1a21e2",
   "metadata": {},
   "outputs": [],
   "source": []
  }
 ],
 "metadata": {
  "kernelspec": {
   "display_name": "hackspace_portal",
   "language": "python",
   "name": "python3"
  },
  "language_info": {
   "codemirror_mode": {
    "name": "ipython",
    "version": 3
   },
   "file_extension": ".py",
   "mimetype": "text/x-python",
   "name": "python",
   "nbconvert_exporter": "python",
   "pygments_lexer": "ipython3",
   "version": "3.9.15"
  },
  "vscode": {
   "interpreter": {
    "hash": "4d1f298a656e99289f1df831f6703f78a7b71cc6dfa7202a5fadb8f57a95f647"
   }
  }
 },
 "nbformat": 4,
 "nbformat_minor": 5
}
