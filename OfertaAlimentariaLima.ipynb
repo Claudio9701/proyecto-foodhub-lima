{
 "cells": [
  {
   "attachments": {},
   "cell_type": "markdown",
   "id": "eaebaae2-1417-42f9-8fcd-c9c59d9e29f0",
   "metadata": {},
   "source": [
    "# Mapa de Oferta Alimentaria Saludable en Lima, Peru"
   ]
  },
  {
   "cell_type": "code",
   "execution_count": null,
   "id": "ad511086-29b8-40aa-94d3-c2670c9dbb01",
   "metadata": {},
   "outputs": [],
   "source": [
    "# Dependencias\n",
    "import pandas as pd\n",
    "import numpy as np\n",
    "import geopandas as gpd\n",
    "import urbanpy as up\n",
    "import contextily as cx\n",
    "import matplotlib.pyplot as plt\n",
    "from mpl_toolkits.axes_grid1 import make_axes_locatable\n",
    "from matplotlib_scalebar.scalebar import ScaleBar\n",
    "from matplotlib.lines import Line2D"
   ]
  },
  {
   "attachments": {},
   "cell_type": "markdown",
   "id": "7703be9d-d6e2-4dec-a38a-dc07bda47a37",
   "metadata": {},
   "source": [
    "## Bioferias\n",
    "\n",
    "### Ferias organizadas por promotores que controlan una oferta realmente ecológica:\n",
    "\n",
    "- Feria Ecológica de Barranco (Calle San Martín cuadra 7, Barranco / domingos), -12.138176, -77.0229817\n",
    "- Ecoferia de Cieneguilla (Frente parque Simón Bolívar; III etapa Cieneguilla / domingos), -12.0943875, -76.7749452\n",
    "- BioFeria de Miraflores (parque Reducto / sábados), -12.1270848, -77.022242\n",
    "- BioFeria de Surquillo (jirón Narciso de la Colina 580 / domingos), -12.118381, -77.025619\n",
    "\n",
    "### Feria que escoge una oferta saludable combinando entre ecológicos certificados y convencionales - AgroFerias Campesinas:\n",
    "\n",
    "- sede Puericultorio Pérez Araníbar (jirón Antonio Raymondi 141, Magdalena del Mar / viernes, sábados, domingos), -12.0990915, -77.06884\n",
    "- sede San Isidro (avenida Aramburú cruce con calle 3, San Isidro / sábados), -12.1021172, -77.0162924\n",
    "- sede Parque de la Familia, San Borja (Av. San Borja Sur con jirón Frederic Remington / domingos), -12.098735230950824, -77.01049887420028\n",
    "\n",
    "### Bioferias de vecindarios alimentarios:\n",
    "\n",
    "- BioFeria Casablanca, Pachacamac  (2do sabado / mensual)\n",
    "- BioFeria Tungasuca, Carabayllo (sabado / semanal)"
   ]
  },
  {
   "cell_type": "code",
   "execution_count": null,
   "id": "d8a01b0f-6a21-4956-94da-22b9d046257b",
   "metadata": {},
   "outputs": [],
   "source": [
    "bioferias = [\n",
    "    {\n",
    "        \"nombre\": \"Feria Ecológica de Barranco\",\n",
    "        \"direccion\": \"Calle San Martín cuadra 7, Barranco\",\n",
    "        \"temporalidad\": \"domingos\",\n",
    "        \"observaciones\": \"Ferias organizadas por promotores que controlan una oferta realmente ecológica\",\n",
    "        \"lat\": -12.138176,\n",
    "        \"lon\": -77.0229817,\n",
    "    },\n",
    "    {\n",
    "        \"nombre\": \"Ecoferia de Cieneguilla\",\n",
    "        \"direccion\": \"Frente parque Simón Bolívar; III etapa Cieneguilla\",\n",
    "        \"temporalidad\": \"domingos\",\n",
    "        \"observaciones\": \"Ferias organizadas por promotores que controlan una oferta realmente ecológica\",\n",
    "        \"lat\": -12.0943875,\n",
    "        \"lon\": -76.7749452,\n",
    "    },\n",
    "    {\n",
    "        \"nombre\": \"BioFeria de Miraflores\",\n",
    "        \"direccion\": \"Parque Reducto\",\n",
    "        \"temporalidad\": \"sábados\",\n",
    "        \"observaciones\": \"Ferias organizadas por promotores que controlan una oferta realmente ecológica\",\n",
    "        \"lat\": -12.1270848,\n",
    "        \"lon\": -77.022242,\n",
    "    },\n",
    "    {\n",
    "        \"nombre\": \"BioFeria de Surquillo\",\n",
    "        \"direccion\": \"Jirón Narciso de la Colina 580\",\n",
    "        \"temporalidad\": \"domingos\",\n",
    "        \"observaciones\": \"Ferias organizadas por promotores que controlan una oferta realmente ecológica\",\n",
    "        \"lat\": -12.118381,\n",
    "        \"lon\": -77.025619,\n",
    "    },\n",
    "    {\n",
    "        \"nombre\": \"AgroFeria Campesina\",\n",
    "        \"direccion\": \"Jirón Antonio Raymondi 141, Magdalena del Mar\",\n",
    "        \"temporalidad\": \"viernes, sábados y domingos\",\n",
    "        \"observaciones\": \"Feria que escoge una oferta saludable combinando entre ecológicos certificados y convencionales\",\n",
    "        \"lat\": -12.0990915,\n",
    "        \"lon\": -77.06884,\n",
    "    },\n",
    "    {\n",
    "        \"nombre\": \"AgroFeria Campesina\",\n",
    "        \"direccion\": \"Avenida Aramburú cruce con calle 3, San Isidro\",\n",
    "        \"temporalidad\": \"sábados\",\n",
    "        \"observaciones\": \"Feria que escoge una oferta saludable combinando entre ecológicos certificados y convencionales\",\n",
    "        \"lat\": -12.1021172,\n",
    "        \"lon\": -77.0162924,\n",
    "    },\n",
    "    {\n",
    "        \"nombre\": \"AgroFeria Campesina\",\n",
    "        \"direccion\": \"Avenida San Borja Sur con Jirón Frederic Remington\",\n",
    "        \"temporalidad\": \"domingos\",\n",
    "        \"observaciones\": \"Feria que escoge una oferta saludable combinando entre ecológicos certificados y convencionales\",\n",
    "        \"lat\": -12.098735230950824,\n",
    "        \"lon\": -77.01049887420028,\n",
    "    },\n",
    "    {\"nombre\": \"BioFeria Casablanca\", \"lat\": -12.205550, \"lon\": -76.866392},\n",
    "    {\"nombre\": \"BioFeria Tungasuca\", \"lat\": -11.89664, \"lon\": -77.04062},\n",
    "    {\"nombre\": \"BioFeria Picapiedra Pachacamac\", \"lat\": -12.186558, \"lon\": -76.8681324},\n",
    "    {\n",
    "        \"nombre\": \"BioFeria Municipalidad de Lurin\",\n",
    "        \"lat\": -12.2738587,\n",
    "        \"lon\": -76.8697862,\n",
    "    },\n",
    "]"
   ]
  },
  {
   "cell_type": "code",
   "execution_count": null,
   "id": "448ece12-63da-4144-875d-f3084d4a013d",
   "metadata": {},
   "outputs": [],
   "source": [
    "bioferias_pd = pd.DataFrame.from_records(bioferias)\n",
    "bioferias_geo = gpd.points_from_xy(bioferias_pd[\"lon\"], bioferias_pd[\"lat\"])\n",
    "bioferias_gpd = gpd.GeoDataFrame(bioferias_pd, crs=\"EPSG:4326\", geometry=bioferias_geo)\n",
    "bioferias_gpd"
   ]
  },
  {
   "attachments": {},
   "cell_type": "markdown",
   "id": "9cfa104d-31be-42f3-8ad7-58e8eb2e10be",
   "metadata": {},
   "source": [
    "## Ferias itinerantes de la MML\n",
    "\n",
    "Organizadas por: Subgerencia de Desarrollo Productivo / Gerencia de Desarrollo Economico"
   ]
  },
  {
   "cell_type": "code",
   "execution_count": null,
   "id": "6bfc0a6c-9a09-4a4c-bdc7-f42ab7b42712",
   "metadata": {},
   "outputs": [],
   "source": [
    "ferias_sdp = pd.read_excel(\n",
    "    \"/home/claudio/Downloads/FERIAS SDP - ESPACIOS - 2022.xlsx\",\n",
    "    header=5,\n",
    "    index_col=0,\n",
    "    usecols=\"B:I\",\n",
    ")"
   ]
  },
  {
   "cell_type": "code",
   "execution_count": null,
   "id": "5516dae1-8ee7-4666-84ea-9e6c0ec3c9dd",
   "metadata": {},
   "outputs": [],
   "source": [
    "ferias_sdp.head()"
   ]
  },
  {
   "attachments": {},
   "cell_type": "markdown",
   "id": "4e7dddc3-1178-4b58-be8c-7f00fe96d87d",
   "metadata": {},
   "source": [
    "### Fix dates"
   ]
  },
  {
   "cell_type": "code",
   "execution_count": null,
   "id": "d5d582d4-5a4f-490c-9e51-77ec6a0e8c25",
   "metadata": {},
   "outputs": [],
   "source": [
    "no_datetime_filter = ferias_sdp[\"Fecha\"].apply(type) == str\n",
    "ferias_sdp_no_dt = ferias_sdp[\"Fecha\"][no_datetime_filter]\n",
    "ferias_sdp_dt = ferias_sdp[\"Fecha\"][~no_datetime_filter]"
   ]
  },
  {
   "cell_type": "code",
   "execution_count": null,
   "id": "2289226c-653a-409a-b7be-941ecd11c443",
   "metadata": {},
   "outputs": [],
   "source": [
    "ferias_sdp_no_dt"
   ]
  },
  {
   "cell_type": "code",
   "execution_count": null,
   "id": "7398cf8a-7994-4b2c-ad1c-c715e33df7dd",
   "metadata": {},
   "outputs": [],
   "source": [
    "# Handle special cases\n",
    "special_case_1 = ferias_sdp_no_dt.loc[13]  # 10,11,12/06/2022\n",
    "special_case_2 = ferias_sdp_no_dt.loc[24]  # 13 al 16/10/2022\n",
    "\n",
    "special_case_start = pd.Series([(\"10/06/2022\"), (\"13/10/2022\")], index=[13, 24])\n",
    "special_case_end = pd.Series([(\"12/06/2022\"), (\"16/10/2022\")], index=[13, 24])\n",
    "\n",
    "ferias_sdp_no_dt = ferias_sdp_no_dt.drop([13, 24])"
   ]
  },
  {
   "cell_type": "code",
   "execution_count": null,
   "id": "846a27d8-75ee-487f-9f96-19ee488dd013",
   "metadata": {},
   "outputs": [],
   "source": [
    "# Separate start and end dates in to cols\n",
    "start_dt = ferias_sdp_no_dt.str.split(\" al \", expand=True)[0]\n",
    "end_dt = ferias_sdp_no_dt.str.split(\" al \", expand=True)[1]"
   ]
  },
  {
   "cell_type": "code",
   "execution_count": null,
   "id": "0ff3488e-d8ac-458f-8231-84c9a945f88d",
   "metadata": {},
   "outputs": [],
   "source": [
    "# Fix date format\n",
    "start_dt.loc[9] = start_dt.loc[9].replace(\"22\", \"2022\")\n",
    "end_dt.loc[9] = end_dt.loc[9].replace(\"22\", \"2022\")\n",
    "end_dt.loc[23] = end_dt.loc[23].replace(\"1/\", \"01/\")"
   ]
  },
  {
   "cell_type": "code",
   "execution_count": null,
   "id": "3ee8627e-074b-4a88-89c2-7347f4a50071",
   "metadata": {},
   "outputs": [],
   "source": [
    "# Convert all datetimes\n",
    "start_dt = pd.to_datetime(start_dt, format=\"%d/%m/%Y\")\n",
    "end_dt = pd.to_datetime(end_dt, format=\"%d/%m/%Y\")\n",
    "special_case_start = pd.to_datetime(special_case_start, format=\"%d/%m/%Y\")\n",
    "special_case_end = pd.to_datetime(special_case_end, format=\"%d/%m/%Y\")\n",
    "ferias_sdp_dt = pd.to_datetime(ferias_sdp_dt)"
   ]
  },
  {
   "cell_type": "code",
   "execution_count": null,
   "id": "37ebc55c-d124-43e9-baf4-4e2f93cbf441",
   "metadata": {},
   "outputs": [],
   "source": [
    "# Concatenate all sets\n",
    "start_dates_column = pd.concat(\n",
    "    (ferias_sdp_dt, start_dt, special_case_start)\n",
    ").sort_index()\n",
    "end_dates_column = pd.concat((ferias_sdp_dt, end_dt, special_case_end)).sort_index()\n",
    "dates_columns = pd.concat((start_dates_column, end_dates_column), axis=1)\n",
    "dates_columns.columns = [\"inicio\", \"fin\"]"
   ]
  },
  {
   "cell_type": "code",
   "execution_count": null,
   "id": "3091bf88-da7a-4590-b193-1d7be62d38b9",
   "metadata": {},
   "outputs": [],
   "source": [
    "# Merge with original df\n",
    "ferias_sdp_dates_clean = ferias_sdp.merge(\n",
    "    dates_columns, left_index=True, right_index=True\n",
    ")"
   ]
  },
  {
   "attachments": {},
   "cell_type": "markdown",
   "id": "31669d4e-db64-4a37-b84b-d8f527682afa",
   "metadata": {},
   "source": [
    "### Process coordinates"
   ]
  },
  {
   "cell_type": "code",
   "execution_count": null,
   "id": "d3d71b4b-77bc-49af-a871-36ca9ec83416",
   "metadata": {},
   "outputs": [],
   "source": [
    "ferias_sdp_gdf = gpd.GeoDataFrame(\n",
    "    ferias_sdp_dates_clean,\n",
    "    crs=\"EPSG:4326\",\n",
    "    geometry=gpd.points_from_xy(\n",
    "        ferias_sdp_dates_clean[\"longitude\"], ferias_sdp_dates_clean[\"latitude\"]\n",
    "    ),\n",
    ")"
   ]
  },
  {
   "cell_type": "code",
   "execution_count": null,
   "id": "98477bc4-cba4-4c9b-9496-165b4031e068",
   "metadata": {},
   "outputs": [],
   "source": [
    "ferias_sdp_gdf.geometry.explore()"
   ]
  },
  {
   "attachments": {},
   "cell_type": "markdown",
   "id": "bceb3b3b-8f86-43c0-9fc1-5de645e61301",
   "metadata": {},
   "source": [
    "## Biotiendas:\n",
    "\n",
    "### Flora y Fauna\n",
    "- Flora y Fauna Miraflores, Avenida Mariscal La Mar 1110, -12.1108903, -77.0478323\n",
    "- Flora y Fauna San Borja, Av. Aviación 3110, -12.1013079!4d-77.001902\n",
    "- Flora y Fauna Surco, Av. Primavera 654, -12.1111641!4d-76.9865775\n",
    "- Flora y Fauna La Molina, Av. Raúl Ferrero 1415, Lima 15024, Perú, -12.0915649!4d-76.9522467\n",
    "- Flora y Fauna Miraflores 2*, Av. Alfredo Benavides 2150, Miraflores 15048, Perú, -12.1276912!4d-77.0101165\n",
    "- Flora y Fauna San Miguel, Av. Universitaria 1045, -12.0753657, -77.0805019\n",
    "\n",
    "### Vacas Felices\n",
    "- Vacas Felices, Calle Alarifes Urb. Matellini MZ E-4 LT 63, Chorrillos, -12.1695999!4d-77.0076161\n",
    "- Vacas Felices, JR. Los Lureles 106, Valle Hermoso, Surco, -12.126431!4d-76.9758164\n",
    "- Vacas Felices, Juan Norberto Elespuru 305, San Isidro, -12.0965521!4d-77.0527479\n",
    "- Vacas Felices, Barranco, Jr. Colina 108 (Alt. cuadra 5 de Av. Grau, espalda de la comisaria de Barranco, -12.1458844!4d-77.0222768\n",
    "- Vacas Felices, San Isidro, Calle Alberto Arca Parró 194 -12.106375!4d-77.0364131\n",
    "\n",
    "> \\*No figura en la pagina web pero si en google maps."
   ]
  },
  {
   "cell_type": "code",
   "execution_count": null,
   "id": "0794dab2-5c26-47a5-bdf3-df69be50fa0c",
   "metadata": {},
   "outputs": [],
   "source": [
    "biotiendas = [\n",
    "    [\n",
    "        \"Flora y Fauna\",\n",
    "        \"Avenida Mariscal La Mar 1110, Miraflores\",\n",
    "        -12.1108903,\n",
    "        -77.0478323,\n",
    "    ],\n",
    "    [\"Flora y Fauna\", \"Avenida Aviación 3110, San Borja\", -12.1013079, -77.001902],\n",
    "    [\"Flora y Fauna\", \"Avenida Primavera 654, Surco\", -12.1111641, -76.9865775],\n",
    "    [\"Flora y Fauna\", \"Avenida Raúl Ferrero 1415, La Molina\", -12.0915649, -76.9522467],\n",
    "    [\n",
    "        \"Flora y Fauna\",\n",
    "        \"Avenida Alfredo Benavides 2150, Miraflores\",\n",
    "        -12.1276912,\n",
    "        -77.0101165,\n",
    "    ],\n",
    "    [\n",
    "        \"Flora y Fauna\",\n",
    "        \"Avenida Universitaria 1045, San Miguel\",\n",
    "        -12.0753657,\n",
    "        -77.0805019,\n",
    "    ],\n",
    "    [\n",
    "        \"Vacas Felices\",\n",
    "        \"Calle Alarifes Urb. Matellini MZ E-4 LT 63, Chorrillos\",\n",
    "        -12.1695999,\n",
    "        -77.0076161,\n",
    "    ],\n",
    "    [\n",
    "        \"Vacas Felices\",\n",
    "        \"Jiron Los Lureles 106, Valle Hermoso, Surco\",\n",
    "        -12.126431,\n",
    "        -76.9758164,\n",
    "    ],\n",
    "    [\n",
    "        \"Vacas Felices\",\n",
    "        \"Juan Norberto Elespuru 305, San Isidro\",\n",
    "        -12.0965521,\n",
    "        -77.0527479,\n",
    "    ],\n",
    "    [\"Vacas Felices\", \"Jiron Colina 108, Barranco\", -12.1458844, -77.0222768],\n",
    "    [\n",
    "        \"Vacas Felices\",\n",
    "        \"Calle Alberto Arca Parró 194, San Isidro\",\n",
    "        -12.106375,\n",
    "        -77.0364131,\n",
    "    ],\n",
    "]"
   ]
  },
  {
   "cell_type": "code",
   "execution_count": null,
   "id": "18385b66-d04b-419b-8ff6-7ce4c362d453",
   "metadata": {},
   "outputs": [],
   "source": [
    "biotiendas_pd = pd.DataFrame(biotiendas, columns=[\"nombre\", \"direccion\", \"lat\", \"lon\"])\n",
    "biotiendas_geo = gpd.points_from_xy(biotiendas_pd[\"lon\"], biotiendas_pd[\"lat\"])\n",
    "biotiendas_gpd = gpd.GeoDataFrame(\n",
    "    biotiendas_pd, crs=\"EPSG:4326\", geometry=biotiendas_geo\n",
    ")\n",
    "biotiendas_gpd"
   ]
  },
  {
   "attachments": {},
   "cell_type": "markdown",
   "id": "9ec52ecf-3c78-4b20-951d-32766010eb5b",
   "metadata": {},
   "source": [
    "## Supermercados con organicos\n",
    "\n",
    "Aun falta determinar cuales son. Por el momento descargaremos todos los Wong y Tottus que se encuentren en OpenStreetMap (OSM)"
   ]
  },
  {
   "cell_type": "code",
   "execution_count": null,
   "id": "638bcf4e-9295-4c7b-8981-91730fb83033",
   "metadata": {},
   "outputs": [],
   "source": [
    "lima_met = up.download.nominatim_osm(\"Lima Metropolitana, Peru\")"
   ]
  },
  {
   "cell_type": "code",
   "execution_count": null,
   "id": "468ce443-393e-449f-bf5b-c0b1768df8f4",
   "metadata": {},
   "outputs": [],
   "source": [
    "lima_met = lima_met.set_crs(\"EPSG:4326\")"
   ]
  },
  {
   "cell_type": "code",
   "execution_count": null,
   "id": "bf523429-3b41-42ec-a015-c6c8ddcffed9",
   "metadata": {},
   "outputs": [],
   "source": [
    "lima_met.total_bounds"
   ]
  },
  {
   "cell_type": "code",
   "execution_count": null,
   "id": "e36aab99-d6ba-4d68-b0e8-67dd07fa7c57",
   "metadata": {},
   "outputs": [],
   "source": [
    "overpass_query = \"\"\"\n",
    "[timeout:120][out:json][bbox];\n",
    "( \n",
    "  node[shop=supermarket][name~\"Wong\",i];\n",
    "  way[shop=supermarket][name~\"Wong\",i];\n",
    "  rel[shop=supermarket][name~\"Wong\",i];\n",
    ");\n",
    "out body geom;\n",
    "\"\"\"\n",
    "\n",
    "res = up.download.overpass_pois(\n",
    "    bounds=lima_met.total_bounds, custom_query=overpass_query\n",
    ")"
   ]
  },
  {
   "cell_type": "code",
   "execution_count": null,
   "id": "32c6d5c2-fba9-401f-8613-56b9f59fae81",
   "metadata": {},
   "outputs": [],
   "source": [
    "res.raise_for_status()"
   ]
  },
  {
   "cell_type": "code",
   "execution_count": null,
   "id": "45ac2680-93bc-452a-abb5-119205862de8",
   "metadata": {},
   "outputs": [],
   "source": [
    "data = res.json()"
   ]
  },
  {
   "cell_type": "code",
   "execution_count": null,
   "id": "cadb142c-e872-4f09-b62c-494833775a2f",
   "metadata": {},
   "outputs": [],
   "source": [
    "osm_elements = pd.DataFrame.from_dict(data[\"elements\"]).drop(\"tags\", axis=1)"
   ]
  },
  {
   "cell_type": "code",
   "execution_count": null,
   "id": "2587bdf9",
   "metadata": {},
   "outputs": [],
   "source": [
    "node = osm_elements[osm_elements[\"type\"] == \"node\"]\n",
    "way = osm_elements[osm_elements[\"type\"] == \"way\"]\n",
    "rel = osm_elements[osm_elements[\"type\"] == \"relation\"]"
   ]
  },
  {
   "cell_type": "code",
   "execution_count": null,
   "id": "388bd091",
   "metadata": {},
   "outputs": [],
   "source": [
    "len(rel)"
   ]
  },
  {
   "cell_type": "code",
   "execution_count": null,
   "id": "58b86574",
   "metadata": {},
   "outputs": [],
   "source": [
    "way = way.append(rel[\"members\"].iloc[0], ignore_index=True)"
   ]
  },
  {
   "cell_type": "code",
   "execution_count": null,
   "id": "6a633026",
   "metadata": {},
   "outputs": [],
   "source": [
    "from shapely.geometry import Polygon\n",
    "\n",
    "way[\"geometry\"] = way[\"geometry\"].apply(\n",
    "    lambda x: Polygon(up.utils.shell_from_geometry(x))\n",
    ")\n",
    "way = way.drop_duplicates(subset=[\"geometry\"])"
   ]
  },
  {
   "cell_type": "code",
   "execution_count": null,
   "id": "81219fc1",
   "metadata": {},
   "outputs": [],
   "source": [
    "way_geometry = gpd.GeoSeries(way.geometry, crs=\"EPSG:4326\")"
   ]
  },
  {
   "cell_type": "code",
   "execution_count": null,
   "id": "a19c34b5-c12e-469e-bc74-b4e1b2722534",
   "metadata": {},
   "outputs": [],
   "source": [
    "node_geometry = gpd.GeoSeries(\n",
    "    gpd.points_from_xy(node[\"lon\"], node[\"lat\"], crs=\"EPSG:4326\")\n",
    ")"
   ]
  },
  {
   "cell_type": "code",
   "execution_count": null,
   "id": "bbd29c7f",
   "metadata": {},
   "outputs": [],
   "source": [
    "ax = way_geometry.centroid.plot(color=\"red\", alpha=0.4)\n",
    "node_geometry.plot(alpha=0.4, ax=ax)"
   ]
  },
  {
   "cell_type": "code",
   "execution_count": null,
   "id": "fb464a82-7c56-4c68-9985-16165a8c80fc",
   "metadata": {},
   "outputs": [],
   "source": [
    "supermarkets_gpd = gpd.GeoSeries(\n",
    "    pd.concat((way_geometry.centroid, node_geometry), ignore_index=True)\n",
    ")"
   ]
  },
  {
   "cell_type": "code",
   "execution_count": null,
   "id": "d10afccf-f172-4af1-b44a-01d660804fe4",
   "metadata": {},
   "outputs": [],
   "source": [
    "supermarkets_gpd"
   ]
  },
  {
   "cell_type": "code",
   "execution_count": null,
   "id": "121d2de7",
   "metadata": {},
   "outputs": [],
   "source": [
    "supermarkets_gpd = supermarkets_gpd.drop(10)"
   ]
  },
  {
   "cell_type": "code",
   "execution_count": null,
   "id": "47187e50-1734-46b5-ba5d-2a35987ffafa",
   "metadata": {},
   "outputs": [],
   "source": [
    "supermarkets_gpd.plot(alpha=0.5)"
   ]
  },
  {
   "attachments": {},
   "cell_type": "markdown",
   "id": "cdb60bcf-499b-4c4b-b93c-9ab0e33f8387",
   "metadata": {},
   "source": [
    "### Distritos"
   ]
  },
  {
   "cell_type": "code",
   "execution_count": null,
   "id": "058a4417-6e4d-49b9-86da-795d03d4c732",
   "metadata": {},
   "outputs": [],
   "source": [
    "districts = gpd.read_file(\n",
    "    \"https://storage.googleapis.com/up_public_geodata/admin_bounds/peru/districts.zip\",\n",
    "    mask=lima_met,\n",
    ")"
   ]
  },
  {
   "cell_type": "code",
   "execution_count": null,
   "id": "ad4ead54-d61d-42dd-a2da-a36349def189",
   "metadata": {},
   "outputs": [],
   "source": [
    "all_points = pd.concat(\n",
    "    [\n",
    "        bioferias_gpd[[\"geometry\"]],\n",
    "        biotiendas_gpd[[\"geometry\"]],\n",
    "        ferias_sdp_gdf[[\"geometry\"]],\n",
    "    ]\n",
    ")"
   ]
  },
  {
   "cell_type": "code",
   "execution_count": null,
   "id": "0c00cecf-6fa3-4bc6-9bf7-33105819cecb",
   "metadata": {},
   "outputs": [],
   "source": [
    "districts_with_points = districts.sjoin(all_points).drop_duplicates(subset=\"IDDIST\")"
   ]
  },
  {
   "cell_type": "code",
   "execution_count": null,
   "id": "b77a79c6",
   "metadata": {},
   "outputs": [],
   "source": [
    "carabayllo = districts[districts[\"DISTRITO\"] == \"CARABAYLLO\"]"
   ]
  },
  {
   "cell_type": "code",
   "execution_count": null,
   "id": "a7136898",
   "metadata": {},
   "outputs": [],
   "source": [
    "districts_with_points = districts_with_points.append(carabayllo)"
   ]
  },
  {
   "attachments": {},
   "cell_type": "markdown",
   "id": "1bae9405-5a30-49c8-925e-338c55fe6b94",
   "metadata": {},
   "source": [
    "### Vecindarios"
   ]
  },
  {
   "cell_type": "code",
   "execution_count": null,
   "id": "42ea6adc-2df6-4a71-8bc6-8aff97f9e28c",
   "metadata": {},
   "outputs": [],
   "source": [
    "zona_carabayllo = gpd.read_file(\"inputs/zona_carabayllo.geojson\", crs=4326)\n",
    "zona_pachacamac = gpd.read_file(\"inputs/zona_pachacamac.geojson\", crs=4326)"
   ]
  },
  {
   "cell_type": "code",
   "execution_count": null,
   "id": "c8ea4517-d8eb-430c-b532-d4a461798d6e",
   "metadata": {},
   "outputs": [],
   "source": [
    "from shapely.validation import make_valid"
   ]
  },
  {
   "cell_type": "code",
   "execution_count": null,
   "id": "3489cc70-1979-449c-8583-d6b2c1738390",
   "metadata": {},
   "outputs": [],
   "source": [
    "zona_carabayllo.geometry = zona_carabayllo.geometry.apply(make_valid)\n",
    "zona_pachacamac.geometry = zona_pachacamac.geometry.apply(make_valid)"
   ]
  },
  {
   "cell_type": "code",
   "execution_count": null,
   "id": "1e00440d-9ec4-4127-952b-5b56cef13119",
   "metadata": {},
   "outputs": [],
   "source": [
    "zona_carabayllo = gpd.GeoSeries(\n",
    "    zona_carabayllo.geometry.unary_union.buffer(0.0001).exterior, crs=4326\n",
    ")\n",
    "zona_pachacamac = gpd.GeoSeries(\n",
    "    zona_pachacamac.geometry.unary_union.buffer(0.0001).exterior, crs=4326\n",
    ")"
   ]
  },
  {
   "attachments": {},
   "cell_type": "markdown",
   "id": "ed89496d-1d2a-4f54-abe6-b8e9000597ac",
   "metadata": {},
   "source": [
    "## Lima hexs"
   ]
  },
  {
   "cell_type": "code",
   "execution_count": null,
   "id": "2af5ca96-d766-45e9-95ba-dfbcd16c4437",
   "metadata": {},
   "outputs": [],
   "source": [
    "lima_hexs = gpd.read_file(\"outputs/lima_hexs9_distance_to_bio.geojson\")"
   ]
  },
  {
   "cell_type": "code",
   "execution_count": null,
   "id": "0a45019c-ce0a-4241-b1e5-27e3af5ad2f7",
   "metadata": {},
   "outputs": [],
   "source": [
    "lima_hexs.shape"
   ]
  },
  {
   "cell_type": "code",
   "execution_count": null,
   "id": "2a1ac20c-934f-42d6-9f9c-14914259866d",
   "metadata": {},
   "outputs": [],
   "source": [
    "lima_hexs.columns"
   ]
  },
  {
   "attachments": {},
   "cell_type": "markdown",
   "id": "1f5c02a4-6b30-44f1-a936-f57022dd19ce",
   "metadata": {},
   "source": [
    "## Generate maps"
   ]
  },
  {
   "cell_type": "code",
   "execution_count": null,
   "id": "38b18deb-e15c-4dc7-99e5-3cdb002f10f9",
   "metadata": {},
   "outputs": [],
   "source": [
    "UTM_CRS = \"EPSG:32718\"\n",
    "lima_met_proj = lima_met.to_crs(UTM_CRS)\n",
    "bioferias_gpd_proj = bioferias_gpd.to_crs(UTM_CRS)\n",
    "biotiendas_gpd_proj = biotiendas_gpd.to_crs(UTM_CRS)\n",
    "supermarkets_gpd_proj = supermarkets_gpd.to_crs(UTM_CRS)\n",
    "ferias_sdp_gdf_proj = ferias_sdp_gdf.to_crs(UTM_CRS)\n",
    "districts_with_points_proj = districts_with_points.to_crs(UTM_CRS)\n",
    "zona_carabayllo_proj = zona_carabayllo.to_crs(UTM_CRS)\n",
    "zona_pachacamac_proj = zona_pachacamac.to_crs(UTM_CRS)\n",
    "lima_hexs_proj = lima_hexs.to_crs(UTM_CRS)\n",
    "supermarkets_gpd_proj = supermarkets_gpd.to_crs(UTM_CRS)"
   ]
  },
  {
   "cell_type": "code",
   "execution_count": null,
   "id": "51188a4b-2b31-49bd-9e16-eb89eb781b94",
   "metadata": {},
   "outputs": [],
   "source": [
    "# Smooth borders\n",
    "lima_met_smooth_proj = lima_met_proj.buffer(0.0001)"
   ]
  },
  {
   "cell_type": "code",
   "execution_count": null,
   "id": "7e3b4e0b-9e61-4865-8eaa-9034e2b81c72",
   "metadata": {},
   "outputs": [],
   "source": [
    "districts_w_points_centroid = districts_with_points_proj.centroid"
   ]
  },
  {
   "attachments": {},
   "cell_type": "markdown",
   "id": "8fc4cf24-d25b-47a9-bb8d-e7380729c4b2",
   "metadata": {},
   "source": [
    "### Mapa de oferta alimentaria\n",
    "\n",
    "Capas:  \n",
    "- Puntos\n",
    "- Limites distritales\n",
    "- Vecindarios"
   ]
  },
  {
   "cell_type": "code",
   "execution_count": null,
   "id": "928f8944-1410-486e-853a-93dd2cb71a46",
   "metadata": {},
   "outputs": [],
   "source": [
    "ax = lima_met_smooth_proj.plot(\n",
    "    facecolor=\"none\", edgecolor=\"lightgrey\", linewidth=2, figsize=(10, 10)\n",
    ")\n",
    "districts_with_points_proj.plot(\n",
    "    facecolor=\"none\", edgecolor=\"grey\", linewidth=1.5, ax=ax\n",
    ")\n",
    "\n",
    "texts = []\n",
    "for x, y, label in zip(\n",
    "    districts_w_points_centroid.geometry.x,\n",
    "    districts_w_points_centroid.geometry.y,\n",
    "    districts_with_points[\"DISTRITO\"].str.title(),\n",
    "):\n",
    "    texts.append(plt.text(x, y, label, fontsize=5))\n",
    "\n",
    "zona_carabayllo_proj.plot(\n",
    "    facecolor=\"none\", edgecolor=\"red\", linewidth=1, zorder=1, ax=ax\n",
    ")\n",
    "zona_pachacamac_proj.plot(\n",
    "    facecolor=\"none\", edgecolor=\"red\", linewidth=1, zorder=1, ax=ax\n",
    ")\n",
    "\n",
    "supermarkets_gpd_proj.plot(ax=ax, color=\"g\", markersize=25)\n",
    "bioferias_gpd_proj.plot(ax=ax, color=\"b\", markersize=25)\n",
    "biotiendas_gpd_proj.plot(ax=ax, color=\"orange\", markersize=25)\n",
    "ferias_sdp_gdf_proj.plot(ax=ax, color=\"c\", markersize=25)\n",
    "\n",
    "minx, miny, maxx, maxy = lima_met_smooth_proj.total_bounds\n",
    "margins = 100\n",
    "ax.set_xlim(minx - margins, maxx + margins)\n",
    "ax.set_ylim(miny - margins, maxy + margins)\n",
    "\n",
    "ax.add_artist(ScaleBar(1, location=\"lower right\"))\n",
    "\n",
    "g_patch = Line2D([0], [0], marker=\"o\", color=\"g\", linewidth=0, label=\"Wong\")\n",
    "b_patch = Line2D([0], [0], marker=\"o\", color=\"b\", linewidth=0, label=\"BioFerias\")\n",
    "orange_patch = Line2D(\n",
    "    [0], [0], marker=\"o\", color=\"orange\", linewidth=0, label=\"BioTiendas\"\n",
    ")\n",
    "c_patch = Line2D(\n",
    "    [0], [0], marker=\"o\", color=\"c\", linewidth=0, label=\"Ferias MML\\nItinerantes\"\n",
    ")\n",
    "\n",
    "r_line = Line2D([0], [0], color=\"r\", linewidth=1, label=\"Vecindarios Alim.\")\n",
    "g_line = Line2D([0], [0], color=\"grey\", linewidth=2, label=\"Distritos\")\n",
    "lg_line = Line2D([0], [0], color=\"lightgrey\", linewidth=4, label=\"Provincia\")\n",
    "\n",
    "plt.legend(handles=[b_patch, orange_patch, c_patch, g_patch, r_line, g_line, lg_line])\n",
    "\n",
    "ax.set_axis_off()\n",
    "cx.add_basemap(ax=ax, source=cx.providers.CartoDB.Positron, crs=UTM_CRS)\n",
    "\n",
    "plt.savefig(\n",
    "    \"outputs/producto_2/maps/puntos_distritos_vecindarios.png\",\n",
    "    dpi=300,\n",
    "    bbox_inches=\"tight\",\n",
    ")"
   ]
  },
  {
   "attachments": {},
   "cell_type": "markdown",
   "id": "37c40a83-d3db-4a79-8eb2-2b0af3e0da83",
   "metadata": {},
   "source": [
    "### Mapa de oferta alimentaria\n",
    "\n",
    "Capas:  \n",
    "- Puntos\n",
    "- Limites distritales\n",
    "- Vecindarios\n",
    "- Densidad"
   ]
  },
  {
   "cell_type": "code",
   "execution_count": null,
   "id": "bda1ec68-b761-49a9-9e2b-1be821a91751",
   "metadata": {},
   "outputs": [],
   "source": [
    "fig, ax = plt.subplots(1, 1, figsize=(10, 10))\n",
    "\n",
    "divider = make_axes_locatable(ax)\n",
    "\n",
    "cax = divider.append_axes(\"right\", size=\"5%\", pad=0.1)\n",
    "\n",
    "leg_kwds = {\"label\": \"Población por 0.10$km^2$\"}\n",
    "\n",
    "ax = lima_hexs_proj.plot(\n",
    "    \"population_2020\", cmap=\"Reds\", legend=True, legend_kwds=leg_kwds, cax=cax, ax=ax\n",
    ")\n",
    "\n",
    "\n",
    "lima_met_smooth_proj.plot(facecolor=\"none\", edgecolor=\"lightgrey\", linewidth=2, ax=ax)\n",
    "districts_with_points_proj.plot(\n",
    "    facecolor=\"none\", edgecolor=\"grey\", linewidth=1.5, ax=ax\n",
    ")\n",
    "\n",
    "# texts = []\n",
    "# for x, y, label in zip(districts_w_points_centroid.geometry.x, districts_w_points_centroid.geometry.y, districts_with_points[\"DISTRITO\"].str.title()):\n",
    "#    texts.append(plt.text(x, y, label, fontsize=5))\n",
    "\n",
    "zona_carabayllo_proj.plot(\n",
    "    facecolor=\"none\", edgecolor=\"red\", linewidth=1, zorder=1, ax=ax\n",
    ")\n",
    "zona_pachacamac_proj.plot(\n",
    "    facecolor=\"none\", edgecolor=\"red\", linewidth=1, zorder=1, ax=ax\n",
    ")\n",
    "supermarkets_gpd_proj.plot(ax=ax, color=\"g\", markersize=25)\n",
    "bioferias_gpd_proj.plot(ax=ax, color=\"b\", markersize=25, alpha=0.5)\n",
    "biotiendas_gpd_proj.plot(ax=ax, color=\"orange\", markersize=25, alpha=0.5)\n",
    "ferias_sdp_gdf_proj.plot(ax=ax, color=\"c\", markersize=25, alpha=0.5)\n",
    "\n",
    "minx, miny, maxx, maxy = lima_met_smooth_proj.total_bounds\n",
    "margins = 100\n",
    "ax.set_xlim(minx - margins, maxx + margins)\n",
    "ax.set_ylim(miny - margins, maxy + margins)\n",
    "\n",
    "ax.add_artist(ScaleBar(1, location=\"lower right\"))\n",
    "g_patch = Line2D([0], [0], marker=\"o\", color=\"g\", linewidth=0, label=\"Wong\")\n",
    "b_patch = Line2D([0], [0], marker=\"o\", color=\"b\", linewidth=0, label=\"BioFerias\")\n",
    "orange_patch = Line2D(\n",
    "    [0], [0], marker=\"o\", color=\"orange\", linewidth=0, label=\"BioTiendas\"\n",
    ")\n",
    "c_patch = Line2D(\n",
    "    [0], [0], marker=\"o\", color=\"c\", linewidth=0, label=\"Ferias MML\\nItinerantes\"\n",
    ")\n",
    "\n",
    "r_line = Line2D([0], [0], color=\"r\", linewidth=1, label=\"Vecindarios Alim.\")\n",
    "g_line = Line2D([0], [0], color=\"grey\", linewidth=2, label=\"Distritos\")\n",
    "lg_line = Line2D([0], [0], color=\"lightgrey\", linewidth=4, label=\"Provincia\")\n",
    "\n",
    "plt.legend(handles=[b_patch, orange_patch, c_patch, g_patch, r_line, g_line, lg_line])\n",
    "\n",
    "ax.set_axis_off()\n",
    "cx.add_basemap(ax=ax, source=cx.providers.CartoDB.Positron, crs=UTM_CRS)\n",
    "\n",
    "plt.savefig(\n",
    "    \"outputs/producto_2/maps/puntos_distritos_vecindarios_poblacion.png\",\n",
    "    dpi=300,\n",
    "    bbox_inches=\"tight\",\n",
    ")"
   ]
  },
  {
   "attachments": {},
   "cell_type": "markdown",
   "id": "ffe0d067-08ff-43ca-a1d5-31a1a5aa96d7",
   "metadata": {},
   "source": [
    "### Mapa de oferta alimentaria\n",
    "\n",
    "Capas:  \n",
    "- Puntos\n",
    "- Limites distritales\n",
    "- Vecindarios\n",
    "- Pobreza"
   ]
  },
  {
   "cell_type": "code",
   "execution_count": null,
   "id": "48375eb7-32bb-41ac-b004-d51c816c6825",
   "metadata": {},
   "outputs": [],
   "source": [
    "lima_hexs_proj[\"NSE\"] = lima_hexs_proj[\n",
    "    [\"Alto\", \"Bajo\", \"Medio\", \"Medio Alto\", \"Medio Bajo\"]\n",
    "].idxmax(axis=1)"
   ]
  },
  {
   "cell_type": "code",
   "execution_count": null,
   "id": "d9b9c7f6-a467-474b-929a-4df74e69d7ff",
   "metadata": {},
   "outputs": [],
   "source": [
    "cat_order = [\"Alto\", \"Medio Alto\", \"Medio\", \"Medio Bajo\", \"Bajo\"]\n",
    "ax = lima_hexs_proj.plot(\n",
    "    \"NSE\", cmap=\"Reds\", legend=True, categories=cat_order, alpha=0.45, figsize=(10, 10)\n",
    ")\n",
    "\n",
    "lima_met_smooth_proj.plot(facecolor=\"none\", edgecolor=\"lightgrey\", linewidth=2, ax=ax)\n",
    "districts_with_points_proj.plot(\n",
    "    facecolor=\"none\", edgecolor=\"grey\", linewidth=1.5, ax=ax\n",
    ")\n",
    "\n",
    "# texts = []\n",
    "# for x, y, label in zip(districts_w_points_centroid.geometry.x, districts_w_points_centroid.geometry.y, districts_with_points[\"DISTRITO\"].str.title()):\n",
    "#    texts.append(plt.text(x, y, label, fontsize=5))\n",
    "\n",
    "zona_carabayllo_proj.plot(\n",
    "    facecolor=\"none\", edgecolor=\"red\", linewidth=1, zorder=1, ax=ax\n",
    ")\n",
    "zona_pachacamac_proj.plot(\n",
    "    facecolor=\"none\", edgecolor=\"red\", linewidth=1, zorder=1, ax=ax\n",
    ")\n",
    "supermarkets_gpd_proj.plot(ax=ax, color=\"g\", markersize=25)\n",
    "bioferias_gpd_proj.plot(ax=ax, color=\"b\", markersize=25, alpha=0.5)\n",
    "biotiendas_gpd_proj.plot(ax=ax, color=\"orange\", markersize=25, alpha=0.5)\n",
    "ferias_sdp_gdf_proj.plot(ax=ax, color=\"c\", markersize=25, alpha=0.5)\n",
    "\n",
    "minx, miny, maxx, maxy = lima_met_smooth_proj.total_bounds\n",
    "margins = 100\n",
    "ax.set_xlim(minx - margins, maxx + margins)\n",
    "ax.set_ylim(miny - margins, maxy + margins)\n",
    "\n",
    "ax.add_artist(ScaleBar(1, location=\"lower right\"))\n",
    "g_patch = Line2D([0], [0], marker=\"o\", color=\"g\", linewidth=0, label=\"Wong\")\n",
    "b_patch = Line2D([0], [0], marker=\"o\", color=\"b\", linewidth=0, label=\"BioFerias\")\n",
    "orange_patch = Line2D(\n",
    "    [0], [0], marker=\"o\", color=\"orange\", linewidth=0, label=\"BioTiendas\"\n",
    ")\n",
    "c_patch = Line2D(\n",
    "    [0], [0], marker=\"o\", color=\"c\", linewidth=0, label=\"Ferias MML\\nItinerantes\"\n",
    ")\n",
    "\n",
    "r_line = Line2D([0], [0], color=\"r\", linewidth=1, label=\"Vecindarios Alim.\")\n",
    "g_line = Line2D([0], [0], color=\"grey\", linewidth=2, label=\"Distritos\")\n",
    "lg_line = Line2D([0], [0], color=\"lightgrey\", linewidth=4, label=\"Provincia\")\n",
    "\n",
    "new_handlers = [b_patch, orange_patch, c_patch, g_patch, r_line, g_line, lg_line]\n",
    "new_labels = [p.get_label() for p in new_handlers]\n",
    "\n",
    "leg = ax.get_legend()\n",
    "handlers = leg.legendHandles\n",
    "labels = [text.get_text() for text in leg.texts]\n",
    "\n",
    "ax.legend(\n",
    "    handlers + new_handlers, labels + new_labels, title=\"INEI - Nivel\\nSocioeconómico\"\n",
    ")\n",
    "\n",
    "ax.set_axis_off()\n",
    "cx.add_basemap(ax=ax, source=cx.providers.CartoDB.Positron, crs=UTM_CRS)\n",
    "\n",
    "plt.savefig(\n",
    "    \"outputs/producto_2/maps/puntos_distritos_vecindarios_nse.png\",\n",
    "    dpi=300,\n",
    "    bbox_inches=\"tight\",\n",
    ")"
   ]
  },
  {
   "attachments": {},
   "cell_type": "markdown",
   "id": "3bd5fafb-0a3e-4cbf-b45a-ea51f07dea45",
   "metadata": {},
   "source": [
    "### Mapa de oferta alimentaria\n",
    "\n",
    "Capas:  \n",
    "- Puntos\n",
    "- Limites distritales\n",
    "- Vecindarios\n",
    "- Accessibilidad"
   ]
  },
  {
   "cell_type": "code",
   "execution_count": null,
   "id": "d6dff8c8-ff8f-4610-a72e-5deb86458d02",
   "metadata": {},
   "outputs": [],
   "source": [
    "lima_hexs_proj[\"duration_to_nearest_poi_label\"].unique()"
   ]
  },
  {
   "cell_type": "code",
   "execution_count": null,
   "id": "277a48fe-0a2d-4003-94c0-f54547c7c4b9",
   "metadata": {},
   "outputs": [],
   "source": [
    "cat_order = [\n",
    "    \"Más de 120\",\n",
    "    \"De 90 a 120\",\n",
    "    \"De 60 a 90\",\n",
    "    \"De 45 a 60\",\n",
    "    \"De 30 a 45\",\n",
    "    \"De 15 a 30\",\n",
    "    \"De 0 a 15\",\n",
    "]\n",
    "\n",
    "dff = lima_hexs_proj.query(\"population_2020 > 0\").query(\n",
    "    \"duration_to_nearest_poi_label != 'nan'\"\n",
    ")\n",
    "ax = dff.plot(\n",
    "    \"duration_to_nearest_poi_label\",\n",
    "    cmap=\"magma\",\n",
    "    legend=True,\n",
    "    categories=cat_order,\n",
    "    alpha=0.6,\n",
    "    figsize=(10, 10),\n",
    ")\n",
    "\n",
    "lima_met_smooth_proj.plot(facecolor=\"none\", edgecolor=\"lightgrey\", linewidth=2, ax=ax)\n",
    "districts_with_points_proj.plot(\n",
    "    facecolor=\"none\", edgecolor=\"grey\", linewidth=1.5, ax=ax\n",
    ")\n",
    "\n",
    "# texts = []\n",
    "# for x, y, label in zip(districts_w_points_centroid.geometry.x, districts_w_points_centroid.geometry.y, districts_with_points[\"DISTRITO\"].str.title()):\n",
    "#    texts.append(plt.text(x, y, label, fontsize=5))\n",
    "\n",
    "zona_carabayllo_proj.plot(\n",
    "    facecolor=\"none\", edgecolor=\"red\", linewidth=1, zorder=1, ax=ax\n",
    ")\n",
    "zona_pachacamac_proj.plot(\n",
    "    facecolor=\"none\", edgecolor=\"red\", linewidth=1, zorder=1, ax=ax\n",
    ")\n",
    "supermarkets_gpd_proj.plot(ax=ax, color=\"g\", markersize=25)\n",
    "bioferias_gpd_proj.plot(ax=ax, color=\"b\", markersize=25, alpha=0.5)\n",
    "biotiendas_gpd_proj.plot(ax=ax, color=\"orange\", markersize=25, alpha=0.5)\n",
    "ferias_sdp_gdf_proj.plot(ax=ax, color=\"c\", markersize=25, alpha=0.5)\n",
    "\n",
    "minx, miny, maxx, maxy = lima_met_smooth_proj.total_bounds\n",
    "margins = 100\n",
    "ax.set_xlim(minx - margins, maxx + margins)\n",
    "ax.set_ylim(miny - margins, maxy + margins)\n",
    "\n",
    "ax.add_artist(ScaleBar(1, location=\"lower right\"))\n",
    "g_patch = Line2D([0], [0], marker=\"o\", color=\"g\", linewidth=0, label=\"Wong\")\n",
    "b_patch = Line2D([0], [0], marker=\"o\", color=\"b\", linewidth=0, label=\"BioFerias\")\n",
    "orange_patch = Line2D(\n",
    "    [0], [0], marker=\"o\", color=\"orange\", linewidth=0, label=\"BioTiendas\"\n",
    ")\n",
    "c_patch = Line2D(\n",
    "    [0], [0], marker=\"o\", color=\"c\", linewidth=0, label=\"Ferias MML\\nItinerantes\"\n",
    ")\n",
    "\n",
    "r_line = Line2D([0], [0], color=\"r\", linewidth=1, label=\"Vecindarios Alim.\")\n",
    "g_line = Line2D([0], [0], color=\"grey\", linewidth=2, label=\"Distritos\")\n",
    "lg_line = Line2D([0], [0], color=\"lightgrey\", linewidth=4, label=\"Provincia\")\n",
    "\n",
    "new_handlers = [b_patch, orange_patch, c_patch, g_patch, r_line, g_line, lg_line]\n",
    "new_labels = [p.get_label() for p in new_handlers]\n",
    "\n",
    "leg = ax.get_legend()\n",
    "handlers = leg.legendHandles\n",
    "labels = [text.get_text() for text in leg.texts]\n",
    "\n",
    "ax.legend(\n",
    "    handlers + new_handlers,\n",
    "    labels + new_labels,\n",
    "    title=\"Tiempo de viaje\\ncaminando (min)\",\n",
    ")\n",
    "\n",
    "ax.set_axis_off()\n",
    "cx.add_basemap(ax=ax, source=cx.providers.CartoDB.Positron, crs=UTM_CRS)\n",
    "\n",
    "plt.savefig(\n",
    "    \"outputs/producto_2/maps/puntos_distritos_vecindarios_accesibilidad.png\",\n",
    "    dpi=300,\n",
    "    bbox_inches=\"tight\",\n",
    ")"
   ]
  },
  {
   "attachments": {},
   "cell_type": "markdown",
   "id": "dfaf3300-e7dc-4efd-9ff5-a8cc62d00d96",
   "metadata": {},
   "source": [
    "- cuantas son\n",
    "- que frecuencia\n",
    "- distancia \n",
    "- (accesibilidad) minutos caminando | autos (tiempo de viaje)"
   ]
  },
  {
   "cell_type": "code",
   "execution_count": null,
   "id": "b3e92ede-281e-4a8d-9d29-c44ff14b4d6e",
   "metadata": {},
   "outputs": [],
   "source": [
    "bioferias_gpd.head()"
   ]
  },
  {
   "cell_type": "code",
   "execution_count": null,
   "id": "526c7288-6817-4149-bc52-97282d1e6e73",
   "metadata": {},
   "outputs": [],
   "source": [
    "bioferias_gpd.columns"
   ]
  },
  {
   "cell_type": "code",
   "execution_count": null,
   "id": "b65a76fe-c5b5-4297-81ff-00ff31f427df",
   "metadata": {},
   "outputs": [],
   "source": [
    "biotiendas_gpd.head()"
   ]
  },
  {
   "cell_type": "code",
   "execution_count": null,
   "id": "cc54d6e7-dd14-4467-ac76-56a150431abd",
   "metadata": {},
   "outputs": [],
   "source": [
    "biotiendas_gpd.columns"
   ]
  },
  {
   "cell_type": "code",
   "execution_count": null,
   "id": "98abba38-2f11-435e-b511-fa2d84f638d3",
   "metadata": {},
   "outputs": [],
   "source": [
    "ferias_sdp_gdf.head()"
   ]
  },
  {
   "cell_type": "code",
   "execution_count": null,
   "id": "045bfe0d-a8e6-4c70-b0b7-bbc8fe01b476",
   "metadata": {},
   "outputs": [],
   "source": [
    "ferias_sdp_gdf.columns"
   ]
  },
  {
   "cell_type": "code",
   "execution_count": null,
   "id": "5e707e6e-f622-4ce4-8fa3-bd0c00f57198",
   "metadata": {},
   "outputs": [],
   "source": [
    "[\n",
    "    \"Actividad\",\n",
    "    \"inicio\",\n",
    "    \"fin\",\n",
    "    \"Lugar\",\n",
    "    \"Referencia\",\n",
    "    \"Google maps url\",\n",
    "    \"latitude\",\n",
    "    \"longitude\",\n",
    "    \"geometry\",\n",
    "]"
   ]
  },
  {
   "attachments": {},
   "cell_type": "markdown",
   "id": "c539e644-9d00-4e94-9f61-aa60da736e6e",
   "metadata": {},
   "source": [
    "IDRC ($ 3200)\n",
    "- Armar base unica de kobotoolbox \n",
    "- Limpiar base\n",
    "- Priorizacion de variables\n",
    "- Georreferenciar dataset vecindarios \n",
    "- Ejes de analisis espacial\n",
    "\n",
    "CIP ($ 3000)\n",
    "- Subir encuesta de Juan a kobotoolbox \n",
    "- Limpiar base \n",
    "\n",
    "Oferta alimentaria agroecologica\n",
    "- Puntos\n",
    "- Limites de distritos\n",
    "- Pobreza\n",
    "- Densidad de poblacion\n",
    "- Vecindarios Alimentarios\n",
    " \n",
    "- cuantas son\n",
    "- que frecuencia\n",
    "- distancia \n",
    "- (accesibilidad) minutos caminando | autos (tiempo de viaje)"
   ]
  },
  {
   "cell_type": "code",
   "execution_count": null,
   "id": "33a2eb27",
   "metadata": {},
   "outputs": [],
   "source": [
    "supermarkets_gpd"
   ]
  },
  {
   "cell_type": "code",
   "execution_count": null,
   "id": "53935fbb",
   "metadata": {},
   "outputs": [],
   "source": [
    "supermarkets_gpd"
   ]
  },
  {
   "cell_type": "code",
   "execution_count": null,
   "id": "ac235839-2932-45dd-b546-3a11f1cc8dff",
   "metadata": {},
   "outputs": [],
   "source": [
    "biopoints = pd.concat(\n",
    "    [\n",
    "        bioferias_gpd.geometry,\n",
    "        biotiendas_gpd.geometry,\n",
    "        ferias_sdp_gdf.geometry,\n",
    "        supermarkets_gpd.geometry,\n",
    "    ]\n",
    ")"
   ]
  },
  {
   "cell_type": "code",
   "execution_count": null,
   "id": "58e3a3dd",
   "metadata": {},
   "outputs": [],
   "source": [
    "biopoints.shape"
   ]
  },
  {
   "cell_type": "code",
   "execution_count": null,
   "id": "737a7b60-7c33-4317-bf1c-5722b1b6542b",
   "metadata": {},
   "outputs": [],
   "source": [
    "biopoints.to_file(\"outputs/data/bio_points_w_wong.geojson\")"
   ]
  },
  {
   "cell_type": "code",
   "execution_count": null,
   "id": "9e8cbeed-4d83-48ac-9800-438e722e47ea",
   "metadata": {},
   "outputs": [],
   "source": []
  }
 ],
 "metadata": {
  "kernelspec": {
   "display_name": "Python 3.10.8 ('foodhub')",
   "language": "python",
   "name": "python3"
  },
  "language_info": {
   "codemirror_mode": {
    "name": "ipython",
    "version": 3
   },
   "file_extension": ".py",
   "mimetype": "text/x-python",
   "name": "python",
   "nbconvert_exporter": "python",
   "pygments_lexer": "ipython3",
   "version": "3.10.10"
  },
  "vscode": {
   "interpreter": {
    "hash": "e658bfc97ecd70c7dea766bce17f1a0e667e24077454682876e78fda26193a5a"
   }
  }
 },
 "nbformat": 4,
 "nbformat_minor": 5
}
