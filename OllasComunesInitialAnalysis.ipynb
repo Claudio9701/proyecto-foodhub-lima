{
 "cells": [
  {
   "cell_type": "code",
   "execution_count": null,
   "id": "c2d15e50-b433-4e1d-b46d-7279ffa70053",
   "metadata": {},
   "outputs": [],
   "source": [
    "import urbanpy as up\n",
    "import pandas as pd\n",
    "import geopandas as gpd\n",
    "import contextily as cx\n",
    "import matplotlib.pyplot as plt\n",
    "from pandas_profiling import ProfileReport"
   ]
  },
  {
   "cell_type": "code",
   "execution_count": null,
   "id": "a0036f30-5424-4794-9015-610056510e54",
   "metadata": {},
   "outputs": [],
   "source": [
    "df = pd.read_excel(\n",
    "    \"/home/claudio/Downloads/Análisis_de_las_Ollas_Comunes_Lima_Metropolitana_-_all_versions_-_labels_-_2023-02-23-01-03-45.xlsx\"\n",
    ")"
   ]
  },
  {
   "cell_type": "code",
   "execution_count": null,
   "id": "b0332041-9133-45e5-9051-61bd2540f691",
   "metadata": {},
   "outputs": [],
   "source": [
    "df.head()"
   ]
  },
  {
   "cell_type": "code",
   "execution_count": null,
   "id": "d11047df-43a1-46cd-991a-5b8baf20c13d",
   "metadata": {},
   "outputs": [],
   "source": [
    "df.columns"
   ]
  },
  {
   "cell_type": "code",
   "execution_count": null,
   "id": "3096a5d3-2e5c-42ff-a33d-3f2096f0f676",
   "metadata": {},
   "outputs": [],
   "source": [
    "import locale\n",
    "\n",
    "locale.setlocale(locale.LC_ALL, \"es_ES.UTF-8\")"
   ]
  },
  {
   "cell_type": "code",
   "execution_count": null,
   "id": "db2ee078-930d-4a2c-9f77-2a2508248112",
   "metadata": {},
   "outputs": [],
   "source": [
    "from datetime import datetime as dt\n",
    "\n",
    "datetime_object = dt.strptime(\"16 septiembre 2021\", \"%d %B %Y\")\n",
    "datetime_object"
   ]
  },
  {
   "cell_type": "code",
   "execution_count": null,
   "id": "9239c1e9-ec70-4b6f-91b9-3d76b6145665",
   "metadata": {},
   "outputs": [],
   "source": [
    "df.iloc[16, 1:10]"
   ]
  },
  {
   "cell_type": "code",
   "execution_count": null,
   "id": "9e45d850-8207-4691-8929-5075e8d628e1",
   "metadata": {},
   "outputs": [],
   "source": [
    "c = (\n",
    "    df[\n",
    "        \"¿Cuándo comenzó a funcionar la olla común? (colocar mes y año, ejemplo: enero 2020) \"\n",
    "    ]\n",
    "    .str.lower()\n",
    "    .replace(\n",
    "        {\"16 setiembre 2021\": \"16 septiembre 2021\", \"setiembre 2020\": \"septiembre 2020\"}\n",
    "    )\n",
    "    .str.split(\" \")\n",
    "    .apply(lambda x: x[-2] + \" \" + x[-1] if len(x) > 1 else x[0])\n",
    ")"
   ]
  },
  {
   "cell_type": "code",
   "execution_count": null,
   "id": "a1445df6-9f9b-464d-b963-1554091e50ab",
   "metadata": {},
   "outputs": [],
   "source": [
    "c.loc[13] = \"enero 2020\""
   ]
  },
  {
   "cell_type": "code",
   "execution_count": null,
   "id": "d0610962-386f-41bc-b609-b445625e059e",
   "metadata": {},
   "outputs": [],
   "source": [
    "c.loc[18] = \"junio 2020\""
   ]
  },
  {
   "cell_type": "code",
   "execution_count": null,
   "id": "81964c09-15cb-4012-b050-f47acbbac1c0",
   "metadata": {},
   "outputs": [],
   "source": [
    "fechas = pd.to_datetime(c, format=\"%B %Y\")"
   ]
  },
  {
   "cell_type": "code",
   "execution_count": null,
   "id": "14a99fd4-eaad-424a-8fde-a35f8cc6628d",
   "metadata": {},
   "outputs": [],
   "source": [
    "ax = fechas.hist(xrot=50, bins=20)\n",
    "ax.set_title(\"¿Cuándo comenzó a funcionar la olla común?\")\n",
    "ax.set_ylabel(\"Número de ollas\")\n",
    "plt.show()"
   ]
  },
  {
   "cell_type": "code",
   "execution_count": null,
   "id": "35a01f40-cbe7-4112-86ec-6bdaff90e111",
   "metadata": {},
   "outputs": [],
   "source": [
    "ax = (\n",
    "    fechas.rename(\"fechas\")\n",
    "    .reset_index()\n",
    "    .plot.scatter(\"fechas\", \"index\", s=50, c=\"fechas\", cmap=\"Viridis\")\n",
    ")\n",
    "\n",
    "ax.set_ylabel(\"\")\n",
    "ax.set_yticks([])\n",
    "ax.set_xlabel(\"Fecha de inicio\")\n",
    "ax.set_xticks(ax.get_xticks(), ax.get_xticklabels(), rotation=45, ha=\"right\")\n",
    "ax.set_title(\"¿Cuándo comenzó a funcionar la olla común?\")"
   ]
  },
  {
   "cell_type": "code",
   "execution_count": null,
   "id": "1b8a2c17-f232-412f-97d4-522ba9c62be8",
   "metadata": {},
   "outputs": [],
   "source": [
    "regis_cols = df.columns[df.columns.str.startswith(\"La olla común está registrada en\")]"
   ]
  },
  {
   "cell_type": "code",
   "execution_count": null,
   "id": "2a77874e-4ea1-4b94-8d5a-d1e60da65d25",
   "metadata": {},
   "outputs": [],
   "source": [
    "regis_cols"
   ]
  },
  {
   "cell_type": "code",
   "execution_count": null,
   "id": "bbe9bccd-d606-490b-91e6-8992e6fe244c",
   "metadata": {},
   "outputs": [],
   "source": [
    "title = {\n",
    "    \"La olla común está registrada en: (puede marcar más de una opción)\": \"¿Dónde está registrada la olla común?\",\n",
    "    \"La olla común está registrada en: (puede marcar más de una opción)/Mancachay\": \"La olla común está registrada en Mancachay\",\n",
    "    \"La olla común está registrada en: (puede marcar más de una opción)/RUOS - Municipio distrital\": \"La olla común está registrada en RUOS - Municipio distrital\",\n",
    "    \"La olla común está registrada en: (puede marcar más de una opción)/Otro\": \"La olla común está registrada en Otra opción\",\n",
    "    \"La olla común está registrada en: (puede marcar más de una opción)/No está registrada\": \"La olla común no está registrada\",\n",
    "}"
   ]
  },
  {
   "cell_type": "code",
   "execution_count": null,
   "id": "421e4f59-aa55-41f8-8177-f2c4e199586f",
   "metadata": {},
   "outputs": [],
   "source": [
    "for col in regis_cols:\n",
    "    ax = df[col].value_counts().plot.bar()\n",
    "    ax.set_title(title[col])\n",
    "    for p in ax.patches:\n",
    "        ax.annotate(str(p.get_height()), (p.get_x() * 1.005, p.get_height() * 1.005))\n",
    "    plt.show()"
   ]
  },
  {
   "cell_type": "code",
   "execution_count": null,
   "id": "0dcc71ba-d729-464e-bf52-e756f7b5e286",
   "metadata": {},
   "outputs": [],
   "source": [
    "socios_cols = [\n",
    "    \"En el momento de su conformación ¿Cuántos socios y socias conformaban la olla común (Padrón)? (coloque sólo el número, por ejemplo: 15)\",\n",
    "    \"En la actualidad ¿Cuántos socios y socias conforman la olla común (Padrón)? (coloque sólo el número, por ejemplo: 15)\",\n",
    "    \"En la actualidad ¿Cuántas mujeres son socias de la olla común? (coloque sólo el número, por ejemplo: 5)\",\n",
    "]"
   ]
  },
  {
   "cell_type": "code",
   "execution_count": null,
   "id": "effd79ca-9c5e-45ad-b8af-942e1ad328f3",
   "metadata": {},
   "outputs": [],
   "source": [
    "df[socios_cols].describe().round(2).to_clipboard()"
   ]
  },
  {
   "cell_type": "code",
   "execution_count": null,
   "id": "e3313074-e50f-4997-805c-4fbfc565870f",
   "metadata": {},
   "outputs": [],
   "source": [
    "df[\n",
    "    \"¿Cuánto cobran por ración? (coloque sólo el número y para los céntimos utilice un punto, por ejemplo: 1.5 o 2.0)\"\n",
    "].describe().to_clipboard()"
   ]
  },
  {
   "cell_type": "code",
   "execution_count": null,
   "id": "03f5b56f-3e5b-44f2-97e7-13ab3dbc5a13",
   "metadata": {},
   "outputs": [],
   "source": [
    "comidas_cols = [\n",
    "    \"¿Qué comidas ofrece la olla común? (puede marcar más de una opción)\",\n",
    "    \"¿Qué comidas ofrece la olla común? (puede marcar más de una opción)/Desayuno\",\n",
    "    \"¿Qué comidas ofrece la olla común? (puede marcar más de una opción)/Almuerzo\",\n",
    "    \"¿Qué comidas ofrece la olla común? (puede marcar más de una opción)/Lonche\",\n",
    "    \"¿Qué comidas ofrece la olla común? (puede marcar más de una opción)/Cena\",\n",
    "]"
   ]
  },
  {
   "cell_type": "code",
   "execution_count": null,
   "id": "eb50ef3f-64ea-4493-9cfc-486c4403dba6",
   "metadata": {},
   "outputs": [],
   "source": [
    "titles = [\n",
    "    \"¿Qué comidas ofrece la olla común?\",\n",
    "    \"La olla común ofrece desayuno\",\n",
    "    \"La olla común ofrece almuerzo\",\n",
    "    \"La olla común ofrece lonche\",\n",
    "    \"La olla común cena\",\n",
    "]"
   ]
  },
  {
   "cell_type": "code",
   "execution_count": null,
   "id": "533fa2b3-8fca-44dc-961d-d0fda94ea62c",
   "metadata": {},
   "outputs": [],
   "source": [
    "for i, col in enumerate(comidas_cols):\n",
    "    ax = df[col].value_counts().plot.bar()\n",
    "    ax.set_title(titles[i])\n",
    "    for p in ax.patches:\n",
    "        ax.annotate(str(p.get_height()), (p.get_x() * 1.005, p.get_height() * 1.005))\n",
    "    plt.show()"
   ]
  },
  {
   "cell_type": "code",
   "execution_count": null,
   "id": "71fed664-8d11-4e70-ac42-931a5c4fbcd5",
   "metadata": {},
   "outputs": [],
   "source": [
    "equip_cols = [\n",
    "    \"La olla común cuenta con: (marque todas las que correspondan)\",\n",
    "    \"La olla común cuenta con: (marque todas las que correspondan)/Menajes (ollas, cubiertos, cuchillos, etc.)\",\n",
    "    \"La olla común cuenta con: (marque todas las que correspondan)/Refrigeradora\",\n",
    "    \"La olla común cuenta con: (marque todas las que correspondan)/Equipamientos (cocina, mesas, etc.)\",\n",
    "    \"La olla común cuenta con: (marque todas las que correspondan)/Reservorios de agua\",\n",
    "]"
   ]
  },
  {
   "cell_type": "code",
   "execution_count": null,
   "id": "9141543b-b2c5-4f56-ac93-a935b6249fa0",
   "metadata": {},
   "outputs": [],
   "source": [
    "titles_equip = [\n",
    "    \"La olla común cuenta con:\",\n",
    "    \"La olla común cuenta con Menajes\",\n",
    "    \"La olla común cuenta con Refrigerador\",\n",
    "    \"La olla común cuenta con Equipamientos\",\n",
    "    \"La olla común cuenta con Reservorios de agua\",\n",
    "]"
   ]
  },
  {
   "cell_type": "code",
   "execution_count": null,
   "id": "09340fbc-7f90-4834-b717-0f2988033b1e",
   "metadata": {},
   "outputs": [],
   "source": [
    "df[\n",
    "    [\n",
    "        \"La olla común cuenta con: (marque todas las que correspondan)/Menajes (ollas, cubiertos, cuchillos, etc.)\",\n",
    "        \"La olla común cuenta con: (marque todas las que correspondan)/Refrigeradora\",\n",
    "        \"La olla común cuenta con: (marque todas las que correspondan)/Equipamientos (cocina, mesas, etc.)\",\n",
    "        \"La olla común cuenta con: (marque todas las que correspondan)/Reservorios de agua\",\n",
    "    ]\n",
    "] = df[\n",
    "    [\n",
    "        \"La olla común cuenta con: (marque todas las que correspondan)/Menajes (ollas, cubiertos, cuchillos, etc.)\",\n",
    "        \"La olla común cuenta con: (marque todas las que correspondan)/Refrigeradora\",\n",
    "        \"La olla común cuenta con: (marque todas las que correspondan)/Equipamientos (cocina, mesas, etc.)\",\n",
    "        \"La olla común cuenta con: (marque todas las que correspondan)/Reservorios de agua\",\n",
    "    ]\n",
    "].replace(\n",
    "    {1: \"Sí\", 0: \"No\"}\n",
    ")"
   ]
  },
  {
   "cell_type": "code",
   "execution_count": null,
   "id": "33f0bfa1-a6b8-4a17-bd0c-1c28c362a01c",
   "metadata": {},
   "outputs": [],
   "source": [
    "for i, col in enumerate(equip_cols):\n",
    "    ax = df[col].value_counts().plot.bar()\n",
    "    ax.set_title(titles_equip[i])\n",
    "    for p in ax.patches:\n",
    "        ax.annotate(str(p.get_height()), (p.get_x() * 1.005, p.get_height() * 1.005))\n",
    "    plt.show()"
   ]
  },
  {
   "cell_type": "code",
   "execution_count": null,
   "id": "3b10a8e2-ca47-4298-bfd0-6e537fd50237",
   "metadata": {},
   "outputs": [],
   "source": []
  }
 ],
 "metadata": {
  "kernelspec": {
   "display_name": "Python 3 (ipykernel)",
   "language": "python",
   "name": "python3"
  },
  "language_info": {
   "codemirror_mode": {
    "name": "ipython",
    "version": 3
   },
   "file_extension": ".py",
   "mimetype": "text/x-python",
   "name": "python",
   "nbconvert_exporter": "python",
   "pygments_lexer": "ipython3",
   "version": "3.10.9"
  }
 },
 "nbformat": 4,
 "nbformat_minor": 5
}
