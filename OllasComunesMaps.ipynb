{
 "cells": [
  {
   "cell_type": "code",
   "execution_count": null,
   "id": "c2d15e50-b433-4e1d-b46d-7279ffa70053",
   "metadata": {},
   "outputs": [],
   "source": [
    "import urbanpy as up\n",
    "import pandas as pd\n",
    "import geopandas as gpd\n",
    "import contextily as cx\n",
    "import matplotlib.pyplot as plt\n",
    "from pandas_profiling import ProfileReport"
   ]
  },
  {
   "cell_type": "code",
   "execution_count": null,
   "id": "a0036f30-5424-4794-9015-610056510e54",
   "metadata": {},
   "outputs": [],
   "source": [
    "df = pd.read_excel(\n",
    "    \"/home/claudio/Downloads/Análisis_de_las_Ollas_Comunes_Lima_Metropolitana_-_all_versions_-_labels_-_2023-02-23-01-03-45.xlsx\"\n",
    ")"
   ]
  },
  {
   "cell_type": "code",
   "execution_count": null,
   "id": "b0332041-9133-45e5-9051-61bd2540f691",
   "metadata": {},
   "outputs": [],
   "source": [
    "df.head()"
   ]
  },
  {
   "cell_type": "code",
   "execution_count": null,
   "id": "d11047df-43a1-46cd-991a-5b8baf20c13d",
   "metadata": {},
   "outputs": [],
   "source": [
    "df.columns"
   ]
  },
  {
   "cell_type": "code",
   "execution_count": null,
   "id": "58cfedef-41e1-4310-aa42-9994925a4b92",
   "metadata": {},
   "outputs": [],
   "source": [
    "profile = ProfileReport(df=df, minimal=True)"
   ]
  },
  {
   "cell_type": "code",
   "execution_count": null,
   "id": "be7e139b-ab11-45b0-aac9-bfb5607dde99",
   "metadata": {},
   "outputs": [],
   "source": [
    "profile.to_file(\"reporte_analisis_ollas.html\")"
   ]
  },
  {
   "cell_type": "code",
   "execution_count": null,
   "id": "24cb526a-b845-41b6-b51a-09129ad03608",
   "metadata": {},
   "outputs": [],
   "source": []
  },
  {
   "cell_type": "code",
   "execution_count": null,
   "id": "ccaf93ec",
   "metadata": {},
   "outputs": [],
   "source": [
    "profile = ProfileReport(df=df, minimal=True)"
   ]
  },
  {
   "cell_type": "code",
   "execution_count": null,
   "id": "42441102-4b6a-4008-879d-5ffbda990c49",
   "metadata": {},
   "outputs": [],
   "source": [
    "gdf = gpd.GeoDataFrame(\n",
    "    df,\n",
    "    geometry=gpd.points_from_xy(\n",
    "        df[\"_Ubicacion GPS_longitude\"], df[\"_Ubicacion GPS_latitude\"]\n",
    "    ),\n",
    "    crs=4326,\n",
    ")"
   ]
  },
  {
   "cell_type": "code",
   "execution_count": null,
   "id": "66c47b39-ae6b-493b-8537-e312319f246c",
   "metadata": {},
   "outputs": [],
   "source": [
    "ax = gdf.plot(figsize=(30, 5))\n",
    "\n",
    "\n",
    "ax.set_axis_off()\n",
    "cx.add_basemap(ax, source=cx.providers.CartoDB.Positron, crs=4326)\n",
    "plt.tight_layout()"
   ]
  },
  {
   "cell_type": "code",
   "execution_count": null,
   "id": "dbaf3ec9-6582-401d-a86d-b26f864bf961",
   "metadata": {},
   "outputs": [],
   "source": [
    "gdf.dropna(subset=\"_Ubicacion GPS_longitude\")[[\"geometry\"]].explore()"
   ]
  },
  {
   "cell_type": "code",
   "execution_count": null,
   "id": "3b10a8e2-ca47-4298-bfd0-6e537fd50237",
   "metadata": {},
   "outputs": [],
   "source": []
  }
 ],
 "metadata": {
  "kernelspec": {
   "display_name": "Python 3 (ipykernel)",
   "language": "python",
   "name": "python3"
  },
  "language_info": {
   "codemirror_mode": {
    "name": "ipython",
    "version": 3
   },
   "file_extension": ".py",
   "mimetype": "text/x-python",
   "name": "python",
   "nbconvert_exporter": "python",
   "pygments_lexer": "ipython3",
   "version": "3.10.9"
  }
 },
 "nbformat": 4,
 "nbformat_minor": 5
}
