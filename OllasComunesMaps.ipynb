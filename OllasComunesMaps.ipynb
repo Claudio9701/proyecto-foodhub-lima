{
 "cells": [
  {
   "cell_type": "code",
   "execution_count": 1,
   "id": "c2d15e50-b433-4e1d-b46d-7279ffa70053",
   "metadata": {},
   "outputs": [],
   "source": [
    "import urbanpy as up\n",
    "import pandas as pd\n",
    "import geopandas as gpd\n",
    "import contextily as cx\n",
    "import matplotlib.pyplot as plt\n",
    "from pandas_profiling import ProfileReport"
   ]
  },
  {
   "cell_type": "code",
   "execution_count": 2,
   "id": "a0036f30-5424-4794-9015-610056510e54",
   "metadata": {},
   "outputs": [],
   "source": [
    "df = pd.read_excel(\"/home/claudio/Downloads/Análisis_de_las_Ollas_Comunes_Lima_Metropolitana_-_all_versions_-_labels_-_2023-02-23-01-03-45.xlsx\")"
   ]
  },
  {
   "cell_type": "code",
   "execution_count": 3,
   "id": "b0332041-9133-45e5-9051-61bd2540f691",
   "metadata": {},
   "outputs": [
    {
     "data": {
      "text/html": [
       "<div>\n",
       "<style scoped>\n",
       "    .dataframe tbody tr th:only-of-type {\n",
       "        vertical-align: middle;\n",
       "    }\n",
       "\n",
       "    .dataframe tbody tr th {\n",
       "        vertical-align: top;\n",
       "    }\n",
       "\n",
       "    .dataframe thead th {\n",
       "        text-align: right;\n",
       "    }\n",
       "</style>\n",
       "<table border=\"1\" class=\"dataframe\">\n",
       "  <thead>\n",
       "    <tr style=\"text-align: right;\">\n",
       "      <th></th>\n",
       "      <th>start</th>\n",
       "      <th>end</th>\n",
       "      <th>Nombre de la olla común</th>\n",
       "      <th>Nombre de la persona responsable (Presidente/a)</th>\n",
       "      <th>Teléfono de la persona de contacto</th>\n",
       "      <th>Dirección de la olla común</th>\n",
       "      <th>Distrito de la olla común</th>\n",
       "      <th>¿Dónde cocina la olla común?</th>\n",
       "      <th>Por favor, especifique:</th>\n",
       "      <th>¿Cuándo comenzó a funcionar la olla común? (colocar mes y año, ejemplo: enero 2020)</th>\n",
       "      <th>...</th>\n",
       "      <th>_id</th>\n",
       "      <th>_uuid</th>\n",
       "      <th>_submission_time</th>\n",
       "      <th>_validation_status</th>\n",
       "      <th>_notes</th>\n",
       "      <th>_status</th>\n",
       "      <th>_submitted_by</th>\n",
       "      <th>__version__</th>\n",
       "      <th>_tags</th>\n",
       "      <th>_index</th>\n",
       "    </tr>\n",
       "  </thead>\n",
       "  <tbody>\n",
       "    <tr>\n",
       "      <th>0</th>\n",
       "      <td>2022-10-19 14:36:45.587</td>\n",
       "      <td>2022-10-19 14:50:47.044</td>\n",
       "      <td>Santima Cruz de Paul Poblet</td>\n",
       "      <td>NaN</td>\n",
       "      <td>953797304</td>\n",
       "      <td>Mz C lote 1 A.H. Paul Poblet Lind</td>\n",
       "      <td>Pachacámac</td>\n",
       "      <td>Otro</td>\n",
       "      <td>Terreno cedido por la directiva</td>\n",
       "      <td>16 setiembre 2021</td>\n",
       "      <td>...</td>\n",
       "      <td>193596702</td>\n",
       "      <td>7ac31ec1-2dae-4942-81da-68f46290db74</td>\n",
       "      <td>2022-10-19 19:50:57</td>\n",
       "      <td>NaN</td>\n",
       "      <td>NaN</td>\n",
       "      <td>submitted_via_web</td>\n",
       "      <td>NaN</td>\n",
       "      <td>vL9KbAcSn8CYpKzoVBVLhv</td>\n",
       "      <td>NaN</td>\n",
       "      <td>1</td>\n",
       "    </tr>\n",
       "    <tr>\n",
       "      <th>1</th>\n",
       "      <td>2022-10-19 14:51:28.805</td>\n",
       "      <td>2022-10-19 15:57:15.504</td>\n",
       "      <td>Mirador de Los Angeles</td>\n",
       "      <td>Gregoria Lapa Gutiérrez</td>\n",
       "      <td>988492996</td>\n",
       "      <td>Mz E Lote 11</td>\n",
       "      <td>Pachacámac</td>\n",
       "      <td>En la casa de un/a vecino/a</td>\n",
       "      <td>NaN</td>\n",
       "      <td>11 febrero 2021</td>\n",
       "      <td>...</td>\n",
       "      <td>193618164</td>\n",
       "      <td>e2bc10e3-08a4-43ef-9ad0-9167d241f6e5</td>\n",
       "      <td>2022-10-19 21:42:48</td>\n",
       "      <td>NaN</td>\n",
       "      <td>NaN</td>\n",
       "      <td>submitted_via_web</td>\n",
       "      <td>NaN</td>\n",
       "      <td>vMwzBYvJpzMqto9u3QVpAa</td>\n",
       "      <td>NaN</td>\n",
       "      <td>2</td>\n",
       "    </tr>\n",
       "    <tr>\n",
       "      <th>2</th>\n",
       "      <td>2022-10-19 15:57:15.938</td>\n",
       "      <td>2022-10-19 16:59:43.789</td>\n",
       "      <td>El Milagro de Renacer</td>\n",
       "      <td>Soledad Consuelo Rojas Suñiga</td>\n",
       "      <td>997167128</td>\n",
       "      <td>Mz O2 Lt 1</td>\n",
       "      <td>Pachacámac</td>\n",
       "      <td>En un local comunal</td>\n",
       "      <td>NaN</td>\n",
       "      <td>27 julio 2020</td>\n",
       "      <td>...</td>\n",
       "      <td>193629839</td>\n",
       "      <td>3482a090-4438-4cba-b3d3-9bb7c2b22a83</td>\n",
       "      <td>2022-10-19 23:13:48</td>\n",
       "      <td>NaN</td>\n",
       "      <td>NaN</td>\n",
       "      <td>submitted_via_web</td>\n",
       "      <td>NaN</td>\n",
       "      <td>vMwzBYvJpzMqto9u3QVpAa</td>\n",
       "      <td>NaN</td>\n",
       "      <td>3</td>\n",
       "    </tr>\n",
       "    <tr>\n",
       "      <th>3</th>\n",
       "      <td>2022-10-19 16:59:44.121</td>\n",
       "      <td>2022-10-19 18:25:32.351</td>\n",
       "      <td>Jireh Parte Baja</td>\n",
       "      <td>Mirian Mariole Inga Villalva</td>\n",
       "      <td>916254735</td>\n",
       "      <td>Mz K Lt 17</td>\n",
       "      <td>Pachacámac</td>\n",
       "      <td>Otro</td>\n",
       "      <td>Área Verde</td>\n",
       "      <td>26 junio 2020</td>\n",
       "      <td>...</td>\n",
       "      <td>193630775</td>\n",
       "      <td>438ac685-6af8-46db-ad9b-d47e7fd65903</td>\n",
       "      <td>2022-10-19 23:25:42</td>\n",
       "      <td>NaN</td>\n",
       "      <td>NaN</td>\n",
       "      <td>submitted_via_web</td>\n",
       "      <td>NaN</td>\n",
       "      <td>vMwzBYvJpzMqto9u3QVpAa</td>\n",
       "      <td>NaN</td>\n",
       "      <td>4</td>\n",
       "    </tr>\n",
       "    <tr>\n",
       "      <th>4</th>\n",
       "      <td>2022-10-19 18:25:32.667</td>\n",
       "      <td>2022-10-19 19:22:43.118</td>\n",
       "      <td>Virgen del Rosario</td>\n",
       "      <td>Norma Jara</td>\n",
       "      <td>955621346</td>\n",
       "      <td>Mz F3A Lt 1 Ampl. Los Cedros</td>\n",
       "      <td>Pachacámac</td>\n",
       "      <td>En un local comunal</td>\n",
       "      <td>NaN</td>\n",
       "      <td>27 de julio 2020</td>\n",
       "      <td>...</td>\n",
       "      <td>193634318</td>\n",
       "      <td>492328b0-9523-4b5b-baa7-d32e484be22b</td>\n",
       "      <td>2022-10-20 00:22:56</td>\n",
       "      <td>NaN</td>\n",
       "      <td>NaN</td>\n",
       "      <td>submitted_via_web</td>\n",
       "      <td>NaN</td>\n",
       "      <td>vMwzBYvJpzMqto9u3QVpAa</td>\n",
       "      <td>NaN</td>\n",
       "      <td>5</td>\n",
       "    </tr>\n",
       "  </tbody>\n",
       "</table>\n",
       "<p>5 rows × 152 columns</p>\n",
       "</div>"
      ],
      "text/plain": [
       "                    start                     end  \\\n",
       "0 2022-10-19 14:36:45.587 2022-10-19 14:50:47.044   \n",
       "1 2022-10-19 14:51:28.805 2022-10-19 15:57:15.504   \n",
       "2 2022-10-19 15:57:15.938 2022-10-19 16:59:43.789   \n",
       "3 2022-10-19 16:59:44.121 2022-10-19 18:25:32.351   \n",
       "4 2022-10-19 18:25:32.667 2022-10-19 19:22:43.118   \n",
       "\n",
       "       Nombre de la olla común  \\\n",
       "0  Santima Cruz de Paul Poblet   \n",
       "1       Mirador de Los Angeles   \n",
       "2        El Milagro de Renacer   \n",
       "3             Jireh Parte Baja   \n",
       "4           Virgen del Rosario   \n",
       "\n",
       "  Nombre de la persona responsable (Presidente/a)  \\\n",
       "0                                             NaN   \n",
       "1                         Gregoria Lapa Gutiérrez   \n",
       "2                   Soledad Consuelo Rojas Suñiga   \n",
       "3                    Mirian Mariole Inga Villalva   \n",
       "4                                      Norma Jara   \n",
       "\n",
       "   Teléfono de la persona de contacto         Dirección de la olla común  \\\n",
       "0                           953797304  Mz C lote 1 A.H. Paul Poblet Lind   \n",
       "1                           988492996                       Mz E Lote 11   \n",
       "2                           997167128                         Mz O2 Lt 1   \n",
       "3                           916254735                         Mz K Lt 17   \n",
       "4                           955621346       Mz F3A Lt 1 Ampl. Los Cedros   \n",
       "\n",
       "  Distrito de la olla común ¿Dónde cocina la olla común?  \\\n",
       "0                Pachacámac                         Otro   \n",
       "1                Pachacámac  En la casa de un/a vecino/a   \n",
       "2                Pachacámac          En un local comunal   \n",
       "3                Pachacámac                         Otro   \n",
       "4                Pachacámac          En un local comunal   \n",
       "\n",
       "           Por favor, especifique:  \\\n",
       "0  Terreno cedido por la directiva   \n",
       "1                              NaN   \n",
       "2                              NaN   \n",
       "3                       Área Verde   \n",
       "4                              NaN   \n",
       "\n",
       "  ¿Cuándo comenzó a funcionar la olla común? (colocar mes y año, ejemplo: enero 2020)   \\\n",
       "0                                  16 setiembre 2021                                     \n",
       "1                                    11 febrero 2021                                     \n",
       "2                                      27 julio 2020                                     \n",
       "3                                      26 junio 2020                                     \n",
       "4                                   27 de julio 2020                                     \n",
       "\n",
       "   ...        _id                                 _uuid    _submission_time  \\\n",
       "0  ...  193596702  7ac31ec1-2dae-4942-81da-68f46290db74 2022-10-19 19:50:57   \n",
       "1  ...  193618164  e2bc10e3-08a4-43ef-9ad0-9167d241f6e5 2022-10-19 21:42:48   \n",
       "2  ...  193629839  3482a090-4438-4cba-b3d3-9bb7c2b22a83 2022-10-19 23:13:48   \n",
       "3  ...  193630775  438ac685-6af8-46db-ad9b-d47e7fd65903 2022-10-19 23:25:42   \n",
       "4  ...  193634318  492328b0-9523-4b5b-baa7-d32e484be22b 2022-10-20 00:22:56   \n",
       "\n",
       "   _validation_status  _notes            _status _submitted_by  \\\n",
       "0                 NaN     NaN  submitted_via_web           NaN   \n",
       "1                 NaN     NaN  submitted_via_web           NaN   \n",
       "2                 NaN     NaN  submitted_via_web           NaN   \n",
       "3                 NaN     NaN  submitted_via_web           NaN   \n",
       "4                 NaN     NaN  submitted_via_web           NaN   \n",
       "\n",
       "              __version__  _tags  _index  \n",
       "0  vL9KbAcSn8CYpKzoVBVLhv    NaN       1  \n",
       "1  vMwzBYvJpzMqto9u3QVpAa    NaN       2  \n",
       "2  vMwzBYvJpzMqto9u3QVpAa    NaN       3  \n",
       "3  vMwzBYvJpzMqto9u3QVpAa    NaN       4  \n",
       "4  vMwzBYvJpzMqto9u3QVpAa    NaN       5  \n",
       "\n",
       "[5 rows x 152 columns]"
      ]
     },
     "execution_count": 3,
     "metadata": {},
     "output_type": "execute_result"
    }
   ],
   "source": [
    "df.head()"
   ]
  },
  {
   "cell_type": "code",
   "execution_count": 4,
   "id": "d11047df-43a1-46cd-991a-5b8baf20c13d",
   "metadata": {},
   "outputs": [
    {
     "data": {
      "text/plain": [
       "Index(['start', 'end', 'Nombre de la olla común',\n",
       "       'Nombre de la persona responsable (Presidente/a)',\n",
       "       'Teléfono de la persona de contacto', 'Dirección de la olla común',\n",
       "       'Distrito de la olla común', '¿Dónde cocina la olla común?',\n",
       "       'Por favor, especifique:',\n",
       "       '¿Cuándo comenzó a funcionar la olla común? (colocar mes y año, ejemplo: enero 2020) ',\n",
       "       ...\n",
       "       '_id', '_uuid', '_submission_time', '_validation_status', '_notes',\n",
       "       '_status', '_submitted_by', '__version__', '_tags', '_index'],\n",
       "      dtype='object', length=152)"
      ]
     },
     "execution_count": 4,
     "metadata": {},
     "output_type": "execute_result"
    }
   ],
   "source": [
    "df.columns"
   ]
  },
  {
   "cell_type": "code",
   "execution_count": 5,
   "id": "58cfedef-41e1-4310-aa42-9994925a4b92",
   "metadata": {},
   "outputs": [],
   "source": [
    "profile = ProfileReport(df=df, minimal=True)"
   ]
  },
  {
   "cell_type": "code",
   "execution_count": 7,
   "id": "be7e139b-ab11-45b0-aac9-bfb5607dde99",
   "metadata": {},
   "outputs": [
    {
     "data": {
      "application/vnd.jupyter.widget-view+json": {
       "model_id": "e11d252a919c49629465e2f271de445c",
       "version_major": 2,
       "version_minor": 0
      },
      "text/plain": [
       "Generate report structure:   0%|          | 0/1 [00:00<?, ?it/s]"
      ]
     },
     "metadata": {},
     "output_type": "display_data"
    },
    {
     "data": {
      "application/vnd.jupyter.widget-view+json": {
       "model_id": "487c329d36cc4d2a92558d9baa0d9fa0",
       "version_major": 2,
       "version_minor": 0
      },
      "text/plain": [
       "Render HTML:   0%|          | 0/1 [00:00<?, ?it/s]"
      ]
     },
     "metadata": {},
     "output_type": "display_data"
    },
    {
     "data": {
      "application/vnd.jupyter.widget-view+json": {
       "model_id": "f0ffab4e04744555a674bce26ddde957",
       "version_major": 2,
       "version_minor": 0
      },
      "text/plain": [
       "Export report to file:   0%|          | 0/1 [00:00<?, ?it/s]"
      ]
     },
     "metadata": {},
     "output_type": "display_data"
    }
   ],
   "source": [
    "profile.to_file(\"reporte_analisis_ollas.html\")"
   ]
  },
  {
   "cell_type": "code",
   "execution_count": null,
   "id": "24cb526a-b845-41b6-b51a-09129ad03608",
   "metadata": {},
   "outputs": [],
   "source": []
  },
  {
   "cell_type": "code",
   "execution_count": null,
   "id": "ccaf93ec",
   "metadata": {},
   "outputs": [],
   "source": [
    "profile = ProfileReport(df=df, minimal=True)"
   ]
  },
  {
   "cell_type": "code",
   "execution_count": null,
   "id": "42441102-4b6a-4008-879d-5ffbda990c49",
   "metadata": {},
   "outputs": [],
   "source": [
    "gdf = gpd.GeoDataFrame(df, \n",
    "    geometry=gpd.points_from_xy(df[\"_Ubicacion GPS_longitude\"], \n",
    "                                df[\"_Ubicacion GPS_latitude\"]),\n",
    "    crs=4326)"
   ]
  },
  {
   "cell_type": "code",
   "execution_count": null,
   "id": "66c47b39-ae6b-493b-8537-e312319f246c",
   "metadata": {},
   "outputs": [],
   "source": [
    "ax = gdf.plot(figsize=(30, 5))\n",
    "\n",
    "\n",
    "ax.set_axis_off()\n",
    "cx.add_basemap(ax, source=cx.providers.CartoDB.Positron, crs=4326)\n",
    "plt.tight_layout()"
   ]
  },
  {
   "cell_type": "code",
   "execution_count": null,
   "id": "dbaf3ec9-6582-401d-a86d-b26f864bf961",
   "metadata": {},
   "outputs": [],
   "source": [
    "gdf.dropna(subset='_Ubicacion GPS_longitude')[['geometry']].explore()"
   ]
  },
  {
   "cell_type": "code",
   "execution_count": null,
   "id": "3b10a8e2-ca47-4298-bfd0-6e537fd50237",
   "metadata": {},
   "outputs": [],
   "source": []
  }
 ],
 "metadata": {
  "kernelspec": {
   "display_name": "Python 3 (ipykernel)",
   "language": "python",
   "name": "python3"
  },
  "language_info": {
   "codemirror_mode": {
    "name": "ipython",
    "version": 3
   },
   "file_extension": ".py",
   "mimetype": "text/x-python",
   "name": "python",
   "nbconvert_exporter": "python",
   "pygments_lexer": "ipython3",
   "version": "3.10.9"
  }
 },
 "nbformat": 4,
 "nbformat_minor": 5
}
