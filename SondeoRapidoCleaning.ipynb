{
 "cells": [
  {
   "cell_type": "code",
   "execution_count": null,
   "id": "a0fbdf56",
   "metadata": {},
   "outputs": [],
   "source": [
    "import numpy as np\n",
    "import pandas as pd\n",
    "from pandas_profiling import ProfileReport"
   ]
  },
  {
   "cell_type": "code",
   "execution_count": null,
   "id": "38f5a0f8",
   "metadata": {},
   "outputs": [],
   "source": [
    "df = pd.read_excel(\n",
    "    \"/Users/claudio/Downloads/3. 159_Datos_Sondeo_Rapido_Lima_2022_01_31 rev24Feb22.xlsx\",\n",
    "    sheet_name=\"Versión Final_ VECINDARIOS rev2\",\n",
    ")"
   ]
  },
  {
   "cell_type": "code",
   "execution_count": null,
   "id": "ef0e2877-c014-47b4-8742-66f717d226ad",
   "metadata": {},
   "outputs": [],
   "source": [
    "df.info()"
   ]
  },
  {
   "cell_type": "code",
   "execution_count": null,
   "id": "3108cb76",
   "metadata": {},
   "outputs": [],
   "source": [
    "df.select_dtypes(\"datetime\")"
   ]
  },
  {
   "cell_type": "code",
   "execution_count": null,
   "id": "3d163b16",
   "metadata": {
    "scrolled": true
   },
   "outputs": [],
   "source": [
    "df.select_dtypes(\"int64\")"
   ]
  },
  {
   "cell_type": "code",
   "execution_count": null,
   "id": "8a368ed6-6ed7-4f44-a6ce-5b7a359d206b",
   "metadata": {},
   "outputs": [],
   "source": [
    "df.select_dtypes(\"float\")"
   ]
  },
  {
   "cell_type": "code",
   "execution_count": null,
   "id": "de339269",
   "metadata": {},
   "outputs": [],
   "source": [
    "sel_vars = pd.read_excel(\n",
    "    \"/Users/claudio/Downloads/3. 159_Datos_Sondeo_Rapido_Lima_2022_01_31 rev24Feb22.xlsx\",\n",
    "    sheet_name=\"Variables_seleccionadas\",\n",
    "    header=None,\n",
    ")"
   ]
  },
  {
   "cell_type": "code",
   "execution_count": null,
   "id": "a546463e",
   "metadata": {},
   "outputs": [],
   "source": [
    "selected_varnames = (\n",
    "    sel_vars.dropna().drop_duplicates(keep=\"first\").values.flatten().tolist()\n",
    ")"
   ]
  },
  {
   "cell_type": "code",
   "execution_count": null,
   "id": "1bdfee99",
   "metadata": {
    "scrolled": true
   },
   "outputs": [],
   "source": [
    "colname_mapper = {\n",
    "    \"3.1. Sexo\": \"sexo\",\n",
    "    \"3.2. ¿Cuál es su edad?\": \"edad\",\n",
    "    \"3.3. ¿Cuál es su principal actividad laboral actual?\": \"principal_actividad_laboral\",\n",
    "    \"3.4. ¿Cuál es su situación laboral actual?\": \"situacion_laboral_actual\",\n",
    "    \"4.1. ¿Podría decirnos dónde compraba/compra la mayor parte de sus alimentos?\\n**En 2019, antes de la pandemia**\": \"lugar_compra_alimentos_2019\",\n",
    "    \"4.1. ¿Podría decirnos dónde compraba/compra la mayor parte de sus alimentos?\\n**En 2020, con la pandemia**\": \"lugar_compra_alimentos_2020\",\n",
    "    \"4.1. ¿Podría decirnos dónde compraba/compra la mayor parte de sus alimentos?\\n**En 2021, en la actualidad**\": \"lugar_compra_alimentos_2021\",\n",
    "    \"4.2. SI CAMBIÓ DE LUGAR EN EL AÑO 2020 ¿Cuál fue la razón principal del cambio?\": \"motivo_cambio_2020\",\n",
    "    \"4.3. SI CAMBIÓ DE LUGAR EN EL AÑO 2021 ¿Cuál fue la razón principal del cambio? \": \"motivo_cambio_2021\",\n",
    "    \"4.4. ¿Cada cuánto tiempo sale a comprar alimentos para su hogar?\\n**En 2019, antes de la pandemia**\": \"frecuencia_compra_alimentos_2019\",\n",
    "    \"4.4. ¿Cada cuánto tiempo sale a comprar alimentos para su hogar?\\n**En 2020, con la pandemia**\": \"frecuencia_compra_alimentos_2020\",\n",
    "    \"4.4. ¿Cada cuánto tiempo sale a comprar alimentos para su hogar?\\n**En 2021, en la actualidad**\": \"frecuencia_compra_alimentos_2021\",\n",
    "    \"4.5. ¿Qué alimentos son los que más compra regularmente?\": \"alimentos_mas_comprados\",\n",
    "    \"5.1 ¿Usted ha tenido dificultades económicas para adquirir sus alimentos?\\n**En 2019, antes de la pandemia**\": \"dificultad_economica_alimentos_binario_2019\",\n",
    "    \"5.1 ¿Usted ha tenido dificultades económicas para adquirir sus alimentos?\\n**En 2020, con la pandemia**\": \"dificultad_economica_alimentos_binario_2020\",\n",
    "    \"5.1 ¿Usted ha tenido dificultades económicas para adquirir sus alimentos?\\n**En 2021, en la actualidad**\": \"dificultad_economica_alimentos_binario_2021\",\n",
    "    \"5.1.1 ¿Qué hizo para superar las dificultades económicas que menciona?\\n**En 2019, antes de la pandemia **\": \"respuesta_dificultad_economica_2019\",\n",
    "    \"5.1.1 ¿Qué hizo para superar las dificultades económicas que menciona?\\n**En 2020, con la pandemia**\": \"respuesta_dificultad_economica_2020\",\n",
    "    \"5.1.1 ¿Qué hizo para superar las dificultades económicas que menciona?\\n**En 2021, en la actualidad**\": \"respuesta_dificultad_economica_2021\",\n",
    "    \"5.2 ¿Usted ha tenido otro tipo de dificultades para adquirir sus alimentos (falta internet, no podía moverse)?\\n**En 2019, antes de la pandemia**\": \"otras_dificultades_binario_2019\",\n",
    "    \"5.2 ¿Usted ha tenido otro tipo de dificultades para adquirir sus alimentos (falta internet, no podía moverse)?\\n**En 2020, con la pandemia**\": \"otras_dificultades_binario_2020\",\n",
    "    \"5.2 ¿Usted ha tenido otro tipo de dificultades para adquirir sus alimentos (falta internet, no podía moverse)?\\n**En 2021, en la actualidad**\": \"otras_dificultades_binario_2021\",\n",
    "    \"5.2.1 ¿Cuáles otras dificultades han tenido?\\n**En 2019, antes de la pandemia**\": \"otras_dificultades_2019\",\n",
    "    \"5.2.1 ¿Cuáles otras dificultades han tenido?\\n**En 2020, con la pandemia**\": \"otras_dificultades_2020\",\n",
    "    \"5.2.1 ¿Cuáles otras dificultades han tenido?\\n**En 2021, en la actualidad **\": \"otras_dificultades_2021\",\n",
    "    \"5.2.2. ¿Qué hizo para superar las dificultades que menciona?\\n**En 2019, antes de la pandemia**\": \"respuesta_otras_dificultades_2019\",\n",
    "    \"5.2.2. ¿Qué hizo para superar las dificultades que menciona?\\n**En 2020, con la pandemia**\": \"respuesta_otras_dificultades_2020\",\n",
    "    \"5.2.2. ¿Qué hizo para superar las dificultades que menciona?\\n**En 2021, en la actualidad**\": \"respuesta_otras_dificultades_2021\",\n",
    "    \"5.3. ¿Su hogar recibió algún tipo de ayuda en alimentos, en dinero u otros?\\n**En 2019, antes de la pandemia**\": \"recibio_ayuda_binario_2019\",\n",
    "    \"5.3. ¿Su hogar recibió algún tipo de ayuda en alimentos, en dinero u otros?\\n**En 2020, con la pandemia**\": \"recibio_ayuda_binario_2020\",\n",
    "    \"5.3. ¿Su hogar recibió algún tipo de ayuda en alimentos, en dinero u otros?\\n**En 2021, en la actualidad**\": \"recibio_ayuda_binario_2021\",\n",
    "    \"5.3.1 ¿Podría indicarnos qué tipo de ayuda recibió (dinero, alimentos, comidas preparadas)?\\n**En 2019, antes de la pandemia**\": \"tipo_ayuda_2019\",\n",
    "    \"5.3.1 ¿Podría indicarnos qué tipo de ayuda recibió (dinero, alimentos, comidas preparadas)?\\n**En 2020, con la pandemia**\": \"tipo_ayuda_2020\",\n",
    "    \"5.3.1 ¿Podría indicarnos qué tipo de ayuda recibió (dinero, alimentos, comidas preparadas)?\\n**En 2021, en la actualidad**\": \"tipo_ayuda_2021\",\n",
    "    \"5.3.2. ¿Podría indicarnos quién o quiénes lo ayudaron?\\n**En 2019, antes de la pandemia**\": \"quien_ayudo_2019\",\n",
    "    \"5.3.2. ¿Podría indicarnos quién o quiénes lo ayudaron?\\n**En 2020, con la pandemia**\": \"quien_ayudo_2020\",\n",
    "    \"5.3.2. ¿Podría indicarnos quién o quiénes lo ayudaron?\\n**En 2021, en la actualidad**\": \"quien_ayudo_2021\",\n",
    "    \"6.1. ¿Podría indicarnos donde come normalmente?\\n**En 2019, antes de la pandemia**\": \"lugar_comida_regular_2019\",\n",
    "    \"6.1. ¿Podría indicarnos donde come normalmente?\\n**En 2020, con la pandemia**\": \"lugar_comida_regular_2020\",\n",
    "    \"6.1. ¿Podría indicarnos donde come normalmente?\\n**En 2021, en la actualidad**\": \"lugar_comida_regular_2021\",\n",
    "    \"Por qué come normalmente en estos lugares?\\nEn 2019, antes de la pandemia\": \"motivo_lugar_comida_regular_2019\",\n",
    "    \"Por qué come normalmente en estos lugares?\\nEn 2020, con la pandemia\": \"motivo_lugar_comida_regular_2020\",\n",
    "    \"Por qué come normalmente en estos lugares?\\nEn 2021, en la actualidad\": \"motivo_lugar_comida_regular_2021\",\n",
    "    \"7.1. ¿Usted consume productos ecológicos/orgánicos?\\n**En 2019, antes de la pandemia**\": \"consume_productos_ecologicos_2019\",\n",
    "    \"7.1. ¿Usted consume productos ecológicos/orgánicos?\\n**En 2020, con la pandemia**\": \"consume_productos_ecologicos_2020\",\n",
    "    \"7.1. ¿Usted consume productos ecológicos/orgánicos?\\n**En 2021, en la actualidad**\": \"consume_productos_ecologicos_2021\",\n",
    "    \"7.2. En la actualidad ¿Podría indicarnos por qué motivos NO consume productos ecológicos/orgánicos?\": \"motivo_no_consume_productos_ecologicos\",\n",
    "    \"7.2. En la actualidad ¿Podría indicarnos por qué motivos consume productos ecológicos/ orgánicos?\": \"motivo_si_consume_productos_ecologicos\",\n",
    "    \"7.3. En la actualidad, para usted los productos ecológicos/orgánicos son:\": \"definicion_productos_ecologicos\",\n",
    "    \"7.4. En la actualidad ¿Cuáles son los principales productos ecológicos/ orgánicos que consume? \": \"productos_ecologicos_consumidos\",\n",
    "    \"7.5. En la actualidad ¿Dónde los compra?\": \"lugar_compra_productos_ecologicos\",\n",
    "    \"8.1. ¿Normalmente quién decide qué alimentos se compran en el hogar? \": \"decisor_compra_alimentos\",\n",
    "    \"8.1.1. ¿Podría mencionar por qué?\": \"motivo_decisor_compra_alimentos\",\n",
    "    \"8.2. ¿Normalmente, quién prepara los alimentos que se compran en el hogar?\": \"persona_que_prepara_alimentos\",\n",
    "    \"8.2.1. ¿Podría mencionar por qué?\": \"motivo_persona_que_prepara_alimentos\",\n",
    "}"
   ]
  },
  {
   "cell_type": "code",
   "execution_count": null,
   "id": "f8bcb0ea-6833-4db0-841d-63db409f3892",
   "metadata": {},
   "outputs": [],
   "source": [
    "new_df = df[selected_varnames].rename(columns=colname_mapper)"
   ]
  },
  {
   "cell_type": "code",
   "execution_count": null,
   "id": "e7098405-6561-4cbd-8624-aa8b7145c409",
   "metadata": {},
   "outputs": [],
   "source": [
    "new_df.shape"
   ]
  },
  {
   "cell_type": "code",
   "execution_count": null,
   "id": "d8098d1d-fc9e-48ab-904a-915e3ad5bfdf",
   "metadata": {},
   "outputs": [],
   "source": [
    "new_df.columns"
   ]
  },
  {
   "cell_type": "code",
   "execution_count": null,
   "id": "a258515c-4ad9-496b-a188-ecdf56877bae",
   "metadata": {},
   "outputs": [],
   "source": [
    "missings_report = pd.DataFrame(\n",
    "    [\n",
    "        (col, new_df[col].isna().sum(), new_df[col].isna().sum() / new_df.shape[0])\n",
    "        for col in new_df.columns\n",
    "    ],\n",
    "    columns=[\"name\", \"nan_count\", \"nan_%\"],\n",
    ")\n",
    "missings_report = missings_report.sort_values(\"nan_count\")\n",
    "missings_report"
   ]
  },
  {
   "cell_type": "code",
   "execution_count": null,
   "id": "ef8d31e0-b51d-481d-8b00-ae9f495b1df7",
   "metadata": {},
   "outputs": [],
   "source": [
    "unique_report = pd.DataFrame(\n",
    "    [\n",
    "        (invert_colnames_mapper[col], col, len(new_df[col].unique()))\n",
    "        for col in new_df.columns\n",
    "    ],\n",
    "    columns=[\"pregunta\", \"codigo\", \"#_respuestas_unicas\"],\n",
    ")\n",
    "unique_report = unique_report.sort_values(\"#_respuestas_unicas\")\n",
    "unique_report[unique_report[\"#_respuestas_unicas\"] > 4].to_excel(\n",
    "    \"outputs/reporte_respuestas_unicas.xlsx\", index=False\n",
    ")\n",
    "unique_report"
   ]
  },
  {
   "cell_type": "code",
   "execution_count": null,
   "id": "57bbf5ca-0560-4436-982e-7044124f5f52",
   "metadata": {},
   "outputs": [],
   "source": [
    "invert_colnames_mapper = {v: k for k, v in colname_mapper.items()}"
   ]
  },
  {
   "cell_type": "code",
   "execution_count": null,
   "id": "1afa546a-db54-4585-8e74-73a21f5d0f3b",
   "metadata": {},
   "outputs": [],
   "source": [
    "unique_report[unique_report[\"unique_count\"] <= 4][\"name\"].tolist()"
   ]
  },
  {
   "cell_type": "code",
   "execution_count": null,
   "id": "697d6d98-a37b-4211-b851-7ef68611d9e2",
   "metadata": {},
   "outputs": [],
   "source": [
    "new_df[\"consume_productos_ecologicos_2021\"].unique()"
   ]
  },
  {
   "cell_type": "code",
   "execution_count": null,
   "id": "213e84e1-1f16-4aee-9fa3-88ba124c3bff",
   "metadata": {},
   "outputs": [],
   "source": [
    "binarias = [\n",
    "    \"otras_dificultades_binario_2021\",\n",
    "    \"dificultad_economica_alimentos_binario_2021\",\n",
    "    \"dificultad_economica_alimentos_binario_2020\",\n",
    "    \"dificultad_economica_alimentos_binario_2019\",\n",
    "    \"recibio_ayuda_binario_2019\",\n",
    "    \"otras_dificultades_binario_2020\",\n",
    "    \"recibio_ayuda_binario_2021\",\n",
    "    \"recibio_ayuda_binario_2020\",\n",
    "    \"consume_productos_ecologicos_2019\",\n",
    "    \"consume_productos_ecologicos_2020\",\n",
    "    \"consume_productos_ecologicos_2021\",\n",
    "    \"otras_dificultades_binario_2019\",\n",
    "]"
   ]
  },
  {
   "cell_type": "code",
   "execution_count": null,
   "id": "dcfe701e-0b6c-4e9e-a8da-50f17a9efa0b",
   "metadata": {},
   "outputs": [],
   "source": [
    "binarias.sort()"
   ]
  },
  {
   "cell_type": "code",
   "execution_count": null,
   "id": "786fec4d-8b14-44d7-aaa6-a1bc618a233a",
   "metadata": {},
   "outputs": [],
   "source": [
    "for col in binarias:\n",
    "    new_df[col] = new_df[col].fillna(\"NS/NC\")"
   ]
  },
  {
   "cell_type": "code",
   "execution_count": null,
   "id": "aee1eb00-959e-435f-bcff-aa0b99f7a471",
   "metadata": {},
   "outputs": [],
   "source": [
    "import matplotlib.pyplot as plt"
   ]
  },
  {
   "cell_type": "code",
   "execution_count": null,
   "id": "0700671c-1e0b-4c7d-8572-ae4937c0bb56",
   "metadata": {},
   "outputs": [],
   "source": [
    "%matplotlib inline"
   ]
  },
  {
   "cell_type": "code",
   "execution_count": null,
   "id": "3ea18063-34b2-4928-8b6d-1bb91bf651a5",
   "metadata": {},
   "outputs": [],
   "source": [
    "binarias"
   ]
  },
  {
   "cell_type": "code",
   "execution_count": null,
   "id": "df9ac14b-6dae-458a-a316-784e1080fecb",
   "metadata": {},
   "outputs": [],
   "source": [
    "np.array(binarias).reshape(4, 3)"
   ]
  },
  {
   "cell_type": "code",
   "execution_count": null,
   "id": "d9c9aaa5-4e20-47df-9bde-c8fe03201e37",
   "metadata": {},
   "outputs": [],
   "source": []
  },
  {
   "cell_type": "code",
   "execution_count": null,
   "id": "e16b2a4e-6c9b-41fa-bc7d-d798a1ac0ade",
   "metadata": {},
   "outputs": [],
   "source": [
    "for cols in np.array(binarias).reshape(4, 3):\n",
    "    fig, axes = plt.subplots(1, 3, figsize=(15, 5), sharey=True)\n",
    "    for j, col in enumerate(cols):\n",
    "        (new_df[col].value_counts(normalize=True) * 100).round(2)[\n",
    "            [\"Sí\", \"No\", \"NS/NC\"]\n",
    "        ].plot(kind=\"bar\", rot=0, ylim=(0, 100), ax=axes[j])\n",
    "        if j == 1:\n",
    "            axes[j].set_title(invert_colnames_mapper[col].replace(\"*\", \"\") + \" (%)\")\n",
    "        else:\n",
    "            axes[j].set_title(invert_colnames_mapper[col].split(\"*\")[2] + \" (%)\")\n",
    "\n",
    "        axes[j].bar_label(axes[j].containers[0])\n",
    "\n",
    "    plt.tight_layout()\n",
    "    plt.savefig(\n",
    "        f\"outputs/bars/{'_'.join(cols[0].split('_')[:-1])}.png\",\n",
    "        dpi=300,\n",
    "        bbox_inches=\"tight\",\n",
    "    )\n",
    "    plt.show()"
   ]
  },
  {
   "cell_type": "code",
   "execution_count": null,
   "id": "69b89a60",
   "metadata": {},
   "outputs": [],
   "source": [
    "df[\"Zonas_Vecindarios\"].value_counts()"
   ]
  },
  {
   "cell_type": "code",
   "execution_count": null,
   "id": "306edfa5",
   "metadata": {},
   "outputs": [],
   "source": [
    "df_carabayllo = df[df[\"1.3.0. Distritos (Lima Y Quito)\"] == \"Carabayllo\"]"
   ]
  },
  {
   "cell_type": "code",
   "execution_count": null,
   "id": "d3aa158c",
   "metadata": {},
   "outputs": [],
   "source": [
    "profile_carabayllo = ProfileReport(\n",
    "    df_carabayllo, title=\"Reporte de Sondeo Rapido: Carabayllo, Lima\"\n",
    ")"
   ]
  },
  {
   "cell_type": "code",
   "execution_count": null,
   "id": "b8ccd180",
   "metadata": {
    "scrolled": true
   },
   "outputs": [],
   "source": [
    "profile_carabayllo.to_file(\"reporte_sondeo_rapido_carabayllo_lima.html\")"
   ]
  },
  {
   "cell_type": "code",
   "execution_count": null,
   "id": "8097755b",
   "metadata": {},
   "outputs": [],
   "source": [
    "df_pachacamac = df[df[\"1.3.0. Distritos (Lima Y Quito)\"] == \"Pachacamac\"]"
   ]
  },
  {
   "cell_type": "code",
   "execution_count": null,
   "id": "6a27ec5d",
   "metadata": {},
   "outputs": [],
   "source": [
    "profile_pachacamac = ProfileReport(\n",
    "    df_pachacamac, title=\"Reporte de Sondeo Rapido: Pachacamac, Lima\"\n",
    ")"
   ]
  },
  {
   "cell_type": "code",
   "execution_count": null,
   "id": "62fc9a76",
   "metadata": {
    "scrolled": true
   },
   "outputs": [],
   "source": [
    "profile_pachacamac.to_file(\"reporte_sondeo_rapido_pachacamac_lima.html\")"
   ]
  },
  {
   "cell_type": "code",
   "execution_count": null,
   "id": "0ab388c0",
   "metadata": {},
   "outputs": [],
   "source": [
    "df_solana = df[df[\"1.3.0. Distritos (Lima Y Quito)\"] == \"Solana\"]"
   ]
  },
  {
   "cell_type": "code",
   "execution_count": null,
   "id": "36b6c73e",
   "metadata": {},
   "outputs": [],
   "source": [
    "profile_solana = ProfileReport(\n",
    "    df_solana, title=\"Reporte de Sondeo Rapido: Solana, Quito\", minimal=True\n",
    ")"
   ]
  },
  {
   "cell_type": "code",
   "execution_count": null,
   "id": "01372f59",
   "metadata": {
    "scrolled": true
   },
   "outputs": [],
   "source": [
    "profile_solana.to_file(\"reporte_sondeo_rapido_solana_quito.html\")"
   ]
  },
  {
   "cell_type": "code",
   "execution_count": null,
   "id": "b088fa1a",
   "metadata": {},
   "outputs": [],
   "source": []
  }
 ],
 "metadata": {
  "kernelspec": {
   "display_name": "Python 3 (ipykernel)",
   "language": "python",
   "name": "python3"
  },
  "language_info": {
   "codemirror_mode": {
    "name": "ipython",
    "version": 3
   },
   "file_extension": ".py",
   "mimetype": "text/x-python",
   "name": "python",
   "nbconvert_exporter": "python",
   "pygments_lexer": "ipython3",
   "version": "3.9.13"
  }
 },
 "nbformat": 4,
 "nbformat_minor": 5
}
