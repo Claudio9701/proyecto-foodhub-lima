{
 "cells": [
  {
   "cell_type": "code",
   "execution_count": null,
   "id": "a0fbdf56",
   "metadata": {},
   "outputs": [],
   "source": [
    "import numpy as np\n",
    "import pandas as pd\n",
    "from pandas_profiling import ProfileReport"
   ]
  },
  {
   "cell_type": "code",
   "execution_count": null,
   "id": "38f5a0f8",
   "metadata": {},
   "outputs": [],
   "source": [
    "df = pd.read_excel(\n",
    "    \"/Users/claudio/Downloads/159_Datos_Sondeo_Rapido_Lima_2022_01_31 (1).xlsx\",\n",
    "    sheet_name=1,\n",
    ")"
   ]
  },
  {
   "cell_type": "code",
   "execution_count": null,
   "id": "3108cb76",
   "metadata": {},
   "outputs": [],
   "source": [
    "profile = ProfileReport(df, title=\"Reporte de Sondeo Rápido\")"
   ]
  },
  {
   "cell_type": "code",
   "execution_count": null,
   "id": "3d163b16",
   "metadata": {
    "scrolled": true
   },
   "outputs": [],
   "source": [
    "profile.to_file(\"reporte_sondeo_rapido_general.html\")"
   ]
  },
  {
   "cell_type": "code",
   "execution_count": null,
   "id": "de339269",
   "metadata": {},
   "outputs": [],
   "source": [
    "df[\"1.3.0. Distritos (Lima Y Quito)\"].value_counts()"
   ]
  },
  {
   "cell_type": "code",
   "execution_count": null,
   "id": "a546463e",
   "metadata": {},
   "outputs": [],
   "source": [
    "df[\"1.3.1. Distrito (Lima)\"].value_counts()"
   ]
  },
  {
   "cell_type": "code",
   "execution_count": null,
   "id": "1bdfee99",
   "metadata": {
    "scrolled": true
   },
   "outputs": [],
   "source": [
    "df[\"1.3.2. Distrito (Quito)\"].value_counts()"
   ]
  },
  {
   "cell_type": "code",
   "execution_count": null,
   "id": "69b89a60",
   "metadata": {},
   "outputs": [],
   "source": [
    "df[\"Zonas_Vecindarios\"].value_counts()"
   ]
  },
  {
   "cell_type": "code",
   "execution_count": null,
   "id": "306edfa5",
   "metadata": {},
   "outputs": [],
   "source": [
    "df_carabayllo = df[df[\"1.3.0. Distritos (Lima Y Quito)\"] == \"Carabayllo\"]"
   ]
  },
  {
   "cell_type": "code",
   "execution_count": null,
   "id": "d3aa158c",
   "metadata": {},
   "outputs": [],
   "source": [
    "profile_carabayllo = ProfileReport(\n",
    "    df_carabayllo, title=\"Reporte de Sondeo Rapido: Carabayllo, Lima\"\n",
    ")"
   ]
  },
  {
   "cell_type": "code",
   "execution_count": null,
   "id": "b8ccd180",
   "metadata": {
    "scrolled": true
   },
   "outputs": [],
   "source": [
    "profile_carabayllo.to_file(\"reporte_sondeo_rapido_carabayllo_lima.html\")"
   ]
  },
  {
   "cell_type": "code",
   "execution_count": null,
   "id": "8097755b",
   "metadata": {},
   "outputs": [],
   "source": [
    "df_pachacamac = df[df[\"1.3.0. Distritos (Lima Y Quito)\"] == \"Pachacamac\"]"
   ]
  },
  {
   "cell_type": "code",
   "execution_count": null,
   "id": "6a27ec5d",
   "metadata": {},
   "outputs": [],
   "source": [
    "profile_pachacamac = ProfileReport(\n",
    "    df_pachacamac, title=\"Reporte de Sondeo Rapido: Pachacamac, Lima\"\n",
    ")"
   ]
  },
  {
   "cell_type": "code",
   "execution_count": null,
   "id": "62fc9a76",
   "metadata": {
    "scrolled": true
   },
   "outputs": [],
   "source": [
    "profile_pachacamac.to_file(\"reporte_sondeo_rapido_pachacamac_lima.html\")"
   ]
  },
  {
   "cell_type": "code",
   "execution_count": null,
   "id": "0ab388c0",
   "metadata": {},
   "outputs": [],
   "source": [
    "df_solana = df[df[\"1.3.0. Distritos (Lima Y Quito)\"] == \"Solana\"]"
   ]
  },
  {
   "cell_type": "code",
   "execution_count": null,
   "id": "36b6c73e",
   "metadata": {},
   "outputs": [],
   "source": [
    "profile_solana = ProfileReport(\n",
    "    df_solana, title=\"Reporte de Sondeo Rapido: Solana, Quito\", minimal=True\n",
    ")"
   ]
  },
  {
   "cell_type": "code",
   "execution_count": null,
   "id": "01372f59",
   "metadata": {
    "scrolled": true
   },
   "outputs": [],
   "source": [
    "profile_solana.to_file(\"reporte_sondeo_rapido_solana_quito.html\")"
   ]
  },
  {
   "cell_type": "code",
   "execution_count": null,
   "id": "2b06db35",
   "metadata": {},
   "outputs": [],
   "source": []
  },
  {
   "cell_type": "code",
   "execution_count": null,
   "id": "6a9777c1",
   "metadata": {},
   "outputs": [],
   "source": []
  },
  {
   "cell_type": "code",
   "execution_count": null,
   "id": "8980590b",
   "metadata": {},
   "outputs": [],
   "source": []
  },
  {
   "cell_type": "code",
   "execution_count": null,
   "id": "ef98f847",
   "metadata": {},
   "outputs": [],
   "source": []
  },
  {
   "cell_type": "code",
   "execution_count": null,
   "id": "8a5a506d",
   "metadata": {},
   "outputs": [],
   "source": []
  },
  {
   "cell_type": "code",
   "execution_count": null,
   "id": "b088fa1a",
   "metadata": {},
   "outputs": [],
   "source": []
  }
 ],
 "metadata": {
  "kernelspec": {
   "display_name": "Python 3 (ipykernel)",
   "language": "python",
   "name": "python3"
  },
  "language_info": {
   "codemirror_mode": {
    "name": "ipython",
    "version": 3
   },
   "file_extension": ".py",
   "mimetype": "text/x-python",
   "name": "python",
   "nbconvert_exporter": "python",
   "pygments_lexer": "ipython3",
   "version": "3.9.13"
  }
 },
 "nbformat": 4,
 "nbformat_minor": 5
}
