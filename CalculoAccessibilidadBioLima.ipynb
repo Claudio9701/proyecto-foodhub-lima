{
 "cells": [
  {
   "attachments": {},
   "cell_type": "markdown",
   "id": "a241b69d-0c2f-427c-a5b0-2c4bbf8e93ce",
   "metadata": {},
   "source": [
    "## Accesibilidad a puntos de oferta agroecologica"
   ]
  },
  {
   "cell_type": "code",
   "execution_count": null,
   "id": "e2c8918e-7111-4537-ac34-5612763cefdf",
   "metadata": {},
   "outputs": [],
   "source": [
    "import geopandas as gpd\n",
    "import urbanpy as up\n",
    "from tqdm import tqdm\n",
    "import pandas as pd"
   ]
  },
  {
   "cell_type": "code",
   "execution_count": null,
   "id": "8a036c50-da2b-4173-9c86-8478694012b8",
   "metadata": {},
   "outputs": [],
   "source": [
    "tqdm.pandas()  # Activate progress bar for pandas apply"
   ]
  },
  {
   "cell_type": "code",
   "execution_count": null,
   "id": "0963da53-d108-482d-a45b-1ce385b19e05",
   "metadata": {},
   "outputs": [],
   "source": [
    "biopoints = gpd.read_file(\"outputs/data/bio_points_w_wong.geojson\")"
   ]
  },
  {
   "cell_type": "code",
   "execution_count": null,
   "id": "20128c22",
   "metadata": {},
   "outputs": [],
   "source": [
    "biopoints.shape"
   ]
  },
  {
   "cell_type": "code",
   "execution_count": null,
   "id": "8043036d-067a-4c64-b378-84aa84447331",
   "metadata": {},
   "outputs": [],
   "source": [
    "lima_hexs = gpd.read_file(\"inputs/lima_hexs9_complete.geojson\")"
   ]
  },
  {
   "cell_type": "code",
   "execution_count": null,
   "id": "c0889da7-70fb-43cb-aaa9-6a09bb893a58",
   "metadata": {},
   "outputs": [],
   "source": [
    "biopoints.head()"
   ]
  },
  {
   "cell_type": "code",
   "execution_count": null,
   "id": "c6b4acca-62e5-4b56-b994-e46ab128f306",
   "metadata": {},
   "outputs": [],
   "source": [
    "def accessibility_analysis(hexagons, pois):\n",
    "    # Calculate the Nearest Facility for each Hexagon\n",
    "    hexagons[\"lon\"] = hexagons.geometry.centroid.x\n",
    "    hexagons[\"lat\"] = hexagons.geometry.centroid.y\n",
    "    pois[\"lon\"] = pois.geometry.x\n",
    "    pois[\"lat\"] = pois.geometry.y\n",
    "\n",
    "    dists, ixs = up.utils.nn_search(\n",
    "        tree_features=pois[[\"lat\", \"lon\"]].values,\n",
    "        query_features=hexagons[[\"lat\", \"lon\"]].values,\n",
    "        metric=\"haversine\",\n",
    "    )\n",
    "\n",
    "    hexagons[\"nearest_poi_ix\"] = ixs\n",
    "\n",
    "    # Calculate travel times and distances\n",
    "    distance_duration = hexagons.progress_apply(\n",
    "        lambda row: up.routing.osrm_route(\n",
    "            origin=row.geometry.centroid,\n",
    "            destination=pois.iloc[row[\"nearest_poi_ix\"]][\"geometry\"],\n",
    "        ),\n",
    "        result_type=\"expand\",\n",
    "        axis=1,\n",
    "    )\n",
    "\n",
    "    # Add columns to dataframe\n",
    "    hexagons[\"distance_to_nearest_poi\"] = distance_duration[0] / 1000  # meters to km\n",
    "    hexagons[\"duration_to_nearest_poi\"] = (\n",
    "        distance_duration[1] / 60\n",
    "    )  # seconds to minutes\n",
    "\n",
    "    custom_bins, custom_labels = up.utils.create_duration_labels(\n",
    "        hexagons[\"duration_to_nearest_poi\"]\n",
    "    )\n",
    "    hexagons[\"duration_to_nearest_poi_label\"] = pd.cut(\n",
    "        hexagons[\"duration_to_nearest_poi\"], bins=custom_bins, labels=custom_labels\n",
    "    )\n",
    "\n",
    "    return hexagons"
   ]
  },
  {
   "cell_type": "code",
   "execution_count": null,
   "id": "3d4da73a-40f7-4d6a-b69f-41013fc34b4a",
   "metadata": {
    "collapsed": true,
    "jupyter": {
     "outputs_hidden": true
    },
    "tags": []
   },
   "outputs": [],
   "source": [
    "up.routing.start_osrm_server(\"peru\", \"south-america\", \"foot\")"
   ]
  },
  {
   "cell_type": "code",
   "execution_count": null,
   "id": "5aa10ac0-48d0-40a0-a29b-73b1004edfce",
   "metadata": {},
   "outputs": [],
   "source": [
    "hexs_city_pop_access = accessibility_analysis(hexagons=lima_hexs, pois=biopoints)"
   ]
  },
  {
   "cell_type": "code",
   "execution_count": null,
   "id": "c87e0dc5-23f9-42ec-8257-721d1e02140c",
   "metadata": {},
   "outputs": [],
   "source": [
    "up.routing.stop_osrm_server(\"peru\", \"south-america\", \"foot\")"
   ]
  },
  {
   "cell_type": "code",
   "execution_count": null,
   "id": "1c72a040-49c5-4c0a-a8c9-1a7d7fd59bce",
   "metadata": {},
   "outputs": [],
   "source": [
    "hexs_city_pop_access[\"duration_to_nearest_poi_label\"] = hexs_city_pop_access[\n",
    "    \"duration_to_nearest_poi_label\"\n",
    "].astype(\"str\")"
   ]
  },
  {
   "cell_type": "code",
   "execution_count": null,
   "id": "11bf45ec-22f8-445e-97ce-0141fb6abebe",
   "metadata": {},
   "outputs": [],
   "source": [
    "hexs_city_pop_access.to_file(\"outputs/lima_hexs9_distance_to_bio.geojson\")"
   ]
  },
  {
   "cell_type": "code",
   "execution_count": null,
   "id": "1b8b584e-36e8-4ae4-b3d2-b5b956f985b6",
   "metadata": {},
   "outputs": [],
   "source": []
  }
 ],
 "metadata": {
  "kernelspec": {
   "display_name": "Python 3.10.8 ('foodhub')",
   "language": "python",
   "name": "python3"
  },
  "language_info": {
   "codemirror_mode": {
    "name": "ipython",
    "version": 3
   },
   "file_extension": ".py",
   "mimetype": "text/x-python",
   "name": "python",
   "nbconvert_exporter": "python",
   "pygments_lexer": "ipython3",
   "version": "3.10.8"
  },
  "vscode": {
   "interpreter": {
    "hash": "e658bfc97ecd70c7dea766bce17f1a0e667e24077454682876e78fda26193a5a"
   }
  }
 },
 "nbformat": 4,
 "nbformat_minor": 5
}
