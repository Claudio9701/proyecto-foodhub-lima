{
 "cells": [
  {
   "cell_type": "markdown",
   "id": "a241b69d-0c2f-427c-a5b0-2c4bbf8e93ce",
   "metadata": {},
   "source": [
    "## Accesibilidad a puntos de oferta agroecologica"
   ]
  },
  {
   "cell_type": "code",
   "execution_count": 1,
   "id": "e2c8918e-7111-4537-ac34-5612763cefdf",
   "metadata": {},
   "outputs": [],
   "source": [
    "import geopandas as gpd\n",
    "import urbanpy as up\n",
    "from tqdm import tqdm\n",
    "import pandas as pd"
   ]
  },
  {
   "cell_type": "code",
   "execution_count": 2,
   "id": "8a036c50-da2b-4173-9c86-8478694012b8",
   "metadata": {},
   "outputs": [],
   "source": [
    "tqdm.pandas() # Activate progress bar for pandas apply"
   ]
  },
  {
   "cell_type": "code",
   "execution_count": 3,
   "id": "0963da53-d108-482d-a45b-1ce385b19e05",
   "metadata": {},
   "outputs": [],
   "source": [
    "biopoints = gpd.read_file(\"outputs/data/bio_points_w_wong.geojson\")"
   ]
  },
  {
   "cell_type": "code",
   "execution_count": 13,
   "id": "20128c22",
   "metadata": {},
   "outputs": [
    {
     "data": {
      "text/plain": [
       "(64, 3)"
      ]
     },
     "execution_count": 13,
     "metadata": {},
     "output_type": "execute_result"
    }
   ],
   "source": [
    "biopoints.shape"
   ]
  },
  {
   "cell_type": "code",
   "execution_count": 4,
   "id": "8043036d-067a-4c64-b378-84aa84447331",
   "metadata": {},
   "outputs": [],
   "source": [
    "lima_hexs = gpd.read_file(\"inputs/lima_hexs9_complete.geojson\")"
   ]
  },
  {
   "cell_type": "code",
   "execution_count": 5,
   "id": "c0889da7-70fb-43cb-aaa9-6a09bb893a58",
   "metadata": {},
   "outputs": [
    {
     "data": {
      "text/html": [
       "<div>\n",
       "<style scoped>\n",
       "    .dataframe tbody tr th:only-of-type {\n",
       "        vertical-align: middle;\n",
       "    }\n",
       "\n",
       "    .dataframe tbody tr th {\n",
       "        vertical-align: top;\n",
       "    }\n",
       "\n",
       "    .dataframe thead th {\n",
       "        text-align: right;\n",
       "    }\n",
       "</style>\n",
       "<table border=\"1\" class=\"dataframe\">\n",
       "  <thead>\n",
       "    <tr style=\"text-align: right;\">\n",
       "      <th></th>\n",
       "      <th>geometry</th>\n",
       "    </tr>\n",
       "  </thead>\n",
       "  <tbody>\n",
       "    <tr>\n",
       "      <th>0</th>\n",
       "      <td>POINT (-77.02298 -12.13818)</td>\n",
       "    </tr>\n",
       "    <tr>\n",
       "      <th>1</th>\n",
       "      <td>POINT (-76.77495 -12.09439)</td>\n",
       "    </tr>\n",
       "    <tr>\n",
       "      <th>2</th>\n",
       "      <td>POINT (-77.02224 -12.12708)</td>\n",
       "    </tr>\n",
       "    <tr>\n",
       "      <th>3</th>\n",
       "      <td>POINT (-77.02562 -12.11838)</td>\n",
       "    </tr>\n",
       "    <tr>\n",
       "      <th>4</th>\n",
       "      <td>POINT (-77.06884 -12.09909)</td>\n",
       "    </tr>\n",
       "  </tbody>\n",
       "</table>\n",
       "</div>"
      ],
      "text/plain": [
       "                      geometry\n",
       "0  POINT (-77.02298 -12.13818)\n",
       "1  POINT (-76.77495 -12.09439)\n",
       "2  POINT (-77.02224 -12.12708)\n",
       "3  POINT (-77.02562 -12.11838)\n",
       "4  POINT (-77.06884 -12.09909)"
      ]
     },
     "execution_count": 5,
     "metadata": {},
     "output_type": "execute_result"
    }
   ],
   "source": [
    "biopoints.head()"
   ]
  },
  {
   "cell_type": "code",
   "execution_count": 6,
   "id": "c6b4acca-62e5-4b56-b994-e46ab128f306",
   "metadata": {},
   "outputs": [],
   "source": [
    "def accessibility_analysis(hexagons, pois):\n",
    "    # Calculate the Nearest Facility for each Hexagon\n",
    "    hexagons['lon'] = hexagons.geometry.centroid.x\n",
    "    hexagons['lat'] = hexagons.geometry.centroid.y\n",
    "    pois['lon'] = pois.geometry.x\n",
    "    pois['lat'] = pois.geometry.y\n",
    "    \n",
    "    dists, ixs = up.utils.nn_search(\n",
    "        tree_features=pois[['lat', 'lon']].values,\n",
    "        query_features=hexagons[['lat', 'lon']].values,\n",
    "        metric='haversine'\n",
    "    )\n",
    "    \n",
    "    hexagons[\"nearest_poi_ix\"] = ixs\n",
    "    \n",
    "    # Calculate travel times and distances\n",
    "    distance_duration = hexagons.progress_apply(\n",
    "        lambda row: up.routing.osrm_route(\n",
    "            origin=row.geometry.centroid, \n",
    "            destination = pois.iloc[row['nearest_poi_ix']]['geometry']\n",
    "        ),\n",
    "        result_type='expand',\n",
    "        axis=1,\n",
    "    )\n",
    "    \n",
    "    # Add columns to dataframe\n",
    "    hexagons['distance_to_nearest_poi'] =  distance_duration[0] / 1000 # meters to km\n",
    "    hexagons['duration_to_nearest_poi'] = distance_duration[1] / 60 # seconds to minutes\n",
    "    \n",
    "    custom_bins, custom_labels = up.utils.create_duration_labels(hexagons['duration_to_nearest_poi'])\n",
    "    hexagons['duration_to_nearest_poi_label'] = pd.cut(hexagons['duration_to_nearest_poi'], bins=custom_bins, labels=custom_labels)\n",
    "        \n",
    "    return hexagons"
   ]
  },
  {
   "cell_type": "code",
   "execution_count": 7,
   "id": "3d4da73a-40f7-4d6a-b69f-41013fc34b4a",
   "metadata": {
    "collapsed": true,
    "jupyter": {
     "outputs_hidden": true
    },
    "tags": []
   },
   "outputs": [
    {
     "name": "stdout",
     "output_type": "stream",
     "text": [
      "[\n",
      "    {\n",
      "        \"Id\": \"7d521f03c6e025d74065049267533b2bdda413ad026ab5bad18e96567545b31a\",\n",
      "        \"Created\": \"2020-12-21T04:41:23.291870208Z\",\n",
      "        \"Path\": \"osrm-routed\",\n",
      "        \"Args\": [\n",
      "            \"--algorithm\",\n",
      "            \"mld\",\n",
      "            \"/data/peru-latest.osm.pbf\"\n",
      "        ],\n",
      "        \"State\": {\n",
      "            \"Status\": \"exited\",\n",
      "            \"Running\": false,\n",
      "            \"Paused\": false,\n",
      "            \"Restarting\": false,\n",
      "            \"OOMKilled\": false,\n",
      "            \"Dead\": false,\n",
      "            \"Pid\": 0,\n",
      "            \"ExitCode\": 0,\n",
      "            \"Error\": \"\",\n",
      "            \"StartedAt\": \"2022-11-15T01:11:55.141755211Z\",\n",
      "            \"FinishedAt\": \"2022-11-15T01:18:08.531800707Z\"\n",
      "        },\n",
      "        \"Image\": \"sha256:1cf8a5ae83ec71c8d5b0a69149b42846625eb064b36427ae6207db538506537b\",\n",
      "        \"ResolvConfPath\": \"/var/lib/docker/containers/7d521f03c6e025d74065049267533b2bdda413ad026ab5bad18e96567545b31a/resolv.conf\",\n",
      "        \"HostnamePath\": \"/var/lib/docker/containers/7d521f03c6e025d74065049267533b2bdda413ad026ab5bad18e96567545b31a/hostname\",\n",
      "        \"HostsPath\": \"/var/lib/docker/containers/7d521f03c6e025d74065049267533b2bdda413ad026ab5bad18e96567545b31a/hosts\",\n",
      "        \"LogPath\": \"/var/lib/docker/containers/7d521f03c6e025d74065049267533b2bdda413ad026ab5bad18e96567545b31a/7d521f03c6e025d74065049267533b2bdda413ad026ab5bad18e96567545b31a-json.log\",\n",
      "        \"Name\": \"/osrm_routing_server_south-america_peru_foot\",\n",
      "        \"RestartCount\": 0,\n",
      "        \"Driver\": \"overlay2\",\n",
      "        \"Platform\": \"linux\",\n",
      "        \"MountLabel\": \"\",\n",
      "        \"ProcessLabel\": \"\",\n",
      "        \"AppArmorProfile\": \"docker-default\",\n",
      "        \"ExecIDs\": null,\n",
      "        \"HostConfig\": {\n",
      "            \"Binds\": [\n",
      "                \"/home/claudio/data/osrm:/data\"\n",
      "            ],\n",
      "            \"ContainerIDFile\": \"\",\n",
      "            \"LogConfig\": {\n",
      "                \"Type\": \"json-file\",\n",
      "                \"Config\": {}\n",
      "            },\n",
      "            \"NetworkMode\": \"default\",\n",
      "            \"PortBindings\": {\n",
      "                \"5000/tcp\": [\n",
      "                    {\n",
      "                        \"HostIp\": \"\",\n",
      "                        \"HostPort\": \"5000\"\n",
      "                    }\n",
      "                ]\n",
      "            },\n",
      "            \"RestartPolicy\": {\n",
      "                \"Name\": \"no\",\n",
      "                \"MaximumRetryCount\": 0\n",
      "            },\n",
      "            \"AutoRemove\": false,\n",
      "            \"VolumeDriver\": \"\",\n",
      "            \"VolumesFrom\": null,\n",
      "            \"CapAdd\": null,\n",
      "            \"CapDrop\": null,\n",
      "            \"CgroupnsMode\": \"host\",\n",
      "            \"Dns\": [],\n",
      "            \"DnsOptions\": [],\n",
      "            \"DnsSearch\": [],\n",
      "            \"ExtraHosts\": null,\n",
      "            \"GroupAdd\": null,\n",
      "            \"IpcMode\": \"private\",\n",
      "            \"Cgroup\": \"\",\n",
      "            \"Links\": null,\n",
      "            \"OomScoreAdj\": 0,\n",
      "            \"PidMode\": \"\",\n",
      "            \"Privileged\": false,\n",
      "            \"PublishAllPorts\": false,\n",
      "            \"ReadonlyRootfs\": false,\n",
      "            \"SecurityOpt\": null,\n",
      "            \"UTSMode\": \"\",\n",
      "            \"UsernsMode\": \"\",\n",
      "            \"ShmSize\": 67108864,\n",
      "            \"Runtime\": \"runc\",\n",
      "            \"ConsoleSize\": [\n",
      "                0,\n",
      "                0\n",
      "            ],\n",
      "            \"Isolation\": \"\",\n",
      "            \"CpuShares\": 0,\n",
      "            \"Memory\": 0,\n",
      "            \"NanoCpus\": 0,\n",
      "            \"CgroupParent\": \"\",\n",
      "            \"BlkioWeight\": 0,\n",
      "            \"BlkioWeightDevice\": [],\n",
      "            \"BlkioDeviceReadBps\": null,\n",
      "            \"BlkioDeviceWriteBps\": null,\n",
      "            \"BlkioDeviceReadIOps\": null,\n",
      "            \"BlkioDeviceWriteIOps\": null,\n",
      "            \"CpuPeriod\": 0,\n",
      "            \"CpuQuota\": 0,\n",
      "            \"CpuRealtimePeriod\": 0,\n",
      "            \"CpuRealtimeRuntime\": 0,\n",
      "            \"CpusetCpus\": \"\",\n",
      "            \"CpusetMems\": \"\",\n",
      "            \"Devices\": [],\n",
      "            \"DeviceCgroupRules\": null,\n",
      "            \"DeviceRequests\": null,\n",
      "            \"KernelMemory\": 0,\n",
      "            \"KernelMemoryTCP\": 0,\n",
      "            \"MemoryReservation\": 0,\n",
      "            \"MemorySwap\": 0,\n",
      "            \"MemorySwappiness\": null,\n",
      "            \"OomKillDisable\": false,\n",
      "            \"PidsLimit\": null,\n",
      "            \"Ulimits\": null,\n",
      "            \"CpuCount\": 0,\n",
      "            \"CpuPercent\": 0,\n",
      "            \"IOMaximumIOps\": 0,\n",
      "            \"IOMaximumBandwidth\": 0,\n",
      "            \"MaskedPaths\": [\n",
      "                \"/proc/asound\",\n",
      "                \"/proc/acpi\",\n",
      "                \"/proc/kcore\",\n",
      "                \"/proc/keys\",\n",
      "                \"/proc/latency_stats\",\n",
      "                \"/proc/timer_list\",\n",
      "                \"/proc/timer_stats\",\n",
      "                \"/proc/sched_debug\",\n",
      "                \"/proc/scsi\",\n",
      "                \"/sys/firmware\"\n",
      "            ],\n",
      "            \"ReadonlyPaths\": [\n",
      "                \"/proc/bus\",\n",
      "                \"/proc/fs\",\n",
      "                \"/proc/irq\",\n",
      "                \"/proc/sys\",\n",
      "                \"/proc/sysrq-trigger\"\n",
      "            ]\n",
      "        },\n",
      "        \"GraphDriver\": {\n",
      "            \"Data\": {\n",
      "                \"LowerDir\": \"/var/lib/docker/overlay2/dd23bbab749a5999ee2793269c4ca53875c4aa0a04c8dba5130de22d9e5dcc9e-init/diff:/var/lib/docker/overlay2/014ff9b511968f9050d0e6af8d1a8437016035c26cf7cc1c0a7c47ed5419facd/diff:/var/lib/docker/overlay2/b193f038b9b17f08033390fe017bbd16cc9b3ad53a9fd1f5efe69e4df51d4545/diff:/var/lib/docker/overlay2/8137210c3bc580f11db8a1af5686796cf06784e36ea6b4c1c747d863aa8070f9/diff:/var/lib/docker/overlay2/eb8e0d66ab4f0101d74b2e790ba90a78db8f377fc4d7d0c9d284f33e4b8f3dfa/diff:/var/lib/docker/overlay2/b336694b4c7cd41dda64309e148a464adfd40cd5706eccc4a6e4e59d9cc40863/diff\",\n",
      "                \"MergedDir\": \"/var/lib/docker/overlay2/dd23bbab749a5999ee2793269c4ca53875c4aa0a04c8dba5130de22d9e5dcc9e/merged\",\n",
      "                \"UpperDir\": \"/var/lib/docker/overlay2/dd23bbab749a5999ee2793269c4ca53875c4aa0a04c8dba5130de22d9e5dcc9e/diff\",\n",
      "                \"WorkDir\": \"/var/lib/docker/overlay2/dd23bbab749a5999ee2793269c4ca53875c4aa0a04c8dba5130de22d9e5dcc9e/work\"\n",
      "            },\n",
      "            \"Name\": \"overlay2\"\n",
      "        },\n",
      "        \"Mounts\": [\n",
      "            {\n",
      "                \"Type\": \"bind\",\n",
      "                \"Source\": \"/home/claudio/data/osrm\",\n",
      "                \"Destination\": \"/data\",\n",
      "                \"Mode\": \"\",\n",
      "                \"RW\": true,\n",
      "                \"Propagation\": \"rprivate\"\n",
      "            }\n",
      "        ],\n",
      "        \"Config\": {\n",
      "            \"Hostname\": \"7d521f03c6e0\",\n",
      "            \"Domainname\": \"\",\n",
      "            \"User\": \"\",\n",
      "            \"AttachStdin\": false,\n",
      "            \"AttachStdout\": true,\n",
      "            \"AttachStderr\": true,\n",
      "            \"ExposedPorts\": {\n",
      "                \"5000/tcp\": {}\n",
      "            },\n",
      "            \"Tty\": true,\n",
      "            \"OpenStdin\": false,\n",
      "            \"StdinOnce\": false,\n",
      "            \"Env\": [\n",
      "                \"PATH=/usr/local/sbin:/usr/local/bin:/usr/sbin:/usr/bin:/sbin:/bin\"\n",
      "            ],\n",
      "            \"Cmd\": [\n",
      "                \"osrm-routed\",\n",
      "                \"--algorithm\",\n",
      "                \"mld\",\n",
      "                \"/data/peru-latest.osm.pbf\"\n",
      "            ],\n",
      "            \"Image\": \"osrm/osrm-backend\",\n",
      "            \"Volumes\": null,\n",
      "            \"WorkingDir\": \"/opt\",\n",
      "            \"Entrypoint\": null,\n",
      "            \"OnBuild\": null,\n",
      "            \"Labels\": {}\n",
      "        },\n",
      "        \"NetworkSettings\": {\n",
      "            \"Bridge\": \"\",\n",
      "            \"SandboxID\": \"98102c81d31c8e3197bb6516b3ab402da7d373e1202b2610e6ea79a60add420e\",\n",
      "            \"HairpinMode\": false,\n",
      "            \"LinkLocalIPv6Address\": \"\",\n",
      "            \"LinkLocalIPv6PrefixLen\": 0,\n",
      "            \"Ports\": {},\n",
      "            \"SandboxKey\": \"/var/run/docker/netns/98102c81d31c\",\n",
      "            \"SecondaryIPAddresses\": null,\n",
      "            \"SecondaryIPv6Addresses\": null,\n",
      "            \"EndpointID\": \"\",\n",
      "            \"Gateway\": \"\",\n",
      "            \"GlobalIPv6Address\": \"\",\n",
      "            \"GlobalIPv6PrefixLen\": 0,\n",
      "            \"IPAddress\": \"\",\n",
      "            \"IPPrefixLen\": 0,\n",
      "            \"IPv6Gateway\": \"\",\n",
      "            \"MacAddress\": \"\",\n",
      "            \"Networks\": {\n",
      "                \"bridge\": {\n",
      "                    \"IPAMConfig\": null,\n",
      "                    \"Links\": null,\n",
      "                    \"Aliases\": null,\n",
      "                    \"NetworkID\": \"403cd60d73f69bafbacf0a587c22a69799c8649dd5329d7ba0b43934b1d3314a\",\n",
      "                    \"EndpointID\": \"\",\n",
      "                    \"Gateway\": \"\",\n",
      "                    \"IPAddress\": \"\",\n",
      "                    \"IPPrefixLen\": 0,\n",
      "                    \"IPv6Gateway\": \"\",\n",
      "                    \"GlobalIPv6Address\": \"\",\n",
      "                    \"GlobalIPv6PrefixLen\": 0,\n",
      "                    \"MacAddress\": \"\",\n",
      "                    \"DriverOpts\": null\n",
      "                }\n",
      "            }\n",
      "        }\n",
      "    }\n",
      "]\n",
      "Starting server ...\n",
      "osrm_routing_server_south-america_peru_foot\n",
      "Server was started succesfully\n"
     ]
    }
   ],
   "source": [
    "up.routing.start_osrm_server(\"peru\", \"south-america\", \"foot\")"
   ]
  },
  {
   "cell_type": "code",
   "execution_count": 9,
   "id": "5aa10ac0-48d0-40a0-a29b-73b1004edfce",
   "metadata": {},
   "outputs": [
    {
     "name": "stderr",
     "output_type": "stream",
     "text": [
      "/tmp/ipykernel_28033/1140997260.py:3: UserWarning: Geometry is in a geographic CRS. Results from 'centroid' are likely incorrect. Use 'GeoSeries.to_crs()' to re-project geometries to a projected CRS before this operation.\n",
      "\n",
      "  hexagons['lon'] = hexagons.geometry.centroid.x\n",
      "/tmp/ipykernel_28033/1140997260.py:4: UserWarning: Geometry is in a geographic CRS. Results from 'centroid' are likely incorrect. Use 'GeoSeries.to_crs()' to re-project geometries to a projected CRS before this operation.\n",
      "\n",
      "  hexagons['lat'] = hexagons.geometry.centroid.y\n",
      "100%|██████████| 22991/22991 [01:51<00:00, 206.16it/s]\n"
     ]
    }
   ],
   "source": [
    "hexs_city_pop_access = accessibility_analysis(hexagons=lima_hexs, pois=biopoints)"
   ]
  },
  {
   "cell_type": "code",
   "execution_count": 10,
   "id": "c87e0dc5-23f9-42ec-8257-721d1e02140c",
   "metadata": {},
   "outputs": [
    {
     "name": "stdout",
     "output_type": "stream",
     "text": [
      "UID                 PID                 PPID                C                   STIME               TTY                 TIME                CMD\n",
      "root                28181               28159               22                  01:21               pts/0               00:00:49            osrm-routed --algorithm mld /data/peru-latest.osm.pbf\n",
      "osrm_routing_server_south-america_peru_foot\n",
      "Server was stoped succesfully\n"
     ]
    }
   ],
   "source": [
    "up.routing.stop_osrm_server(\"peru\", \"south-america\", \"foot\")"
   ]
  },
  {
   "cell_type": "code",
   "execution_count": 11,
   "id": "1c72a040-49c5-4c0a-a8c9-1a7d7fd59bce",
   "metadata": {},
   "outputs": [],
   "source": [
    "hexs_city_pop_access[\"duration_to_nearest_poi_label\"] = hexs_city_pop_access[\"duration_to_nearest_poi_label\"].astype(\"str\")"
   ]
  },
  {
   "cell_type": "code",
   "execution_count": 12,
   "id": "11bf45ec-22f8-445e-97ce-0141fb6abebe",
   "metadata": {},
   "outputs": [],
   "source": [
    "hexs_city_pop_access.to_file(\"outputs/lima_hexs9_distance_to_bio.geojson\")"
   ]
  },
  {
   "cell_type": "code",
   "execution_count": null,
   "id": "1b8b584e-36e8-4ae4-b3d2-b5b956f985b6",
   "metadata": {},
   "outputs": [],
   "source": []
  }
 ],
 "metadata": {
  "kernelspec": {
   "display_name": "Python 3.10.8 ('foodhub')",
   "language": "python",
   "name": "python3"
  },
  "language_info": {
   "codemirror_mode": {
    "name": "ipython",
    "version": 3
   },
   "file_extension": ".py",
   "mimetype": "text/x-python",
   "name": "python",
   "nbconvert_exporter": "python",
   "pygments_lexer": "ipython3",
   "version": "3.10.8"
  },
  "vscode": {
   "interpreter": {
    "hash": "e658bfc97ecd70c7dea766bce17f1a0e667e24077454682876e78fda26193a5a"
   }
  }
 },
 "nbformat": 4,
 "nbformat_minor": 5
}
