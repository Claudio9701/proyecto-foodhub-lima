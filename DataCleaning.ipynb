{
 "cells": [
  {
   "attachments": {},
   "cell_type": "markdown",
   "id": "860e821e-7c21-49fc-b339-588b7507e014",
   "metadata": {},
   "source": [
    "# Limpieza de datos\n",
    "\n",
    "**Principal inconveniente:** Los codigos del proyecto anterior actualmente no se pueden utilizar para esta encuesta. Se deben realizar un codigo adaptado el formato de la nueva encuesta.\n",
    "\n",
    "## Tareas de limpieza:\n",
    "\n",
    "### Para cada tabla por separado\n",
    "\n",
    "1. Revisar tipo de pregunta (opcion unica o multiple) \n",
    "1. Revisar si la pregunta tiene opcion de \"otro\" / detalle\n",
    "1. Si es opcion multiple considerar las columnas adicionales \n",
    "1. Revisar si la pregunta tiene un criterio de relevancia\n",
    "1. Si tiene criterio de relevancia colocar \"No valido\" donde corresponda (Reducir valores perdidos).\n",
    "1. Revisar categorias una por una y limpiar las respuestas posibles por ejemplo: \"papa\", \"Papa\", --> \"Papa\" \n",
    "\n",
    "### Especificamente para tablas secundarias \n",
    "\n",
    "- Agrupar las preguntas de las tablas secundarias en columnas para la tabla principial (segun lo coordinado con Renata).\n",
    "- Agregar \"filas\" secundaria como nuevas columnas (pregunta_A_1, pregunta_A_2, ...) para cada observacion de la tabla principal \n",
    "\n",
    "### Extra\n",
    "\n",
    "- Ahora si con los datos limpios se pueden realizar los reportes preliminares para compartir con el equipo de investigacion. \n",
    "\n",
    "### Tiempo estimado: \n",
    "\n",
    "- 14 (1/13) tablas a 2 o 3 tablas/dia = 7 o 5 dias"
   ]
  },
  {
   "cell_type": "code",
   "execution_count": null,
   "id": "f2af4cb6-db58-4d7f-9a70-1d585ec4028d",
   "metadata": {},
   "outputs": [],
   "source": [
    "import warnings\n",
    "\n",
    "warnings.filterwarnings(\"ignore\")"
   ]
  },
  {
   "cell_type": "code",
   "execution_count": null,
   "id": "886c893d-2bd9-4170-8255-01ebee5edba0",
   "metadata": {},
   "outputs": [],
   "source": [
    "import pandas as pd\n",
    "import numpy as np\n",
    "import matplotlib.pyplot as plt\n",
    "import seaborn as sns\n",
    "import os\n",
    "from tqdm.notebook import tqdm\n",
    "from pandas_profiling import ProfileReport"
   ]
  },
  {
   "cell_type": "code",
   "execution_count": null,
   "id": "85f67fb8-e8c3-4ddc-a1c7-92a40cb0b11c",
   "metadata": {},
   "outputs": [],
   "source": [
    "%matplotlib inline"
   ]
  },
  {
   "cell_type": "code",
   "execution_count": null,
   "id": "3f649af0-9d32-4506-96bd-d42132fc149f",
   "metadata": {},
   "outputs": [],
   "source": [
    "tqdm.pandas()"
   ]
  },
  {
   "attachments": {},
   "cell_type": "markdown",
   "id": "d33eb4ce-27b4-465d-abcc-1d11857c3132",
   "metadata": {},
   "source": [
    "## Read Data"
   ]
  },
  {
   "cell_type": "code",
   "execution_count": null,
   "id": "fed1b596-aa5b-4a7f-ad36-363112a92b1e",
   "metadata": {},
   "outputs": [],
   "source": [
    "DATA_FP = \"inputs/encuesta_principal/Vecindarios_Alimentarios_Encuesta_Integrada_2022_11_23.xlsx\""
   ]
  },
  {
   "cell_type": "code",
   "execution_count": null,
   "id": "af0058d2-b225-4f46-be5f-516e6cf70ea8",
   "metadata": {},
   "outputs": [],
   "source": [
    "df_main = pd.read_excel(DATA_FP, sheet_name=0)  # Main sheet\n",
    "df_comp_hogar = pd.read_excel(DATA_FP, sheet_name=\"composicion_hogar\")\n",
    "df_med_control_plagas = pd.read_excel(\n",
    "    DATA_FP, sheet_name=\"_5_18_medidas_control_plagas\"\n",
    ")\n",
    "df_prod_control_plagas = pd.read_excel(\n",
    "    DATA_FP, sheet_name=\"_5_19_productos_control_plagas\"\n",
    ")\n",
    "df_control_maleza = pd.read_excel(DATA_FP, sheet_name=\"_5_20_control_malezas\")\n",
    "df_oferta_alim_prod = pd.read_excel(\n",
    "    DATA_FP, sheet_name=\"_7_1_Oferta_Alimentos_Produccio\"\n",
    ")\n",
    "df_productor_dejo_prod_vend = pd.read_excel(\n",
    "    DATA_FP, sheet_name=\"_7_2_produc_dejo_producir_vend\"\n",
    ")\n",
    "df_productos_vende_canal = pd.read_excel(DATA_FP, sheet_name=\"Productos_Vende_Canal\")\n",
    "df_productos_compra_canal = pd.read_excel(DATA_FP, sheet_name=\"Productos_Compra_Canal\")\n",
    "df_canales_venta_productores = pd.read_excel(\n",
    "    DATA_FP, sheet_name=\"canales_venta_productores\"\n",
    ")\n",
    "df_aplic_bioprep = pd.read_excel(DATA_FP, sheet_name=\"aplicacion_biopreparados\")\n",
    "df_per_trab_puesto_venta = pd.read_excel(\n",
    "    DATA_FP, sheet_name=\"personas_trabajan_puesto_venta\"\n",
    ")\n",
    "df_canales_compra_comerciantes = pd.read_excel(\n",
    "    DATA_FP, sheet_name=\"canales_compra_comerciantes\"\n",
    ")\n",
    "df_huerto_rel = pd.read_excel(DATA_FP, sheet_name=\"HUERTO_RELACIONES\")"
   ]
  },
  {
   "cell_type": "code",
   "execution_count": null,
   "id": "32eb755f-9c70-4c6f-8c63-1754a98569ae",
   "metadata": {},
   "outputs": [],
   "source": [
    "DATA_APOYO_FP = \"inputs/encuesta_principal/Datos_Apoyos_Cat_Vec_Alim_2022_12_04.xlsx\""
   ]
  },
  {
   "cell_type": "code",
   "execution_count": null,
   "id": "d535983c-ca5d-4a78-9f4b-2e1282e39aeb",
   "metadata": {},
   "outputs": [],
   "source": [
    "df_apoyo_recibido = pd.read_excel(DATA_APOYO_FP, sheet_name=\"APOYO RECIBIDO\")\n",
    "df_apoyo_brindado = pd.read_excel(DATA_APOYO_FP, sheet_name=\"APOYO BRINDADO\")"
   ]
  },
  {
   "cell_type": "code",
   "execution_count": null,
   "id": "40f14150-c2fa-44b6-be12-29a59a807615",
   "metadata": {},
   "outputs": [],
   "source": [
    "dfs = {\n",
    "    \"Vecindarios Alimentarios\": df_main,\n",
    "    \"composicion_hogar\": df_comp_hogar,\n",
    "    \"_5_18_medidas_control_plagas\": df_med_control_plagas,\n",
    "    \"_5_19_productos_control_plagas\": df_prod_control_plagas,\n",
    "    \"_5_20_control_malezas\": df_control_maleza,\n",
    "    \"_7_1_Oferta_Alimentos_Produccio\": df_oferta_alim_prod,\n",
    "    \"_7_2_produc_dejo_producir_vend\": df_productor_dejo_prod_vend,\n",
    "    \"Productos_Vende_Canal\": df_productos_vende_canal,\n",
    "    \"canales_venta_productores\": df_canales_venta_productores,\n",
    "    \"aplicacion_biopreparados\": df_aplic_bioprep,\n",
    "    \"personas_trabajan_puesto_venta\": df_per_trab_puesto_venta,\n",
    "    \"canales_compra_comerciantes\": df_canales_compra_comerciantes,\n",
    "    \"Productos_Compra_Canal\": df_productos_compra_canal,\n",
    "    \"APOYO RECIBIDO\": df_apoyo_recibido,\n",
    "    \"APOYO BRINDADO\": df_apoyo_brindado,\n",
    "    \"HUERTO_RELACIONES\": df_huerto_rel,\n",
    "}"
   ]
  },
  {
   "cell_type": "code",
   "execution_count": null,
   "id": "9d87554f-5f1f-4c85-bccd-4e5a6eff507b",
   "metadata": {
    "tags": []
   },
   "outputs": [],
   "source": [
    "# profile = ProfileReport(df_main, title=\"Principal\", minimal=True)\n",
    "# profile.to_file(f\"outputs/data_cleaning/reports/principal.html\")"
   ]
  },
  {
   "attachments": {},
   "cell_type": "markdown",
   "id": "4cbc55f8-bcf4-4774-af07-57bcc568ea31",
   "metadata": {},
   "source": [
    "## Generacion de reportes de la tabla principal\n",
    "\n",
    "Los reportes seran divididos por Ciudad / Vecindario / Perfil y Perfil"
   ]
  },
  {
   "cell_type": "code",
   "execution_count": null,
   "id": "3a0013b6-5da3-40a1-a796-e0d28c74b1f9",
   "metadata": {},
   "outputs": [],
   "source": [
    "for col in [\"_1_4_1_ciudad\", \"_1_4_2_vecindario\", \"_1_5_perfil_entrevistado\"]:\n",
    "    print(f\"Valores unicos de {col}\")\n",
    "    print(df_main[col].value_counts())\n",
    "    print(\"-\" * 30)"
   ]
  },
  {
   "cell_type": "code",
   "execution_count": null,
   "id": "f3eaa3bb-6c8c-4ac7-a572-31da422b40fe",
   "metadata": {
    "tags": []
   },
   "outputs": [],
   "source": [
    "for ciudad in tqdm(df_main[\"_1_4_1_ciudad\"].dropna().unique()):\n",
    "    dff_ciudad = df_main[df_main[\"_1_4_1_ciudad\"] == ciudad]\n",
    "    profile = ProfileReport(dff_ciudad, title=f\"Principal-{ciudad}\", minimal=True)\n",
    "\n",
    "    output_fp = f\"outputs/data_cleaning/reports/Principal-{ciudad}.html\"\n",
    "    if not os.path.exists(output_fp):\n",
    "        profile.to_file(output_fp)\n",
    "\n",
    "    for vecindario in tqdm(dff_ciudad[\"_1_4_2_vecindario\"].unique()):\n",
    "        if vecindario != \"fuera\":\n",
    "            dff_vecindario = dff_ciudad[dff_ciudad[\"_1_4_2_vecindario\"] == vecindario]\n",
    "            profile = ProfileReport(\n",
    "                dff_vecindario, title=f\"Principal-{vecindario}\", minimal=True\n",
    "            )\n",
    "\n",
    "            output_fp = f\"outputs/data_cleaning/reports/Principal-{vecindario}.html\"\n",
    "            if not os.path.exists(output_fp):\n",
    "                profile.to_file(output_fp)\n",
    "\n",
    "            for perfil in tqdm(dff_vecindario[\"_1_5_perfil_entrevistado\"].unique()):\n",
    "                dff_perfil = dff_vecindario[\n",
    "                    dff_vecindario[\"_1_5_perfil_entrevistado\"] == perfil\n",
    "                ]\n",
    "                profile = ProfileReport(\n",
    "                    dff_perfil, title=f\"Principal-{vecindario}-{perfil}\", minimal=True\n",
    "                )\n",
    "\n",
    "                output_fp = f\"outputs/data_cleaning/reports/Principal-{vecindario}-{perfil}.html\"\n",
    "                if not os.path.exists(output_fp):\n",
    "                    profile.to_file(output_fp)\n",
    "\n",
    "    for perfil in tqdm(dff_ciudad[\"_1_5_perfil_entrevistado\"].unique()):\n",
    "        dff_perfil = dff_ciudad[dff_ciudad[\"_1_5_perfil_entrevistado\"] == perfil]\n",
    "        profile = ProfileReport(\n",
    "            dff_perfil, title=f\"Principal-{ciudad}-{perfil}\", minimal=True\n",
    "        )\n",
    "\n",
    "        output_fp = f\"outputs/data_cleaning/reports/Principal-{ciudad}-{perfil}.html\"\n",
    "        if not os.path.exists(output_fp):\n",
    "            profile.to_file(output_fp)"
   ]
  },
  {
   "cell_type": "code",
   "execution_count": null,
   "id": "a7cdc9a9-e44b-4386-becf-6f7d250bac0e",
   "metadata": {
    "tags": []
   },
   "outputs": [],
   "source": [
    "for name, df in tqdm(dfs.items()):\n",
    "    if name == \"main\":\n",
    "        continue\n",
    "    output_fp = f\"outputs/data_cleaning/reports/{name}.html\"\n",
    "    if not os.path.exists(output_fp):\n",
    "        try:\n",
    "            profile = ProfileReport(\n",
    "                df, title=name.replace(\"_\", \" \").title(), minimal=True\n",
    "            )\n",
    "            profile.to_file(output_fp)\n",
    "        except:\n",
    "            pass"
   ]
  },
  {
   "attachments": {},
   "cell_type": "markdown",
   "id": "d8df3c51-5cae-4fc4-94af-ed7e0e23c2fa",
   "metadata": {},
   "source": [
    "## Datos Generales del Cuestionario"
   ]
  },
  {
   "cell_type": "code",
   "execution_count": null,
   "id": "e90f0e18-6dc7-4158-8402-e93bb97a8702",
   "metadata": {},
   "outputs": [],
   "source": [
    "col_name = \"_1_5_perfil_entrevistado\"\n",
    "\n",
    "\n",
    "def frec_table(df, col_name):\n",
    "    col_value_counts = pd.concat(\n",
    "        [\n",
    "            df_main[col_name].value_counts(),\n",
    "            df_main[col_name].value_counts(normalize=True).round(2) * 100,\n",
    "        ],\n",
    "        axis=1,\n",
    "    )\n",
    "    col_value_counts.index = col_value_counts.index.str.capitalize()\n",
    "    col_value_counts.columns = [\"Frec.\", \"Frec. Rel. (%)\"]\n",
    "\n",
    "    col_value_counts = pd.concat(\n",
    "        [col_value_counts, col_value_counts.sum().to_frame(name=\"Total\").T]\n",
    "    )\n",
    "\n",
    "    return col_value_counts"
   ]
  },
  {
   "cell_type": "code",
   "execution_count": null,
   "id": "82926284-5c25-47cb-bb8b-1eac6781986e",
   "metadata": {},
   "outputs": [],
   "source": [
    "pd.crosstab(\n",
    "    df_main[\"_1_5_perfil_entrevistado\"],\n",
    "    df_main[\"_1_4_1_ciudad\"],\n",
    "    margins=True,\n",
    "    margins_name=\"Total\",\n",
    ")"
   ]
  },
  {
   "cell_type": "code",
   "execution_count": null,
   "id": "3efa2ba5-cd13-4c8f-8fbb-c866c97d6431",
   "metadata": {},
   "outputs": [],
   "source": [
    "# Frecs. de encuestas por vecindario y ciudad\n",
    "vec_x_ciudad = df_main.groupby([\"_1_4_1_ciudad\", \"_1_4_2_vecindario\"]).size().to_frame()\n",
    "\n",
    "totals = df_main[\"_1_4_1_ciudad\"].value_counts()\n",
    "normalized = (\n",
    "    pd.concat(\n",
    "        [\n",
    "            vec_x_ciudad.loc[\"lima\"] / totals[\"lima\"],\n",
    "            vec_x_ciudad.loc[\"quito\"] / totals[\"quito\"],\n",
    "        ]\n",
    "    ).round(2)\n",
    "    * 100\n",
    ")\n",
    "vec_x_ciudad[1] = normalized[0].values\n",
    "\n",
    "vec_x_ciudad.columns = [\"Frec.\", \"Frec. Rel. (%)\"]\n",
    "vec_x_ciudad"
   ]
  },
  {
   "cell_type": "code",
   "execution_count": null,
   "id": "e842e552-626e-4370-b1d2-d19847b9c033",
   "metadata": {},
   "outputs": [],
   "source": [
    "perfil_x_vec = (\n",
    "    df_main.groupby([\"_1_4_1_ciudad\", \"_1_4_2_vecindario\", \"_1_5_perfil_entrevistado\"])\n",
    "    .size()\n",
    "    .to_frame()\n",
    ")\n",
    "perfil_x_vec[1] = (\n",
    "    perfil_x_vec[0] / df_main.groupby([\"_1_4_1_ciudad\", \"_1_4_2_vecindario\"]).size()\n",
    ").round(2) * 100\n",
    "perfil_x_vec.columns = [\"Frec.\", \"Frec. Rel. (%)\"]\n",
    "perfil_x_vec"
   ]
  },
  {
   "cell_type": "code",
   "execution_count": null,
   "id": "70dce802-2416-4b52-8e93-26915d10db18",
   "metadata": {},
   "outputs": [],
   "source": [
    "# Num de encuestas diarias\n",
    "(\n",
    "    df_main.groupby(\"_1_2_fecha_encuesta\")\n",
    "    .size()\n",
    "    .resample(\"D\")\n",
    "    .sum()\n",
    "    .plot(style=\"-\", figsize=(10, 5))\n",
    ")"
   ]
  },
  {
   "cell_type": "code",
   "execution_count": null,
   "id": "cd9a9e37-67f9-4741-acb2-fabc003db87e",
   "metadata": {},
   "outputs": [],
   "source": [
    "fig, axs = plt.subplots(figsize=(12, 4))\n",
    "(\n",
    "    df_main.groupby(df_main[\"_1_2_fecha_encuesta\"].dt.day_name(\"es_ES.utf8\"))\n",
    "    .size()\n",
    "    .plot(kind=\"bar\", rot=0, ax=axs)\n",
    ")\n",
    "plt.xlabel(\"Dia de la semana\")\n",
    "plt.ylabel(\"Encuestas\");"
   ]
  },
  {
   "cell_type": "code",
   "execution_count": null,
   "id": "bf1f9ced-59fe-4c52-b59c-d191002a8ccc",
   "metadata": {},
   "outputs": [],
   "source": [
    "df_main.columns[5:]"
   ]
  },
  {
   "cell_type": "code",
   "execution_count": null,
   "id": "0216bc6c-6ebd-4fe2-a12b-9a2806c6f51c",
   "metadata": {},
   "outputs": [],
   "source": [
    "df_main[\n",
    "    [\n",
    "        \"zona_carabayllo\",\n",
    "        \"otra_zona_carabayllo\",\n",
    "        \"zona_pachacamac\",\n",
    "        \"otra_zona_pachacamac\",\n",
    "        \"mercado_carabayllo\",\n",
    "    ]\n",
    "].isna().sum()"
   ]
  },
  {
   "cell_type": "code",
   "execution_count": null,
   "id": "5d0a4e73-ef59-4958-b981-fc004a0f055b",
   "metadata": {},
   "outputs": [],
   "source": [
    "df_main.columns[:40]"
   ]
  },
  {
   "cell_type": "code",
   "execution_count": null,
   "id": "3132c407-3baa-4136-a211-b50ad13d961b",
   "metadata": {},
   "outputs": [],
   "source": [
    "df_main[[\"zona_carabayllo\", \"otra_zona_carabayllo\"]].dropna(how=\"all\").isna().sum()"
   ]
  },
  {
   "cell_type": "code",
   "execution_count": null,
   "id": "a2ff3d5f-b3d3-4053-86e6-152b355409ec",
   "metadata": {},
   "outputs": [],
   "source": [
    "df_main[\"_1_4_2_vecindario\"].value_counts()[\"carabayllo\"]"
   ]
  },
  {
   "cell_type": "code",
   "execution_count": null,
   "id": "492db8ed-623a-42df-bf1d-d54d4683e18a",
   "metadata": {},
   "outputs": [],
   "source": [
    "df_main[\"zona_carabayllo\"].value_counts()"
   ]
  },
  {
   "cell_type": "code",
   "execution_count": null,
   "id": "33c806cf-77e7-478b-a22f-0d23f979e489",
   "metadata": {},
   "outputs": [],
   "source": [
    "df_main[\"otra_zona_carabayllo\"].value_counts()"
   ]
  },
  {
   "cell_type": "code",
   "execution_count": null,
   "id": "8a0c3f05-7484-43cc-9e5a-bf6ac3ebc7fa",
   "metadata": {},
   "outputs": [],
   "source": [
    "df_main[\"otra_zona_carabayllo\"].value_counts().sum()"
   ]
  },
  {
   "cell_type": "code",
   "execution_count": null,
   "id": "c3a3a411-b549-47ed-8d3a-c440cc9f758c",
   "metadata": {},
   "outputs": [],
   "source": [
    "df_main[[\"mercado_carabayllo\", \"otro_mercado_carabayllo\"]].dropna(how=\"all\")"
   ]
  },
  {
   "cell_type": "code",
   "execution_count": null,
   "id": "4964e0e1-ffdb-4f31-b079-9df31a8b27c9",
   "metadata": {},
   "outputs": [],
   "source": []
  },
  {
   "cell_type": "code",
   "execution_count": null,
   "id": "dc5706fc-57ad-45eb-9977-cb5a974cbb54",
   "metadata": {},
   "outputs": [],
   "source": [
    "\"_1_1_codigo_cuestionario\",\n",
    "\n",
    "\"_1_2_fecha_encuesta\",\n",
    "\n",
    "\"_1_3_nombre_encuestador\",\n",
    "\n",
    "\n",
    "\"_1_4_1_ciudad\", \"_1_4_2_vecindario\", \"sector_barrio_huerto\",\n",
    "\"_1_5_perfil_entrevistado\",\n",
    "\n",
    "\n",
    "\"zona_carabayllo\", \"otra_zona_carabayllo\",\n",
    "\"mercado_carabayllo\", \"otro_mercado_carabayllo\",\n",
    "\n",
    "\"zona_pachacamac\", \"otra_zona_pachacamac\",\n",
    "\"mercado_pachacamac\", \"otro_mercado_pachacamac\",\n",
    "\n",
    "\n",
    "\"_1_6_ambito_territorial\", \"_1_7_1_provincia_huerto\"\n",
    "\"_1_7_2_canton_huerto\", \"_1_7_3_parroquia_huerto\",\n",
    "\n",
    "\n",
    "\"_2_1_consentimiento_informado\",\n",
    "\"_3_1_Nombre\", \"sexo\", \"edad\",\n",
    "\"aporta_economicamente_hogar\", \"_3_2_Informo_telefono\",\n",
    "\"numero_telefono\", \"contacto_dirigente\", \"contacto_administrador\",\n",
    "\"_3_3_1_Distrito_Canton\", \"_3_3_2_Provincia\", \"_3_3_3_Pais\",\n",
    "\"otro_pais\", \"_3_4_tiempo_vive_hogar\", \"_3_4_Vive_vecindario\",\n",
    "\"_3_6_nivel_estudio\", \"nivel_completo\", \"anos_nivel_incompleto\""
   ]
  },
  {
   "cell_type": "code",
   "execution_count": null,
   "id": "d32f73f3-6e52-4477-a0d9-7f611060670d",
   "metadata": {},
   "outputs": [],
   "source": [
    "sexo\tedad\taporta_economicamente_hogar\n",
    "num_hombres_hogar\tnum_menores_hogar\tnum_miembros_aportan_hogar\n"
   ]
  },
  {
   "cell_type": "code",
   "execution_count": null,
   "id": "a8794962-9eb7-41d4-a203-7049398d5c19",
   "metadata": {},
   "outputs": [],
   "source": [
    "df_main"
   ]
  },
  {
   "attachments": {},
   "cell_type": "markdown",
   "id": "ec79ed6d-7fdb-4371-845a-4053af6a43fd",
   "metadata": {},
   "source": [
    "## Caracterizacion del encuestado"
   ]
  },
  {
   "cell_type": "code",
   "execution_count": null,
   "id": "efd068af-1080-4f1b-9816-866e3101763b",
   "metadata": {},
   "outputs": [],
   "source": [
    "df_main[\"_3_2_Informo_telefono\"].value_counts()"
   ]
  },
  {
   "attachments": {},
   "cell_type": "markdown",
   "id": "f4ca3b2f-d283-4d02-80a0-98f666732f16",
   "metadata": {},
   "source": [
    "### 3.3 Lugar de nacimiento"
   ]
  },
  {
   "cell_type": "code",
   "execution_count": null,
   "id": "aab8d53e-633a-415e-ac89-b567085f990b",
   "metadata": {},
   "outputs": [],
   "source": [
    "df_main[\"_3_3_3_Pais\"].value_counts()"
   ]
  },
  {
   "cell_type": "code",
   "execution_count": null,
   "id": "46cdc028-1efc-4196-a2b3-e521b2297d65",
   "metadata": {},
   "outputs": [],
   "source": [
    "df_main[\"_3_3_2_Provincia\"].value_counts()"
   ]
  },
  {
   "cell_type": "code",
   "execution_count": null,
   "id": "e477c21d-d14f-47a8-ab55-0f57bf3ea985",
   "metadata": {},
   "outputs": [],
   "source": [
    "df_main[\"_1_4_1_ciudad\"].value_counts().sum()"
   ]
  },
  {
   "cell_type": "code",
   "execution_count": null,
   "id": "07f9785e-7326-482a-91fe-e747d632c591",
   "metadata": {},
   "outputs": [],
   "source": [
    "df_main[df_main[\"_1_4_1_ciudad\"].isna()]"
   ]
  },
  {
   "cell_type": "code",
   "execution_count": null,
   "id": "d87ed744-58b8-4dd3-a863-a54820ca6057",
   "metadata": {},
   "outputs": [],
   "source": [
    "df_main.loc[186, [\"_1_4_1_ciudad\", \"_1_4_2_vecindario\"]]"
   ]
  },
  {
   "cell_type": "code",
   "execution_count": null,
   "id": "bad3ef83-c7e6-45bd-a307-7d2a240bdce7",
   "metadata": {},
   "outputs": [],
   "source": [
    "df_main.loc[186, \"_1_4_1_ciudad\"] = \"quito\""
   ]
  },
  {
   "cell_type": "code",
   "execution_count": null,
   "id": "c5cb257f-15a0-4d0a-a6b2-c5fc365455be",
   "metadata": {},
   "outputs": [],
   "source": [
    "df_main.loc[186, \"_1_4_1_ciudad\"]"
   ]
  },
  {
   "cell_type": "code",
   "execution_count": null,
   "id": "839e63e2-c9f2-4ec4-9482-35f49d916919",
   "metadata": {},
   "outputs": [],
   "source": [
    "df_main[\"_1_4_1_ciudad\"].isna().sum()"
   ]
  },
  {
   "cell_type": "code",
   "execution_count": null,
   "id": "ad2e09b7-e8c8-488b-815f-6c260f024481",
   "metadata": {},
   "outputs": [],
   "source": [
    "df_main.shape"
   ]
  },
  {
   "attachments": {},
   "cell_type": "markdown",
   "id": "b75f27b2-2330-485a-a186-2647b2844ab6",
   "metadata": {},
   "source": [
    "# Variables Productores\n",
    "    a_2019_area_produccion\n",
    "    _1_6_ambito_territorial\n",
    "    _4_1_principal_actividad_econo\n",
    "    ingreso_hogar\n",
    "    _5_Caracteriza_Actividad_Econo\n",
    "    especificas_productores\n",
    "    INVERSION_INGRESOS_PRODUCCION\n",
    "    Porcentaje_Autoconsumo\n",
    "    _6_6_Dificultades_Comerciales\n",
    "    _7_RELACIONES_VENTA_ALIMENTOS\n",
    "    _7_1_Oferta_Alimentos_Produccio\n",
    "    _7_2_produc_dejo_producir_vend\n",
    "    _7_5_canal_venta_productores\n",
    "    _9_2_relaciones_huertos\n",
    "    aplica_biopreparados\n",
    "    _10_3_sufrio_lesiones_golpes\n",
    "    _10_4_sintomas_intoxicacion\n",
    "    _10_7_productor_problemas_paro\n",
    "    problemas_paro\n",
    "    resolucion_problema_paro\n"
   ]
  },
  {
   "attachments": {},
   "cell_type": "markdown",
   "id": "8caa0656-66e5-493a-b4f8-607a067b8489",
   "metadata": {},
   "source": [
    "# Variables Comerciantes\n",
    "    mercado_carabayllo\n",
    "    mercado_pachacamac\n",
    "    contacto_administrador\n",
    "    _3_4_Vive_vecindario\n",
    "    _4_1_principal_actividad_econo\n",
    "    informacion_puesto_comerciante\n",
    "    _5_Caracteriza_Actividad_Econo\n",
    "    especificas_comercianes\n",
    "    INVERSION_INGRESOS_PRODUCCION\n",
    "    CAMBIO_INGRESOS\n",
    "    _6_4_FINANCIA_COSTOS_PUESTO\n",
    "    _6_5_deudas_del_negocio\n",
    "    _6_6_Dificultades_Comerciales\n",
    "    _5_20_participa_organizacion\n",
    "    _7_RELACIONES_VENTA_ALIMENTOS\n",
    "    _7_1_Oferta_Alimentos_Produccio\n",
    "    porcentaje_perdida_semana\n",
    "    _7_2_produc_dejo_producir_vend\n",
    "    VENTA_NUEVOS_ALIMENTOS\n",
    "    _7_4_Actualmente_Usted_utiliza\n",
    "    _7_6_canal_compra_comerciantes\n",
    "    _9_2_brindo_apoyo\n",
    "    _10_2_comerciante_problemas_pa\n",
    "    problemas_paro\n",
    "    resolucion_problema_paro\n"
   ]
  },
  {
   "attachments": {},
   "cell_type": "markdown",
   "id": "897dc22c-cdcb-420e-8039-c60fd1b16824",
   "metadata": {},
   "source": [
    "# Variables consumidor\n",
    "    zona_carabayllo\n",
    "    zona_pachacamac\n",
    "    contacto_dirigente\n",
    "    _3_4_tiempo_vive_hogar\n",
    "    perdio_empleo\n",
    "    ingreso_hogar\n",
    "    participa_organiz_consumidores\n",
    "    _7_RELACIONES_VENTA_ALIMENTOS\n",
    "    _7_patrones_compra_consumidores\n",
    "    _9_2_brindo_apoyo\n",
    "    Patron_Consumo\n",
    "    _10_2_consumidor_problemas_par\n",
    "    problemas_paro\n",
    "    resolucion_problema_paro\n",
    "    direccion_hogar\n"
   ]
  },
  {
   "cell_type": "code",
   "execution_count": null,
   "id": "7ac4ce98-c477-4065-9f25-dd44bef7e71e",
   "metadata": {},
   "outputs": [],
   "source": [
    "df_main[\"_2019_perdio_empleo\"]"
   ]
  },
  {
   "cell_type": "code",
   "execution_count": null,
   "id": "e8fbd979-9c79-4750-9c52-05781778aebf",
   "metadata": {},
   "outputs": [],
   "source": [
    "df_main.loc[414].isna().sum()"
   ]
  },
  {
   "cell_type": "code",
   "execution_count": null,
   "id": "e7d96709-626a-4993-b63a-d3da0b43a819",
   "metadata": {},
   "outputs": [],
   "source": [
    "df_main.loc[414][df_main.loc[414].notna()]"
   ]
  },
  {
   "cell_type": "code",
   "execution_count": null,
   "id": "b91072e3-2d4c-4d78-89f6-a913b33cb15f",
   "metadata": {},
   "outputs": [],
   "source": [
    "df_main = df_main.drop(414)"
   ]
  },
  {
   "cell_type": "code",
   "execution_count": null,
   "id": "4b636ab4-0ef9-4616-b8a2-1ce2c53669ae",
   "metadata": {},
   "outputs": [],
   "source": [
    "df_main[df_main[\"_1_4_1_ciudad\"].isna()]"
   ]
  },
  {
   "cell_type": "code",
   "execution_count": null,
   "id": "67328f36-41bd-47e8-8b31-fa38a68582a5",
   "metadata": {},
   "outputs": [],
   "source": [
    "df_main.loc[884, [\"_1_4_1_ciudad\", \"_1_4_2_vecindario\"]]"
   ]
  },
  {
   "cell_type": "code",
   "execution_count": null,
   "id": "d2d88c46-0384-47f0-98d8-85d1eb49d9be",
   "metadata": {},
   "outputs": [],
   "source": [
    "df_main.loc[884, \"_1_4_1_ciudad\"] = \"lima\""
   ]
  },
  {
   "cell_type": "code",
   "execution_count": null,
   "id": "40a1c6f5-e67e-4be7-a774-7993675abe4f",
   "metadata": {},
   "outputs": [],
   "source": []
  },
  {
   "cell_type": "code",
   "execution_count": null,
   "id": "ba48bc6e-5cb1-4bb5-ab3a-79558350d067",
   "metadata": {},
   "outputs": [],
   "source": [
    "for ciudad in df_main[\"_1_4_1_ciudad\"].unique():\n",
    "    print(ciudad)\n",
    "    dff = df_main[df_main[\"_1_4_1_ciudad\"] == ciudad]\n",
    "    unique_values = (\n",
    "        dff[\"_3_3_2_Provincia\"]\n",
    "        .dropna()\n",
    "        .str.lower()\n",
    "        .str.strip()\n",
    "        .str.normalize(\"NFKD\")\n",
    "        .str.encode(\"ascii\", errors=\"ignore\")\n",
    "        .str.decode(\"utf-8\")\n",
    "        .str.replace(\"[^a-zA-Z ]\", \"\")\n",
    "        .unique()\n",
    "    )\n",
    "    unique_values.sort()\n",
    "    print(unique_values)"
   ]
  },
  {
   "cell_type": "code",
   "execution_count": null,
   "id": "7f9ee35c-f753-48bb-82c7-af5b080bf4de",
   "metadata": {},
   "outputs": [],
   "source": [
    "# Replace after cleaning _3_3_2_Provincia\n",
    "\n",
    "\n",
    "{ # Ecuador\n",
    " 'guayaqui': 'guayaquil',\n",
    " 'pichicha': 'pichincha',\n",
    " 'pichinca': 'pichincha',\n",
    " 'sto domingo': 'santo domingo',\n",
    " 'tumgurahua': 'tungurahua',\n",
    " 'tunguragua':'tungurahua',\n",
    "  # Peru\n",
    " 'ancash': 'ancahs',\n",
    "    \n",
    "    'asuncion' 'asunsion' 'asunsionchacas'\n",
    "    'cajatambo' 'cajatambo  lima' 'callao'\n",
    " 'canchis' 'canete' 'canta' 'carabaya' 'caracas' 'carhuaz' 'celendin'\n",
    " 'cercado de lima' 'cerro de pasco' \n",
    "    \n",
    "    'ayacucho' 'departamento de ayacucho' \n",
    "    \n",
    "    'chachapoyas' 'chachapoyas amazonas'\n",
    "    'cusco' 'cuzco'\n",
    " 'departamento ancash'  \n",
    "    \n",
    " 'huancayo' 'huancayo departamento junin' \n",
    "    \n",
    "     'huari  ancash'\n",
    "     'junin'\n",
    " 'tarma departamento junin' \n",
    "    \n",
    "     'la mar ayacucho' \n",
    "    'lamas  region san martin' \n",
    "    \n",
    "     'lucana' 'lucanas' \n",
    "    \n",
    " 'provincia ascope  region la libertad' \n",
    "}"
   ]
  },
  {
   "cell_type": "code",
   "execution_count": null,
   "id": "87beda39-5f00-48d6-aed6-e00e5892509b",
   "metadata": {},
   "outputs": [],
   "source": [
    "for row in df_main[\"_3_3_2_Provincia\"].str.lower().str.strip().value_counts().items():\n",
    "    print(row)"
   ]
  },
  {
   "cell_type": "code",
   "execution_count": null,
   "id": "2200f1eb-d19a-4795-b2fc-27ab42dc07cd",
   "metadata": {},
   "outputs": [],
   "source": []
  },
  {
   "cell_type": "code",
   "execution_count": null,
   "id": "fee69525-dc64-4cc6-b1b7-c5199c3a7987",
   "metadata": {},
   "outputs": [],
   "source": []
  },
  {
   "cell_type": "code",
   "execution_count": null,
   "id": "51a7fe1d-8437-4be5-bd04-8a05a82df2fa",
   "metadata": {},
   "outputs": [],
   "source": [
    "(\"lima\", 261)\n",
    "(\"pichincha\", 227)\n",
    "(\"quito\", 27)\n",
    "(\"tungurahua\", 18)\n",
    "(\"cotopaxi\", 18)\n",
    "(\"chimborazo\", 15)\n",
    "(\"piura\", 15)\n",
    "(\"loja\", 14)\n",
    "(\"cajamarca\", 10)\n",
    "(\"ica\", 10)\n",
    "(\"canta\", 9)\n",
    "(\"arequipa\", 7)\n",
    "(\"ancash\", 7)\n",
    "(\"imbabura\", 7)\n",
    "(\"cañete\", 7)\n",
    "(\"bolivar\", 7)\n",
    "(\"huarochiri\", 6)\n",
    "(\"huancayo\", 6)\n",
    "(\"huanuco\", 6)\n",
    "(\"andahuaylas\", 5)\n",
    "(\"callao\", 4)\n",
    "(\"bolívar\", 4)\n",
    "(\"trujillo\", 4)\n",
    "(\"ayacucho\", 4)\n",
    "(\"guayas\", 4)\n",
    "(\"abancay\", 4)\n",
    "(\"puno\", 4)\n",
    "(\"san martin\", 3)\n",
    "(\"pichincha.\", 3)\n",
    "(\"junin\", 3)\n",
    "(\"manabí\", 3)\n",
    "(\"santo domingo\", 3)\n",
    "(\"huancavelica\", 3)\n",
    "(\"cuzco\", 3)\n",
    "(\"pachacamac\", 3)\n",
    "(\"caracas\", 3)\n",
    "(\"carchi\", 3)\n",
    "(\"el oro\", 3)\n",
    "(\"manabí.\", 2)\n",
    "(\"azuay\", 2)\n",
    "(\"carhuaz\", 2)\n",
    "(\"huánuco\", 2)\n",
    "(\"lambayeque\", 2)\n",
    "(\"cerro de pasco\", 2)\n",
    "(\"chota\", 2)\n",
    "(\"junín\", 2)\n",
    "(\"cañar\", 2)\n",
    "(\"santa rosa de quives\", 2)\n",
    "(\"pichinca\", 2)\n",
    "(\"huaraz\", 2)\n",
    "(\"huanta\", 2)\n",
    "(\"lamas - región san martín\", 2)\n",
    "(\"manabi\", 2)\n",
    "(\"amazonas\", 2)\n",
    "(\"los rios\", 2)\n",
    "(\"huari - ancash\", 2)\n",
    "(\"iquitos\", 2)\n",
    "(\"asunsion\", 2)\n",
    "(\"lucanas\", 2)\n",
    "(\"pataz\", 1)\n",
    "(\"puerto cabello\", 1)\n",
    "(\"apurimac\", 1)\n",
    "(\"tulcán\", 1)\n",
    "(\"mariscal caceres\", 1)\n",
    "(\"rumiñahui\", 1)\n",
    "(\"pasco\", 1)\n",
    "(\"morropon\", 1)\n",
    "(\"asuncion\", 1)\n",
    "(\"san marcos\", 1)\n",
    "(\"portuguesa\", 1)\n",
    "(\"madre de dios\", 1)\n",
    "(\"riobamba\", 1)\n",
    "(\"barranca\", 1)\n",
    "(\"chulucanas\", 1)\n",
    "(\"chachapoyas\", 1)\n",
    "(\"nariño\", 1)\n",
    "(\"-\", 1)\n",
    "(\"loreto\", 1)\n",
    "(\"chepen\", 1)\n",
    "(\"lucana\", 1)\n",
    "(\"tunguragua\", 1)\n",
    "(\"celendín\", 1)\n",
    "(\"asunsion-chacas\", 1)\n",
    "(\"tarma\", 1)\n",
    "(\"cusco\", 1)\n",
    "(\"chupaca\", 1)\n",
    "(\"chachapoyas -amazonas\", 1)\n",
    "(\"la mar- ayacucho\", 1)\n",
    "(\"la libertad\", 1)\n",
    "(\"angaraes\", 1)\n",
    "(\"yaracuy\", 1)\n",
    "(\"pillaro\", 1)\n",
    "(\"chulcampa\", 1)\n",
    "(\"cercado de lima\", 1)\n",
    "(\"canchis\", 1)\n",
    "(\"recuay\", 1)\n",
    "(\"maynas\", 1)\n",
    "(\"melgar\", 1)\n",
    "(\"orellana\", 1)\n",
    "(\"chancay\", 1)\n",
    "(\"los ríos\", 1)\n",
    "(\"sandia\", 1)\n",
    "(\"guayaquil\", 1)\n",
    "(\"ibarra\", 1)\n",
    "(\"pueblo viejo\", 1)\n",
    "(\"tarma, departamento junín\", 1)\n",
    "(\"cajatambo - lima\", 1)\n",
    "(\"cuenca\", 1)\n",
    "(\"provincia ascope - región la libertad\", 1)\n",
    "(\"los ríos.\", 1)\n",
    "(\"napo\", 1)\n",
    "(\"coronel portillo\", 1)\n",
    "(\"sto domingo.\", 1)\n",
    "(\"paruro\", 1)\n",
    "(\"huaral\", 1)\n",
    "(\"pallasca\", 1)\n",
    "(\"chiclayo\", 1)\n",
    "(\"comandancia de barinas\", 1)\n",
    "(\"santa elena\", 1)\n",
    "(\"ancahs\", 1)\n",
    "(\"pichicha.\", 1)\n",
    "(\"departamento ancash\", 1)\n",
    "(\"esmeraldas.\", 1)\n",
    "(\"santa\", 1)\n",
    "(\"pastaza\", 1)\n",
    "(\"tacna\", 1)\n",
    "(\"essen\", 1)\n",
    "(\"yungay\", 1)\n",
    "(\"carabaya\", 1)\n",
    "(\"lampa\", 1)\n",
    "(\"panao- huánuco\", 1)\n",
    "(\"huaro\", 1)\n",
    "(\"huancayo, departamento junín\", 1)\n",
    "(\"chanchamayo (junin)\", 1)\n",
    "(\"manavi\", 1)\n",
    "(\"imbabura.\", 1)\n",
    "(\"manabía\", 1)\n",
    "(\"pichicha\", 1)\n",
    "(\"ecuador\", 1)\n",
    "(\"tumgurahua\", 1)\n",
    "(\"morona santiago\", 1)\n",
    "(\"departamento de ayacucho\", 1)\n",
    "(\"cajatambo\", 1)\n",
    "(\"guayaqui\", 1)\n",
    "(\"tocache\", 1)\n",
    "(\"santo domingo de olleros\", 1)"
   ]
  },
  {
   "cell_type": "code",
   "execution_count": null,
   "id": "9a08d7b0-5702-40d8-99b6-5a0a65c183ff",
   "metadata": {},
   "outputs": [],
   "source": [
    "df_main[\"_3_3_1_Distrito_Canton\"].value_counts()"
   ]
  },
  {
   "cell_type": "code",
   "execution_count": null,
   "id": "20d13cb8-93a0-433f-b3fd-9a977f8011aa",
   "metadata": {},
   "outputs": [],
   "source": []
  },
  {
   "cell_type": "code",
   "execution_count": null,
   "id": "db80d142-3253-4eb9-981c-257f6d1a21e2",
   "metadata": {},
   "outputs": [],
   "source": []
  }
 ],
 "metadata": {
  "kernelspec": {
   "display_name": "Python 3 (ipykernel)",
   "language": "python",
   "name": "python3"
  },
  "language_info": {
   "codemirror_mode": {
    "name": "ipython",
    "version": 3
   },
   "file_extension": ".py",
   "mimetype": "text/x-python",
   "name": "python",
   "nbconvert_exporter": "python",
   "pygments_lexer": "ipython3",
   "version": "3.10.9"
  },
  "vscode": {
   "interpreter": {
    "hash": "4d1f298a656e99289f1df831f6703f78a7b71cc6dfa7202a5fadb8f57a95f647"
   }
  }
 },
 "nbformat": 4,
 "nbformat_minor": 5
}
