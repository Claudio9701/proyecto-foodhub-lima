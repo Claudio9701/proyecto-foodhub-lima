{
 "cells": [
  {
   "attachments": {},
   "cell_type": "markdown",
   "metadata": {},
   "source": [
    "# Limpieza de datos"
   ]
  },
  {
   "attachments": {},
   "cell_type": "markdown",
   "metadata": {},
   "source": [
    "### Importo librerias"
   ]
  },
  {
   "cell_type": "code",
   "execution_count": null,
   "metadata": {},
   "outputs": [],
   "source": [
    "import re\n",
    "import difflib\n",
    "import numpy as np\n",
    "import pandas as pd"
   ]
  },
  {
   "attachments": {},
   "cell_type": "markdown",
   "metadata": {},
   "source": [
    "### Cargo el excel con pandas"
   ]
  },
  {
   "cell_type": "code",
   "execution_count": null,
   "metadata": {},
   "outputs": [],
   "source": [
    "full_data = pd.read_excel(\n",
    "    \"./inputs/encuesta_principal/Vecindarios_Alimentarios_Encuesta_Integrada_2022_11_23.xlsx\",\n",
    "    sheet_name=None,\n",
    ")"
   ]
  },
  {
   "cell_type": "code",
   "execution_count": null,
   "metadata": {},
   "outputs": [],
   "source": [
    "list(full_data.keys())"
   ]
  },
  {
   "cell_type": "code",
   "execution_count": null,
   "metadata": {},
   "outputs": [],
   "source": [
    "# Elimina las columnas no relevanntes para este trabajo de limpieza de datos\n",
    "columns_to_drop = [\n",
    "    \"_submission__id\",\n",
    "    \"_submission__uuid\",\n",
    "    \"_submission__submission_time\",\n",
    "    \"_submission__validation_status\",\n",
    "    \"_submission__notes\",\n",
    "    \"_submission__status\",\n",
    "    \"_submission__submitted_by\",\n",
    "    \"_submission__tags\",\n",
    "]"
   ]
  },
  {
   "cell_type": "code",
   "execution_count": null,
   "metadata": {},
   "outputs": [],
   "source": [
    "vecindarios = full_data[\"Vecindarios Alimentarios - E...\"]\n",
    "composicion_hogar = full_data[\"composicion_hogar\"].drop(\n",
    "    columns=[*columns_to_drop, \"_index\"]\n",
    ")\n",
    "medidas_control_plagas = full_data[\"_5_18_medidas_control_plagas\"].drop(\n",
    "    columns=[*columns_to_drop, \"_index\"]\n",
    ")\n",
    "productos_control_plagas = full_data[\"_5_19_productos_control_plagas\"].drop(\n",
    "    columns=[*columns_to_drop, \"_index\"]\n",
    ")\n",
    "control_malezas = full_data[\"_5_20_control_malezas\"].drop(\n",
    "    columns=[*columns_to_drop, \"_index\"]\n",
    ")\n",
    "oferta_alimentos = full_data[\"_7_1_Oferta_Alimentos_Produccio\"].drop(\n",
    "    columns=[*columns_to_drop, \"_index\"]\n",
    ")\n",
    "producto_dejo_producir = full_data[\"_7_2_produc_dejo_producir_vend\"].drop(\n",
    "    columns=[*columns_to_drop, \"_index\"]\n",
    ")\n",
    "producto_vende_canal = full_data[\"Productos_Vende_Canal\"].drop(\n",
    "    columns=[*columns_to_drop]\n",
    ")\n",
    "canales_venta_productores = full_data[\"canales_venta_productores\"].drop(\n",
    "    columns=[*columns_to_drop]\n",
    ")\n",
    "aplicacion_biopreparados = full_data[\"aplicacion_biopreparados\"].drop(\n",
    "    columns=[*columns_to_drop, \"_index\"]\n",
    ")\n",
    "personas_trabajan_puesto_venta = full_data[\"personas_trabajan_puesto_venta\"].drop(\n",
    "    columns=[*columns_to_drop, \"_index\"]\n",
    ")\n",
    "canales_compra_comerciantes = full_data[\"canales_compra_comerciantes\"].drop(\n",
    "    columns=[*columns_to_drop]\n",
    ")\n",
    "productos_compra_canal = full_data[\"Productos_Compra_Canal\"].drop(\n",
    "    columns=[*columns_to_drop]\n",
    ")\n",
    "HUERTO_RELACIONES = full_data[\"HUERTO_RELACIONES\"].drop(columns=[*columns_to_drop])"
   ]
  },
  {
   "cell_type": "code",
   "execution_count": null,
   "metadata": {},
   "outputs": [],
   "source": [
    "APOYO_RECIBIDO = pd.read_excel(\n",
    "    \"./inputs/encuesta_principal/Datos_Apoyos_Cat_Vec_Alim_2022_12_04 (2).xlsx\",\n",
    "    sheet_name=\"APOYO RECIBIDO\",\n",
    ").drop(columns=[*columns_to_drop])\n",
    "APOYO_BRINDADO = pd.read_excel(\n",
    "    \"./inputs/encuesta_principal/Datos_Apoyos_Cat_Vec_Alim_2022_12_04 (2).xlsx\",\n",
    "    sheet_name=\"APOYO BRINDADO\",\n",
    ").drop(columns=[*columns_to_drop])"
   ]
  },
  {
   "cell_type": "code",
   "execution_count": null,
   "metadata": {},
   "outputs": [],
   "source": [
    "# Guarda los nombres de las columnas nuevas\n",
    "columnas_nuevas = []"
   ]
  },
  {
   "attachments": {},
   "cell_type": "markdown",
   "metadata": {},
   "source": [
    "### Composicion_hogar"
   ]
  },
  {
   "cell_type": "code",
   "execution_count": null,
   "metadata": {},
   "outputs": [],
   "source": [
    "df_ = composicion_hogar[composicion_hogar[\"miembro_parentesco\"] == \"el_entrevistado\"][\n",
    "    [\"_parent_index\", \"sexo\", \"edad_miembro\", \"miembros_aporta_economicamente\"]\n",
    "].reset_index(drop=True)"
   ]
  },
  {
   "cell_type": "code",
   "execution_count": null,
   "metadata": {},
   "outputs": [],
   "source": [
    "df_"
   ]
  },
  {
   "cell_type": "code",
   "execution_count": null,
   "metadata": {},
   "outputs": [],
   "source": [
    "df__ = vecindarios.loc[\n",
    "    :, [\"_index\", \"sexo\", \"edad\", \"aporta_economicamente_hogar\"]\n",
    "].reset_index(drop=True)"
   ]
  },
  {
   "cell_type": "code",
   "execution_count": null,
   "metadata": {},
   "outputs": [],
   "source": [
    "df__"
   ]
  },
  {
   "cell_type": "code",
   "execution_count": null,
   "metadata": {},
   "outputs": [],
   "source": [
    "# Manual way of inputing values\n",
    "# This could be done by join/merge + fillna + dropcol\n",
    "\n",
    "df__[\"sexo\"] = df__.apply(\n",
    "    lambda x: df_.loc[df_[\"_parent_index\"] == x[\"_index\"]][\"sexo\"].iloc[0]\n",
    "    if df_.loc[df_[\"_parent_index\"] == x[\"_index\"]][\"sexo\"].size != 0\n",
    "    else np.NAN,\n",
    "    axis=1,\n",
    ")\n",
    "\n",
    "df__[\"edad\"] = df__.apply(\n",
    "    lambda x: df_.loc[df_[\"_parent_index\"] == x[\"_index\"]][\"edad_miembro\"].iloc[0]\n",
    "    if df_.loc[df_[\"_parent_index\"] == x[\"_index\"]][\"edad_miembro\"].size != 0\n",
    "    else np.NAN,\n",
    "    axis=1,\n",
    ")\n",
    "\n",
    "df__[\"aporta_economicamente_hogar\"] = df__.apply(\n",
    "    lambda x: df_.loc[df_[\"_parent_index\"] == x[\"_index\"]][\n",
    "        \"miembros_aporta_economicamente\"\n",
    "    ].iloc[0]\n",
    "    if df_.loc[df_[\"_parent_index\"] == x[\"_index\"]][\n",
    "        \"miembros_aporta_economicamente\"\n",
    "    ].size\n",
    "    != 0\n",
    "    else np.NAN,\n",
    "    axis=1,\n",
    ")"
   ]
  },
  {
   "cell_type": "code",
   "execution_count": null,
   "metadata": {},
   "outputs": [],
   "source": [
    "df__"
   ]
  },
  {
   "cell_type": "code",
   "execution_count": null,
   "metadata": {},
   "outputs": [],
   "source": [
    "# Replace new values on columns\n",
    "vecindarios[[\"sexo\", \"edad\", \"aporta_economicamente_hogar\"]] = df__[\n",
    "    [\"sexo\", \"edad\", \"aporta_economicamente_hogar\"]\n",
    "]"
   ]
  },
  {
   "cell_type": "code",
   "execution_count": null,
   "metadata": {},
   "outputs": [],
   "source": [
    "composicion_hogar.groupby(by=[\"_parent_index\", \"sexo\"], as_index=False).count()"
   ]
  },
  {
   "cell_type": "code",
   "execution_count": null,
   "metadata": {},
   "outputs": [],
   "source": [
    "df_ = composicion_hogar.groupby(by=[\"_parent_index\", \"sexo\"], as_index=False).count()[\n",
    "    [\"_parent_index\", \"sexo\", \"miembro_parentesco\", \"otro_pariente\", \"otro_NO_pariente\"]\n",
    "]\n",
    "df_[\"suma\"] = df_[\"miembro_parentesco\"] + df_[\"otro_pariente\"] + df_[\"otro_NO_pariente\"]"
   ]
  },
  {
   "cell_type": "code",
   "execution_count": null,
   "metadata": {},
   "outputs": [],
   "source": [
    "vecindarios[\"num_mujeres_hogar\"] = vecindarios.apply(\n",
    "    lambda x: df_.loc[\n",
    "        (df_[\"_parent_index\"] == x[\"_index\"]) & (df_[\"sexo\"] == \"femenino\")\n",
    "    ][\"suma\"].iloc[0]\n",
    "    if df_.loc[(df_[\"_parent_index\"] == x[\"_index\"]) & (df_[\"sexo\"] == \"femenino\")][\n",
    "        \"suma\"\n",
    "    ].size\n",
    "    != 0\n",
    "    else 0,\n",
    "    axis=1,\n",
    ")\n",
    "\n",
    "vecindarios[\"num_hombres_hogar\"] = vecindarios.apply(\n",
    "    lambda x: df_.loc[\n",
    "        (df_[\"_parent_index\"] == x[\"_index\"]) & (df_[\"sexo\"] == \"masculino\")\n",
    "    ][\"suma\"].iloc[0]\n",
    "    if df_.loc[(df_[\"_parent_index\"] == x[\"_index\"]) & (df_[\"sexo\"] == \"masculino\")][\n",
    "        \"suma\"\n",
    "    ].size\n",
    "    != 0\n",
    "    else 0,\n",
    "    axis=1,\n",
    ")"
   ]
  },
  {
   "cell_type": "code",
   "execution_count": null,
   "metadata": {},
   "outputs": [],
   "source": [
    "df_ = (\n",
    "    composicion_hogar.loc[composicion_hogar[\"edad_miembro\"] < 18]\n",
    "    .groupby(by=[\"_parent_index\"], as_index=False)\n",
    "    .count()\n",
    ")"
   ]
  },
  {
   "cell_type": "code",
   "execution_count": null,
   "metadata": {},
   "outputs": [],
   "source": [
    "vecindarios[\"num_menores_hogar\"] = vecindarios.apply(\n",
    "    lambda x: df_.loc[df_[\"_parent_index\"] == x[\"_index\"]][\"edad_miembro\"].iloc[0]\n",
    "    if df_.loc[df_[\"_parent_index\"] == x[\"_index\"]][\"edad_miembro\"].size != 0\n",
    "    else 0,\n",
    "    axis=1,\n",
    ")"
   ]
  },
  {
   "cell_type": "code",
   "execution_count": null,
   "metadata": {},
   "outputs": [],
   "source": [
    "df_ = (\n",
    "    composicion_hogar.loc[composicion_hogar[\"miembros_aporta_economicamente\"] == \"si\"]\n",
    "    .groupby(by=[\"_parent_index\"], as_index=False)\n",
    "    .count()\n",
    "    .rename(columns={\"miembros_aporta_economicamente\": \"aporta_economicamente\"})\n",
    ")"
   ]
  },
  {
   "cell_type": "code",
   "execution_count": null,
   "metadata": {},
   "outputs": [],
   "source": [
    "vecindarios[\"num_miembros_aportan_hogar\"] = vecindarios.apply(\n",
    "    lambda x: df_.loc[df_[\"_parent_index\"] == x[\"_index\"]][\n",
    "        \"aporta_economicamente\"\n",
    "    ].iloc[0]\n",
    "    if df_.loc[df_[\"_parent_index\"] == x[\"_index\"]][\"aporta_economicamente\"].size != 0\n",
    "    else 0,\n",
    "    axis=1,\n",
    ")"
   ]
  },
  {
   "cell_type": "code",
   "execution_count": null,
   "metadata": {},
   "outputs": [],
   "source": [
    "(\n",
    "    composicion_hogar.drop(columns=\"_parent_table_name\")\n",
    "    .fillna(value=\"\")\n",
    "    .astype(str)\n",
    "    .groupby(by=\"_parent_index\", as_index=False)\n",
    "    .agg(\",\".join)\n",
    "    .replace({r\"^,+\": \"\"}, regex=True)[\"miembro_parentesco\"]\n",
    "    .str.lower()\n",
    "    .str.replace(\".\", \"\", regex=True)\n",
    "    .str.strip()\n",
    "    .str.get_dummies(sep=\",\")\n",
    ")\n",
    "\n",
    "\n",
    "# df_1.columns = [col+'/'+i for i in df_1.columns]\n",
    "# df_ = df_.drop(columns=col)\n",
    "# df_ = pd.concat([df_, df_1], axis=1)\n",
    "# df_"
   ]
  },
  {
   "cell_type": "code",
   "execution_count": null,
   "metadata": {},
   "outputs": [],
   "source": [
    "df_ = (\n",
    "    composicion_hogar.drop(columns=\"_parent_table_name\")\n",
    "    .fillna(value=\"\")\n",
    "    .astype(str)\n",
    "    .groupby(by=\"_parent_index\", as_index=False)\n",
    "    .agg(\",\".join)\n",
    ")\n",
    "df_ = df_.replace({r\"^,+\": \"\"}, regex=True)\n",
    "df_[\"miembro_parentesco\"] = (\n",
    "    df_[\"miembro_parentesco\"].str.lower().str.replace(\".\", \"\", regex=True).str.strip()\n",
    ")\n",
    "df_[\"otro_pariente\"] = (\n",
    "    df_[\"otro_pariente\"].str.lower().str.replace(\".\", \"\", regex=True).str.strip()\n",
    ")\n",
    "df_[\"otro_NO_pariente\"] = (\n",
    "    df_[\"otro_NO_pariente\"].str.lower().str.replace(\".\", \"\", regex=True).str.strip()\n",
    ")\n",
    "df_[\"sexo\"] = df_[\"sexo\"].str.lower().str.replace(\".\", \"\", regex=True).str.strip()\n",
    "df_[\"miembros_aporta_economicamente\"] = (\n",
    "    df_[\"miembros_aporta_economicamente\"]\n",
    "    .str.lower()\n",
    "    .str.replace(\".\", \"\", regex=True)\n",
    "    .str.strip()\n",
    ")\n",
    "df_"
   ]
  },
  {
   "cell_type": "code",
   "execution_count": null,
   "metadata": {},
   "outputs": [],
   "source": [
    "for col in df_.columns[1:]:\n",
    "    if col == \"edad_miembro\":\n",
    "        continue\n",
    "    df_1 = df_[col].str.get_dummies(sep=\",\")\n",
    "    df_1.columns = [col + \"/\" + i for i in df_1.columns]\n",
    "    # df_ = df_.drop(columns=col)\n",
    "    df_ = pd.concat([df_, df_1], axis=1)\n",
    "df_"
   ]
  },
  {
   "cell_type": "code",
   "execution_count": null,
   "metadata": {},
   "outputs": [],
   "source": [
    "for i in df_.columns[1:]:\n",
    "    vecindarios[i] = vecindarios.apply(\n",
    "        lambda x: df_.loc[df_[\"_parent_index\"] == x[\"_index\"]][i].iloc[0]\n",
    "        if df_.loc[df_[\"_parent_index\"] == x[\"_index\"]][i].size != 0\n",
    "        else np.nan,\n",
    "        axis=1,\n",
    "    )\n",
    "    columnas_nuevas.append(i)"
   ]
  },
  {
   "cell_type": "code",
   "execution_count": null,
   "metadata": {},
   "outputs": [],
   "source": [
    "composicion_hogar[\"grupo_edad_miembro\"] = pd.cut(\n",
    "    x=composicion_hogar[\"edad_miembro\"],\n",
    "    bins=[0, 17, 64, 100],\n",
    "    labels=[\"menores\", \"adultos\", \"mayores\"],\n",
    ")"
   ]
  },
  {
   "cell_type": "code",
   "execution_count": null,
   "metadata": {},
   "outputs": [],
   "source": [
    "col_df = (\n",
    "    composicion_hogar.groupby(\n",
    "        by=[\"_parent_index\", \"grupo_edad_miembro\"], as_index=False\n",
    "    )\n",
    "    .size()\n",
    "    .pivot(index=\"_parent_index\", columns=\"grupo_edad_miembro\", values=\"size\")\n",
    "    .fillna(0)\n",
    ")\n",
    "col_df.columns = [f\"{col_df.columns.name}/{values}\" for values in col_df.columns]"
   ]
  },
  {
   "cell_type": "code",
   "execution_count": null,
   "metadata": {},
   "outputs": [],
   "source": [
    "col_df = col_df.reset_index()\n",
    "col_df[\"_parent_index\"] = col_df[\"_parent_index\"].astype(int)"
   ]
  },
  {
   "cell_type": "code",
   "execution_count": null,
   "metadata": {},
   "outputs": [],
   "source": [
    "col_df"
   ]
  },
  {
   "cell_type": "code",
   "execution_count": null,
   "metadata": {},
   "outputs": [],
   "source": [
    "vecindarios = vecindarios.merge(\n",
    "    right=col_df, how=\"left\", left_on=\"_index\", right_on=\"_parent_index\"\n",
    ").drop(labels=\"_parent_index\", axis=1)\n",
    "vecindarios.loc[:, col_df.columns[1:]] = vecindarios[col_df.columns[1:]].fillna(0.0)"
   ]
  },
  {
   "attachments": {},
   "cell_type": "markdown",
   "metadata": {},
   "source": [
    "### medidas_control_plagas"
   ]
  },
  {
   "cell_type": "code",
   "execution_count": null,
   "metadata": {
    "notebookRunGroups": {
     "groupValue": "1"
    }
   },
   "outputs": [],
   "source": [
    "df_ = medidas_control_plagas.copy()"
   ]
  },
  {
   "cell_type": "code",
   "execution_count": null,
   "metadata": {
    "notebookRunGroups": {
     "groupValue": "1"
    }
   },
   "outputs": [],
   "source": [
    "df_[\"_5_18_medida_control_plagas\"] = (\n",
    "    df_[\"_5_18_medida_control_plagas\"].str.lower().str.split(\",\")\n",
    ")\n",
    "df_ = df_.explode(\"_5_18_medida_control_plagas\")\n",
    "df_[\"_5_18_medida_control_plagas\"] = df_[\"_5_18_medida_control_plagas\"].str.strip()\n",
    "df_ = df_.reset_index(drop=True)\n",
    "df_"
   ]
  },
  {
   "cell_type": "code",
   "execution_count": null,
   "metadata": {
    "notebookRunGroups": {
     "groupValue": "1"
    }
   },
   "outputs": [],
   "source": [
    "df_[\"_5_18_medida_control_plagas\"].unique().size"
   ]
  },
  {
   "cell_type": "code",
   "execution_count": null,
   "metadata": {
    "notebookRunGroups": {
     "groupValue": ""
    }
   },
   "outputs": [],
   "source": [
    "# Crea la nueva columna\n",
    "df_[\"estandarizado\"] = df_[\"_5_18_medida_control_plagas\"].copy()\n",
    "\n",
    "# Itera sobre cada fila del dataframe\n",
    "for i in range(len(df_)):\n",
    "    # Compara la columna específica con todas las demás filas de la misma columna\n",
    "    match = list(\n",
    "        set(\n",
    "            difflib.get_close_matches(\n",
    "                df_.loc[i, \"_5_18_medida_control_plagas\"],\n",
    "                df_[\"_5_18_medida_control_plagas\"],\n",
    "                n=23,\n",
    "                cutoff=0.9,\n",
    "            )\n",
    "        )\n",
    "    )\n",
    "    # Reemplaza el valor en la columna específica con el valor más similar encontrado\n",
    "    if match:\n",
    "        df_.loc[i, \"estandarizado\"] = match[0]\n",
    "\n",
    "# Elimina las filas duplicadas\n",
    "df_ = df_.groupby(by=[\"_parent_index\"], as_index=False).agg(\n",
    "    estandar=(\"estandarizado\", \", \".join)\n",
    ")\n",
    "df_"
   ]
  },
  {
   "cell_type": "code",
   "execution_count": null,
   "metadata": {},
   "outputs": [],
   "source": [
    "vecindarios[\"_5_18_medida_control_plagas\"] = vecindarios.apply(\n",
    "    lambda x: df_.loc[df_[\"_parent_index\"] == x[\"_index\"]][\"estandar\"].iloc[0]\n",
    "    if df_.loc[df_[\"_parent_index\"] == x[\"_index\"]][\"estandar\"].size != 0\n",
    "    else np.nan,\n",
    "    axis=1,\n",
    ")"
   ]
  },
  {
   "cell_type": "code",
   "execution_count": null,
   "metadata": {},
   "outputs": [],
   "source": [
    "columnas_nuevas.append(\"_5_18_medida_control_plagas\")"
   ]
  },
  {
   "attachments": {},
   "cell_type": "markdown",
   "metadata": {},
   "source": [
    "### productos_control_plagas"
   ]
  },
  {
   "cell_type": "code",
   "execution_count": null,
   "metadata": {},
   "outputs": [],
   "source": [
    "reemplazar_tildes = {\"á\": \"a\", \"é\": \"e\", \"í\": \"i\", \"ó\": \"o\", \"ú\": \"u\"}"
   ]
  },
  {
   "cell_type": "code",
   "execution_count": null,
   "metadata": {},
   "outputs": [],
   "source": [
    "def separar_elementos_por_comas(dataframe: pd.core.frame.DataFrame, columna: str):\n",
    "    df_ = dataframe.copy()\n",
    "    df_[columna] = df_[columna].str.lower().str.split(\",\")\n",
    "    df_ = df_.explode(columna)\n",
    "    df_[columna] = df_[columna].str.strip()\n",
    "    df_ = df_.reset_index(drop=True)\n",
    "    df_[columna] = df_[columna].replace(to_replace=reemplazar_tildes, regex=True)\n",
    "    return df_"
   ]
  },
  {
   "cell_type": "code",
   "execution_count": null,
   "metadata": {},
   "outputs": [],
   "source": [
    "def estandarizar(\n",
    "    dataframe: pd.core.frame.DataFrame,\n",
    "    columna: str,\n",
    "    n: int = None,\n",
    "    cutoff: float = None,\n",
    "):\n",
    "    if not n:\n",
    "        n = 50\n",
    "    if not cutoff:\n",
    "        cutoff = 0.90\n",
    "\n",
    "    df_ = dataframe.copy()\n",
    "\n",
    "    # Crea la nueva columna\n",
    "    df_[\"estandarizado\"] = df_[columna].copy()\n",
    "\n",
    "    # Itera sobre cada fila del dataframe\n",
    "    for i in range(len(df_)):\n",
    "        # Compara la columna específica con todas las demás filas de la misma columna\n",
    "        match = difflib.get_close_matches(\n",
    "            df_.loc[i, columna], df_[columna], n=n, cutoff=cutoff\n",
    "        )\n",
    "        # Reemplaza el valor en la columna específica con el valor más similar encontrado\n",
    "        if match:\n",
    "            df_.loc[i, \"estandarizado\"] = match[0]\n",
    "\n",
    "    # devolver a valores por comas\n",
    "    df_ = df_.groupby(by=[\"_parent_index\"], as_index=False).agg(\n",
    "        estandar=(\"estandarizado\", \", \".join)\n",
    "    )\n",
    "    return df_"
   ]
  },
  {
   "cell_type": "code",
   "execution_count": null,
   "metadata": {},
   "outputs": [],
   "source": [
    "productos_control_plagas"
   ]
  },
  {
   "cell_type": "code",
   "execution_count": null,
   "metadata": {},
   "outputs": [],
   "source": [
    "df_ = estandarizar(\n",
    "    separar_elementos_por_comas(\n",
    "        productos_control_plagas, \"_5_19_producto_control_plagas\"\n",
    "    ),\n",
    "    \"_5_19_producto_control_plagas\",\n",
    ")\n",
    "df_"
   ]
  },
  {
   "cell_type": "code",
   "execution_count": null,
   "metadata": {},
   "outputs": [],
   "source": [
    "vecindarios[\"_5_19_producto_control_plagas\"] = vecindarios.apply(\n",
    "    lambda x: df_.loc[df_[\"_parent_index\"] == x[\"_index\"]][\"estandar\"].iloc[0]\n",
    "    if df_.loc[df_[\"_parent_index\"] == x[\"_index\"]][\"estandar\"].size != 0\n",
    "    else np.nan,\n",
    "    axis=1,\n",
    ")"
   ]
  },
  {
   "cell_type": "code",
   "execution_count": null,
   "metadata": {},
   "outputs": [],
   "source": [
    "columnas_nuevas.append(\"_5_19_producto_control_plagas\")"
   ]
  },
  {
   "attachments": {},
   "cell_type": "markdown",
   "metadata": {},
   "source": [
    "### control_malezas"
   ]
  },
  {
   "cell_type": "code",
   "execution_count": null,
   "metadata": {},
   "outputs": [],
   "source": [
    "control_malezas"
   ]
  },
  {
   "cell_type": "code",
   "execution_count": null,
   "metadata": {},
   "outputs": [],
   "source": [
    "df_ = estandarizar(\n",
    "    separar_elementos_por_comas(\n",
    "        control_malezas, columna=\"_5_20_estrategia_control_malez\"\n",
    "    ),\n",
    "    columna=\"_5_20_estrategia_control_malez\",\n",
    ")\n",
    "df_"
   ]
  },
  {
   "cell_type": "code",
   "execution_count": null,
   "metadata": {},
   "outputs": [],
   "source": [
    "vecindarios[\"_5_20_estrategia_control_malez\"] = vecindarios.apply(\n",
    "    lambda x: df_.loc[df_[\"_parent_index\"] == x[\"_index\"]][\"estandar\"].iloc[0]\n",
    "    if df_.loc[df_[\"_parent_index\"] == x[\"_index\"]][\"estandar\"].size != 0\n",
    "    else np.nan,\n",
    "    axis=1,\n",
    ")"
   ]
  },
  {
   "cell_type": "code",
   "execution_count": null,
   "metadata": {},
   "outputs": [],
   "source": [
    "columnas_nuevas.append(\"_5_20_estrategia_control_malez\")"
   ]
  },
  {
   "attachments": {},
   "cell_type": "markdown",
   "metadata": {},
   "source": [
    "### oferta_alimentos"
   ]
  },
  {
   "cell_type": "code",
   "execution_count": null,
   "metadata": {},
   "outputs": [],
   "source": [
    "oferta_alimentos"
   ]
  },
  {
   "cell_type": "code",
   "execution_count": null,
   "metadata": {},
   "outputs": [],
   "source": [
    "oferta_alimentos[\"Producto\"] = oferta_alimentos[\"Producto\"].str.lower().str.strip()"
   ]
  },
  {
   "cell_type": "code",
   "execution_count": null,
   "metadata": {},
   "outputs": [],
   "source": [
    "df_1 = oferta_alimentos.copy()\n",
    "df_1[\"Producto\"] = df_1[\"Producto\"].str.split(\",\")\n",
    "df_1 = df_1.explode(\"Producto\").reset_index(drop=True)\n",
    "df_1[\"Producto\"] = df_1[\"Producto\"].str.strip()\n",
    "df_1 = df_1.fillna(value=\"\")\n",
    "df_1 = df_1.replace(to_replace=reemplazar_tildes, regex=True)"
   ]
  },
  {
   "cell_type": "code",
   "execution_count": null,
   "metadata": {},
   "outputs": [],
   "source": [
    "df_ = (\n",
    "    df_1.groupby(by=\"_parent_index\", as_index=False)\n",
    "    .agg(\", \".join)\n",
    "    .replace({r\"^,+\": np.nan}, regex=True)\n",
    ")\n",
    "df_ = df_.fillna(value=\"\")\n",
    "df_ = df_.drop(columns=[\"_parent_table_name\"])\n",
    "df_[\"Moneda\"] = df_[\"Moneda\"].apply(\n",
    "    lambda x: re.match(r\"^(\\w+)\", x).group() if re.match(r\"^(\\w+)\", x) else \"\"\n",
    ")\n",
    "df_"
   ]
  },
  {
   "cell_type": "code",
   "execution_count": null,
   "metadata": {},
   "outputs": [],
   "source": [
    "for i in df_.columns[1:]:\n",
    "    vecindarios[i] = vecindarios.apply(\n",
    "        lambda x: df_.loc[df_[\"_parent_index\"] == x[\"_index\"]][i].iloc[0]\n",
    "        if df_.loc[df_[\"_parent_index\"] == x[\"_index\"]][i].size != 0\n",
    "        else np.nan,\n",
    "        axis=1,\n",
    "    )\n",
    "    columnas_nuevas.append(i)"
   ]
  },
  {
   "attachments": {},
   "cell_type": "markdown",
   "metadata": {},
   "source": [
    "### produc_dejo_de_producir_vender"
   ]
  },
  {
   "cell_type": "code",
   "execution_count": null,
   "metadata": {},
   "outputs": [],
   "source": [
    "producto_dejo_producir"
   ]
  },
  {
   "cell_type": "code",
   "execution_count": null,
   "metadata": {},
   "outputs": [],
   "source": [
    "producto_dejo_producir[\"otros_productos_n_comerc_2020\"] = (\n",
    "    producto_dejo_producir[\"otros_productos_n_comerc_2020\"].str.lower().str.strip()\n",
    ")\n",
    "producto_dejo_producir[\"motivo_no_comercializo_otros\"] = (\n",
    "    producto_dejo_producir[\"motivo_no_comercializo_otros\"].str.lower().str.strip()\n",
    ")\n",
    "producto_dejo_producir = producto_dejo_producir.drop(columns=[\"_parent_table_name\"])"
   ]
  },
  {
   "cell_type": "code",
   "execution_count": null,
   "metadata": {},
   "outputs": [],
   "source": [
    "df_1 = producto_dejo_producir.copy()\n",
    "df_1[\"otros_productos_n_comerc_2020\"] = df_1[\"otros_productos_n_comerc_2020\"].str.split(\n",
    "    \",\"\n",
    ")\n",
    "df_1 = df_1.explode(\"otros_productos_n_comerc_2020\").reset_index(drop=True)\n",
    "df_1[\"otros_productos_n_comerc_2020\"] = df_1[\n",
    "    \"otros_productos_n_comerc_2020\"\n",
    "].str.strip()\n",
    "df_1[\"motivo_no_comercializo_otros\"] = df_1[\"motivo_no_comercializo_otros\"].str.strip()\n",
    "df_1 = df_1.fillna(value=\"\")\n",
    "df_1 = df_1.replace(to_replace=reemplazar_tildes, regex=True)"
   ]
  },
  {
   "cell_type": "code",
   "execution_count": null,
   "metadata": {},
   "outputs": [],
   "source": [
    "df_ = (\n",
    "    df_1.groupby(by=\"_parent_index\", as_index=False)\n",
    "    .agg(\", \".join)\n",
    "    .replace({r\"^,+\": np.nan}, regex=True)\n",
    ")\n",
    "df_ = df_.fillna(value=\"\")\n",
    "df_ = df_.replace({\"-\": \"\"}, regex=True)\n",
    "df_"
   ]
  },
  {
   "cell_type": "code",
   "execution_count": null,
   "metadata": {},
   "outputs": [],
   "source": [
    "for i in df_.columns[1:]:\n",
    "    vecindarios[i] = vecindarios.apply(\n",
    "        lambda x: df_.loc[df_[\"_parent_index\"] == x[\"_index\"]][i].iloc[0]\n",
    "        if df_.loc[df_[\"_parent_index\"] == x[\"_index\"]][i].size != 0\n",
    "        else np.nan,\n",
    "        axis=1,\n",
    "    )\n",
    "    columnas_nuevas.append(i)"
   ]
  },
  {
   "attachments": {},
   "cell_type": "markdown",
   "metadata": {},
   "source": [
    "### productos_vende_canal"
   ]
  },
  {
   "cell_type": "code",
   "execution_count": null,
   "metadata": {},
   "outputs": [],
   "source": [
    "producto_vende_canal"
   ]
  },
  {
   "cell_type": "code",
   "execution_count": null,
   "metadata": {},
   "outputs": [],
   "source": [
    "canales_venta_productores"
   ]
  },
  {
   "cell_type": "code",
   "execution_count": null,
   "metadata": {},
   "outputs": [],
   "source": [
    "df_ = pd.merge(\n",
    "    left=producto_vende_canal,\n",
    "    right=canales_venta_productores,\n",
    "    left_on=\"_index\",\n",
    "    right_on=\"_parent_index\",\n",
    "    suffixes=(\"\", \"_y\"),\n",
    ")\n",
    "df_ = df_.drop(columns=[i for i in df_.columns if i.endswith(\"_y\")])\n",
    "df_ = df_.fillna(value=\"\")\n",
    "df_ = df_.drop_duplicates(subset=[\"_parent_index\", \"_index\", \"nombre_producto_vende\"])\n",
    "df_"
   ]
  },
  {
   "cell_type": "code",
   "execution_count": null,
   "metadata": {},
   "outputs": [],
   "source": [
    "df_[\"producto_vendido_canal\"] = df_[\"producto_vendido_canal\"].str.lower().str.strip()\n",
    "df_[\"nombre_producto_vende\"] = df_[\"nombre_producto_vende\"].str.lower().str.strip()\n",
    "df_[\"local_venta_productores\"] = df_[\"local_venta_productores\"].str.lower().str.strip()\n",
    "df_[\"nombre\"] = df_[\"nombre\"].str.lower().str.strip()\n",
    "df_[\"motivos\"] = df_[\"motivos\"].str.lower().str.strip()\n",
    "df_[\"transporte_vende_productos\"] = (\n",
    "    df_[\"transporte_vende_productos\"].str.lower().str.strip()\n",
    ")\n",
    "df_[\"distancia\"] = df_[\"distancia\"].str.lower().str.strip()\n",
    "df_[\"canal_principal_2019\"] = df_[\"canal_principal_2019\"].str.lower().str.strip()\n",
    "df_[\"canal_principal_2020\"] = df_[\"canal_principal_2020\"].str.lower().str.strip()"
   ]
  },
  {
   "cell_type": "code",
   "execution_count": null,
   "metadata": {},
   "outputs": [],
   "source": [
    "df_ = df_.replace(to_replace=reemplazar_tildes | {\"-\": \"\"}, regex=True)"
   ]
  },
  {
   "cell_type": "code",
   "execution_count": null,
   "metadata": {},
   "outputs": [],
   "source": [
    "df__ = (\n",
    "    df_.groupby(by=\"_parent_index\", as_index=False)\n",
    "    .agg(\", \".join)\n",
    "    .replace({r\"^,+\": np.nan}, regex=True)\n",
    "    .fillna(value=\"\")\n",
    ")\n",
    "df__"
   ]
  },
  {
   "cell_type": "code",
   "execution_count": null,
   "metadata": {},
   "outputs": [],
   "source": [
    "df_1 = df__[\"producto_vendido_canal\"].str.get_dummies(sep=\", \")\n",
    "df_1.columns = [\"producto_vendido_canal/\" + i for i in df_1.columns]\n",
    "df_2 = df__[\"local_venta_productores\"].str.get_dummies(sep=\", \")\n",
    "df_2.columns = [\"local_venta_productores/\" + i for i in df_2.columns]\n",
    "df_3 = df__[\"distancia\"].str.get_dummies(sep=\", \")\n",
    "df_3.columns = [\"distancia/\" + i for i in df_3.columns]\n",
    "df__ = df__.drop(\n",
    "    columns=[\"producto_vendido_canal\", \"local_venta_productores\", \"distancia\"]\n",
    ")\n",
    "df__ = pd.concat([df__, df_1, df_2, df_3], axis=1)\n",
    "df__"
   ]
  },
  {
   "cell_type": "code",
   "execution_count": null,
   "metadata": {},
   "outputs": [],
   "source": [
    "df_ = df__.copy()"
   ]
  },
  {
   "cell_type": "code",
   "execution_count": null,
   "metadata": {},
   "outputs": [],
   "source": [
    "df_.drop(columns=[\"_parent_table_name\"], inplace=True)"
   ]
  },
  {
   "cell_type": "code",
   "execution_count": null,
   "metadata": {},
   "outputs": [],
   "source": [
    "for i in df_.columns[1:]:\n",
    "    vecindarios[i] = vecindarios.apply(\n",
    "        lambda x: df_.loc[df_[\"_parent_index\"] == x[\"_index\"]][i].iloc[0]\n",
    "        if df_.loc[df_[\"_parent_index\"] == x[\"_index\"]][i].size != 0\n",
    "        else np.nan,\n",
    "        axis=1,\n",
    "    )\n",
    "    columnas_nuevas.append(i)"
   ]
  },
  {
   "attachments": {},
   "cell_type": "markdown",
   "metadata": {},
   "source": [
    "### aplicacion_biopreparados"
   ]
  },
  {
   "cell_type": "code",
   "execution_count": null,
   "metadata": {},
   "outputs": [],
   "source": [
    "aplicacion_biopreparados = aplicacion_biopreparados.fillna(value=\"\")\n",
    "aplicacion_biopreparados = aplicacion_biopreparados.drop(columns=[\"_parent_table_name\"])\n",
    "aplicacion_biopreparados"
   ]
  },
  {
   "cell_type": "code",
   "execution_count": null,
   "metadata": {},
   "outputs": [],
   "source": [
    "columnas = [\n",
    "    \"_10_2_Quien_aplica_biopreparad\",\n",
    "    \"sexo_contratado\",\n",
    "    \"parentesco_familiar\",\n",
    "    \"Indique_otro_pariente\",\n",
    "    \"otra_persona_aplica_bioprep\",\n",
    "    \"_10_2_1_usa_proteccion\",\n",
    "]"
   ]
  },
  {
   "cell_type": "code",
   "execution_count": null,
   "metadata": {},
   "outputs": [],
   "source": [
    "df_ = aplicacion_biopreparados.copy()\n",
    "df_ = pd.get_dummies(df_, columns=columnas, prefix=columnas, prefix_sep=\"/\")\n",
    "df_"
   ]
  },
  {
   "cell_type": "code",
   "execution_count": null,
   "metadata": {},
   "outputs": [],
   "source": [
    "for i in df_.columns[1:]:\n",
    "    vecindarios[i] = vecindarios.apply(\n",
    "        lambda x: df_.loc[df_[\"_parent_index\"] == x[\"_index\"]][i].iloc[0]\n",
    "        if df_.loc[df_[\"_parent_index\"] == x[\"_index\"]][i].size != 0\n",
    "        else np.nan,\n",
    "        axis=1,\n",
    "    )\n",
    "    columnas_nuevas.append(i)"
   ]
  },
  {
   "attachments": {},
   "cell_type": "markdown",
   "metadata": {},
   "source": [
    "### personas_trabajan_puesto_de_venta"
   ]
  },
  {
   "cell_type": "code",
   "execution_count": null,
   "metadata": {},
   "outputs": [],
   "source": [
    "df_ = personas_trabajan_puesto_venta.copy()\n",
    "df_.drop(\n",
    "    columns=[\n",
    "        \"_parent_table_name\",\n",
    "        \"otro_pariente_empleado\",\n",
    "        \"otra_persona_empleada\",\n",
    "        *[i for i in df_.columns if i.startswith(\"Indica\")],\n",
    "    ],\n",
    "    inplace=True,\n",
    ")\n",
    "df_[\"_b_horas_porsemana_trabaja\"] = df_[\"_b_horas_porsemana_trabaja\"].fillna(value=\"\")\n",
    "df_[\"_b_horas_porsemana_trabaja\"] = df_[\"_b_horas_porsemana_trabaja\"].apply(\n",
    "    lambda x: re.match(r\"\\d+\", x).group() if re.match(r\"\\d+\", x) else \"esporadico\"\n",
    ")\n",
    "df_"
   ]
  },
  {
   "cell_type": "code",
   "execution_count": null,
   "metadata": {},
   "outputs": [],
   "source": [
    "columns = [\n",
    "    \"personas_empleadas_puesto\",\n",
    "    \"pariente_empleado\",\n",
    "    \"_b_horas_porsemana_trabaja\",\n",
    "    \"_c_persona_recibe_remuneracion\",\n",
    "]"
   ]
  },
  {
   "cell_type": "code",
   "execution_count": null,
   "metadata": {},
   "outputs": [],
   "source": [
    "df_ = pd.get_dummies(df_, columns=columns, prefix=columns, prefix_sep=\"/\")"
   ]
  },
  {
   "cell_type": "code",
   "execution_count": null,
   "metadata": {},
   "outputs": [],
   "source": [
    "for i in df_.columns[1:]:\n",
    "    vecindarios[i] = vecindarios.apply(\n",
    "        lambda x: df_.loc[df_[\"_parent_index\"] == x[\"_index\"]][i].iloc[0]\n",
    "        if df_.loc[df_[\"_parent_index\"] == x[\"_index\"]][i].size != 0\n",
    "        else np.nan,\n",
    "        axis=1,\n",
    "    )\n",
    "    columnas_nuevas.append(i)"
   ]
  },
  {
   "attachments": {},
   "cell_type": "markdown",
   "metadata": {},
   "source": [
    "### canales_compra_comerciantes"
   ]
  },
  {
   "cell_type": "code",
   "execution_count": null,
   "metadata": {},
   "outputs": [],
   "source": [
    "df_ = canales_compra_comerciantes.copy()\n",
    "df_ = df_.drop(columns=[\"_parent_table_name\"])\n",
    "df_[\"local_compra_comerciantes\"] = (\n",
    "    df_[\"local_compra_comerciantes\"]\n",
    "    .str.strip()\n",
    "    .str.lower()\n",
    "    .replace(to_replace=reemplazar_tildes, regex=True)\n",
    ")\n",
    "df_[\"nombre_local_compra\"] = (\n",
    "    df_[\"nombre_local_compra\"]\n",
    "    .str.strip()\n",
    "    .str.lower()\n",
    "    .replace(to_replace=reemplazar_tildes, regex=True)\n",
    ")\n",
    "df_[\"frecuencia_compra\"] = (\n",
    "    df_[\"frecuencia_compra\"]\n",
    "    .str.strip()\n",
    "    .str.lower()\n",
    "    .replace(to_replace=reemplazar_tildes, regex=True)\n",
    ")\n",
    "df_[\"motivos_compra_canal\"] = (\n",
    "    df_[\"motivos_compra_canal\"]\n",
    "    .str.strip()\n",
    "    .str.lower()\n",
    "    .replace(to_replace=reemplazar_tildes, regex=True)\n",
    ")\n",
    "df_[\"transporte_compra_productos\"] = (\n",
    "    df_[\"transporte_compra_productos\"]\n",
    "    .str.strip()\n",
    "    .str.lower()\n",
    "    .replace(to_replace=reemplazar_tildes, regex=True)\n",
    ")\n",
    "df_[\"_2019_canal_utilizado\"] = (\n",
    "    df_[\"_2019_canal_utilizado\"]\n",
    "    .str.strip()\n",
    "    .str.lower()\n",
    "    .replace(to_replace=reemplazar_tildes, regex=True)\n",
    ")\n",
    "df_[\"_2020_canal_utilizado\"] = (\n",
    "    df_[\"_2020_canal_utilizado\"]\n",
    "    .str.strip()\n",
    "    .str.lower()\n",
    "    .replace(to_replace=reemplazar_tildes, regex=True)\n",
    ")\n",
    "df_"
   ]
  },
  {
   "cell_type": "code",
   "execution_count": null,
   "metadata": {},
   "outputs": [],
   "source": [
    "df__ = productos_compra_canal.copy()\n",
    "df__ = df__.drop(columns=[\"_parent_table_name\", \"_index\"])\n",
    "df__[\"nombre_producto_compra\"] = (\n",
    "    df__[\"nombre_producto_compra\"]\n",
    "    .str.lower()\n",
    "    .str.strip()\n",
    "    .replace(to_replace=reemplazar_tildes, regex=True)\n",
    ")\n",
    "df__"
   ]
  },
  {
   "cell_type": "code",
   "execution_count": null,
   "metadata": {},
   "outputs": [],
   "source": [
    "df_a = pd.merge(\n",
    "    left=df_,\n",
    "    right=df__,\n",
    "    left_on=\"_index\",\n",
    "    right_on=\"_parent_index\",\n",
    "    suffixes=(\"\", \"_y\"),\n",
    ")\n",
    "df_a = df_a.drop(columns=[i for i in df_a.columns if i.endswith(\"_y\")])\n",
    "df_a = df_a.fillna(value=\"\")\n",
    "df_a = df_a.drop_duplicates(subset=[\"_parent_index\", \"_index\"])\n",
    "df_a"
   ]
  },
  {
   "cell_type": "code",
   "execution_count": null,
   "metadata": {},
   "outputs": [],
   "source": [
    "df_a = df_a.replace(to_replace=reemplazar_tildes | {\"-\": \"\"}, regex=True)"
   ]
  },
  {
   "cell_type": "code",
   "execution_count": null,
   "metadata": {},
   "outputs": [],
   "source": [
    "df__ = (\n",
    "    df_a.groupby(by=\"_parent_index\", as_index=False)\n",
    "    .agg(\", \".join)\n",
    "    .replace({r\"^,+\": np.nan}, regex=True)\n",
    "    .fillna(value=\"\")\n",
    ")\n",
    "df__"
   ]
  },
  {
   "cell_type": "code",
   "execution_count": null,
   "metadata": {},
   "outputs": [],
   "source": [
    "df_1 = df__[\"local_compra_comerciantes\"].str.get_dummies(sep=\", \")\n",
    "df_1.columns = [\"local_compra_comerciantes/\" + i for i in df_1.columns]\n",
    "df_2 = df__[\"frecuencia_compra\"].str.get_dummies(sep=\", \")\n",
    "df_2.columns = [\"frecuencia_compra/\" + i for i in df_2.columns]\n",
    "df_3 = df__[\"producto_comprado_canal\"].str.get_dummies(sep=\", \")\n",
    "df_3.columns = [\"producto_comprado_canal/\" + i for i in df_3.columns]\n",
    "df__ = df__.drop(\n",
    "    columns=[\n",
    "        \"local_compra_comerciantes\",\n",
    "        \"frecuencia_compra\",\n",
    "        \"producto_comprado_canal\",\n",
    "    ]\n",
    ")\n",
    "df__ = pd.concat([df__, df_1, df_2, df_3], axis=1)\n",
    "df__[\"nombre_local_compra\"] = df__[\"nombre_local_compra\"].replace(\n",
    "    {r\"\\bcerca\\b\": \"cercania\", r\"\\bamerica\\b\": \"americas\"}, regex=True\n",
    ")\n",
    "df__[\"motivos_compra_canal\"] = df__[\"motivos_compra_canal\"].replace(\n",
    "    {r\"\\bcerca\\b\": \"cercania\", r\"\\bamerica\\b\": \"americas\"}, regex=True\n",
    ")\n",
    "df__"
   ]
  },
  {
   "cell_type": "code",
   "execution_count": null,
   "metadata": {},
   "outputs": [],
   "source": [
    "df_ = df__.copy()"
   ]
  },
  {
   "cell_type": "code",
   "execution_count": null,
   "metadata": {},
   "outputs": [],
   "source": [
    "for i in df_.columns[1:]:\n",
    "    vecindarios[i] = vecindarios.apply(\n",
    "        lambda x: df_.loc[df_[\"_parent_index\"] == x[\"_index\"]][i].iloc[0]\n",
    "        if df_.loc[df_[\"_parent_index\"] == x[\"_index\"]][i].size != 0\n",
    "        else np.nan,\n",
    "        axis=1,\n",
    "    )\n",
    "    columnas_nuevas.append(i)"
   ]
  },
  {
   "attachments": {},
   "cell_type": "markdown",
   "metadata": {},
   "source": [
    "### APOYO_RECIBIDO"
   ]
  },
  {
   "cell_type": "code",
   "execution_count": null,
   "metadata": {},
   "outputs": [],
   "source": [
    "df_ = APOYO_RECIBIDO.copy()\n",
    "df_ = df_.fillna(value=\"\")\n",
    "df_ = df_.astype(str)\n",
    "df_ = df_.apply(lambda x: x.str.lower(), axis=1)"
   ]
  },
  {
   "cell_type": "code",
   "execution_count": null,
   "metadata": {},
   "outputs": [],
   "source": [
    "nuevas_cat_apoyos = pd.read_excel(\n",
    "    \"inputs/encuesta_principal/Datos_Apoyos_Cat_Vec_Alim_2022_12_04 (2).xlsx\",\n",
    "    sheet_name=\"Inserir_Categorías\",\n",
    ")"
   ]
  },
  {
   "cell_type": "code",
   "execution_count": null,
   "metadata": {},
   "outputs": [],
   "source": [
    "cols_to_be_grouped = nuevas_cat_apoyos[\n",
    "    nuevas_cat_apoyos[\"Pestaña\"] == \"APOYO_RECIBIDO\"\n",
    "][\"Encabezado_Pestañas\"].unique()"
   ]
  },
  {
   "cell_type": "code",
   "execution_count": null,
   "metadata": {},
   "outputs": [],
   "source": [
    "cols_dfs = []\n",
    "for col in cols_to_be_grouped:\n",
    "    col_df = (\n",
    "        df_.groupby(by=[\"_parent_index\", col], as_index=False)\n",
    "        .size()\n",
    "        .pivot(index=\"_parent_index\", columns=col, values=\"size\")\n",
    "        .fillna(0)\n",
    "    )\n",
    "    col_df.columns = [f\"{col_df.columns.name}/{values}\" for values in col_df.columns]\n",
    "    cols_dfs.append(col_df)"
   ]
  },
  {
   "cell_type": "code",
   "execution_count": null,
   "metadata": {},
   "outputs": [],
   "source": [
    "cols_df = pd.concat(cols_dfs, axis=1).reset_index()\n",
    "cols_df[\"_parent_index\"] = cols_df[\"_parent_index\"].astype(int)"
   ]
  },
  {
   "cell_type": "code",
   "execution_count": null,
   "metadata": {},
   "outputs": [],
   "source": [
    "vecindarios = vecindarios.merge(\n",
    "    right=cols_df, how=\"left\", left_on=\"_index\", right_on=\"_parent_index\"\n",
    ").drop(labels=\"_parent_index\", axis=1)\n",
    "vecindarios.loc[:, cols_df.columns[1:]] = vecindarios[cols_df.columns[1:]].fillna(0.0)"
   ]
  },
  {
   "cell_type": "code",
   "execution_count": null,
   "metadata": {},
   "outputs": [],
   "source": [
    "# df_ = df_.groupby(by='_parent_index', as_index=False).agg(','.join).replace({r'^,+':''}, regex=True).drop(columns=['_parent_table_name','_index'])"
   ]
  },
  {
   "cell_type": "code",
   "execution_count": null,
   "metadata": {},
   "outputs": [],
   "source": [
    "# df_ = df_.fillna(value='').groupby(by='_parent_index', as_index=False).agg(','.join)\n",
    "# df_['personas_recibio_apoyo'] = df_['personas_recibio_apoyo'].replace({r'^,+':''}, regex=True)\n",
    "# df_['otras_personas_recibio_apoyo'] = df_['otras_personas_recibio_apoyo'].replace({r'^,+':''}, regex=True)\n",
    "# df_['parentesco_recibio_apoyo'] = df_['parentesco_recibio_apoyo'].replace({r'^,+':''}, regex=True)\n",
    "# df_['otros_parientes_recibio_apoyo'] = df_['otros_parientes_recibio_apoyo'].replace({r'^,+':''}, regex=True)\n",
    "# df_['grupo_recibio_apoyo'] = df_['grupo_recibio_apoyo'].replace({r'^,+':''}, regex=True)\n",
    "# df_['organizacion_recibio_apoyo'] = df_['organizacion_recibio_apoyo'].replace({r'^,+':''}, regex=True)\n",
    "# df_['_b_Sexo_recibio_apoyo'] = df_['_b_Sexo_recibio_apoyo'].replace({r'^,+':''}, regex=True)\n",
    "# df_['Nombre_grupo_organiz_recibio'] = df_['Nombre_grupo_organiz_recibio'].replace({r'^,+':''}, regex=True)\n",
    "# df_['otro_tipo_apoyo_recibido'] = df_['otro_tipo_apoyo_recibido'].replace({r'^,+':''}, regex=True)\n",
    "# df_['_e_frecuencia_recibio_apoyo'] = df_['_e_frecuencia_recibio_apoyo'].replace({r'^,+':''}, regex=True)\n",
    "# df_['_f_Actualmente_recibe_apoyo'] = df_['_f_Actualmente_recibe_apoyo'].replace({r'^,+':''}, regex=True)\n",
    "# df_ = df_.drop(columns=['_parent_table_name','_index'])"
   ]
  },
  {
   "cell_type": "code",
   "execution_count": null,
   "metadata": {},
   "outputs": [],
   "source": [
    "# for i in df_.columns[1:]:\n",
    "#     vecindarios[i] = vecindarios.apply(\n",
    "#         lambda x: df_.loc[df_['_parent_index']==x['_index']][i].iloc[0]\n",
    "#             if df_.loc[df_['_parent_index']==x['_index']][i].size != 0\n",
    "#             else np.nan,\n",
    "#         axis=1)\n",
    "#     columnas_nuevas.append(i)"
   ]
  },
  {
   "attachments": {},
   "cell_type": "markdown",
   "metadata": {},
   "source": [
    "### apoyo_brindado"
   ]
  },
  {
   "cell_type": "code",
   "execution_count": null,
   "metadata": {},
   "outputs": [],
   "source": [
    "df_ = APOYO_BRINDADO.copy()\n",
    "df_ = df_.fillna(value=\"\")\n",
    "df_ = df_.astype(str)\n",
    "df_ = df_.apply(lambda x: x.str.lower(), axis=1)"
   ]
  },
  {
   "cell_type": "code",
   "execution_count": null,
   "metadata": {},
   "outputs": [],
   "source": [
    "cols_to_be_grouped = nuevas_cat_apoyos[\n",
    "    nuevas_cat_apoyos[\"Pestaña\"] == \"APOYO_BRINDADO\"\n",
    "][\"Encabezado_Pestañas\"].unique()"
   ]
  },
  {
   "cell_type": "code",
   "execution_count": null,
   "metadata": {},
   "outputs": [],
   "source": [
    "cols_dfs = []\n",
    "for col in cols_to_be_grouped:\n",
    "    col_df = (\n",
    "        df_.groupby(by=[\"_parent_index\", col], as_index=False)\n",
    "        .size()\n",
    "        .pivot(index=\"_parent_index\", columns=col, values=\"size\")\n",
    "        .fillna(0)\n",
    "    )\n",
    "    col_df.columns = [f\"{col_df.columns.name}/{values}\" for values in col_df.columns]\n",
    "    cols_dfs.append(col_df)"
   ]
  },
  {
   "cell_type": "code",
   "execution_count": null,
   "metadata": {},
   "outputs": [],
   "source": [
    "cols_df = pd.concat(cols_dfs, axis=1).reset_index()\n",
    "cols_df[\"_parent_index\"] = cols_df[\"_parent_index\"].astype(int)"
   ]
  },
  {
   "cell_type": "code",
   "execution_count": null,
   "metadata": {},
   "outputs": [],
   "source": [
    "vecindarios = vecindarios.merge(\n",
    "    right=cols_df, how=\"left\", left_on=\"_index\", right_on=\"_parent_index\"\n",
    ").drop(labels=\"_parent_index\", axis=1)\n",
    "vecindarios.loc[:, cols_df.columns[1:]] = vecindarios[cols_df.columns[1:]].fillna(0.0)"
   ]
  },
  {
   "cell_type": "code",
   "execution_count": null,
   "metadata": {},
   "outputs": [],
   "source": [
    "vecindarios.loc[:, cols_df.columns[1:]].describe()"
   ]
  },
  {
   "cell_type": "code",
   "execution_count": null,
   "metadata": {},
   "outputs": [],
   "source": [
    "# df_ = df_.groupby(by='_parent_index', as_index=False).agg(','.join).replace({r'^,+':''}, regex=True).drop(columns=['_parent_table_name','_index'])"
   ]
  },
  {
   "cell_type": "code",
   "execution_count": null,
   "metadata": {},
   "outputs": [],
   "source": [
    "# for i in df_.columns[1:]:\n",
    "#     vecindarios[i] = vecindarios.apply(\n",
    "#         lambda x: df_.loc[df_['_parent_index']==x['_index']][i].iloc[0]\n",
    "#         if df_.loc[df_['_parent_index']==x['_index']][i].size != 0\n",
    "#         else np.nan, axis=1)\n",
    "#     columnas_nuevas.append(i)"
   ]
  },
  {
   "attachments": {},
   "cell_type": "markdown",
   "metadata": {},
   "source": [
    "### huerto_relaciones"
   ]
  },
  {
   "cell_type": "code",
   "execution_count": null,
   "metadata": {},
   "outputs": [],
   "source": [
    "HUERTO_RELACIONES"
   ]
  },
  {
   "cell_type": "code",
   "execution_count": null,
   "metadata": {},
   "outputs": [],
   "source": [
    "HUERTO_RELACIONES[HUERTO_RELACIONES[\"_parent_index\"].duplicated()].size"
   ]
  },
  {
   "cell_type": "code",
   "execution_count": null,
   "metadata": {},
   "outputs": [],
   "source": [
    "df_ = HUERTO_RELACIONES.drop(columns=[\"_index\", \"_parent_table_name\"])\n",
    "df_"
   ]
  },
  {
   "cell_type": "code",
   "execution_count": null,
   "metadata": {},
   "outputs": [],
   "source": [
    "for i in df_.columns[:-1]:\n",
    "    vecindarios[i] = vecindarios.apply(\n",
    "        lambda x: df_.loc[df_[\"_parent_index\"] == x[\"_index\"]][i].iloc[0]\n",
    "        if df_.loc[df_[\"_parent_index\"] == x[\"_index\"]][i].size != 0\n",
    "        else np.nan,\n",
    "        axis=1,\n",
    "    )"
   ]
  },
  {
   "cell_type": "code",
   "execution_count": null,
   "metadata": {},
   "outputs": [],
   "source": [
    "all_profiles_cols = [\n",
    "    \"_1_1_codigo_cuestionario\",\n",
    "    \"_1_2_fecha_encuesta\",\n",
    "    \"_1_3_nombre_encuestador\",\n",
    "    \"_1_4_1_ciudad\",\n",
    "    \"_1_4_2_vecindario\",\n",
    "    \"sector_barrio_huerto\",\n",
    "    \"_1_5_perfil_entrevistado\",\n",
    "    \"_2_1_consentimiento_informado\",\n",
    "    \"_3_1_Nombre\",\n",
    "    \"_3_2_Informo_telefono\",\n",
    "    \"numero_telefono\",\n",
    "    \"_3_3_1_Distrito_Canton\",\n",
    "    \"_3_3_2_Provincia\",\n",
    "    \"_3_3_3_Pais\",\n",
    "    \"otro_pais\",\n",
    "    \"_3_6_nivel_estudio\",\n",
    "    \"nivel_completo\",\n",
    "    \"anos_nivel_incompleto\",\n",
    "    \"total_anos_estudio\",\n",
    "    \"total_miembros_hogar\",\n",
    "    \"miembro_parentesco\",\n",
    "    \"otro_pariente\",\n",
    "    \"otro_NO_pariente\",\n",
    "    \"sexo\",\n",
    "    \"edad_miembro\",\n",
    "    \"miembros_aporta_economicamente\",\n",
    "    \"_2019_perdio_empleo\",\n",
    "    \"_2020_perdio_empleo\",\n",
    "    \"_2020_tiempo_desempleado\",\n",
    "    \"_2020_mes_inicio_desempleado\",\n",
    "    \"_2020_mes_fin_desempleado\",\n",
    "    \"_2021_perdio_empleo\",\n",
    "    \"_2021_tiempo_desempleado\",\n",
    "    \"_2019_poca_variedad\",\n",
    "    \"_2019_porque_poca_variedad\",\n",
    "    \"_2020_poca_variedad\",\n",
    "    \"_2020_porque_poca_variedad\",\n",
    "    \"_2021_poca_variedad\",\n",
    "    \"_2021_porque_poca_variedad\",\n",
    "    \"_2019_poca_cantidad\",\n",
    "    \"_2019_porque_poca_cantidad\",\n",
    "    \"_2020_poca_cantidad\",\n",
    "    \"_2020_porque_poca_cantidad\",\n",
    "    \"_2021_poca_cantidad\",\n",
    "    \"_2021_porque_poca_cantidad\",\n",
    "    \"_2019_salto_comida\",\n",
    "    \"_2019_porque_salto_comida\",\n",
    "    \"_2020_salto_comida\",\n",
    "    \"_2020_porque_salto_comida\",\n",
    "    \"_2021_salto_comida\",\n",
    "    \"_2021_porque_salto_comida\",\n",
    "    \"_2019_no_comio_1_dia\",\n",
    "    \"_2019_porque_no_comio_1_dia\",\n",
    "    \"_2020_no_comio_1_dia\",\n",
    "    \"_2020_porque_no_comio_1_dia\",\n",
    "    \"_2021_no_comio_1_dia\",\n",
    "    \"_2021_porque_no_comio_1_dia\",\n",
    "    \"_1er_opcion\",\n",
    "    \"_2da_opcion\",\n",
    "    \"_3er_opcion\",\n",
    "    \"_4ta_opcion\",\n",
    "    \"_5ta_opcion\",\n",
    "    \"_6ta_opcion\",\n",
    "    \"_7ma_opcion\",\n",
    "    \"_8va_opcion\",\n",
    "    \"_9na_opcion\",\n",
    "    \"_10ma_opcion\",\n",
    "    \"otra_medida_para_tener_aliment\",\n",
    "    \"_9_1_recibio_apoyo\",\n",
    "    \"_a_de_quien_recibio_apoyo\",\n",
    "    \"personas_recibio_apoyo\",\n",
    "    \"otras_personas_recibio_apoyo\",\n",
    "    \"parentesco_recibio_apoyo\",\n",
    "    \"otros_parientes_recibio_apoyo\",\n",
    "    \"grupo_recibio_apoyo\",\n",
    "    \"organizacion_recibio_apoyo\",\n",
    "    \"_b_Sexo_recibio_apoyo\",\n",
    "    \"Nombre_grupo_organiz_recibio\",\n",
    "    \"_c_vecindario_recibio_apoyo\",\n",
    "    \"_d_tipo_apoyo_recibido\",\n",
    "    \"otro_tipo_apoyo_recibido\",\n",
    "    \"_e_frecuencia_recibio_apoyo\",\n",
    "    \"_f_Actualmente_recibe_apoyo\",\n",
    "    \"_10_1_padece_problemas_salud\",\n",
    "    \"otros_problemas_salud\",\n",
    "    \"problemas_paro\",\n",
    "    \"resolucion_problema_paro\",\n",
    "    \"datos_geo_referenciados\",\n",
    "    \"_datos_geo_referenciados_latitude\",\n",
    "    \"_datos_geo_referenciados_longitude\",\n",
    "    \"_datos_geo_referenciados_altitude\",\n",
    "    \"_datos_geo_referenciados_precision\",\n",
    "    \"Incluir_datos_georre_ciados_LATITUD_UTM\",\n",
    "    \"Incluir_datos_georre_iados_LONGITUD_UTM\",\n",
    "]"
   ]
  },
  {
   "cell_type": "code",
   "execution_count": null,
   "metadata": {},
   "outputs": [],
   "source": [
    "vecindarios"
   ]
  },
  {
   "cell_type": "code",
   "execution_count": null,
   "metadata": {},
   "outputs": [],
   "source": [
    "vecindarios[\"sexo\"].isna().sum() == vecindarios.shape[0]"
   ]
  },
  {
   "cell_type": "code",
   "execution_count": null,
   "metadata": {},
   "outputs": [],
   "source": [
    "columns_to_drop = [\n",
    "    i\n",
    "    for i in vecindarios.columns\n",
    "    if (vecindarios[i].isna().sum() == vecindarios.shape[0])\n",
    "    or (vecindarios[i].unique().size == 1)\n",
    "]"
   ]
  },
  {
   "cell_type": "code",
   "execution_count": null,
   "metadata": {},
   "outputs": [],
   "source": [
    "vecindarios = vecindarios.drop(columns=columns_to_drop)"
   ]
  },
  {
   "cell_type": "code",
   "execution_count": null,
   "metadata": {},
   "outputs": [],
   "source": [
    "_ = [\n",
    "    \"miembro_parentesco\",\n",
    "    \"otro_pariente\",\n",
    "    \"otro_NO_pariente\",\n",
    "    \"sexo\",\n",
    "    \"edad_miembro\",\n",
    "    \"miembros_aporta_economicamente\",\n",
    "    \"_10ma_opcion\",\n",
    "    \"_a_de_quien_recibio_apoyo\",\n",
    "    \"personas_recibio_apoyo\",\n",
    "    \"otras_personas_recibio_apoyo\",\n",
    "    \"parentesco_recibio_apoyo\",\n",
    "    \"otros_parientes_recibio_apoyo\",\n",
    "    \"grupo_recibio_apoyo\",\n",
    "    \"organizacion_recibio_apoyo\",\n",
    "    \"_b_Sexo_recibio_apoyo\",\n",
    "    \"Nombre_grupo_organiz_recibio\",\n",
    "    \"_c_vecindario_recibio_apoyo\",\n",
    "    \"_d_tipo_apoyo_recibido\",\n",
    "    \"otro_tipo_apoyo_recibido\",\n",
    "    \"_e_frecuencia_recibio_apoyo\",\n",
    "    \"_f_Actualmente_recibe_apoyo\",\n",
    "]"
   ]
  },
  {
   "cell_type": "code",
   "execution_count": null,
   "metadata": {},
   "outputs": [],
   "source": [
    "vecindarios[vecindarios.columns.difference(all_profiles_cols)] = vecindarios[\n",
    "    vecindarios.columns.difference(all_profiles_cols)\n",
    "].fillna(value=\"NO_VALIDO\")"
   ]
  },
  {
   "cell_type": "code",
   "execution_count": null,
   "metadata": {},
   "outputs": [],
   "source": [
    "vecindarios"
   ]
  },
  {
   "cell_type": "code",
   "execution_count": null,
   "metadata": {},
   "outputs": [],
   "source": [
    "def estandarizar_columna(\n",
    "    dataframe: pd.core.frame.DataFrame,\n",
    "    columna: str,\n",
    "    n: int = None,\n",
    "    cutoff: float = None,\n",
    "):\n",
    "    if not n:\n",
    "        n = 50\n",
    "    if not cutoff:\n",
    "        cutoff = 0.90\n",
    "\n",
    "    df_ = dataframe.copy()\n",
    "\n",
    "    # Crea la nueva columna\n",
    "    df_[\"estandarizado\"] = df_[columna].copy()\n",
    "\n",
    "    # Itera sobre cada fila del dataframe\n",
    "    for i in range(len(df_)):\n",
    "        # Compara la columna específica con todas las demás filas de la misma columna\n",
    "        match = difflib.get_close_matches(\n",
    "            df_.loc[i, columna], df_[columna], n=n, cutoff=cutoff\n",
    "        )\n",
    "        # Reemplaza el valor en la columna específica con el valor más similar encontrado\n",
    "        if match:\n",
    "            df_.loc[i, \"estandarizado\"] = match[0]\n",
    "\n",
    "    # devolver a valores por comas\n",
    "    # df_ = df_.groupby(by=[\"_parent_index\"], as_index=False).agg(estandar=('estandarizado', ', '.join))\n",
    "    return df_"
   ]
  },
  {
   "cell_type": "code",
   "execution_count": null,
   "metadata": {},
   "outputs": [],
   "source": [
    "vecindarios[\"_3_3_2_Provincia\"] = (\n",
    "    vecindarios[\"_3_3_2_Provincia\"]\n",
    "    .str.lower()\n",
    "    .str.strip()\n",
    "    .str.replace(r\".\", \"\", regex=True)\n",
    ")\n",
    "vecindarios[\"_3_3_2_Provincia\"] = estandarizar_columna(\n",
    "    dataframe=vecindarios[[\"_3_3_2_Provincia\"]].fillna(value=\"\"),\n",
    "    columna=\"_3_3_2_Provincia\",\n",
    ")[\"estandarizado\"].tolist()\n",
    "\n",
    "vecindarios[\"_3_3_3_Pais\"] = (\n",
    "    vecindarios[\"_3_3_3_Pais\"].str.lower().str.strip().str.replace(r\".\", \"\", regex=True)\n",
    ")\n",
    "vecindarios[\"_3_3_3_Pais\"] = estandarizar_columna(\n",
    "    dataframe=vecindarios[[\"_3_3_3_Pais\"]].fillna(value=\"\"), columna=\"_3_3_3_Pais\"\n",
    ")[\"estandarizado\"].tolist()"
   ]
  },
  {
   "cell_type": "code",
   "execution_count": null,
   "metadata": {},
   "outputs": [],
   "source": [
    "provincia_pais = list(\n",
    "    set(zip(vecindarios._3_3_2_Provincia.tolist(), vecindarios._3_3_3_Pais.tolist()))\n",
    ")\n",
    "provincia_pais = [i for i in provincia_pais if i[0] != \"\"]\n",
    "provincia_pais = {i[0]: i[1] for i in provincia_pais}"
   ]
  },
  {
   "cell_type": "code",
   "execution_count": null,
   "metadata": {},
   "outputs": [],
   "source": [
    "for k, v in provincia_pais.items():\n",
    "    if v == \"\":\n",
    "        print(k, v)"
   ]
  },
  {
   "cell_type": "code",
   "execution_count": null,
   "metadata": {},
   "outputs": [],
   "source": [
    "provincia_pais[\"lima\"], provincia_pais[\"pichincha\"]"
   ]
  },
  {
   "cell_type": "code",
   "execution_count": null,
   "metadata": {},
   "outputs": [],
   "source": [
    "provincia_pais[\"pichincha\"] = \"ecuador\"\n",
    "provincia_pais[\"guayas\"] = \"ecuador\"\n",
    "provincia_pais[\"manavi\"] = \"ecuador\"\n",
    "provincia_pais[\"pichincha\"] = \"ecuador\"\n",
    "\n",
    "provincia_pais[\"lima\"] = \"peru\"\n",
    "provincia_pais[\"ica\"] = \"peru\""
   ]
  },
  {
   "cell_type": "code",
   "execution_count": null,
   "metadata": {},
   "outputs": [],
   "source": [
    "vecindarios[\"_3_3_3_Pais\"] = vecindarios.apply(\n",
    "    lambda x: provincia_pais[x[\"_3_3_2_Provincia\"]]\n",
    "    if (x[\"_3_3_2_Provincia\"] in provincia_pais.keys())\n",
    "    else \"\",\n",
    "    axis=1,\n",
    ")"
   ]
  },
  {
   "cell_type": "code",
   "execution_count": null,
   "metadata": {},
   "outputs": [],
   "source": [
    "(\n",
    "    vecindarios[vecindarios[\"_1_5_perfil_entrevistado\"] == \"productor\"] == \"NO_VALIDO\"\n",
    ").sum()[\n",
    "    (\n",
    "        vecindarios[vecindarios[\"_1_5_perfil_entrevistado\"] == \"productor\"]\n",
    "        == \"NO_VALIDO\"\n",
    "    ).sum()\n",
    "    == (vecindarios[\"_1_5_perfil_entrevistado\"] == \"productor\").sum()\n",
    "]"
   ]
  },
  {
   "cell_type": "code",
   "execution_count": null,
   "metadata": {},
   "outputs": [],
   "source": [
    "vecindarios[\"_1_4_1_ciudad\"].unique()"
   ]
  },
  {
   "cell_type": "code",
   "execution_count": null,
   "metadata": {},
   "outputs": [],
   "source": [
    "vecindarios[vecindarios[\"_1_4_1_ciudad\"].isna()]"
   ]
  },
  {
   "cell_type": "code",
   "execution_count": null,
   "metadata": {},
   "outputs": [],
   "source": [
    "vecindarios.loc[[186, 884], \"_1_4_1_ciudad\"] = [\"quito\", \"lima\"]"
   ]
  },
  {
   "cell_type": "code",
   "execution_count": null,
   "metadata": {},
   "outputs": [],
   "source": [
    "vecindarios = vecindarios.drop(414)"
   ]
  },
  {
   "cell_type": "code",
   "execution_count": null,
   "metadata": {},
   "outputs": [],
   "source": [
    "print(vecindarios.shape)\n",
    "dfs = {}\n",
    "for profile in vecindarios[\"_1_5_perfil_entrevistado\"].unique():\n",
    "    dfs[profile] = {}\n",
    "    for ciudad in vecindarios[\"_1_4_1_ciudad\"].unique():\n",
    "        dff = vecindarios[\n",
    "            (vecindarios[\"_1_5_perfil_entrevistado\"] == profile)\n",
    "            & (vecindarios[\"_1_4_1_ciudad\"] == ciudad)\n",
    "        ]\n",
    "\n",
    "        n = dff.shape[0]\n",
    "        dff = dff.dropna(axis=1, how=\"all\")\n",
    "\n",
    "        cols_no_valid_num = (dff == \"NO_VALID\").sum()\n",
    "        cols_all_no_valid = cols_no_valid_num[cols_no_valid_num == n]\n",
    "        dff = dff.drop(cols_all_no_valid, axis=1)\n",
    "\n",
    "        print(profile, ciudad, dff.shape)\n",
    "\n",
    "        dfs[profile][ciudad] = dff\n",
    "\n",
    "        dff.to_excel(f\"outputs/data_cleaning/{profile}_{ciudad}_14_02_2023.xlsx\")"
   ]
  },
  {
   "cell_type": "code",
   "execution_count": null,
   "metadata": {},
   "outputs": [],
   "source": [
    "vecindarios.to_excel(\"outputs/data_cleaning/encuesta_14_02_2023.xlsx\")"
   ]
  },
  {
   "cell_type": "code",
   "execution_count": null,
   "metadata": {},
   "outputs": [],
   "source": [
    "vecindarios.shape"
   ]
  },
  {
   "cell_type": "code",
   "execution_count": null,
   "metadata": {},
   "outputs": [],
   "source": [
    "for col in vecindarios.columns:\n",
    "    if \"apoyo\" in col:\n",
    "        print(col)"
   ]
  },
  {
   "attachments": {},
   "cell_type": "markdown",
   "metadata": {},
   "source": [
    "### lista_columna_productores"
   ]
  },
  {
   "cell_type": "code",
   "execution_count": null,
   "metadata": {},
   "outputs": [],
   "source": [
    "len(columnas_nuevas)"
   ]
  },
  {
   "cell_type": "code",
   "execution_count": null,
   "metadata": {},
   "outputs": [],
   "source": [
    "matriz_columnas = pd.read_excel(\n",
    "    \"inputs/encuesta_principal/matriz_de_analisis_Vec_Alim_2022_11_23.xlsx\",\n",
    "    sheet_name=\"Matriz\",\n",
    ")"
   ]
  },
  {
   "cell_type": "code",
   "execution_count": null,
   "metadata": {},
   "outputs": [],
   "source": [
    "matriz_columnas = pd.read_excel(\n",
    "    \"inputs/encuesta_principal/matriz_de_analisis_Vec_Alim_2022_11_23.xlsx\",\n",
    "    sheet_name=\"Matriz\",\n",
    ")"
   ]
  },
  {
   "cell_type": "code",
   "execution_count": null,
   "metadata": {},
   "outputs": [],
   "source": [
    "matriz_columnas.columns"
   ]
  },
  {
   "cell_type": "code",
   "execution_count": null,
   "metadata": {},
   "outputs": [],
   "source": [
    "prod_cols = matriz_columnas[matriz_columnas[\"Productor\"] == 1][\n",
    "    \"PREGUNTAS (VERSIÓN CÓDIGO)\"\n",
    "].tolist()\n",
    "prod_cols.sort()"
   ]
  },
  {
   "cell_type": "code",
   "execution_count": null,
   "metadata": {},
   "outputs": [],
   "source": []
  }
 ],
 "metadata": {
  "kernelspec": {
   "display_name": "Python 3 (ipykernel)",
   "language": "python",
   "name": "python3"
  },
  "language_info": {
   "codemirror_mode": {
    "name": "ipython",
    "version": 3
   },
   "file_extension": ".py",
   "mimetype": "text/x-python",
   "name": "python",
   "nbconvert_exporter": "python",
   "pygments_lexer": "ipython3",
   "version": "3.10.10"
  },
  "vscode": {
   "interpreter": {
    "hash": "e658bfc97ecd70c7dea766bce17f1a0e667e24077454682876e78fda26193a5a"
   }
  }
 },
 "nbformat": 4,
 "nbformat_minor": 4
}
